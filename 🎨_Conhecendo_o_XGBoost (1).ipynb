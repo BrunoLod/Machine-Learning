{
  "nbformat": 4,
  "nbformat_minor": 0,
  "metadata": {
    "colab": {
      "provenance": []
    },
    "kernelspec": {
      "name": "python3",
      "display_name": "Python 3"
    },
    "language_info": {
      "name": "python"
    }
  },
  "cells": [
    {
      "cell_type": "markdown",
      "source": [
        "# Contexto ✒️\n",
        "\n",
        "Esse notebook se refere a uma introdução ao modelo de machine learning conhecido como XGBoost, relacionado a cenários de aprendizado supervisionado em que se busca realizar uma classificação ou previsão. Trata-se de um algoritmo de apredizagem supervisionado que implmenta um processo chamado boost para gerar dados mais precisos.\n",
        "\n",
        "O modelo utiliza-se de árvores de decisão para seu modelo de conjunto, de modo que o modelo costuma ser impreciso, mas à medida que outros são criados, com base no erro do anterior, corrigindo-os cada modelo novo melhora as fraquezas do anterior, produzindo um modelo final preciso.\n",
        "\n",
        "Possui resistência a geração de outliers, dados nulos, sendo bastante eficiente para dados tabulares e estruturados (não ocorrendo o mesmo para dados não estruturados). A sua principal deficiência, porém, se dá na presença de outliers, sendo sucetível a eles."
      ],
      "metadata": {
        "id": "CQJa_B3f9HDE"
      }
    },
    {
      "cell_type": "markdown",
      "source": [
        "### Para mais informações sobre o XGBoost\n",
        "\n",
        "https://medium.com/analytics-vidhya/introduction-to-xgboost-algorithm-d2e7fad76b04\n",
        "\n"
      ],
      "metadata": {
        "id": "tqQm3ROw-tuf"
      }
    },
    {
      "cell_type": "markdown",
      "source": [
        "## Bibliotecas 📚"
      ],
      "metadata": {
        "id": "GsV7s1r_p3hu"
      }
    },
    {
      "cell_type": "code",
      "execution_count": 1,
      "metadata": {
        "id": "Xv3s6vlW85EC"
      },
      "outputs": [],
      "source": [
        "import pandas as pd\n",
        "import seaborn as sns\n",
        "import matplotlib.pyplot as plt\n",
        "import numpy as np\n",
        "import plotly.express as px\n",
        "import plotly.figure_factory as ff\n",
        "\n",
        "from sklearn.model_selection import train_test_split\n",
        "from sklearn.model_selection import cross_val_score\n",
        "from sklearn.model_selection import StratifiedKFold\n",
        "\n",
        "from sklearn.ensemble import RandomForestClassifier\n",
        "from sklearn.linear_model import LogisticRegression\n",
        "from xgboost import XGBClassifier\n",
        "from sklearn.neighbors import KNeighborsClassifier\n",
        "\n",
        "from sklearn.metrics import RocCurveDisplay\n",
        "from sklearn.metrics import accuracy_score, confusion_matrix, recall_score, precision_score, f1_score"
      ]
    },
    {
      "cell_type": "code",
      "source": [
        "!pip install scikit-optimize"
      ],
      "metadata": {
        "colab": {
          "base_uri": "https://localhost:8080/"
        },
        "id": "vDIrGa_AnFDO",
        "outputId": "bc5f173c-6e96-4654-9b68-43b4f777b0c2"
      },
      "execution_count": 2,
      "outputs": [
        {
          "output_type": "stream",
          "name": "stdout",
          "text": [
            "Collecting scikit-optimize\n",
            "  Downloading scikit_optimize-0.10.2-py2.py3-none-any.whl (107 kB)\n",
            "\u001b[2K     \u001b[90m━━━━━━━━━━━━━━━━━━━━━━━━━━━━━━━━━━━━━━━━\u001b[0m \u001b[32m107.8/107.8 kB\u001b[0m \u001b[31m1.1 MB/s\u001b[0m eta \u001b[36m0:00:00\u001b[0m\n",
            "\u001b[?25hRequirement already satisfied: joblib>=0.11 in /usr/local/lib/python3.10/dist-packages (from scikit-optimize) (1.4.2)\n",
            "Collecting pyaml>=16.9 (from scikit-optimize)\n",
            "  Downloading pyaml-24.4.0-py3-none-any.whl (24 kB)\n",
            "Requirement already satisfied: numpy>=1.20.3 in /usr/local/lib/python3.10/dist-packages (from scikit-optimize) (1.25.2)\n",
            "Requirement already satisfied: scipy>=1.1.0 in /usr/local/lib/python3.10/dist-packages (from scikit-optimize) (1.11.4)\n",
            "Requirement already satisfied: scikit-learn>=1.0.0 in /usr/local/lib/python3.10/dist-packages (from scikit-optimize) (1.2.2)\n",
            "Requirement already satisfied: packaging>=21.3 in /usr/local/lib/python3.10/dist-packages (from scikit-optimize) (24.1)\n",
            "Requirement already satisfied: PyYAML in /usr/local/lib/python3.10/dist-packages (from pyaml>=16.9->scikit-optimize) (6.0.1)\n",
            "Requirement already satisfied: threadpoolctl>=2.0.0 in /usr/local/lib/python3.10/dist-packages (from scikit-learn>=1.0.0->scikit-optimize) (3.5.0)\n",
            "Installing collected packages: pyaml, scikit-optimize\n",
            "Successfully installed pyaml-24.4.0 scikit-optimize-0.10.2\n"
          ]
        }
      ]
    },
    {
      "cell_type": "code",
      "source": [
        "from skopt import BayesSearchCV\n",
        "from skopt.space import Real, Integer, Categorical\n"
      ],
      "metadata": {
        "id": "qBG-eJZLnJgs"
      },
      "execution_count": 3,
      "outputs": []
    },
    {
      "cell_type": "markdown",
      "source": [
        "## DataFrame 💾"
      ],
      "metadata": {
        "id": "-sS8uHKHqCeW"
      }
    },
    {
      "cell_type": "code",
      "source": [
        "url = 'https://raw.githubusercontent.com/alura-cursos/classificacao_xgboost/main/Dados/doenca_cardiaca.csv'\n",
        "\n",
        "\n",
        "df = pd.read_csv(url)"
      ],
      "metadata": {
        "id": "A-6qWT3cqAgd"
      },
      "execution_count": 4,
      "outputs": []
    },
    {
      "cell_type": "markdown",
      "source": [
        "## Analisando a qualidade dos dados"
      ],
      "metadata": {
        "id": "h0t6aeJJreoA"
      }
    },
    {
      "cell_type": "code",
      "source": [
        "df.head()"
      ],
      "metadata": {
        "colab": {
          "base_uri": "https://localhost:8080/",
          "height": 241
        },
        "id": "9e33p5b9qJ1c",
        "outputId": "a8bb0865-d29f-46c9-b04f-fd4e487fef7f"
      },
      "execution_count": 6,
      "outputs": [
        {
          "output_type": "execute_result",
          "data": {
            "text/plain": [
              "   Idade  Sexo  Tipo dor  Pressao arterial  Colesterol  Glicemia jejum >120  \\\n",
              "0     70     1         4               130         322                    0   \n",
              "1     67     0         3               115         564                    0   \n",
              "2     57     1         2               124         261                    0   \n",
              "3     64     1         4               128         263                    0   \n",
              "4     74     0         2               120         269                    0   \n",
              "\n",
              "   Resultados ECG  Frequencia cardiaca max  Dor exercicio  Depressao ST  \\\n",
              "0               2                      109              0           2.4   \n",
              "1               2                      160              0           1.6   \n",
              "2               0                      141              0           0.3   \n",
              "3               0                      105              1           0.2   \n",
              "4               2                      121              1           0.2   \n",
              "\n",
              "   Inclinacao ST  Numero vasos fluro  Teste cintilografia Doenca cardiaca  \n",
              "0              2                   3                    3        Presenca  \n",
              "1              2                   0                    7        Ausencia  \n",
              "2              1                   0                    7        Presenca  \n",
              "3              2                   1                    7        Ausencia  \n",
              "4              1                   1                    3        Ausencia  "
            ],
            "text/html": [
              "\n",
              "  <div id=\"df-39497b6b-7313-461d-9217-86302792a87e\" class=\"colab-df-container\">\n",
              "    <div>\n",
              "<style scoped>\n",
              "    .dataframe tbody tr th:only-of-type {\n",
              "        vertical-align: middle;\n",
              "    }\n",
              "\n",
              "    .dataframe tbody tr th {\n",
              "        vertical-align: top;\n",
              "    }\n",
              "\n",
              "    .dataframe thead th {\n",
              "        text-align: right;\n",
              "    }\n",
              "</style>\n",
              "<table border=\"1\" class=\"dataframe\">\n",
              "  <thead>\n",
              "    <tr style=\"text-align: right;\">\n",
              "      <th></th>\n",
              "      <th>Idade</th>\n",
              "      <th>Sexo</th>\n",
              "      <th>Tipo dor</th>\n",
              "      <th>Pressao arterial</th>\n",
              "      <th>Colesterol</th>\n",
              "      <th>Glicemia jejum &gt;120</th>\n",
              "      <th>Resultados ECG</th>\n",
              "      <th>Frequencia cardiaca max</th>\n",
              "      <th>Dor exercicio</th>\n",
              "      <th>Depressao ST</th>\n",
              "      <th>Inclinacao ST</th>\n",
              "      <th>Numero vasos fluro</th>\n",
              "      <th>Teste cintilografia</th>\n",
              "      <th>Doenca cardiaca</th>\n",
              "    </tr>\n",
              "  </thead>\n",
              "  <tbody>\n",
              "    <tr>\n",
              "      <th>0</th>\n",
              "      <td>70</td>\n",
              "      <td>1</td>\n",
              "      <td>4</td>\n",
              "      <td>130</td>\n",
              "      <td>322</td>\n",
              "      <td>0</td>\n",
              "      <td>2</td>\n",
              "      <td>109</td>\n",
              "      <td>0</td>\n",
              "      <td>2.4</td>\n",
              "      <td>2</td>\n",
              "      <td>3</td>\n",
              "      <td>3</td>\n",
              "      <td>Presenca</td>\n",
              "    </tr>\n",
              "    <tr>\n",
              "      <th>1</th>\n",
              "      <td>67</td>\n",
              "      <td>0</td>\n",
              "      <td>3</td>\n",
              "      <td>115</td>\n",
              "      <td>564</td>\n",
              "      <td>0</td>\n",
              "      <td>2</td>\n",
              "      <td>160</td>\n",
              "      <td>0</td>\n",
              "      <td>1.6</td>\n",
              "      <td>2</td>\n",
              "      <td>0</td>\n",
              "      <td>7</td>\n",
              "      <td>Ausencia</td>\n",
              "    </tr>\n",
              "    <tr>\n",
              "      <th>2</th>\n",
              "      <td>57</td>\n",
              "      <td>1</td>\n",
              "      <td>2</td>\n",
              "      <td>124</td>\n",
              "      <td>261</td>\n",
              "      <td>0</td>\n",
              "      <td>0</td>\n",
              "      <td>141</td>\n",
              "      <td>0</td>\n",
              "      <td>0.3</td>\n",
              "      <td>1</td>\n",
              "      <td>0</td>\n",
              "      <td>7</td>\n",
              "      <td>Presenca</td>\n",
              "    </tr>\n",
              "    <tr>\n",
              "      <th>3</th>\n",
              "      <td>64</td>\n",
              "      <td>1</td>\n",
              "      <td>4</td>\n",
              "      <td>128</td>\n",
              "      <td>263</td>\n",
              "      <td>0</td>\n",
              "      <td>0</td>\n",
              "      <td>105</td>\n",
              "      <td>1</td>\n",
              "      <td>0.2</td>\n",
              "      <td>2</td>\n",
              "      <td>1</td>\n",
              "      <td>7</td>\n",
              "      <td>Ausencia</td>\n",
              "    </tr>\n",
              "    <tr>\n",
              "      <th>4</th>\n",
              "      <td>74</td>\n",
              "      <td>0</td>\n",
              "      <td>2</td>\n",
              "      <td>120</td>\n",
              "      <td>269</td>\n",
              "      <td>0</td>\n",
              "      <td>2</td>\n",
              "      <td>121</td>\n",
              "      <td>1</td>\n",
              "      <td>0.2</td>\n",
              "      <td>1</td>\n",
              "      <td>1</td>\n",
              "      <td>3</td>\n",
              "      <td>Ausencia</td>\n",
              "    </tr>\n",
              "  </tbody>\n",
              "</table>\n",
              "</div>\n",
              "    <div class=\"colab-df-buttons\">\n",
              "\n",
              "  <div class=\"colab-df-container\">\n",
              "    <button class=\"colab-df-convert\" onclick=\"convertToInteractive('df-39497b6b-7313-461d-9217-86302792a87e')\"\n",
              "            title=\"Convert this dataframe to an interactive table.\"\n",
              "            style=\"display:none;\">\n",
              "\n",
              "  <svg xmlns=\"http://www.w3.org/2000/svg\" height=\"24px\" viewBox=\"0 -960 960 960\">\n",
              "    <path d=\"M120-120v-720h720v720H120Zm60-500h600v-160H180v160Zm220 220h160v-160H400v160Zm0 220h160v-160H400v160ZM180-400h160v-160H180v160Zm440 0h160v-160H620v160ZM180-180h160v-160H180v160Zm440 0h160v-160H620v160Z\"/>\n",
              "  </svg>\n",
              "    </button>\n",
              "\n",
              "  <style>\n",
              "    .colab-df-container {\n",
              "      display:flex;\n",
              "      gap: 12px;\n",
              "    }\n",
              "\n",
              "    .colab-df-convert {\n",
              "      background-color: #E8F0FE;\n",
              "      border: none;\n",
              "      border-radius: 50%;\n",
              "      cursor: pointer;\n",
              "      display: none;\n",
              "      fill: #1967D2;\n",
              "      height: 32px;\n",
              "      padding: 0 0 0 0;\n",
              "      width: 32px;\n",
              "    }\n",
              "\n",
              "    .colab-df-convert:hover {\n",
              "      background-color: #E2EBFA;\n",
              "      box-shadow: 0px 1px 2px rgba(60, 64, 67, 0.3), 0px 1px 3px 1px rgba(60, 64, 67, 0.15);\n",
              "      fill: #174EA6;\n",
              "    }\n",
              "\n",
              "    .colab-df-buttons div {\n",
              "      margin-bottom: 4px;\n",
              "    }\n",
              "\n",
              "    [theme=dark] .colab-df-convert {\n",
              "      background-color: #3B4455;\n",
              "      fill: #D2E3FC;\n",
              "    }\n",
              "\n",
              "    [theme=dark] .colab-df-convert:hover {\n",
              "      background-color: #434B5C;\n",
              "      box-shadow: 0px 1px 3px 1px rgba(0, 0, 0, 0.15);\n",
              "      filter: drop-shadow(0px 1px 2px rgba(0, 0, 0, 0.3));\n",
              "      fill: #FFFFFF;\n",
              "    }\n",
              "  </style>\n",
              "\n",
              "    <script>\n",
              "      const buttonEl =\n",
              "        document.querySelector('#df-39497b6b-7313-461d-9217-86302792a87e button.colab-df-convert');\n",
              "      buttonEl.style.display =\n",
              "        google.colab.kernel.accessAllowed ? 'block' : 'none';\n",
              "\n",
              "      async function convertToInteractive(key) {\n",
              "        const element = document.querySelector('#df-39497b6b-7313-461d-9217-86302792a87e');\n",
              "        const dataTable =\n",
              "          await google.colab.kernel.invokeFunction('convertToInteractive',\n",
              "                                                    [key], {});\n",
              "        if (!dataTable) return;\n",
              "\n",
              "        const docLinkHtml = 'Like what you see? Visit the ' +\n",
              "          '<a target=\"_blank\" href=https://colab.research.google.com/notebooks/data_table.ipynb>data table notebook</a>'\n",
              "          + ' to learn more about interactive tables.';\n",
              "        element.innerHTML = '';\n",
              "        dataTable['output_type'] = 'display_data';\n",
              "        await google.colab.output.renderOutput(dataTable, element);\n",
              "        const docLink = document.createElement('div');\n",
              "        docLink.innerHTML = docLinkHtml;\n",
              "        element.appendChild(docLink);\n",
              "      }\n",
              "    </script>\n",
              "  </div>\n",
              "\n",
              "\n",
              "<div id=\"df-cca43fe6-608f-4bf0-8c1e-27761137767a\">\n",
              "  <button class=\"colab-df-quickchart\" onclick=\"quickchart('df-cca43fe6-608f-4bf0-8c1e-27761137767a')\"\n",
              "            title=\"Suggest charts\"\n",
              "            style=\"display:none;\">\n",
              "\n",
              "<svg xmlns=\"http://www.w3.org/2000/svg\" height=\"24px\"viewBox=\"0 0 24 24\"\n",
              "     width=\"24px\">\n",
              "    <g>\n",
              "        <path d=\"M19 3H5c-1.1 0-2 .9-2 2v14c0 1.1.9 2 2 2h14c1.1 0 2-.9 2-2V5c0-1.1-.9-2-2-2zM9 17H7v-7h2v7zm4 0h-2V7h2v10zm4 0h-2v-4h2v4z\"/>\n",
              "    </g>\n",
              "</svg>\n",
              "  </button>\n",
              "\n",
              "<style>\n",
              "  .colab-df-quickchart {\n",
              "      --bg-color: #E8F0FE;\n",
              "      --fill-color: #1967D2;\n",
              "      --hover-bg-color: #E2EBFA;\n",
              "      --hover-fill-color: #174EA6;\n",
              "      --disabled-fill-color: #AAA;\n",
              "      --disabled-bg-color: #DDD;\n",
              "  }\n",
              "\n",
              "  [theme=dark] .colab-df-quickchart {\n",
              "      --bg-color: #3B4455;\n",
              "      --fill-color: #D2E3FC;\n",
              "      --hover-bg-color: #434B5C;\n",
              "      --hover-fill-color: #FFFFFF;\n",
              "      --disabled-bg-color: #3B4455;\n",
              "      --disabled-fill-color: #666;\n",
              "  }\n",
              "\n",
              "  .colab-df-quickchart {\n",
              "    background-color: var(--bg-color);\n",
              "    border: none;\n",
              "    border-radius: 50%;\n",
              "    cursor: pointer;\n",
              "    display: none;\n",
              "    fill: var(--fill-color);\n",
              "    height: 32px;\n",
              "    padding: 0;\n",
              "    width: 32px;\n",
              "  }\n",
              "\n",
              "  .colab-df-quickchart:hover {\n",
              "    background-color: var(--hover-bg-color);\n",
              "    box-shadow: 0 1px 2px rgba(60, 64, 67, 0.3), 0 1px 3px 1px rgba(60, 64, 67, 0.15);\n",
              "    fill: var(--button-hover-fill-color);\n",
              "  }\n",
              "\n",
              "  .colab-df-quickchart-complete:disabled,\n",
              "  .colab-df-quickchart-complete:disabled:hover {\n",
              "    background-color: var(--disabled-bg-color);\n",
              "    fill: var(--disabled-fill-color);\n",
              "    box-shadow: none;\n",
              "  }\n",
              "\n",
              "  .colab-df-spinner {\n",
              "    border: 2px solid var(--fill-color);\n",
              "    border-color: transparent;\n",
              "    border-bottom-color: var(--fill-color);\n",
              "    animation:\n",
              "      spin 1s steps(1) infinite;\n",
              "  }\n",
              "\n",
              "  @keyframes spin {\n",
              "    0% {\n",
              "      border-color: transparent;\n",
              "      border-bottom-color: var(--fill-color);\n",
              "      border-left-color: var(--fill-color);\n",
              "    }\n",
              "    20% {\n",
              "      border-color: transparent;\n",
              "      border-left-color: var(--fill-color);\n",
              "      border-top-color: var(--fill-color);\n",
              "    }\n",
              "    30% {\n",
              "      border-color: transparent;\n",
              "      border-left-color: var(--fill-color);\n",
              "      border-top-color: var(--fill-color);\n",
              "      border-right-color: var(--fill-color);\n",
              "    }\n",
              "    40% {\n",
              "      border-color: transparent;\n",
              "      border-right-color: var(--fill-color);\n",
              "      border-top-color: var(--fill-color);\n",
              "    }\n",
              "    60% {\n",
              "      border-color: transparent;\n",
              "      border-right-color: var(--fill-color);\n",
              "    }\n",
              "    80% {\n",
              "      border-color: transparent;\n",
              "      border-right-color: var(--fill-color);\n",
              "      border-bottom-color: var(--fill-color);\n",
              "    }\n",
              "    90% {\n",
              "      border-color: transparent;\n",
              "      border-bottom-color: var(--fill-color);\n",
              "    }\n",
              "  }\n",
              "</style>\n",
              "\n",
              "  <script>\n",
              "    async function quickchart(key) {\n",
              "      const quickchartButtonEl =\n",
              "        document.querySelector('#' + key + ' button');\n",
              "      quickchartButtonEl.disabled = true;  // To prevent multiple clicks.\n",
              "      quickchartButtonEl.classList.add('colab-df-spinner');\n",
              "      try {\n",
              "        const charts = await google.colab.kernel.invokeFunction(\n",
              "            'suggestCharts', [key], {});\n",
              "      } catch (error) {\n",
              "        console.error('Error during call to suggestCharts:', error);\n",
              "      }\n",
              "      quickchartButtonEl.classList.remove('colab-df-spinner');\n",
              "      quickchartButtonEl.classList.add('colab-df-quickchart-complete');\n",
              "    }\n",
              "    (() => {\n",
              "      let quickchartButtonEl =\n",
              "        document.querySelector('#df-cca43fe6-608f-4bf0-8c1e-27761137767a button');\n",
              "      quickchartButtonEl.style.display =\n",
              "        google.colab.kernel.accessAllowed ? 'block' : 'none';\n",
              "    })();\n",
              "  </script>\n",
              "</div>\n",
              "\n",
              "    </div>\n",
              "  </div>\n"
            ],
            "application/vnd.google.colaboratory.intrinsic+json": {
              "type": "dataframe",
              "variable_name": "df",
              "summary": "{\n  \"name\": \"df\",\n  \"rows\": 270,\n  \"fields\": [\n    {\n      \"column\": \"Idade\",\n      \"properties\": {\n        \"dtype\": \"number\",\n        \"std\": 9,\n        \"min\": 29,\n        \"max\": 77,\n        \"num_unique_values\": 41,\n        \"samples\": [\n          50,\n          71,\n          60\n        ],\n        \"semantic_type\": \"\",\n        \"description\": \"\"\n      }\n    },\n    {\n      \"column\": \"Sexo\",\n      \"properties\": {\n        \"dtype\": \"number\",\n        \"std\": 0,\n        \"min\": 0,\n        \"max\": 1,\n        \"num_unique_values\": 2,\n        \"samples\": [\n          0,\n          1\n        ],\n        \"semantic_type\": \"\",\n        \"description\": \"\"\n      }\n    },\n    {\n      \"column\": \"Tipo dor\",\n      \"properties\": {\n        \"dtype\": \"number\",\n        \"std\": 0,\n        \"min\": 1,\n        \"max\": 4,\n        \"num_unique_values\": 4,\n        \"samples\": [\n          3,\n          1\n        ],\n        \"semantic_type\": \"\",\n        \"description\": \"\"\n      }\n    },\n    {\n      \"column\": \"Pressao arterial\",\n      \"properties\": {\n        \"dtype\": \"number\",\n        \"std\": 17,\n        \"min\": 94,\n        \"max\": 200,\n        \"num_unique_values\": 47,\n        \"samples\": [\n          156,\n          200\n        ],\n        \"semantic_type\": \"\",\n        \"description\": \"\"\n      }\n    },\n    {\n      \"column\": \"Colesterol\",\n      \"properties\": {\n        \"dtype\": \"number\",\n        \"std\": 51,\n        \"min\": 126,\n        \"max\": 564,\n        \"num_unique_values\": 144,\n        \"samples\": [\n          255,\n          229\n        ],\n        \"semantic_type\": \"\",\n        \"description\": \"\"\n      }\n    },\n    {\n      \"column\": \"Glicemia jejum >120\",\n      \"properties\": {\n        \"dtype\": \"number\",\n        \"std\": 0,\n        \"min\": 0,\n        \"max\": 1,\n        \"num_unique_values\": 2,\n        \"samples\": [\n          1,\n          0\n        ],\n        \"semantic_type\": \"\",\n        \"description\": \"\"\n      }\n    },\n    {\n      \"column\": \"Resultados ECG\",\n      \"properties\": {\n        \"dtype\": \"number\",\n        \"std\": 0,\n        \"min\": 0,\n        \"max\": 2,\n        \"num_unique_values\": 3,\n        \"samples\": [\n          2,\n          0\n        ],\n        \"semantic_type\": \"\",\n        \"description\": \"\"\n      }\n    },\n    {\n      \"column\": \"Frequencia cardiaca max\",\n      \"properties\": {\n        \"dtype\": \"number\",\n        \"std\": 23,\n        \"min\": 71,\n        \"max\": 202,\n        \"num_unique_values\": 90,\n        \"samples\": [\n          96,\n          139\n        ],\n        \"semantic_type\": \"\",\n        \"description\": \"\"\n      }\n    },\n    {\n      \"column\": \"Dor exercicio\",\n      \"properties\": {\n        \"dtype\": \"number\",\n        \"std\": 0,\n        \"min\": 0,\n        \"max\": 1,\n        \"num_unique_values\": 2,\n        \"samples\": [\n          1,\n          0\n        ],\n        \"semantic_type\": \"\",\n        \"description\": \"\"\n      }\n    },\n    {\n      \"column\": \"Depressao ST\",\n      \"properties\": {\n        \"dtype\": \"number\",\n        \"std\": 1.1452098393779973,\n        \"min\": 0.0,\n        \"max\": 6.2,\n        \"num_unique_values\": 39,\n        \"samples\": [\n          2.1,\n          3.5\n        ],\n        \"semantic_type\": \"\",\n        \"description\": \"\"\n      }\n    },\n    {\n      \"column\": \"Inclinacao ST\",\n      \"properties\": {\n        \"dtype\": \"number\",\n        \"std\": 0,\n        \"min\": 1,\n        \"max\": 3,\n        \"num_unique_values\": 3,\n        \"samples\": [\n          2,\n          1\n        ],\n        \"semantic_type\": \"\",\n        \"description\": \"\"\n      }\n    },\n    {\n      \"column\": \"Numero vasos fluro\",\n      \"properties\": {\n        \"dtype\": \"number\",\n        \"std\": 0,\n        \"min\": 0,\n        \"max\": 3,\n        \"num_unique_values\": 4,\n        \"samples\": [\n          0,\n          2\n        ],\n        \"semantic_type\": \"\",\n        \"description\": \"\"\n      }\n    },\n    {\n      \"column\": \"Teste cintilografia\",\n      \"properties\": {\n        \"dtype\": \"number\",\n        \"std\": 1,\n        \"min\": 3,\n        \"max\": 7,\n        \"num_unique_values\": 3,\n        \"samples\": [\n          3,\n          7\n        ],\n        \"semantic_type\": \"\",\n        \"description\": \"\"\n      }\n    },\n    {\n      \"column\": \"Doenca cardiaca\",\n      \"properties\": {\n        \"dtype\": \"category\",\n        \"num_unique_values\": 2,\n        \"samples\": [\n          \"Ausencia\",\n          \"Presenca\"\n        ],\n        \"semantic_type\": \"\",\n        \"description\": \"\"\n      }\n    }\n  ]\n}"
            }
          },
          "metadata": {},
          "execution_count": 6
        }
      ]
    },
    {
      "cell_type": "code",
      "source": [
        "# Transformando as variáveis categóricas da variável\n",
        "# target em numéricas :\n",
        "\n",
        "df['Doenca cardiaca'] = df['Doenca cardiaca'].map({'Presenca': 1, 'Ausencia': 0})"
      ],
      "metadata": {
        "id": "oWkxgntDqN8t"
      },
      "execution_count": 7,
      "outputs": []
    },
    {
      "cell_type": "code",
      "source": [
        "df.head()"
      ],
      "metadata": {
        "colab": {
          "base_uri": "https://localhost:8080/",
          "height": 241
        },
        "id": "mBRYb7lErYt1",
        "outputId": "68ca0131-1158-41d5-bffe-311b120b6a6d"
      },
      "execution_count": 8,
      "outputs": [
        {
          "output_type": "execute_result",
          "data": {
            "text/plain": [
              "   Idade  Sexo  Tipo dor  Pressao arterial  Colesterol  Glicemia jejum >120  \\\n",
              "0     70     1         4               130         322                    0   \n",
              "1     67     0         3               115         564                    0   \n",
              "2     57     1         2               124         261                    0   \n",
              "3     64     1         4               128         263                    0   \n",
              "4     74     0         2               120         269                    0   \n",
              "\n",
              "   Resultados ECG  Frequencia cardiaca max  Dor exercicio  Depressao ST  \\\n",
              "0               2                      109              0           2.4   \n",
              "1               2                      160              0           1.6   \n",
              "2               0                      141              0           0.3   \n",
              "3               0                      105              1           0.2   \n",
              "4               2                      121              1           0.2   \n",
              "\n",
              "   Inclinacao ST  Numero vasos fluro  Teste cintilografia  Doenca cardiaca  \n",
              "0              2                   3                    3                1  \n",
              "1              2                   0                    7                0  \n",
              "2              1                   0                    7                1  \n",
              "3              2                   1                    7                0  \n",
              "4              1                   1                    3                0  "
            ],
            "text/html": [
              "\n",
              "  <div id=\"df-2614751f-ec36-4f21-8ced-693c8ada91dc\" class=\"colab-df-container\">\n",
              "    <div>\n",
              "<style scoped>\n",
              "    .dataframe tbody tr th:only-of-type {\n",
              "        vertical-align: middle;\n",
              "    }\n",
              "\n",
              "    .dataframe tbody tr th {\n",
              "        vertical-align: top;\n",
              "    }\n",
              "\n",
              "    .dataframe thead th {\n",
              "        text-align: right;\n",
              "    }\n",
              "</style>\n",
              "<table border=\"1\" class=\"dataframe\">\n",
              "  <thead>\n",
              "    <tr style=\"text-align: right;\">\n",
              "      <th></th>\n",
              "      <th>Idade</th>\n",
              "      <th>Sexo</th>\n",
              "      <th>Tipo dor</th>\n",
              "      <th>Pressao arterial</th>\n",
              "      <th>Colesterol</th>\n",
              "      <th>Glicemia jejum &gt;120</th>\n",
              "      <th>Resultados ECG</th>\n",
              "      <th>Frequencia cardiaca max</th>\n",
              "      <th>Dor exercicio</th>\n",
              "      <th>Depressao ST</th>\n",
              "      <th>Inclinacao ST</th>\n",
              "      <th>Numero vasos fluro</th>\n",
              "      <th>Teste cintilografia</th>\n",
              "      <th>Doenca cardiaca</th>\n",
              "    </tr>\n",
              "  </thead>\n",
              "  <tbody>\n",
              "    <tr>\n",
              "      <th>0</th>\n",
              "      <td>70</td>\n",
              "      <td>1</td>\n",
              "      <td>4</td>\n",
              "      <td>130</td>\n",
              "      <td>322</td>\n",
              "      <td>0</td>\n",
              "      <td>2</td>\n",
              "      <td>109</td>\n",
              "      <td>0</td>\n",
              "      <td>2.4</td>\n",
              "      <td>2</td>\n",
              "      <td>3</td>\n",
              "      <td>3</td>\n",
              "      <td>1</td>\n",
              "    </tr>\n",
              "    <tr>\n",
              "      <th>1</th>\n",
              "      <td>67</td>\n",
              "      <td>0</td>\n",
              "      <td>3</td>\n",
              "      <td>115</td>\n",
              "      <td>564</td>\n",
              "      <td>0</td>\n",
              "      <td>2</td>\n",
              "      <td>160</td>\n",
              "      <td>0</td>\n",
              "      <td>1.6</td>\n",
              "      <td>2</td>\n",
              "      <td>0</td>\n",
              "      <td>7</td>\n",
              "      <td>0</td>\n",
              "    </tr>\n",
              "    <tr>\n",
              "      <th>2</th>\n",
              "      <td>57</td>\n",
              "      <td>1</td>\n",
              "      <td>2</td>\n",
              "      <td>124</td>\n",
              "      <td>261</td>\n",
              "      <td>0</td>\n",
              "      <td>0</td>\n",
              "      <td>141</td>\n",
              "      <td>0</td>\n",
              "      <td>0.3</td>\n",
              "      <td>1</td>\n",
              "      <td>0</td>\n",
              "      <td>7</td>\n",
              "      <td>1</td>\n",
              "    </tr>\n",
              "    <tr>\n",
              "      <th>3</th>\n",
              "      <td>64</td>\n",
              "      <td>1</td>\n",
              "      <td>4</td>\n",
              "      <td>128</td>\n",
              "      <td>263</td>\n",
              "      <td>0</td>\n",
              "      <td>0</td>\n",
              "      <td>105</td>\n",
              "      <td>1</td>\n",
              "      <td>0.2</td>\n",
              "      <td>2</td>\n",
              "      <td>1</td>\n",
              "      <td>7</td>\n",
              "      <td>0</td>\n",
              "    </tr>\n",
              "    <tr>\n",
              "      <th>4</th>\n",
              "      <td>74</td>\n",
              "      <td>0</td>\n",
              "      <td>2</td>\n",
              "      <td>120</td>\n",
              "      <td>269</td>\n",
              "      <td>0</td>\n",
              "      <td>2</td>\n",
              "      <td>121</td>\n",
              "      <td>1</td>\n",
              "      <td>0.2</td>\n",
              "      <td>1</td>\n",
              "      <td>1</td>\n",
              "      <td>3</td>\n",
              "      <td>0</td>\n",
              "    </tr>\n",
              "  </tbody>\n",
              "</table>\n",
              "</div>\n",
              "    <div class=\"colab-df-buttons\">\n",
              "\n",
              "  <div class=\"colab-df-container\">\n",
              "    <button class=\"colab-df-convert\" onclick=\"convertToInteractive('df-2614751f-ec36-4f21-8ced-693c8ada91dc')\"\n",
              "            title=\"Convert this dataframe to an interactive table.\"\n",
              "            style=\"display:none;\">\n",
              "\n",
              "  <svg xmlns=\"http://www.w3.org/2000/svg\" height=\"24px\" viewBox=\"0 -960 960 960\">\n",
              "    <path d=\"M120-120v-720h720v720H120Zm60-500h600v-160H180v160Zm220 220h160v-160H400v160Zm0 220h160v-160H400v160ZM180-400h160v-160H180v160Zm440 0h160v-160H620v160ZM180-180h160v-160H180v160Zm440 0h160v-160H620v160Z\"/>\n",
              "  </svg>\n",
              "    </button>\n",
              "\n",
              "  <style>\n",
              "    .colab-df-container {\n",
              "      display:flex;\n",
              "      gap: 12px;\n",
              "    }\n",
              "\n",
              "    .colab-df-convert {\n",
              "      background-color: #E8F0FE;\n",
              "      border: none;\n",
              "      border-radius: 50%;\n",
              "      cursor: pointer;\n",
              "      display: none;\n",
              "      fill: #1967D2;\n",
              "      height: 32px;\n",
              "      padding: 0 0 0 0;\n",
              "      width: 32px;\n",
              "    }\n",
              "\n",
              "    .colab-df-convert:hover {\n",
              "      background-color: #E2EBFA;\n",
              "      box-shadow: 0px 1px 2px rgba(60, 64, 67, 0.3), 0px 1px 3px 1px rgba(60, 64, 67, 0.15);\n",
              "      fill: #174EA6;\n",
              "    }\n",
              "\n",
              "    .colab-df-buttons div {\n",
              "      margin-bottom: 4px;\n",
              "    }\n",
              "\n",
              "    [theme=dark] .colab-df-convert {\n",
              "      background-color: #3B4455;\n",
              "      fill: #D2E3FC;\n",
              "    }\n",
              "\n",
              "    [theme=dark] .colab-df-convert:hover {\n",
              "      background-color: #434B5C;\n",
              "      box-shadow: 0px 1px 3px 1px rgba(0, 0, 0, 0.15);\n",
              "      filter: drop-shadow(0px 1px 2px rgba(0, 0, 0, 0.3));\n",
              "      fill: #FFFFFF;\n",
              "    }\n",
              "  </style>\n",
              "\n",
              "    <script>\n",
              "      const buttonEl =\n",
              "        document.querySelector('#df-2614751f-ec36-4f21-8ced-693c8ada91dc button.colab-df-convert');\n",
              "      buttonEl.style.display =\n",
              "        google.colab.kernel.accessAllowed ? 'block' : 'none';\n",
              "\n",
              "      async function convertToInteractive(key) {\n",
              "        const element = document.querySelector('#df-2614751f-ec36-4f21-8ced-693c8ada91dc');\n",
              "        const dataTable =\n",
              "          await google.colab.kernel.invokeFunction('convertToInteractive',\n",
              "                                                    [key], {});\n",
              "        if (!dataTable) return;\n",
              "\n",
              "        const docLinkHtml = 'Like what you see? Visit the ' +\n",
              "          '<a target=\"_blank\" href=https://colab.research.google.com/notebooks/data_table.ipynb>data table notebook</a>'\n",
              "          + ' to learn more about interactive tables.';\n",
              "        element.innerHTML = '';\n",
              "        dataTable['output_type'] = 'display_data';\n",
              "        await google.colab.output.renderOutput(dataTable, element);\n",
              "        const docLink = document.createElement('div');\n",
              "        docLink.innerHTML = docLinkHtml;\n",
              "        element.appendChild(docLink);\n",
              "      }\n",
              "    </script>\n",
              "  </div>\n",
              "\n",
              "\n",
              "<div id=\"df-32ae72f7-7416-45f0-8c6f-0972c60e37ca\">\n",
              "  <button class=\"colab-df-quickchart\" onclick=\"quickchart('df-32ae72f7-7416-45f0-8c6f-0972c60e37ca')\"\n",
              "            title=\"Suggest charts\"\n",
              "            style=\"display:none;\">\n",
              "\n",
              "<svg xmlns=\"http://www.w3.org/2000/svg\" height=\"24px\"viewBox=\"0 0 24 24\"\n",
              "     width=\"24px\">\n",
              "    <g>\n",
              "        <path d=\"M19 3H5c-1.1 0-2 .9-2 2v14c0 1.1.9 2 2 2h14c1.1 0 2-.9 2-2V5c0-1.1-.9-2-2-2zM9 17H7v-7h2v7zm4 0h-2V7h2v10zm4 0h-2v-4h2v4z\"/>\n",
              "    </g>\n",
              "</svg>\n",
              "  </button>\n",
              "\n",
              "<style>\n",
              "  .colab-df-quickchart {\n",
              "      --bg-color: #E8F0FE;\n",
              "      --fill-color: #1967D2;\n",
              "      --hover-bg-color: #E2EBFA;\n",
              "      --hover-fill-color: #174EA6;\n",
              "      --disabled-fill-color: #AAA;\n",
              "      --disabled-bg-color: #DDD;\n",
              "  }\n",
              "\n",
              "  [theme=dark] .colab-df-quickchart {\n",
              "      --bg-color: #3B4455;\n",
              "      --fill-color: #D2E3FC;\n",
              "      --hover-bg-color: #434B5C;\n",
              "      --hover-fill-color: #FFFFFF;\n",
              "      --disabled-bg-color: #3B4455;\n",
              "      --disabled-fill-color: #666;\n",
              "  }\n",
              "\n",
              "  .colab-df-quickchart {\n",
              "    background-color: var(--bg-color);\n",
              "    border: none;\n",
              "    border-radius: 50%;\n",
              "    cursor: pointer;\n",
              "    display: none;\n",
              "    fill: var(--fill-color);\n",
              "    height: 32px;\n",
              "    padding: 0;\n",
              "    width: 32px;\n",
              "  }\n",
              "\n",
              "  .colab-df-quickchart:hover {\n",
              "    background-color: var(--hover-bg-color);\n",
              "    box-shadow: 0 1px 2px rgba(60, 64, 67, 0.3), 0 1px 3px 1px rgba(60, 64, 67, 0.15);\n",
              "    fill: var(--button-hover-fill-color);\n",
              "  }\n",
              "\n",
              "  .colab-df-quickchart-complete:disabled,\n",
              "  .colab-df-quickchart-complete:disabled:hover {\n",
              "    background-color: var(--disabled-bg-color);\n",
              "    fill: var(--disabled-fill-color);\n",
              "    box-shadow: none;\n",
              "  }\n",
              "\n",
              "  .colab-df-spinner {\n",
              "    border: 2px solid var(--fill-color);\n",
              "    border-color: transparent;\n",
              "    border-bottom-color: var(--fill-color);\n",
              "    animation:\n",
              "      spin 1s steps(1) infinite;\n",
              "  }\n",
              "\n",
              "  @keyframes spin {\n",
              "    0% {\n",
              "      border-color: transparent;\n",
              "      border-bottom-color: var(--fill-color);\n",
              "      border-left-color: var(--fill-color);\n",
              "    }\n",
              "    20% {\n",
              "      border-color: transparent;\n",
              "      border-left-color: var(--fill-color);\n",
              "      border-top-color: var(--fill-color);\n",
              "    }\n",
              "    30% {\n",
              "      border-color: transparent;\n",
              "      border-left-color: var(--fill-color);\n",
              "      border-top-color: var(--fill-color);\n",
              "      border-right-color: var(--fill-color);\n",
              "    }\n",
              "    40% {\n",
              "      border-color: transparent;\n",
              "      border-right-color: var(--fill-color);\n",
              "      border-top-color: var(--fill-color);\n",
              "    }\n",
              "    60% {\n",
              "      border-color: transparent;\n",
              "      border-right-color: var(--fill-color);\n",
              "    }\n",
              "    80% {\n",
              "      border-color: transparent;\n",
              "      border-right-color: var(--fill-color);\n",
              "      border-bottom-color: var(--fill-color);\n",
              "    }\n",
              "    90% {\n",
              "      border-color: transparent;\n",
              "      border-bottom-color: var(--fill-color);\n",
              "    }\n",
              "  }\n",
              "</style>\n",
              "\n",
              "  <script>\n",
              "    async function quickchart(key) {\n",
              "      const quickchartButtonEl =\n",
              "        document.querySelector('#' + key + ' button');\n",
              "      quickchartButtonEl.disabled = true;  // To prevent multiple clicks.\n",
              "      quickchartButtonEl.classList.add('colab-df-spinner');\n",
              "      try {\n",
              "        const charts = await google.colab.kernel.invokeFunction(\n",
              "            'suggestCharts', [key], {});\n",
              "      } catch (error) {\n",
              "        console.error('Error during call to suggestCharts:', error);\n",
              "      }\n",
              "      quickchartButtonEl.classList.remove('colab-df-spinner');\n",
              "      quickchartButtonEl.classList.add('colab-df-quickchart-complete');\n",
              "    }\n",
              "    (() => {\n",
              "      let quickchartButtonEl =\n",
              "        document.querySelector('#df-32ae72f7-7416-45f0-8c6f-0972c60e37ca button');\n",
              "      quickchartButtonEl.style.display =\n",
              "        google.colab.kernel.accessAllowed ? 'block' : 'none';\n",
              "    })();\n",
              "  </script>\n",
              "</div>\n",
              "\n",
              "    </div>\n",
              "  </div>\n"
            ],
            "application/vnd.google.colaboratory.intrinsic+json": {
              "type": "dataframe",
              "variable_name": "df",
              "summary": "{\n  \"name\": \"df\",\n  \"rows\": 270,\n  \"fields\": [\n    {\n      \"column\": \"Idade\",\n      \"properties\": {\n        \"dtype\": \"number\",\n        \"std\": 9,\n        \"min\": 29,\n        \"max\": 77,\n        \"num_unique_values\": 41,\n        \"samples\": [\n          50,\n          71,\n          60\n        ],\n        \"semantic_type\": \"\",\n        \"description\": \"\"\n      }\n    },\n    {\n      \"column\": \"Sexo\",\n      \"properties\": {\n        \"dtype\": \"number\",\n        \"std\": 0,\n        \"min\": 0,\n        \"max\": 1,\n        \"num_unique_values\": 2,\n        \"samples\": [\n          0,\n          1\n        ],\n        \"semantic_type\": \"\",\n        \"description\": \"\"\n      }\n    },\n    {\n      \"column\": \"Tipo dor\",\n      \"properties\": {\n        \"dtype\": \"number\",\n        \"std\": 0,\n        \"min\": 1,\n        \"max\": 4,\n        \"num_unique_values\": 4,\n        \"samples\": [\n          3,\n          1\n        ],\n        \"semantic_type\": \"\",\n        \"description\": \"\"\n      }\n    },\n    {\n      \"column\": \"Pressao arterial\",\n      \"properties\": {\n        \"dtype\": \"number\",\n        \"std\": 17,\n        \"min\": 94,\n        \"max\": 200,\n        \"num_unique_values\": 47,\n        \"samples\": [\n          156,\n          200\n        ],\n        \"semantic_type\": \"\",\n        \"description\": \"\"\n      }\n    },\n    {\n      \"column\": \"Colesterol\",\n      \"properties\": {\n        \"dtype\": \"number\",\n        \"std\": 51,\n        \"min\": 126,\n        \"max\": 564,\n        \"num_unique_values\": 144,\n        \"samples\": [\n          255,\n          229\n        ],\n        \"semantic_type\": \"\",\n        \"description\": \"\"\n      }\n    },\n    {\n      \"column\": \"Glicemia jejum >120\",\n      \"properties\": {\n        \"dtype\": \"number\",\n        \"std\": 0,\n        \"min\": 0,\n        \"max\": 1,\n        \"num_unique_values\": 2,\n        \"samples\": [\n          1,\n          0\n        ],\n        \"semantic_type\": \"\",\n        \"description\": \"\"\n      }\n    },\n    {\n      \"column\": \"Resultados ECG\",\n      \"properties\": {\n        \"dtype\": \"number\",\n        \"std\": 0,\n        \"min\": 0,\n        \"max\": 2,\n        \"num_unique_values\": 3,\n        \"samples\": [\n          2,\n          0\n        ],\n        \"semantic_type\": \"\",\n        \"description\": \"\"\n      }\n    },\n    {\n      \"column\": \"Frequencia cardiaca max\",\n      \"properties\": {\n        \"dtype\": \"number\",\n        \"std\": 23,\n        \"min\": 71,\n        \"max\": 202,\n        \"num_unique_values\": 90,\n        \"samples\": [\n          96,\n          139\n        ],\n        \"semantic_type\": \"\",\n        \"description\": \"\"\n      }\n    },\n    {\n      \"column\": \"Dor exercicio\",\n      \"properties\": {\n        \"dtype\": \"number\",\n        \"std\": 0,\n        \"min\": 0,\n        \"max\": 1,\n        \"num_unique_values\": 2,\n        \"samples\": [\n          1,\n          0\n        ],\n        \"semantic_type\": \"\",\n        \"description\": \"\"\n      }\n    },\n    {\n      \"column\": \"Depressao ST\",\n      \"properties\": {\n        \"dtype\": \"number\",\n        \"std\": 1.1452098393779973,\n        \"min\": 0.0,\n        \"max\": 6.2,\n        \"num_unique_values\": 39,\n        \"samples\": [\n          2.1,\n          3.5\n        ],\n        \"semantic_type\": \"\",\n        \"description\": \"\"\n      }\n    },\n    {\n      \"column\": \"Inclinacao ST\",\n      \"properties\": {\n        \"dtype\": \"number\",\n        \"std\": 0,\n        \"min\": 1,\n        \"max\": 3,\n        \"num_unique_values\": 3,\n        \"samples\": [\n          2,\n          1\n        ],\n        \"semantic_type\": \"\",\n        \"description\": \"\"\n      }\n    },\n    {\n      \"column\": \"Numero vasos fluro\",\n      \"properties\": {\n        \"dtype\": \"number\",\n        \"std\": 0,\n        \"min\": 0,\n        \"max\": 3,\n        \"num_unique_values\": 4,\n        \"samples\": [\n          0,\n          2\n        ],\n        \"semantic_type\": \"\",\n        \"description\": \"\"\n      }\n    },\n    {\n      \"column\": \"Teste cintilografia\",\n      \"properties\": {\n        \"dtype\": \"number\",\n        \"std\": 1,\n        \"min\": 3,\n        \"max\": 7,\n        \"num_unique_values\": 3,\n        \"samples\": [\n          3,\n          7\n        ],\n        \"semantic_type\": \"\",\n        \"description\": \"\"\n      }\n    },\n    {\n      \"column\": \"Doenca cardiaca\",\n      \"properties\": {\n        \"dtype\": \"number\",\n        \"std\": 0,\n        \"min\": 0,\n        \"max\": 1,\n        \"num_unique_values\": 2,\n        \"samples\": [\n          0,\n          1\n        ],\n        \"semantic_type\": \"\",\n        \"description\": \"\"\n      }\n    }\n  ]\n}"
            }
          },
          "metadata": {},
          "execution_count": 8
        }
      ]
    },
    {
      "cell_type": "code",
      "source": [
        "df.isnull().sum()"
      ],
      "metadata": {
        "colab": {
          "base_uri": "https://localhost:8080/"
        },
        "id": "Q6o30S5QraXV",
        "outputId": "5eaf3b29-0d99-45a6-f66b-f80ad5e701e3"
      },
      "execution_count": 9,
      "outputs": [
        {
          "output_type": "execute_result",
          "data": {
            "text/plain": [
              "Idade                      0\n",
              "Sexo                       0\n",
              "Tipo dor                   0\n",
              "Pressao arterial           0\n",
              "Colesterol                 0\n",
              "Glicemia jejum >120        0\n",
              "Resultados ECG             0\n",
              "Frequencia cardiaca max    0\n",
              "Dor exercicio              0\n",
              "Depressao ST               0\n",
              "Inclinacao ST              0\n",
              "Numero vasos fluro         0\n",
              "Teste cintilografia        0\n",
              "Doenca cardiaca            0\n",
              "dtype: int64"
            ]
          },
          "metadata": {},
          "execution_count": 9
        }
      ]
    },
    {
      "cell_type": "code",
      "source": [
        "df.duplicated().sum()"
      ],
      "metadata": {
        "colab": {
          "base_uri": "https://localhost:8080/"
        },
        "id": "CSfhVf2_rkkG",
        "outputId": "79da1ccc-8fad-4fbc-da07-92a4fe1296e6"
      },
      "execution_count": 10,
      "outputs": [
        {
          "output_type": "execute_result",
          "data": {
            "text/plain": [
              "0"
            ]
          },
          "metadata": {},
          "execution_count": 10
        }
      ]
    },
    {
      "cell_type": "code",
      "source": [
        "df.info()"
      ],
      "metadata": {
        "colab": {
          "base_uri": "https://localhost:8080/"
        },
        "id": "kv5fLx76sVrY",
        "outputId": "57e5de7e-9953-4151-db11-e92746c90e0f"
      },
      "execution_count": 11,
      "outputs": [
        {
          "output_type": "stream",
          "name": "stdout",
          "text": [
            "<class 'pandas.core.frame.DataFrame'>\n",
            "RangeIndex: 270 entries, 0 to 269\n",
            "Data columns (total 14 columns):\n",
            " #   Column                   Non-Null Count  Dtype  \n",
            "---  ------                   --------------  -----  \n",
            " 0   Idade                    270 non-null    int64  \n",
            " 1   Sexo                     270 non-null    int64  \n",
            " 2   Tipo dor                 270 non-null    int64  \n",
            " 3   Pressao arterial         270 non-null    int64  \n",
            " 4   Colesterol               270 non-null    int64  \n",
            " 5   Glicemia jejum >120      270 non-null    int64  \n",
            " 6   Resultados ECG           270 non-null    int64  \n",
            " 7   Frequencia cardiaca max  270 non-null    int64  \n",
            " 8   Dor exercicio            270 non-null    int64  \n",
            " 9   Depressao ST             270 non-null    float64\n",
            " 10  Inclinacao ST            270 non-null    int64  \n",
            " 11  Numero vasos fluro       270 non-null    int64  \n",
            " 12  Teste cintilografia      270 non-null    int64  \n",
            " 13  Doenca cardiaca          270 non-null    int64  \n",
            "dtypes: float64(1), int64(13)\n",
            "memory usage: 29.7 KB\n"
          ]
        }
      ]
    },
    {
      "cell_type": "code",
      "source": [
        "# Formato dos dados.\n",
        "\n",
        "df.shape"
      ],
      "metadata": {
        "colab": {
          "base_uri": "https://localhost:8080/"
        },
        "id": "Xg1fmJF8sVsO",
        "outputId": "4dc669fc-e7a1-413b-e57c-e31e74ab3b4a"
      },
      "execution_count": 12,
      "outputs": [
        {
          "output_type": "execute_result",
          "data": {
            "text/plain": [
              "(270, 14)"
            ]
          },
          "metadata": {},
          "execution_count": 12
        }
      ]
    },
    {
      "cell_type": "code",
      "source": [
        "# Verificando o balanceamento da variável target :\n",
        "\n",
        "df['Doenca cardiaca'].value_counts('normalize').round(3)"
      ],
      "metadata": {
        "colab": {
          "base_uri": "https://localhost:8080/"
        },
        "id": "NQr16MxRvOAE",
        "outputId": "361b8868-1c70-44c2-e2ff-93be84769927"
      },
      "execution_count": 13,
      "outputs": [
        {
          "output_type": "execute_result",
          "data": {
            "text/plain": [
              "Doenca cardiaca\n",
              "0    0.556\n",
              "1    0.444\n",
              "Name: proportion, dtype: float64"
            ]
          },
          "metadata": {},
          "execution_count": 13
        }
      ]
    },
    {
      "cell_type": "code",
      "source": [
        "# Verificando a proporção da classe em menor quantidade em relação\n",
        "# ao universo dos dados e a classe com maior quantidade.\n",
        "\n",
        "maior_classe = df[df['Doenca cardiaca'] == 0].shape[0]\n",
        "menor_classe = df[df['Doenca cardiaca'] == 1].shape[0]\n",
        "\n",
        "prop_classe = round((menor_classe / maior_classe), 3)\n",
        "prop_dados = round((menor_classe / df.shape[0]), 3)\n",
        "\n",
        "print(f'A proporção da classe com menos amostras em relação a que dispõe de mais : {prop_classe}')\n",
        "print(f'A proporção da classe com menor amostras em relação aos dados totais : {prop_dados}')"
      ],
      "metadata": {
        "colab": {
          "base_uri": "https://localhost:8080/"
        },
        "id": "F2LFsO10HUbC",
        "outputId": "390ace70-24d7-42f8-d0ef-064e2478f90f"
      },
      "execution_count": 26,
      "outputs": [
        {
          "output_type": "stream",
          "name": "stdout",
          "text": [
            "A proporção da classe com menos amostras em relação a que dispõe de mais : 0.8\n",
            "A proporção da classe com menor amostras em relação aos dados totais : 0.444\n"
          ]
        }
      ]
    },
    {
      "cell_type": "markdown",
      "source": [
        "Observando a proporcionalidade dos dados, nota-se que esses, considrando a variável target, não estão balanceados.\n",
        "\n",
        "Porém, ao observar a razão que a classe com menor quantidade de amostras apresenta em relação à classe que possuí maior quantidade, bem como em relação ao universo total dos dados, compreende-se que esse desbalanceamento não é agudo, uma vez que no primeiro caso representa por volta de 80% dos dados da classe com maior quantidade de amostras, assim como 44% dos dados totais.\n",
        "\n",
        "Desse modo, não parece ser um cenário no qual deve-se, inadvertidamente, balancear os dados utilizando técnicas de balanceamento, tais como o da sub-amostragem ou sobre-amostragem, uma vez que a proporção do desbalanceamento é pequena, representando cerca de 6% dos dados totais.\n",
        "\n",
        "\n"
      ],
      "metadata": {
        "id": "pGm-nUIQHGPD"
      }
    },
    {
      "cell_type": "code",
      "source": [
        "df.describe()"
      ],
      "metadata": {
        "colab": {
          "base_uri": "https://localhost:8080/",
          "height": 335
        },
        "id": "cPsmm1N_rnhM",
        "outputId": "d0548a0f-2cf5-41c1-8be1-37b4c05c63b9"
      },
      "execution_count": 27,
      "outputs": [
        {
          "output_type": "execute_result",
          "data": {
            "text/plain": [
              "            Idade        Sexo    Tipo dor  Pressao arterial  Colesterol  \\\n",
              "count  270.000000  270.000000  270.000000        270.000000  270.000000   \n",
              "mean    54.433333    0.677778    3.174074        131.344444  249.659259   \n",
              "std      9.109067    0.468195    0.950090         17.861608   51.686237   \n",
              "min     29.000000    0.000000    1.000000         94.000000  126.000000   \n",
              "25%     48.000000    0.000000    3.000000        120.000000  213.000000   \n",
              "50%     55.000000    1.000000    3.000000        130.000000  245.000000   \n",
              "75%     61.000000    1.000000    4.000000        140.000000  280.000000   \n",
              "max     77.000000    1.000000    4.000000        200.000000  564.000000   \n",
              "\n",
              "       Glicemia jejum >120  Resultados ECG  Frequencia cardiaca max  \\\n",
              "count           270.000000      270.000000               270.000000   \n",
              "mean              0.148148        1.022222               149.677778   \n",
              "std               0.355906        0.997891                23.165717   \n",
              "min               0.000000        0.000000                71.000000   \n",
              "25%               0.000000        0.000000               133.000000   \n",
              "50%               0.000000        2.000000               153.500000   \n",
              "75%               0.000000        2.000000               166.000000   \n",
              "max               1.000000        2.000000               202.000000   \n",
              "\n",
              "       Dor exercicio  Depressao ST  Inclinacao ST  Numero vasos fluro  \\\n",
              "count     270.000000     270.00000     270.000000          270.000000   \n",
              "mean        0.329630       1.05000       1.585185            0.670370   \n",
              "std         0.470952       1.14521       0.614390            0.943896   \n",
              "min         0.000000       0.00000       1.000000            0.000000   \n",
              "25%         0.000000       0.00000       1.000000            0.000000   \n",
              "50%         0.000000       0.80000       2.000000            0.000000   \n",
              "75%         1.000000       1.60000       2.000000            1.000000   \n",
              "max         1.000000       6.20000       3.000000            3.000000   \n",
              "\n",
              "       Teste cintilografia  Doenca cardiaca  \n",
              "count           270.000000       270.000000  \n",
              "mean              4.696296         0.444444  \n",
              "std               1.940659         0.497827  \n",
              "min               3.000000         0.000000  \n",
              "25%               3.000000         0.000000  \n",
              "50%               3.000000         0.000000  \n",
              "75%               7.000000         1.000000  \n",
              "max               7.000000         1.000000  "
            ],
            "text/html": [
              "\n",
              "  <div id=\"df-ea35ce7d-c3ea-4cfc-a3e4-af73b8d1a969\" class=\"colab-df-container\">\n",
              "    <div>\n",
              "<style scoped>\n",
              "    .dataframe tbody tr th:only-of-type {\n",
              "        vertical-align: middle;\n",
              "    }\n",
              "\n",
              "    .dataframe tbody tr th {\n",
              "        vertical-align: top;\n",
              "    }\n",
              "\n",
              "    .dataframe thead th {\n",
              "        text-align: right;\n",
              "    }\n",
              "</style>\n",
              "<table border=\"1\" class=\"dataframe\">\n",
              "  <thead>\n",
              "    <tr style=\"text-align: right;\">\n",
              "      <th></th>\n",
              "      <th>Idade</th>\n",
              "      <th>Sexo</th>\n",
              "      <th>Tipo dor</th>\n",
              "      <th>Pressao arterial</th>\n",
              "      <th>Colesterol</th>\n",
              "      <th>Glicemia jejum &gt;120</th>\n",
              "      <th>Resultados ECG</th>\n",
              "      <th>Frequencia cardiaca max</th>\n",
              "      <th>Dor exercicio</th>\n",
              "      <th>Depressao ST</th>\n",
              "      <th>Inclinacao ST</th>\n",
              "      <th>Numero vasos fluro</th>\n",
              "      <th>Teste cintilografia</th>\n",
              "      <th>Doenca cardiaca</th>\n",
              "    </tr>\n",
              "  </thead>\n",
              "  <tbody>\n",
              "    <tr>\n",
              "      <th>count</th>\n",
              "      <td>270.000000</td>\n",
              "      <td>270.000000</td>\n",
              "      <td>270.000000</td>\n",
              "      <td>270.000000</td>\n",
              "      <td>270.000000</td>\n",
              "      <td>270.000000</td>\n",
              "      <td>270.000000</td>\n",
              "      <td>270.000000</td>\n",
              "      <td>270.000000</td>\n",
              "      <td>270.00000</td>\n",
              "      <td>270.000000</td>\n",
              "      <td>270.000000</td>\n",
              "      <td>270.000000</td>\n",
              "      <td>270.000000</td>\n",
              "    </tr>\n",
              "    <tr>\n",
              "      <th>mean</th>\n",
              "      <td>54.433333</td>\n",
              "      <td>0.677778</td>\n",
              "      <td>3.174074</td>\n",
              "      <td>131.344444</td>\n",
              "      <td>249.659259</td>\n",
              "      <td>0.148148</td>\n",
              "      <td>1.022222</td>\n",
              "      <td>149.677778</td>\n",
              "      <td>0.329630</td>\n",
              "      <td>1.05000</td>\n",
              "      <td>1.585185</td>\n",
              "      <td>0.670370</td>\n",
              "      <td>4.696296</td>\n",
              "      <td>0.444444</td>\n",
              "    </tr>\n",
              "    <tr>\n",
              "      <th>std</th>\n",
              "      <td>9.109067</td>\n",
              "      <td>0.468195</td>\n",
              "      <td>0.950090</td>\n",
              "      <td>17.861608</td>\n",
              "      <td>51.686237</td>\n",
              "      <td>0.355906</td>\n",
              "      <td>0.997891</td>\n",
              "      <td>23.165717</td>\n",
              "      <td>0.470952</td>\n",
              "      <td>1.14521</td>\n",
              "      <td>0.614390</td>\n",
              "      <td>0.943896</td>\n",
              "      <td>1.940659</td>\n",
              "      <td>0.497827</td>\n",
              "    </tr>\n",
              "    <tr>\n",
              "      <th>min</th>\n",
              "      <td>29.000000</td>\n",
              "      <td>0.000000</td>\n",
              "      <td>1.000000</td>\n",
              "      <td>94.000000</td>\n",
              "      <td>126.000000</td>\n",
              "      <td>0.000000</td>\n",
              "      <td>0.000000</td>\n",
              "      <td>71.000000</td>\n",
              "      <td>0.000000</td>\n",
              "      <td>0.00000</td>\n",
              "      <td>1.000000</td>\n",
              "      <td>0.000000</td>\n",
              "      <td>3.000000</td>\n",
              "      <td>0.000000</td>\n",
              "    </tr>\n",
              "    <tr>\n",
              "      <th>25%</th>\n",
              "      <td>48.000000</td>\n",
              "      <td>0.000000</td>\n",
              "      <td>3.000000</td>\n",
              "      <td>120.000000</td>\n",
              "      <td>213.000000</td>\n",
              "      <td>0.000000</td>\n",
              "      <td>0.000000</td>\n",
              "      <td>133.000000</td>\n",
              "      <td>0.000000</td>\n",
              "      <td>0.00000</td>\n",
              "      <td>1.000000</td>\n",
              "      <td>0.000000</td>\n",
              "      <td>3.000000</td>\n",
              "      <td>0.000000</td>\n",
              "    </tr>\n",
              "    <tr>\n",
              "      <th>50%</th>\n",
              "      <td>55.000000</td>\n",
              "      <td>1.000000</td>\n",
              "      <td>3.000000</td>\n",
              "      <td>130.000000</td>\n",
              "      <td>245.000000</td>\n",
              "      <td>0.000000</td>\n",
              "      <td>2.000000</td>\n",
              "      <td>153.500000</td>\n",
              "      <td>0.000000</td>\n",
              "      <td>0.80000</td>\n",
              "      <td>2.000000</td>\n",
              "      <td>0.000000</td>\n",
              "      <td>3.000000</td>\n",
              "      <td>0.000000</td>\n",
              "    </tr>\n",
              "    <tr>\n",
              "      <th>75%</th>\n",
              "      <td>61.000000</td>\n",
              "      <td>1.000000</td>\n",
              "      <td>4.000000</td>\n",
              "      <td>140.000000</td>\n",
              "      <td>280.000000</td>\n",
              "      <td>0.000000</td>\n",
              "      <td>2.000000</td>\n",
              "      <td>166.000000</td>\n",
              "      <td>1.000000</td>\n",
              "      <td>1.60000</td>\n",
              "      <td>2.000000</td>\n",
              "      <td>1.000000</td>\n",
              "      <td>7.000000</td>\n",
              "      <td>1.000000</td>\n",
              "    </tr>\n",
              "    <tr>\n",
              "      <th>max</th>\n",
              "      <td>77.000000</td>\n",
              "      <td>1.000000</td>\n",
              "      <td>4.000000</td>\n",
              "      <td>200.000000</td>\n",
              "      <td>564.000000</td>\n",
              "      <td>1.000000</td>\n",
              "      <td>2.000000</td>\n",
              "      <td>202.000000</td>\n",
              "      <td>1.000000</td>\n",
              "      <td>6.20000</td>\n",
              "      <td>3.000000</td>\n",
              "      <td>3.000000</td>\n",
              "      <td>7.000000</td>\n",
              "      <td>1.000000</td>\n",
              "    </tr>\n",
              "  </tbody>\n",
              "</table>\n",
              "</div>\n",
              "    <div class=\"colab-df-buttons\">\n",
              "\n",
              "  <div class=\"colab-df-container\">\n",
              "    <button class=\"colab-df-convert\" onclick=\"convertToInteractive('df-ea35ce7d-c3ea-4cfc-a3e4-af73b8d1a969')\"\n",
              "            title=\"Convert this dataframe to an interactive table.\"\n",
              "            style=\"display:none;\">\n",
              "\n",
              "  <svg xmlns=\"http://www.w3.org/2000/svg\" height=\"24px\" viewBox=\"0 -960 960 960\">\n",
              "    <path d=\"M120-120v-720h720v720H120Zm60-500h600v-160H180v160Zm220 220h160v-160H400v160Zm0 220h160v-160H400v160ZM180-400h160v-160H180v160Zm440 0h160v-160H620v160ZM180-180h160v-160H180v160Zm440 0h160v-160H620v160Z\"/>\n",
              "  </svg>\n",
              "    </button>\n",
              "\n",
              "  <style>\n",
              "    .colab-df-container {\n",
              "      display:flex;\n",
              "      gap: 12px;\n",
              "    }\n",
              "\n",
              "    .colab-df-convert {\n",
              "      background-color: #E8F0FE;\n",
              "      border: none;\n",
              "      border-radius: 50%;\n",
              "      cursor: pointer;\n",
              "      display: none;\n",
              "      fill: #1967D2;\n",
              "      height: 32px;\n",
              "      padding: 0 0 0 0;\n",
              "      width: 32px;\n",
              "    }\n",
              "\n",
              "    .colab-df-convert:hover {\n",
              "      background-color: #E2EBFA;\n",
              "      box-shadow: 0px 1px 2px rgba(60, 64, 67, 0.3), 0px 1px 3px 1px rgba(60, 64, 67, 0.15);\n",
              "      fill: #174EA6;\n",
              "    }\n",
              "\n",
              "    .colab-df-buttons div {\n",
              "      margin-bottom: 4px;\n",
              "    }\n",
              "\n",
              "    [theme=dark] .colab-df-convert {\n",
              "      background-color: #3B4455;\n",
              "      fill: #D2E3FC;\n",
              "    }\n",
              "\n",
              "    [theme=dark] .colab-df-convert:hover {\n",
              "      background-color: #434B5C;\n",
              "      box-shadow: 0px 1px 3px 1px rgba(0, 0, 0, 0.15);\n",
              "      filter: drop-shadow(0px 1px 2px rgba(0, 0, 0, 0.3));\n",
              "      fill: #FFFFFF;\n",
              "    }\n",
              "  </style>\n",
              "\n",
              "    <script>\n",
              "      const buttonEl =\n",
              "        document.querySelector('#df-ea35ce7d-c3ea-4cfc-a3e4-af73b8d1a969 button.colab-df-convert');\n",
              "      buttonEl.style.display =\n",
              "        google.colab.kernel.accessAllowed ? 'block' : 'none';\n",
              "\n",
              "      async function convertToInteractive(key) {\n",
              "        const element = document.querySelector('#df-ea35ce7d-c3ea-4cfc-a3e4-af73b8d1a969');\n",
              "        const dataTable =\n",
              "          await google.colab.kernel.invokeFunction('convertToInteractive',\n",
              "                                                    [key], {});\n",
              "        if (!dataTable) return;\n",
              "\n",
              "        const docLinkHtml = 'Like what you see? Visit the ' +\n",
              "          '<a target=\"_blank\" href=https://colab.research.google.com/notebooks/data_table.ipynb>data table notebook</a>'\n",
              "          + ' to learn more about interactive tables.';\n",
              "        element.innerHTML = '';\n",
              "        dataTable['output_type'] = 'display_data';\n",
              "        await google.colab.output.renderOutput(dataTable, element);\n",
              "        const docLink = document.createElement('div');\n",
              "        docLink.innerHTML = docLinkHtml;\n",
              "        element.appendChild(docLink);\n",
              "      }\n",
              "    </script>\n",
              "  </div>\n",
              "\n",
              "\n",
              "<div id=\"df-c4d40276-9242-4175-85bc-e850dd48c3ad\">\n",
              "  <button class=\"colab-df-quickchart\" onclick=\"quickchart('df-c4d40276-9242-4175-85bc-e850dd48c3ad')\"\n",
              "            title=\"Suggest charts\"\n",
              "            style=\"display:none;\">\n",
              "\n",
              "<svg xmlns=\"http://www.w3.org/2000/svg\" height=\"24px\"viewBox=\"0 0 24 24\"\n",
              "     width=\"24px\">\n",
              "    <g>\n",
              "        <path d=\"M19 3H5c-1.1 0-2 .9-2 2v14c0 1.1.9 2 2 2h14c1.1 0 2-.9 2-2V5c0-1.1-.9-2-2-2zM9 17H7v-7h2v7zm4 0h-2V7h2v10zm4 0h-2v-4h2v4z\"/>\n",
              "    </g>\n",
              "</svg>\n",
              "  </button>\n",
              "\n",
              "<style>\n",
              "  .colab-df-quickchart {\n",
              "      --bg-color: #E8F0FE;\n",
              "      --fill-color: #1967D2;\n",
              "      --hover-bg-color: #E2EBFA;\n",
              "      --hover-fill-color: #174EA6;\n",
              "      --disabled-fill-color: #AAA;\n",
              "      --disabled-bg-color: #DDD;\n",
              "  }\n",
              "\n",
              "  [theme=dark] .colab-df-quickchart {\n",
              "      --bg-color: #3B4455;\n",
              "      --fill-color: #D2E3FC;\n",
              "      --hover-bg-color: #434B5C;\n",
              "      --hover-fill-color: #FFFFFF;\n",
              "      --disabled-bg-color: #3B4455;\n",
              "      --disabled-fill-color: #666;\n",
              "  }\n",
              "\n",
              "  .colab-df-quickchart {\n",
              "    background-color: var(--bg-color);\n",
              "    border: none;\n",
              "    border-radius: 50%;\n",
              "    cursor: pointer;\n",
              "    display: none;\n",
              "    fill: var(--fill-color);\n",
              "    height: 32px;\n",
              "    padding: 0;\n",
              "    width: 32px;\n",
              "  }\n",
              "\n",
              "  .colab-df-quickchart:hover {\n",
              "    background-color: var(--hover-bg-color);\n",
              "    box-shadow: 0 1px 2px rgba(60, 64, 67, 0.3), 0 1px 3px 1px rgba(60, 64, 67, 0.15);\n",
              "    fill: var(--button-hover-fill-color);\n",
              "  }\n",
              "\n",
              "  .colab-df-quickchart-complete:disabled,\n",
              "  .colab-df-quickchart-complete:disabled:hover {\n",
              "    background-color: var(--disabled-bg-color);\n",
              "    fill: var(--disabled-fill-color);\n",
              "    box-shadow: none;\n",
              "  }\n",
              "\n",
              "  .colab-df-spinner {\n",
              "    border: 2px solid var(--fill-color);\n",
              "    border-color: transparent;\n",
              "    border-bottom-color: var(--fill-color);\n",
              "    animation:\n",
              "      spin 1s steps(1) infinite;\n",
              "  }\n",
              "\n",
              "  @keyframes spin {\n",
              "    0% {\n",
              "      border-color: transparent;\n",
              "      border-bottom-color: var(--fill-color);\n",
              "      border-left-color: var(--fill-color);\n",
              "    }\n",
              "    20% {\n",
              "      border-color: transparent;\n",
              "      border-left-color: var(--fill-color);\n",
              "      border-top-color: var(--fill-color);\n",
              "    }\n",
              "    30% {\n",
              "      border-color: transparent;\n",
              "      border-left-color: var(--fill-color);\n",
              "      border-top-color: var(--fill-color);\n",
              "      border-right-color: var(--fill-color);\n",
              "    }\n",
              "    40% {\n",
              "      border-color: transparent;\n",
              "      border-right-color: var(--fill-color);\n",
              "      border-top-color: var(--fill-color);\n",
              "    }\n",
              "    60% {\n",
              "      border-color: transparent;\n",
              "      border-right-color: var(--fill-color);\n",
              "    }\n",
              "    80% {\n",
              "      border-color: transparent;\n",
              "      border-right-color: var(--fill-color);\n",
              "      border-bottom-color: var(--fill-color);\n",
              "    }\n",
              "    90% {\n",
              "      border-color: transparent;\n",
              "      border-bottom-color: var(--fill-color);\n",
              "    }\n",
              "  }\n",
              "</style>\n",
              "\n",
              "  <script>\n",
              "    async function quickchart(key) {\n",
              "      const quickchartButtonEl =\n",
              "        document.querySelector('#' + key + ' button');\n",
              "      quickchartButtonEl.disabled = true;  // To prevent multiple clicks.\n",
              "      quickchartButtonEl.classList.add('colab-df-spinner');\n",
              "      try {\n",
              "        const charts = await google.colab.kernel.invokeFunction(\n",
              "            'suggestCharts', [key], {});\n",
              "      } catch (error) {\n",
              "        console.error('Error during call to suggestCharts:', error);\n",
              "      }\n",
              "      quickchartButtonEl.classList.remove('colab-df-spinner');\n",
              "      quickchartButtonEl.classList.add('colab-df-quickchart-complete');\n",
              "    }\n",
              "    (() => {\n",
              "      let quickchartButtonEl =\n",
              "        document.querySelector('#df-c4d40276-9242-4175-85bc-e850dd48c3ad button');\n",
              "      quickchartButtonEl.style.display =\n",
              "        google.colab.kernel.accessAllowed ? 'block' : 'none';\n",
              "    })();\n",
              "  </script>\n",
              "</div>\n",
              "\n",
              "    </div>\n",
              "  </div>\n"
            ],
            "application/vnd.google.colaboratory.intrinsic+json": {
              "type": "dataframe",
              "summary": "{\n  \"name\": \"df\",\n  \"rows\": 8,\n  \"fields\": [\n    {\n      \"column\": \"Idade\",\n      \"properties\": {\n        \"dtype\": \"number\",\n        \"std\": 81.26942345199373,\n        \"min\": 9.109066523898207,\n        \"max\": 270.0,\n        \"num_unique_values\": 8,\n        \"samples\": [\n          54.43333333333333,\n          55.0,\n          270.0\n        ],\n        \"semantic_type\": \"\",\n        \"description\": \"\"\n      }\n    },\n    {\n      \"column\": \"Sexo\",\n      \"properties\": {\n        \"dtype\": \"number\",\n        \"std\": 95.2509293265246,\n        \"min\": 0.0,\n        \"max\": 270.0,\n        \"num_unique_values\": 5,\n        \"samples\": [\n          0.6777777777777778,\n          1.0,\n          0.46819540715526964\n        ],\n        \"semantic_type\": \"\",\n        \"description\": \"\"\n      }\n    },\n    {\n      \"column\": \"Tipo dor\",\n      \"properties\": {\n        \"dtype\": \"number\",\n        \"std\": 94.50085383847582,\n        \"min\": 0.9500900339228638,\n        \"max\": 270.0,\n        \"num_unique_values\": 6,\n        \"samples\": [\n          270.0,\n          3.174074074074074,\n          4.0\n        ],\n        \"semantic_type\": \"\",\n        \"description\": \"\"\n      }\n    },\n    {\n      \"column\": \"Pressao arterial\",\n      \"properties\": {\n        \"dtype\": \"number\",\n        \"std\": 73.75001286945506,\n        \"min\": 17.861608292800856,\n        \"max\": 270.0,\n        \"num_unique_values\": 8,\n        \"samples\": [\n          131.34444444444443,\n          130.0,\n          270.0\n        ],\n        \"semantic_type\": \"\",\n        \"description\": \"\"\n      }\n    },\n    {\n      \"column\": \"Colesterol\",\n      \"properties\": {\n        \"dtype\": \"number\",\n        \"std\": 149.28133129211267,\n        \"min\": 51.68623711643124,\n        \"max\": 564.0,\n        \"num_unique_values\": 8,\n        \"samples\": [\n          249.65925925925927,\n          245.0,\n          270.0\n        ],\n        \"semantic_type\": \"\",\n        \"description\": \"\"\n      }\n    },\n    {\n      \"column\": \"Glicemia jejum >120\",\n      \"properties\": {\n        \"dtype\": \"number\",\n        \"std\": 95.38406737093332,\n        \"min\": 0.0,\n        \"max\": 270.0,\n        \"num_unique_values\": 5,\n        \"samples\": [\n          0.14814814814814814,\n          1.0,\n          0.3559064769707314\n        ],\n        \"semantic_type\": \"\",\n        \"description\": \"\"\n      }\n    },\n    {\n      \"column\": \"Resultados ECG\",\n      \"properties\": {\n        \"dtype\": \"number\",\n        \"std\": 95.05798440282962,\n        \"min\": 0.0,\n        \"max\": 270.0,\n        \"num_unique_values\": 5,\n        \"samples\": [\n          1.0222222222222221,\n          2.0,\n          0.9978912089661108\n        ],\n        \"semantic_type\": \"\",\n        \"description\": \"\"\n      }\n    },\n    {\n      \"column\": \"Frequencia cardiaca max\",\n      \"properties\": {\n        \"dtype\": \"number\",\n        \"std\": 75.46429849953576,\n        \"min\": 23.165716775120096,\n        \"max\": 270.0,\n        \"num_unique_values\": 8,\n        \"samples\": [\n          149.67777777777778,\n          153.5,\n          270.0\n        ],\n        \"semantic_type\": \"\",\n        \"description\": \"\"\n      }\n    },\n    {\n      \"column\": \"Dor exercicio\",\n      \"properties\": {\n        \"dtype\": \"number\",\n        \"std\": 95.31887147268549,\n        \"min\": 0.0,\n        \"max\": 270.0,\n        \"num_unique_values\": 5,\n        \"samples\": [\n          0.3296296296296296,\n          1.0,\n          0.4709515913013828\n        ],\n        \"semantic_type\": \"\",\n        \"description\": \"\"\n      }\n    },\n    {\n      \"column\": \"Depressao ST\",\n      \"properties\": {\n        \"dtype\": \"number\",\n        \"std\": 94.93479737767666,\n        \"min\": 0.0,\n        \"max\": 270.0,\n        \"num_unique_values\": 7,\n        \"samples\": [\n          270.0,\n          1.05,\n          1.6\n        ],\n        \"semantic_type\": \"\",\n        \"description\": \"\"\n      }\n    },\n    {\n      \"column\": \"Inclinacao ST\",\n      \"properties\": {\n        \"dtype\": \"number\",\n        \"std\": 94.89674099688874,\n        \"min\": 0.6143898376781299,\n        \"max\": 270.0,\n        \"num_unique_values\": 6,\n        \"samples\": [\n          270.0,\n          1.5851851851851853,\n          3.0\n        ],\n        \"semantic_type\": \"\",\n        \"description\": \"\"\n      }\n    },\n    {\n      \"column\": \"Numero vasos fluro\",\n      \"properties\": {\n        \"dtype\": \"number\",\n        \"std\": 95.18098349387779,\n        \"min\": 0.0,\n        \"max\": 270.0,\n        \"num_unique_values\": 6,\n        \"samples\": [\n          270.0,\n          0.6703703703703704,\n          3.0\n        ],\n        \"semantic_type\": \"\",\n        \"description\": \"\"\n      }\n    },\n    {\n      \"column\": \"Teste cintilografia\",\n      \"properties\": {\n        \"dtype\": \"number\",\n        \"std\": 93.9817864087276,\n        \"min\": 1.9406589693457776,\n        \"max\": 270.0,\n        \"num_unique_values\": 5,\n        \"samples\": [\n          4.696296296296296,\n          7.0,\n          1.9406589693457776\n        ],\n        \"semantic_type\": \"\",\n        \"description\": \"\"\n      }\n    },\n    {\n      \"column\": \"Doenca cardiaca\",\n      \"properties\": {\n        \"dtype\": \"number\",\n        \"std\": 95.31171411788996,\n        \"min\": 0.0,\n        \"max\": 270.0,\n        \"num_unique_values\": 5,\n        \"samples\": [\n          0.4444444444444444,\n          1.0,\n          0.4978267515886163\n        ],\n        \"semantic_type\": \"\",\n        \"description\": \"\"\n      }\n    }\n  ]\n}"
            }
          },
          "metadata": {},
          "execution_count": 27
        }
      ]
    },
    {
      "cell_type": "markdown",
      "source": [
        "Analisando tanto a média quanto a medidana dos dados numéricos que não sejam booleanos, verifica-se que ambas são similares, permitindo inferir que no dataset não haja a presença significativa de outliers, que poderiam interferir negativamente na precisão dos modelos de machine learning, sem o tratamento desses."
      ],
      "metadata": {
        "id": "a9sG2WriryFj"
      }
    },
    {
      "cell_type": "markdown",
      "source": [
        "## Exploração dos dados\n",
        "\n",
        "Etapa destinada a compreensão dos dados, buscando verificar como eles se relacionam com a variável target, permitindo identificar possíveis insights e afins."
      ],
      "metadata": {
        "id": "ahhKw-tBCZab"
      }
    },
    {
      "cell_type": "code",
      "source": [
        "# Criando a função para gerar boxplots :\n",
        "\n",
        "def gera_boxplot(variavel_x, variavel_y, data):\n",
        "\n",
        "  plt.figure(figsize=(8,6))\n",
        "  fig = px.box(data, x=variavel_x, y=variavel_y)\n",
        "  fig.show()"
      ],
      "metadata": {
        "id": "ejSyjtwpFe0G"
      },
      "execution_count": 28,
      "outputs": []
    },
    {
      "cell_type": "code",
      "source": [
        "# Criando função para gerar gráficos de contagem :\n",
        "\n",
        "def gera_countplot(variavel_x, hue, data):\n",
        "\n",
        "  plt.figure(figsize=(8,6))\n",
        "\n",
        "  fig = px.histogram(data, x=variavel_x, color=hue, barmode='group')\n",
        "  fig.update_layout(yaxis_title=\"Contagem\")\n",
        "  fig.update_traces(marker_line=dict(color='black', width=1))\n",
        "  fig.show()"
      ],
      "metadata": {
        "id": "PopfSbUMF6s3"
      },
      "execution_count": 29,
      "outputs": []
    },
    {
      "cell_type": "code",
      "source": [
        "gera_boxplot('Sexo', 'Idade', df)"
      ],
      "metadata": {
        "colab": {
          "base_uri": "https://localhost:8080/",
          "height": 559
        },
        "id": "BGYb3K6QCiaC",
        "outputId": "d88140c8-0911-4220-ba87-c7327f0b95b3"
      },
      "execution_count": null,
      "outputs": [
        {
          "output_type": "display_data",
          "data": {
            "text/html": [
              "<html>\n",
              "<head><meta charset=\"utf-8\" /></head>\n",
              "<body>\n",
              "    <div>            <script src=\"https://cdnjs.cloudflare.com/ajax/libs/mathjax/2.7.5/MathJax.js?config=TeX-AMS-MML_SVG\"></script><script type=\"text/javascript\">if (window.MathJax && window.MathJax.Hub && window.MathJax.Hub.Config) {window.MathJax.Hub.Config({SVG: {font: \"STIX-Web\"}});}</script>                <script type=\"text/javascript\">window.PlotlyConfig = {MathJaxConfig: 'local'};</script>\n",
              "        <script charset=\"utf-8\" src=\"https://cdn.plot.ly/plotly-2.24.1.min.js\"></script>                <div id=\"3c89746b-8f63-47f8-9bd5-8edc97358965\" class=\"plotly-graph-div\" style=\"height:525px; width:100%;\"></div>            <script type=\"text/javascript\">                                    window.PLOTLYENV=window.PLOTLYENV || {};                                    if (document.getElementById(\"3c89746b-8f63-47f8-9bd5-8edc97358965\")) {                    Plotly.newPlot(                        \"3c89746b-8f63-47f8-9bd5-8edc97358965\",                        [{\"alignmentgroup\":\"True\",\"hovertemplate\":\"Sexo=%{x}\\u003cbr\\u003eIdade=%{y}\\u003cextra\\u003e\\u003c\\u002fextra\\u003e\",\"legendgroup\":\"\",\"marker\":{\"color\":\"#636efa\"},\"name\":\"\",\"notched\":false,\"offsetgroup\":\"\",\"orientation\":\"v\",\"showlegend\":false,\"x\":[1,0,1,1,0,1,1,1,1,0,1,1,1,1,0,0,1,1,1,1,1,1,1,1,0,0,0,0,1,0,1,1,0,1,1,1,1,1,1,1,1,0,1,1,1,1,1,1,1,0,1,1,0,0,0,0,1,0,0,1,1,0,1,0,1,1,1,0,0,1,1,0,1,0,0,1,1,0,0,1,1,1,1,1,1,1,1,1,0,1,1,0,1,1,1,1,1,1,0,0,0,1,0,1,1,1,1,0,1,0,0,1,0,0,1,0,1,0,0,1,1,1,1,0,1,0,1,0,1,1,0,1,1,1,1,0,0,1,0,1,1,1,1,1,1,1,1,1,1,0,1,0,0,0,0,0,1,1,1,0,1,0,1,1,1,0,0,1,0,1,1,1,1,0,1,0,1,1,1,1,1,0,1,0,1,1,1,1,0,1,1,1,1,1,1,0,0,0,0,1,1,1,1,1,1,1,0,1,1,1,1,1,0,1,1,0,0,1,1,1,1,1,1,1,0,1,0,0,0,1,0,1,1,1,1,0,0,1,1,1,1,1,0,0,0,1,1,0,1,1,1,1,1,1,1,0,1,1,1,1,0,1,1,1,1,1,1,0,1,1],\"x0\":\" \",\"xaxis\":\"x\",\"y\":[70,67,57,64,74,65,56,59,60,63,59,53,44,61,57,71,46,53,64,40,67,48,43,47,54,48,46,51,58,71,57,66,37,59,50,48,61,59,42,48,40,62,44,46,59,58,49,44,66,65,42,52,65,63,45,41,61,60,59,62,57,51,44,60,63,57,51,58,44,47,61,57,70,76,67,45,45,39,42,56,58,35,58,41,57,42,62,59,41,50,59,61,54,54,52,47,66,58,64,50,44,67,49,57,63,48,51,60,59,45,55,41,60,54,42,49,46,56,66,56,49,54,57,65,54,54,62,52,52,60,63,66,42,64,54,46,67,56,34,57,64,59,50,51,54,53,52,40,58,41,41,50,54,64,51,46,55,45,56,66,38,62,55,58,43,64,50,53,45,65,69,69,67,68,34,62,51,46,67,50,42,56,41,42,53,43,56,52,62,70,54,70,54,35,48,55,58,54,69,77,68,58,60,51,55,52,60,58,64,37,59,51,43,58,29,41,63,51,54,44,54,65,57,63,35,41,62,43,58,52,61,39,45,52,62,62,53,43,47,52,68,39,53,62,51,60,65,65,60,60,54,44,44,51,59,71,61,55,64,43,58,60,58,49,48,52,44,56,57,67],\"y0\":\" \",\"yaxis\":\"y\",\"type\":\"box\"}],                        {\"template\":{\"data\":{\"histogram2dcontour\":[{\"type\":\"histogram2dcontour\",\"colorbar\":{\"outlinewidth\":0,\"ticks\":\"\"},\"colorscale\":[[0.0,\"#0d0887\"],[0.1111111111111111,\"#46039f\"],[0.2222222222222222,\"#7201a8\"],[0.3333333333333333,\"#9c179e\"],[0.4444444444444444,\"#bd3786\"],[0.5555555555555556,\"#d8576b\"],[0.6666666666666666,\"#ed7953\"],[0.7777777777777778,\"#fb9f3a\"],[0.8888888888888888,\"#fdca26\"],[1.0,\"#f0f921\"]]}],\"choropleth\":[{\"type\":\"choropleth\",\"colorbar\":{\"outlinewidth\":0,\"ticks\":\"\"}}],\"histogram2d\":[{\"type\":\"histogram2d\",\"colorbar\":{\"outlinewidth\":0,\"ticks\":\"\"},\"colorscale\":[[0.0,\"#0d0887\"],[0.1111111111111111,\"#46039f\"],[0.2222222222222222,\"#7201a8\"],[0.3333333333333333,\"#9c179e\"],[0.4444444444444444,\"#bd3786\"],[0.5555555555555556,\"#d8576b\"],[0.6666666666666666,\"#ed7953\"],[0.7777777777777778,\"#fb9f3a\"],[0.8888888888888888,\"#fdca26\"],[1.0,\"#f0f921\"]]}],\"heatmap\":[{\"type\":\"heatmap\",\"colorbar\":{\"outlinewidth\":0,\"ticks\":\"\"},\"colorscale\":[[0.0,\"#0d0887\"],[0.1111111111111111,\"#46039f\"],[0.2222222222222222,\"#7201a8\"],[0.3333333333333333,\"#9c179e\"],[0.4444444444444444,\"#bd3786\"],[0.5555555555555556,\"#d8576b\"],[0.6666666666666666,\"#ed7953\"],[0.7777777777777778,\"#fb9f3a\"],[0.8888888888888888,\"#fdca26\"],[1.0,\"#f0f921\"]]}],\"heatmapgl\":[{\"type\":\"heatmapgl\",\"colorbar\":{\"outlinewidth\":0,\"ticks\":\"\"},\"colorscale\":[[0.0,\"#0d0887\"],[0.1111111111111111,\"#46039f\"],[0.2222222222222222,\"#7201a8\"],[0.3333333333333333,\"#9c179e\"],[0.4444444444444444,\"#bd3786\"],[0.5555555555555556,\"#d8576b\"],[0.6666666666666666,\"#ed7953\"],[0.7777777777777778,\"#fb9f3a\"],[0.8888888888888888,\"#fdca26\"],[1.0,\"#f0f921\"]]}],\"contourcarpet\":[{\"type\":\"contourcarpet\",\"colorbar\":{\"outlinewidth\":0,\"ticks\":\"\"}}],\"contour\":[{\"type\":\"contour\",\"colorbar\":{\"outlinewidth\":0,\"ticks\":\"\"},\"colorscale\":[[0.0,\"#0d0887\"],[0.1111111111111111,\"#46039f\"],[0.2222222222222222,\"#7201a8\"],[0.3333333333333333,\"#9c179e\"],[0.4444444444444444,\"#bd3786\"],[0.5555555555555556,\"#d8576b\"],[0.6666666666666666,\"#ed7953\"],[0.7777777777777778,\"#fb9f3a\"],[0.8888888888888888,\"#fdca26\"],[1.0,\"#f0f921\"]]}],\"surface\":[{\"type\":\"surface\",\"colorbar\":{\"outlinewidth\":0,\"ticks\":\"\"},\"colorscale\":[[0.0,\"#0d0887\"],[0.1111111111111111,\"#46039f\"],[0.2222222222222222,\"#7201a8\"],[0.3333333333333333,\"#9c179e\"],[0.4444444444444444,\"#bd3786\"],[0.5555555555555556,\"#d8576b\"],[0.6666666666666666,\"#ed7953\"],[0.7777777777777778,\"#fb9f3a\"],[0.8888888888888888,\"#fdca26\"],[1.0,\"#f0f921\"]]}],\"mesh3d\":[{\"type\":\"mesh3d\",\"colorbar\":{\"outlinewidth\":0,\"ticks\":\"\"}}],\"scatter\":[{\"fillpattern\":{\"fillmode\":\"overlay\",\"size\":10,\"solidity\":0.2},\"type\":\"scatter\"}],\"parcoords\":[{\"type\":\"parcoords\",\"line\":{\"colorbar\":{\"outlinewidth\":0,\"ticks\":\"\"}}}],\"scatterpolargl\":[{\"type\":\"scatterpolargl\",\"marker\":{\"colorbar\":{\"outlinewidth\":0,\"ticks\":\"\"}}}],\"bar\":[{\"error_x\":{\"color\":\"#2a3f5f\"},\"error_y\":{\"color\":\"#2a3f5f\"},\"marker\":{\"line\":{\"color\":\"#E5ECF6\",\"width\":0.5},\"pattern\":{\"fillmode\":\"overlay\",\"size\":10,\"solidity\":0.2}},\"type\":\"bar\"}],\"scattergeo\":[{\"type\":\"scattergeo\",\"marker\":{\"colorbar\":{\"outlinewidth\":0,\"ticks\":\"\"}}}],\"scatterpolar\":[{\"type\":\"scatterpolar\",\"marker\":{\"colorbar\":{\"outlinewidth\":0,\"ticks\":\"\"}}}],\"histogram\":[{\"marker\":{\"pattern\":{\"fillmode\":\"overlay\",\"size\":10,\"solidity\":0.2}},\"type\":\"histogram\"}],\"scattergl\":[{\"type\":\"scattergl\",\"marker\":{\"colorbar\":{\"outlinewidth\":0,\"ticks\":\"\"}}}],\"scatter3d\":[{\"type\":\"scatter3d\",\"line\":{\"colorbar\":{\"outlinewidth\":0,\"ticks\":\"\"}},\"marker\":{\"colorbar\":{\"outlinewidth\":0,\"ticks\":\"\"}}}],\"scattermapbox\":[{\"type\":\"scattermapbox\",\"marker\":{\"colorbar\":{\"outlinewidth\":0,\"ticks\":\"\"}}}],\"scatterternary\":[{\"type\":\"scatterternary\",\"marker\":{\"colorbar\":{\"outlinewidth\":0,\"ticks\":\"\"}}}],\"scattercarpet\":[{\"type\":\"scattercarpet\",\"marker\":{\"colorbar\":{\"outlinewidth\":0,\"ticks\":\"\"}}}],\"carpet\":[{\"aaxis\":{\"endlinecolor\":\"#2a3f5f\",\"gridcolor\":\"white\",\"linecolor\":\"white\",\"minorgridcolor\":\"white\",\"startlinecolor\":\"#2a3f5f\"},\"baxis\":{\"endlinecolor\":\"#2a3f5f\",\"gridcolor\":\"white\",\"linecolor\":\"white\",\"minorgridcolor\":\"white\",\"startlinecolor\":\"#2a3f5f\"},\"type\":\"carpet\"}],\"table\":[{\"cells\":{\"fill\":{\"color\":\"#EBF0F8\"},\"line\":{\"color\":\"white\"}},\"header\":{\"fill\":{\"color\":\"#C8D4E3\"},\"line\":{\"color\":\"white\"}},\"type\":\"table\"}],\"barpolar\":[{\"marker\":{\"line\":{\"color\":\"#E5ECF6\",\"width\":0.5},\"pattern\":{\"fillmode\":\"overlay\",\"size\":10,\"solidity\":0.2}},\"type\":\"barpolar\"}],\"pie\":[{\"automargin\":true,\"type\":\"pie\"}]},\"layout\":{\"autotypenumbers\":\"strict\",\"colorway\":[\"#636efa\",\"#EF553B\",\"#00cc96\",\"#ab63fa\",\"#FFA15A\",\"#19d3f3\",\"#FF6692\",\"#B6E880\",\"#FF97FF\",\"#FECB52\"],\"font\":{\"color\":\"#2a3f5f\"},\"hovermode\":\"closest\",\"hoverlabel\":{\"align\":\"left\"},\"paper_bgcolor\":\"white\",\"plot_bgcolor\":\"#E5ECF6\",\"polar\":{\"bgcolor\":\"#E5ECF6\",\"angularaxis\":{\"gridcolor\":\"white\",\"linecolor\":\"white\",\"ticks\":\"\"},\"radialaxis\":{\"gridcolor\":\"white\",\"linecolor\":\"white\",\"ticks\":\"\"}},\"ternary\":{\"bgcolor\":\"#E5ECF6\",\"aaxis\":{\"gridcolor\":\"white\",\"linecolor\":\"white\",\"ticks\":\"\"},\"baxis\":{\"gridcolor\":\"white\",\"linecolor\":\"white\",\"ticks\":\"\"},\"caxis\":{\"gridcolor\":\"white\",\"linecolor\":\"white\",\"ticks\":\"\"}},\"coloraxis\":{\"colorbar\":{\"outlinewidth\":0,\"ticks\":\"\"}},\"colorscale\":{\"sequential\":[[0.0,\"#0d0887\"],[0.1111111111111111,\"#46039f\"],[0.2222222222222222,\"#7201a8\"],[0.3333333333333333,\"#9c179e\"],[0.4444444444444444,\"#bd3786\"],[0.5555555555555556,\"#d8576b\"],[0.6666666666666666,\"#ed7953\"],[0.7777777777777778,\"#fb9f3a\"],[0.8888888888888888,\"#fdca26\"],[1.0,\"#f0f921\"]],\"sequentialminus\":[[0.0,\"#0d0887\"],[0.1111111111111111,\"#46039f\"],[0.2222222222222222,\"#7201a8\"],[0.3333333333333333,\"#9c179e\"],[0.4444444444444444,\"#bd3786\"],[0.5555555555555556,\"#d8576b\"],[0.6666666666666666,\"#ed7953\"],[0.7777777777777778,\"#fb9f3a\"],[0.8888888888888888,\"#fdca26\"],[1.0,\"#f0f921\"]],\"diverging\":[[0,\"#8e0152\"],[0.1,\"#c51b7d\"],[0.2,\"#de77ae\"],[0.3,\"#f1b6da\"],[0.4,\"#fde0ef\"],[0.5,\"#f7f7f7\"],[0.6,\"#e6f5d0\"],[0.7,\"#b8e186\"],[0.8,\"#7fbc41\"],[0.9,\"#4d9221\"],[1,\"#276419\"]]},\"xaxis\":{\"gridcolor\":\"white\",\"linecolor\":\"white\",\"ticks\":\"\",\"title\":{\"standoff\":15},\"zerolinecolor\":\"white\",\"automargin\":true,\"zerolinewidth\":2},\"yaxis\":{\"gridcolor\":\"white\",\"linecolor\":\"white\",\"ticks\":\"\",\"title\":{\"standoff\":15},\"zerolinecolor\":\"white\",\"automargin\":true,\"zerolinewidth\":2},\"scene\":{\"xaxis\":{\"backgroundcolor\":\"#E5ECF6\",\"gridcolor\":\"white\",\"linecolor\":\"white\",\"showbackground\":true,\"ticks\":\"\",\"zerolinecolor\":\"white\",\"gridwidth\":2},\"yaxis\":{\"backgroundcolor\":\"#E5ECF6\",\"gridcolor\":\"white\",\"linecolor\":\"white\",\"showbackground\":true,\"ticks\":\"\",\"zerolinecolor\":\"white\",\"gridwidth\":2},\"zaxis\":{\"backgroundcolor\":\"#E5ECF6\",\"gridcolor\":\"white\",\"linecolor\":\"white\",\"showbackground\":true,\"ticks\":\"\",\"zerolinecolor\":\"white\",\"gridwidth\":2}},\"shapedefaults\":{\"line\":{\"color\":\"#2a3f5f\"}},\"annotationdefaults\":{\"arrowcolor\":\"#2a3f5f\",\"arrowhead\":0,\"arrowwidth\":1},\"geo\":{\"bgcolor\":\"white\",\"landcolor\":\"#E5ECF6\",\"subunitcolor\":\"white\",\"showland\":true,\"showlakes\":true,\"lakecolor\":\"white\"},\"title\":{\"x\":0.05},\"mapbox\":{\"style\":\"light\"}}},\"xaxis\":{\"anchor\":\"y\",\"domain\":[0.0,1.0],\"title\":{\"text\":\"Sexo\"}},\"yaxis\":{\"anchor\":\"x\",\"domain\":[0.0,1.0],\"title\":{\"text\":\"Idade\"}},\"legend\":{\"tracegroupgap\":0},\"margin\":{\"t\":60},\"boxmode\":\"group\"},                        {\"responsive\": true}                    ).then(function(){\n",
              "                            \n",
              "var gd = document.getElementById('3c89746b-8f63-47f8-9bd5-8edc97358965');\n",
              "var x = new MutationObserver(function (mutations, observer) {{\n",
              "        var display = window.getComputedStyle(gd).display;\n",
              "        if (!display || display === 'none') {{\n",
              "            console.log([gd, 'removed!']);\n",
              "            Plotly.purge(gd);\n",
              "            observer.disconnect();\n",
              "        }}\n",
              "}});\n",
              "\n",
              "// Listen for the removal of the full notebook cells\n",
              "var notebookContainer = gd.closest('#notebook-container');\n",
              "if (notebookContainer) {{\n",
              "    x.observe(notebookContainer, {childList: true});\n",
              "}}\n",
              "\n",
              "// Listen for the clearing of the current output cell\n",
              "var outputEl = gd.closest('.output');\n",
              "if (outputEl) {{\n",
              "    x.observe(outputEl, {childList: true});\n",
              "}}\n",
              "\n",
              "                        })                };                            </script>        </div>\n",
              "</body>\n",
              "</html>"
            ]
          },
          "metadata": {}
        },
        {
          "output_type": "display_data",
          "data": {
            "text/plain": [
              "<Figure size 800x600 with 0 Axes>"
            ]
          },
          "metadata": {}
        }
      ]
    },
    {
      "cell_type": "code",
      "source": [
        "gera_countplot('Sexo', 'Doenca cardiaca', df)"
      ],
      "metadata": {
        "colab": {
          "base_uri": "https://localhost:8080/",
          "height": 559
        },
        "id": "g_av3JSWD0RK",
        "outputId": "f5a2d611-0d15-4f12-bc7c-54159319972a"
      },
      "execution_count": null,
      "outputs": [
        {
          "output_type": "display_data",
          "data": {
            "text/html": [
              "<html>\n",
              "<head><meta charset=\"utf-8\" /></head>\n",
              "<body>\n",
              "    <div>            <script src=\"https://cdnjs.cloudflare.com/ajax/libs/mathjax/2.7.5/MathJax.js?config=TeX-AMS-MML_SVG\"></script><script type=\"text/javascript\">if (window.MathJax && window.MathJax.Hub && window.MathJax.Hub.Config) {window.MathJax.Hub.Config({SVG: {font: \"STIX-Web\"}});}</script>                <script type=\"text/javascript\">window.PlotlyConfig = {MathJaxConfig: 'local'};</script>\n",
              "        <script charset=\"utf-8\" src=\"https://cdn.plot.ly/plotly-2.24.1.min.js\"></script>                <div id=\"6b67f93f-2968-4eaf-933b-bd0f8f30a7fe\" class=\"plotly-graph-div\" style=\"height:525px; width:100%;\"></div>            <script type=\"text/javascript\">                                    window.PLOTLYENV=window.PLOTLYENV || {};                                    if (document.getElementById(\"6b67f93f-2968-4eaf-933b-bd0f8f30a7fe\")) {                    Plotly.newPlot(                        \"6b67f93f-2968-4eaf-933b-bd0f8f30a7fe\",                        [{\"alignmentgroup\":\"True\",\"bingroup\":\"x\",\"hovertemplate\":\"Doenca cardiaca=1\\u003cbr\\u003eSexo=%{x}\\u003cbr\\u003ecount=%{y}\\u003cextra\\u003e\\u003c\\u002fextra\\u003e\",\"legendgroup\":\"1\",\"marker\":{\"color\":\"#636efa\",\"pattern\":{\"shape\":\"\"},\"line\":{\"color\":\"black\",\"width\":1}},\"name\":\"1\",\"offsetgroup\":\"1\",\"orientation\":\"v\",\"showlegend\":true,\"x\":[1,1,1,1,1,0,1,1,1,1,1,1,1,1,1,1,1,1,1,1,1,1,0,1,1,0,1,0,1,0,1,1,1,1,1,1,1,0,1,1,1,1,1,1,1,1,1,0,1,0,0,1,0,1,1,1,1,1,1,0,1,1,1,1,1,1,1,1,1,1,1,0,1,0,1,1,1,1,0,1,1,1,0,1,1,1,1,1,1,1,1,1,1,1,1,1,1,1,1,0,0,0,1,1,0,1,1,0,1,1,1,1,1,1,1,1,1,1,1,1],\"xaxis\":\"x\",\"yaxis\":\"y\",\"type\":\"histogram\"},{\"alignmentgroup\":\"True\",\"bingroup\":\"x\",\"hovertemplate\":\"Doenca cardiaca=0\\u003cbr\\u003eSexo=%{x}\\u003cbr\\u003ecount=%{y}\\u003cextra\\u003e\\u003c\\u002fextra\\u003e\",\"legendgroup\":\"0\",\"marker\":{\"color\":\"#EF553B\",\"pattern\":{\"shape\":\"\"},\"line\":{\"color\":\"black\",\"width\":1}},\"name\":\"0\",\"offsetgroup\":\"0\",\"orientation\":\"v\",\"showlegend\":true,\"x\":[0,1,0,1,1,1,1,0,0,1,1,1,1,1,0,0,0,0,0,1,0,1,1,0,1,1,1,1,0,0,0,0,0,1,1,0,1,1,0,0,1,0,0,1,0,0,1,1,1,1,1,1,0,1,1,0,0,0,0,1,0,1,0,1,0,0,0,1,0,0,1,1,1,0,0,0,1,1,1,0,1,0,0,0,0,0,1,1,1,1,0,0,1,0,1,0,1,1,1,0,1,1,1,0,1,1,1,0,0,0,0,1,1,0,1,1,1,0,1,0,0,1,1,1,1,0,1,0,1,1,1,0,1,1,1,0,0,0,1,1,1,0,1,1,0,1,1,1,0,1],\"xaxis\":\"x\",\"yaxis\":\"y\",\"type\":\"histogram\"}],                        {\"template\":{\"data\":{\"histogram2dcontour\":[{\"type\":\"histogram2dcontour\",\"colorbar\":{\"outlinewidth\":0,\"ticks\":\"\"},\"colorscale\":[[0.0,\"#0d0887\"],[0.1111111111111111,\"#46039f\"],[0.2222222222222222,\"#7201a8\"],[0.3333333333333333,\"#9c179e\"],[0.4444444444444444,\"#bd3786\"],[0.5555555555555556,\"#d8576b\"],[0.6666666666666666,\"#ed7953\"],[0.7777777777777778,\"#fb9f3a\"],[0.8888888888888888,\"#fdca26\"],[1.0,\"#f0f921\"]]}],\"choropleth\":[{\"type\":\"choropleth\",\"colorbar\":{\"outlinewidth\":0,\"ticks\":\"\"}}],\"histogram2d\":[{\"type\":\"histogram2d\",\"colorbar\":{\"outlinewidth\":0,\"ticks\":\"\"},\"colorscale\":[[0.0,\"#0d0887\"],[0.1111111111111111,\"#46039f\"],[0.2222222222222222,\"#7201a8\"],[0.3333333333333333,\"#9c179e\"],[0.4444444444444444,\"#bd3786\"],[0.5555555555555556,\"#d8576b\"],[0.6666666666666666,\"#ed7953\"],[0.7777777777777778,\"#fb9f3a\"],[0.8888888888888888,\"#fdca26\"],[1.0,\"#f0f921\"]]}],\"heatmap\":[{\"type\":\"heatmap\",\"colorbar\":{\"outlinewidth\":0,\"ticks\":\"\"},\"colorscale\":[[0.0,\"#0d0887\"],[0.1111111111111111,\"#46039f\"],[0.2222222222222222,\"#7201a8\"],[0.3333333333333333,\"#9c179e\"],[0.4444444444444444,\"#bd3786\"],[0.5555555555555556,\"#d8576b\"],[0.6666666666666666,\"#ed7953\"],[0.7777777777777778,\"#fb9f3a\"],[0.8888888888888888,\"#fdca26\"],[1.0,\"#f0f921\"]]}],\"heatmapgl\":[{\"type\":\"heatmapgl\",\"colorbar\":{\"outlinewidth\":0,\"ticks\":\"\"},\"colorscale\":[[0.0,\"#0d0887\"],[0.1111111111111111,\"#46039f\"],[0.2222222222222222,\"#7201a8\"],[0.3333333333333333,\"#9c179e\"],[0.4444444444444444,\"#bd3786\"],[0.5555555555555556,\"#d8576b\"],[0.6666666666666666,\"#ed7953\"],[0.7777777777777778,\"#fb9f3a\"],[0.8888888888888888,\"#fdca26\"],[1.0,\"#f0f921\"]]}],\"contourcarpet\":[{\"type\":\"contourcarpet\",\"colorbar\":{\"outlinewidth\":0,\"ticks\":\"\"}}],\"contour\":[{\"type\":\"contour\",\"colorbar\":{\"outlinewidth\":0,\"ticks\":\"\"},\"colorscale\":[[0.0,\"#0d0887\"],[0.1111111111111111,\"#46039f\"],[0.2222222222222222,\"#7201a8\"],[0.3333333333333333,\"#9c179e\"],[0.4444444444444444,\"#bd3786\"],[0.5555555555555556,\"#d8576b\"],[0.6666666666666666,\"#ed7953\"],[0.7777777777777778,\"#fb9f3a\"],[0.8888888888888888,\"#fdca26\"],[1.0,\"#f0f921\"]]}],\"surface\":[{\"type\":\"surface\",\"colorbar\":{\"outlinewidth\":0,\"ticks\":\"\"},\"colorscale\":[[0.0,\"#0d0887\"],[0.1111111111111111,\"#46039f\"],[0.2222222222222222,\"#7201a8\"],[0.3333333333333333,\"#9c179e\"],[0.4444444444444444,\"#bd3786\"],[0.5555555555555556,\"#d8576b\"],[0.6666666666666666,\"#ed7953\"],[0.7777777777777778,\"#fb9f3a\"],[0.8888888888888888,\"#fdca26\"],[1.0,\"#f0f921\"]]}],\"mesh3d\":[{\"type\":\"mesh3d\",\"colorbar\":{\"outlinewidth\":0,\"ticks\":\"\"}}],\"scatter\":[{\"fillpattern\":{\"fillmode\":\"overlay\",\"size\":10,\"solidity\":0.2},\"type\":\"scatter\"}],\"parcoords\":[{\"type\":\"parcoords\",\"line\":{\"colorbar\":{\"outlinewidth\":0,\"ticks\":\"\"}}}],\"scatterpolargl\":[{\"type\":\"scatterpolargl\",\"marker\":{\"colorbar\":{\"outlinewidth\":0,\"ticks\":\"\"}}}],\"bar\":[{\"error_x\":{\"color\":\"#2a3f5f\"},\"error_y\":{\"color\":\"#2a3f5f\"},\"marker\":{\"line\":{\"color\":\"#E5ECF6\",\"width\":0.5},\"pattern\":{\"fillmode\":\"overlay\",\"size\":10,\"solidity\":0.2}},\"type\":\"bar\"}],\"scattergeo\":[{\"type\":\"scattergeo\",\"marker\":{\"colorbar\":{\"outlinewidth\":0,\"ticks\":\"\"}}}],\"scatterpolar\":[{\"type\":\"scatterpolar\",\"marker\":{\"colorbar\":{\"outlinewidth\":0,\"ticks\":\"\"}}}],\"histogram\":[{\"marker\":{\"pattern\":{\"fillmode\":\"overlay\",\"size\":10,\"solidity\":0.2}},\"type\":\"histogram\"}],\"scattergl\":[{\"type\":\"scattergl\",\"marker\":{\"colorbar\":{\"outlinewidth\":0,\"ticks\":\"\"}}}],\"scatter3d\":[{\"type\":\"scatter3d\",\"line\":{\"colorbar\":{\"outlinewidth\":0,\"ticks\":\"\"}},\"marker\":{\"colorbar\":{\"outlinewidth\":0,\"ticks\":\"\"}}}],\"scattermapbox\":[{\"type\":\"scattermapbox\",\"marker\":{\"colorbar\":{\"outlinewidth\":0,\"ticks\":\"\"}}}],\"scatterternary\":[{\"type\":\"scatterternary\",\"marker\":{\"colorbar\":{\"outlinewidth\":0,\"ticks\":\"\"}}}],\"scattercarpet\":[{\"type\":\"scattercarpet\",\"marker\":{\"colorbar\":{\"outlinewidth\":0,\"ticks\":\"\"}}}],\"carpet\":[{\"aaxis\":{\"endlinecolor\":\"#2a3f5f\",\"gridcolor\":\"white\",\"linecolor\":\"white\",\"minorgridcolor\":\"white\",\"startlinecolor\":\"#2a3f5f\"},\"baxis\":{\"endlinecolor\":\"#2a3f5f\",\"gridcolor\":\"white\",\"linecolor\":\"white\",\"minorgridcolor\":\"white\",\"startlinecolor\":\"#2a3f5f\"},\"type\":\"carpet\"}],\"table\":[{\"cells\":{\"fill\":{\"color\":\"#EBF0F8\"},\"line\":{\"color\":\"white\"}},\"header\":{\"fill\":{\"color\":\"#C8D4E3\"},\"line\":{\"color\":\"white\"}},\"type\":\"table\"}],\"barpolar\":[{\"marker\":{\"line\":{\"color\":\"#E5ECF6\",\"width\":0.5},\"pattern\":{\"fillmode\":\"overlay\",\"size\":10,\"solidity\":0.2}},\"type\":\"barpolar\"}],\"pie\":[{\"automargin\":true,\"type\":\"pie\"}]},\"layout\":{\"autotypenumbers\":\"strict\",\"colorway\":[\"#636efa\",\"#EF553B\",\"#00cc96\",\"#ab63fa\",\"#FFA15A\",\"#19d3f3\",\"#FF6692\",\"#B6E880\",\"#FF97FF\",\"#FECB52\"],\"font\":{\"color\":\"#2a3f5f\"},\"hovermode\":\"closest\",\"hoverlabel\":{\"align\":\"left\"},\"paper_bgcolor\":\"white\",\"plot_bgcolor\":\"#E5ECF6\",\"polar\":{\"bgcolor\":\"#E5ECF6\",\"angularaxis\":{\"gridcolor\":\"white\",\"linecolor\":\"white\",\"ticks\":\"\"},\"radialaxis\":{\"gridcolor\":\"white\",\"linecolor\":\"white\",\"ticks\":\"\"}},\"ternary\":{\"bgcolor\":\"#E5ECF6\",\"aaxis\":{\"gridcolor\":\"white\",\"linecolor\":\"white\",\"ticks\":\"\"},\"baxis\":{\"gridcolor\":\"white\",\"linecolor\":\"white\",\"ticks\":\"\"},\"caxis\":{\"gridcolor\":\"white\",\"linecolor\":\"white\",\"ticks\":\"\"}},\"coloraxis\":{\"colorbar\":{\"outlinewidth\":0,\"ticks\":\"\"}},\"colorscale\":{\"sequential\":[[0.0,\"#0d0887\"],[0.1111111111111111,\"#46039f\"],[0.2222222222222222,\"#7201a8\"],[0.3333333333333333,\"#9c179e\"],[0.4444444444444444,\"#bd3786\"],[0.5555555555555556,\"#d8576b\"],[0.6666666666666666,\"#ed7953\"],[0.7777777777777778,\"#fb9f3a\"],[0.8888888888888888,\"#fdca26\"],[1.0,\"#f0f921\"]],\"sequentialminus\":[[0.0,\"#0d0887\"],[0.1111111111111111,\"#46039f\"],[0.2222222222222222,\"#7201a8\"],[0.3333333333333333,\"#9c179e\"],[0.4444444444444444,\"#bd3786\"],[0.5555555555555556,\"#d8576b\"],[0.6666666666666666,\"#ed7953\"],[0.7777777777777778,\"#fb9f3a\"],[0.8888888888888888,\"#fdca26\"],[1.0,\"#f0f921\"]],\"diverging\":[[0,\"#8e0152\"],[0.1,\"#c51b7d\"],[0.2,\"#de77ae\"],[0.3,\"#f1b6da\"],[0.4,\"#fde0ef\"],[0.5,\"#f7f7f7\"],[0.6,\"#e6f5d0\"],[0.7,\"#b8e186\"],[0.8,\"#7fbc41\"],[0.9,\"#4d9221\"],[1,\"#276419\"]]},\"xaxis\":{\"gridcolor\":\"white\",\"linecolor\":\"white\",\"ticks\":\"\",\"title\":{\"standoff\":15},\"zerolinecolor\":\"white\",\"automargin\":true,\"zerolinewidth\":2},\"yaxis\":{\"gridcolor\":\"white\",\"linecolor\":\"white\",\"ticks\":\"\",\"title\":{\"standoff\":15},\"zerolinecolor\":\"white\",\"automargin\":true,\"zerolinewidth\":2},\"scene\":{\"xaxis\":{\"backgroundcolor\":\"#E5ECF6\",\"gridcolor\":\"white\",\"linecolor\":\"white\",\"showbackground\":true,\"ticks\":\"\",\"zerolinecolor\":\"white\",\"gridwidth\":2},\"yaxis\":{\"backgroundcolor\":\"#E5ECF6\",\"gridcolor\":\"white\",\"linecolor\":\"white\",\"showbackground\":true,\"ticks\":\"\",\"zerolinecolor\":\"white\",\"gridwidth\":2},\"zaxis\":{\"backgroundcolor\":\"#E5ECF6\",\"gridcolor\":\"white\",\"linecolor\":\"white\",\"showbackground\":true,\"ticks\":\"\",\"zerolinecolor\":\"white\",\"gridwidth\":2}},\"shapedefaults\":{\"line\":{\"color\":\"#2a3f5f\"}},\"annotationdefaults\":{\"arrowcolor\":\"#2a3f5f\",\"arrowhead\":0,\"arrowwidth\":1},\"geo\":{\"bgcolor\":\"white\",\"landcolor\":\"#E5ECF6\",\"subunitcolor\":\"white\",\"showland\":true,\"showlakes\":true,\"lakecolor\":\"white\"},\"title\":{\"x\":0.05},\"mapbox\":{\"style\":\"light\"}}},\"xaxis\":{\"anchor\":\"y\",\"domain\":[0.0,1.0],\"title\":{\"text\":\"Sexo\"}},\"yaxis\":{\"anchor\":\"x\",\"domain\":[0.0,1.0],\"title\":{\"text\":\"Contagem\"}},\"legend\":{\"title\":{\"text\":\"Doenca cardiaca\"},\"tracegroupgap\":0},\"margin\":{\"t\":60},\"barmode\":\"group\"},                        {\"responsive\": true}                    ).then(function(){\n",
              "                            \n",
              "var gd = document.getElementById('6b67f93f-2968-4eaf-933b-bd0f8f30a7fe');\n",
              "var x = new MutationObserver(function (mutations, observer) {{\n",
              "        var display = window.getComputedStyle(gd).display;\n",
              "        if (!display || display === 'none') {{\n",
              "            console.log([gd, 'removed!']);\n",
              "            Plotly.purge(gd);\n",
              "            observer.disconnect();\n",
              "        }}\n",
              "}});\n",
              "\n",
              "// Listen for the removal of the full notebook cells\n",
              "var notebookContainer = gd.closest('#notebook-container');\n",
              "if (notebookContainer) {{\n",
              "    x.observe(notebookContainer, {childList: true});\n",
              "}}\n",
              "\n",
              "// Listen for the clearing of the current output cell\n",
              "var outputEl = gd.closest('.output');\n",
              "if (outputEl) {{\n",
              "    x.observe(outputEl, {childList: true});\n",
              "}}\n",
              "\n",
              "                        })                };                            </script>        </div>\n",
              "</body>\n",
              "</html>"
            ]
          },
          "metadata": {}
        },
        {
          "output_type": "display_data",
          "data": {
            "text/plain": [
              "<Figure size 800x600 with 0 Axes>"
            ]
          },
          "metadata": {}
        }
      ]
    },
    {
      "cell_type": "markdown",
      "source": [
        "Esse gráfico permite depreender a relação da presença da doença em ambos os sexos. Nele, é possível observar que, comparativamente, é mais prevalente nas pessoas do sexo masculino do que nas do sexo feminino.  "
      ],
      "metadata": {
        "id": "9iz0bhgUzgL4"
      }
    },
    {
      "cell_type": "code",
      "source": [
        "gera_countplot('Tipo dor', 'Doenca cardiaca', data=df)"
      ],
      "metadata": {
        "colab": {
          "base_uri": "https://localhost:8080/",
          "height": 559
        },
        "id": "wFCr5PvlD0SG",
        "outputId": "3b1dfe73-c973-4930-ee48-29f50fa644ab"
      },
      "execution_count": null,
      "outputs": [
        {
          "output_type": "display_data",
          "data": {
            "text/html": [
              "<html>\n",
              "<head><meta charset=\"utf-8\" /></head>\n",
              "<body>\n",
              "    <div>            <script src=\"https://cdnjs.cloudflare.com/ajax/libs/mathjax/2.7.5/MathJax.js?config=TeX-AMS-MML_SVG\"></script><script type=\"text/javascript\">if (window.MathJax && window.MathJax.Hub && window.MathJax.Hub.Config) {window.MathJax.Hub.Config({SVG: {font: \"STIX-Web\"}});}</script>                <script type=\"text/javascript\">window.PlotlyConfig = {MathJaxConfig: 'local'};</script>\n",
              "        <script charset=\"utf-8\" src=\"https://cdn.plot.ly/plotly-2.24.1.min.js\"></script>                <div id=\"af72dcc8-98b6-429f-8a76-2aca54bca78e\" class=\"plotly-graph-div\" style=\"height:525px; width:100%;\"></div>            <script type=\"text/javascript\">                                    window.PLOTLYENV=window.PLOTLYENV || {};                                    if (document.getElementById(\"af72dcc8-98b6-429f-8a76-2aca54bca78e\")) {                    Plotly.newPlot(                        \"af72dcc8-98b6-429f-8a76-2aca54bca78e\",                        [{\"alignmentgroup\":\"True\",\"bingroup\":\"x\",\"hovertemplate\":\"Doenca cardiaca=1\\u003cbr\\u003eTipo dor=%{x}\\u003cbr\\u003ecount=%{y}\\u003cextra\\u003e\\u003c\\u002fextra\\u003e\",\"legendgroup\":\"1\",\"marker\":{\"color\":\"#636efa\",\"pattern\":{\"shape\":\"\"},\"line\":{\"color\":\"black\",\"width\":1}},\"name\":\"1\",\"offsetgroup\":\"1\",\"orientation\":\"v\",\"showlegend\":true,\"x\":[4,2,3,4,4,4,1,4,4,4,3,3,4,4,4,4,1,4,3,3,4,2,4,4,4,4,2,4,4,2,3,4,4,4,4,4,4,4,4,4,4,4,4,4,4,4,4,4,4,4,4,4,4,4,3,4,4,4,4,4,4,4,4,4,3,2,4,4,4,3,4,4,1,4,4,1,3,4,4,4,3,4,4,4,4,3,4,4,4,4,4,4,4,3,1,4,4,4,4,3,4,4,4,4,4,4,3,4,4,4,3,4,4,4,4,3,4,2,2,4],\"xaxis\":\"x\",\"yaxis\":\"y\",\"type\":\"histogram\"},{\"alignmentgroup\":\"True\",\"bingroup\":\"x\",\"hovertemplate\":\"Doenca cardiaca=0\\u003cbr\\u003eTipo dor=%{x}\\u003cbr\\u003ecount=%{y}\\u003cextra\\u003e\\u003c\\u002fextra\\u003e\",\"legendgroup\":\"0\",\"marker\":{\"color\":\"#EF553B\",\"pattern\":{\"shape\":\"\"},\"line\":{\"color\":\"black\",\"width\":1}},\"name\":\"0\",\"offsetgroup\":\"0\",\"orientation\":\"v\",\"showlegend\":true,\"x\":[3,4,2,4,4,4,3,4,4,1,1,2,4,4,2,3,4,3,3,4,3,3,4,4,3,2,3,2,3,2,2,2,3,3,3,1,1,4,3,4,2,3,4,4,3,3,2,3,4,1,2,1,2,2,4,3,2,3,4,3,2,2,3,2,2,1,3,3,3,3,2,4,3,3,3,2,4,4,1,3,3,3,3,4,3,2,2,1,2,4,4,4,3,4,1,3,1,3,3,4,3,3,4,4,4,2,3,2,4,3,1,3,1,3,3,3,3,3,2,2,3,3,3,2,3,4,2,1,1,4,3,4,3,2,3,4,3,3,2,3,3,2,3,4,3,2,3,2,2,4],\"xaxis\":\"x\",\"yaxis\":\"y\",\"type\":\"histogram\"}],                        {\"template\":{\"data\":{\"histogram2dcontour\":[{\"type\":\"histogram2dcontour\",\"colorbar\":{\"outlinewidth\":0,\"ticks\":\"\"},\"colorscale\":[[0.0,\"#0d0887\"],[0.1111111111111111,\"#46039f\"],[0.2222222222222222,\"#7201a8\"],[0.3333333333333333,\"#9c179e\"],[0.4444444444444444,\"#bd3786\"],[0.5555555555555556,\"#d8576b\"],[0.6666666666666666,\"#ed7953\"],[0.7777777777777778,\"#fb9f3a\"],[0.8888888888888888,\"#fdca26\"],[1.0,\"#f0f921\"]]}],\"choropleth\":[{\"type\":\"choropleth\",\"colorbar\":{\"outlinewidth\":0,\"ticks\":\"\"}}],\"histogram2d\":[{\"type\":\"histogram2d\",\"colorbar\":{\"outlinewidth\":0,\"ticks\":\"\"},\"colorscale\":[[0.0,\"#0d0887\"],[0.1111111111111111,\"#46039f\"],[0.2222222222222222,\"#7201a8\"],[0.3333333333333333,\"#9c179e\"],[0.4444444444444444,\"#bd3786\"],[0.5555555555555556,\"#d8576b\"],[0.6666666666666666,\"#ed7953\"],[0.7777777777777778,\"#fb9f3a\"],[0.8888888888888888,\"#fdca26\"],[1.0,\"#f0f921\"]]}],\"heatmap\":[{\"type\":\"heatmap\",\"colorbar\":{\"outlinewidth\":0,\"ticks\":\"\"},\"colorscale\":[[0.0,\"#0d0887\"],[0.1111111111111111,\"#46039f\"],[0.2222222222222222,\"#7201a8\"],[0.3333333333333333,\"#9c179e\"],[0.4444444444444444,\"#bd3786\"],[0.5555555555555556,\"#d8576b\"],[0.6666666666666666,\"#ed7953\"],[0.7777777777777778,\"#fb9f3a\"],[0.8888888888888888,\"#fdca26\"],[1.0,\"#f0f921\"]]}],\"heatmapgl\":[{\"type\":\"heatmapgl\",\"colorbar\":{\"outlinewidth\":0,\"ticks\":\"\"},\"colorscale\":[[0.0,\"#0d0887\"],[0.1111111111111111,\"#46039f\"],[0.2222222222222222,\"#7201a8\"],[0.3333333333333333,\"#9c179e\"],[0.4444444444444444,\"#bd3786\"],[0.5555555555555556,\"#d8576b\"],[0.6666666666666666,\"#ed7953\"],[0.7777777777777778,\"#fb9f3a\"],[0.8888888888888888,\"#fdca26\"],[1.0,\"#f0f921\"]]}],\"contourcarpet\":[{\"type\":\"contourcarpet\",\"colorbar\":{\"outlinewidth\":0,\"ticks\":\"\"}}],\"contour\":[{\"type\":\"contour\",\"colorbar\":{\"outlinewidth\":0,\"ticks\":\"\"},\"colorscale\":[[0.0,\"#0d0887\"],[0.1111111111111111,\"#46039f\"],[0.2222222222222222,\"#7201a8\"],[0.3333333333333333,\"#9c179e\"],[0.4444444444444444,\"#bd3786\"],[0.5555555555555556,\"#d8576b\"],[0.6666666666666666,\"#ed7953\"],[0.7777777777777778,\"#fb9f3a\"],[0.8888888888888888,\"#fdca26\"],[1.0,\"#f0f921\"]]}],\"surface\":[{\"type\":\"surface\",\"colorbar\":{\"outlinewidth\":0,\"ticks\":\"\"},\"colorscale\":[[0.0,\"#0d0887\"],[0.1111111111111111,\"#46039f\"],[0.2222222222222222,\"#7201a8\"],[0.3333333333333333,\"#9c179e\"],[0.4444444444444444,\"#bd3786\"],[0.5555555555555556,\"#d8576b\"],[0.6666666666666666,\"#ed7953\"],[0.7777777777777778,\"#fb9f3a\"],[0.8888888888888888,\"#fdca26\"],[1.0,\"#f0f921\"]]}],\"mesh3d\":[{\"type\":\"mesh3d\",\"colorbar\":{\"outlinewidth\":0,\"ticks\":\"\"}}],\"scatter\":[{\"fillpattern\":{\"fillmode\":\"overlay\",\"size\":10,\"solidity\":0.2},\"type\":\"scatter\"}],\"parcoords\":[{\"type\":\"parcoords\",\"line\":{\"colorbar\":{\"outlinewidth\":0,\"ticks\":\"\"}}}],\"scatterpolargl\":[{\"type\":\"scatterpolargl\",\"marker\":{\"colorbar\":{\"outlinewidth\":0,\"ticks\":\"\"}}}],\"bar\":[{\"error_x\":{\"color\":\"#2a3f5f\"},\"error_y\":{\"color\":\"#2a3f5f\"},\"marker\":{\"line\":{\"color\":\"#E5ECF6\",\"width\":0.5},\"pattern\":{\"fillmode\":\"overlay\",\"size\":10,\"solidity\":0.2}},\"type\":\"bar\"}],\"scattergeo\":[{\"type\":\"scattergeo\",\"marker\":{\"colorbar\":{\"outlinewidth\":0,\"ticks\":\"\"}}}],\"scatterpolar\":[{\"type\":\"scatterpolar\",\"marker\":{\"colorbar\":{\"outlinewidth\":0,\"ticks\":\"\"}}}],\"histogram\":[{\"marker\":{\"pattern\":{\"fillmode\":\"overlay\",\"size\":10,\"solidity\":0.2}},\"type\":\"histogram\"}],\"scattergl\":[{\"type\":\"scattergl\",\"marker\":{\"colorbar\":{\"outlinewidth\":0,\"ticks\":\"\"}}}],\"scatter3d\":[{\"type\":\"scatter3d\",\"line\":{\"colorbar\":{\"outlinewidth\":0,\"ticks\":\"\"}},\"marker\":{\"colorbar\":{\"outlinewidth\":0,\"ticks\":\"\"}}}],\"scattermapbox\":[{\"type\":\"scattermapbox\",\"marker\":{\"colorbar\":{\"outlinewidth\":0,\"ticks\":\"\"}}}],\"scatterternary\":[{\"type\":\"scatterternary\",\"marker\":{\"colorbar\":{\"outlinewidth\":0,\"ticks\":\"\"}}}],\"scattercarpet\":[{\"type\":\"scattercarpet\",\"marker\":{\"colorbar\":{\"outlinewidth\":0,\"ticks\":\"\"}}}],\"carpet\":[{\"aaxis\":{\"endlinecolor\":\"#2a3f5f\",\"gridcolor\":\"white\",\"linecolor\":\"white\",\"minorgridcolor\":\"white\",\"startlinecolor\":\"#2a3f5f\"},\"baxis\":{\"endlinecolor\":\"#2a3f5f\",\"gridcolor\":\"white\",\"linecolor\":\"white\",\"minorgridcolor\":\"white\",\"startlinecolor\":\"#2a3f5f\"},\"type\":\"carpet\"}],\"table\":[{\"cells\":{\"fill\":{\"color\":\"#EBF0F8\"},\"line\":{\"color\":\"white\"}},\"header\":{\"fill\":{\"color\":\"#C8D4E3\"},\"line\":{\"color\":\"white\"}},\"type\":\"table\"}],\"barpolar\":[{\"marker\":{\"line\":{\"color\":\"#E5ECF6\",\"width\":0.5},\"pattern\":{\"fillmode\":\"overlay\",\"size\":10,\"solidity\":0.2}},\"type\":\"barpolar\"}],\"pie\":[{\"automargin\":true,\"type\":\"pie\"}]},\"layout\":{\"autotypenumbers\":\"strict\",\"colorway\":[\"#636efa\",\"#EF553B\",\"#00cc96\",\"#ab63fa\",\"#FFA15A\",\"#19d3f3\",\"#FF6692\",\"#B6E880\",\"#FF97FF\",\"#FECB52\"],\"font\":{\"color\":\"#2a3f5f\"},\"hovermode\":\"closest\",\"hoverlabel\":{\"align\":\"left\"},\"paper_bgcolor\":\"white\",\"plot_bgcolor\":\"#E5ECF6\",\"polar\":{\"bgcolor\":\"#E5ECF6\",\"angularaxis\":{\"gridcolor\":\"white\",\"linecolor\":\"white\",\"ticks\":\"\"},\"radialaxis\":{\"gridcolor\":\"white\",\"linecolor\":\"white\",\"ticks\":\"\"}},\"ternary\":{\"bgcolor\":\"#E5ECF6\",\"aaxis\":{\"gridcolor\":\"white\",\"linecolor\":\"white\",\"ticks\":\"\"},\"baxis\":{\"gridcolor\":\"white\",\"linecolor\":\"white\",\"ticks\":\"\"},\"caxis\":{\"gridcolor\":\"white\",\"linecolor\":\"white\",\"ticks\":\"\"}},\"coloraxis\":{\"colorbar\":{\"outlinewidth\":0,\"ticks\":\"\"}},\"colorscale\":{\"sequential\":[[0.0,\"#0d0887\"],[0.1111111111111111,\"#46039f\"],[0.2222222222222222,\"#7201a8\"],[0.3333333333333333,\"#9c179e\"],[0.4444444444444444,\"#bd3786\"],[0.5555555555555556,\"#d8576b\"],[0.6666666666666666,\"#ed7953\"],[0.7777777777777778,\"#fb9f3a\"],[0.8888888888888888,\"#fdca26\"],[1.0,\"#f0f921\"]],\"sequentialminus\":[[0.0,\"#0d0887\"],[0.1111111111111111,\"#46039f\"],[0.2222222222222222,\"#7201a8\"],[0.3333333333333333,\"#9c179e\"],[0.4444444444444444,\"#bd3786\"],[0.5555555555555556,\"#d8576b\"],[0.6666666666666666,\"#ed7953\"],[0.7777777777777778,\"#fb9f3a\"],[0.8888888888888888,\"#fdca26\"],[1.0,\"#f0f921\"]],\"diverging\":[[0,\"#8e0152\"],[0.1,\"#c51b7d\"],[0.2,\"#de77ae\"],[0.3,\"#f1b6da\"],[0.4,\"#fde0ef\"],[0.5,\"#f7f7f7\"],[0.6,\"#e6f5d0\"],[0.7,\"#b8e186\"],[0.8,\"#7fbc41\"],[0.9,\"#4d9221\"],[1,\"#276419\"]]},\"xaxis\":{\"gridcolor\":\"white\",\"linecolor\":\"white\",\"ticks\":\"\",\"title\":{\"standoff\":15},\"zerolinecolor\":\"white\",\"automargin\":true,\"zerolinewidth\":2},\"yaxis\":{\"gridcolor\":\"white\",\"linecolor\":\"white\",\"ticks\":\"\",\"title\":{\"standoff\":15},\"zerolinecolor\":\"white\",\"automargin\":true,\"zerolinewidth\":2},\"scene\":{\"xaxis\":{\"backgroundcolor\":\"#E5ECF6\",\"gridcolor\":\"white\",\"linecolor\":\"white\",\"showbackground\":true,\"ticks\":\"\",\"zerolinecolor\":\"white\",\"gridwidth\":2},\"yaxis\":{\"backgroundcolor\":\"#E5ECF6\",\"gridcolor\":\"white\",\"linecolor\":\"white\",\"showbackground\":true,\"ticks\":\"\",\"zerolinecolor\":\"white\",\"gridwidth\":2},\"zaxis\":{\"backgroundcolor\":\"#E5ECF6\",\"gridcolor\":\"white\",\"linecolor\":\"white\",\"showbackground\":true,\"ticks\":\"\",\"zerolinecolor\":\"white\",\"gridwidth\":2}},\"shapedefaults\":{\"line\":{\"color\":\"#2a3f5f\"}},\"annotationdefaults\":{\"arrowcolor\":\"#2a3f5f\",\"arrowhead\":0,\"arrowwidth\":1},\"geo\":{\"bgcolor\":\"white\",\"landcolor\":\"#E5ECF6\",\"subunitcolor\":\"white\",\"showland\":true,\"showlakes\":true,\"lakecolor\":\"white\"},\"title\":{\"x\":0.05},\"mapbox\":{\"style\":\"light\"}}},\"xaxis\":{\"anchor\":\"y\",\"domain\":[0.0,1.0],\"title\":{\"text\":\"Tipo dor\"}},\"yaxis\":{\"anchor\":\"x\",\"domain\":[0.0,1.0],\"title\":{\"text\":\"Contagem\"}},\"legend\":{\"title\":{\"text\":\"Doenca cardiaca\"},\"tracegroupgap\":0},\"margin\":{\"t\":60},\"barmode\":\"group\"},                        {\"responsive\": true}                    ).then(function(){\n",
              "                            \n",
              "var gd = document.getElementById('af72dcc8-98b6-429f-8a76-2aca54bca78e');\n",
              "var x = new MutationObserver(function (mutations, observer) {{\n",
              "        var display = window.getComputedStyle(gd).display;\n",
              "        if (!display || display === 'none') {{\n",
              "            console.log([gd, 'removed!']);\n",
              "            Plotly.purge(gd);\n",
              "            observer.disconnect();\n",
              "        }}\n",
              "}});\n",
              "\n",
              "// Listen for the removal of the full notebook cells\n",
              "var notebookContainer = gd.closest('#notebook-container');\n",
              "if (notebookContainer) {{\n",
              "    x.observe(notebookContainer, {childList: true});\n",
              "}}\n",
              "\n",
              "// Listen for the clearing of the current output cell\n",
              "var outputEl = gd.closest('.output');\n",
              "if (outputEl) {{\n",
              "    x.observe(outputEl, {childList: true});\n",
              "}}\n",
              "\n",
              "                        })                };                            </script>        </div>\n",
              "</body>\n",
              "</html>"
            ]
          },
          "metadata": {}
        },
        {
          "output_type": "display_data",
          "data": {
            "text/plain": [
              "<Figure size 800x600 with 0 Axes>"
            ]
          },
          "metadata": {}
        }
      ]
    },
    {
      "cell_type": "markdown",
      "source": [
        "Esse gráfico se relaciona aos tipos de dores que as pessoas podem sentir,estando cada qual agrupada em termos numéricos. Nota-se até a dor do tipo 4, a prevalência é maior para a ausência da doença, indicando que tais dores não são uma estrita indicação da presença da doença.\n",
        "\n",
        "Esse contexto inverte, porém, justamente na dor tipo 4, na qual a prevalência da presença doença cardíaca além de ser significativa supera a sua ausência."
      ],
      "metadata": {
        "id": "zP0w2J8vzyqu"
      }
    },
    {
      "cell_type": "code",
      "source": [
        "gera_countplot('Idade', 'Doenca cardiaca', data=df)"
      ],
      "metadata": {
        "colab": {
          "base_uri": "https://localhost:8080/",
          "height": 559
        },
        "id": "NTnWGa1tD0fe",
        "outputId": "8dfc8417-c06a-4283-9197-2255d5d9dfb7"
      },
      "execution_count": null,
      "outputs": [
        {
          "output_type": "display_data",
          "data": {
            "text/html": [
              "<html>\n",
              "<head><meta charset=\"utf-8\" /></head>\n",
              "<body>\n",
              "    <div>            <script src=\"https://cdnjs.cloudflare.com/ajax/libs/mathjax/2.7.5/MathJax.js?config=TeX-AMS-MML_SVG\"></script><script type=\"text/javascript\">if (window.MathJax && window.MathJax.Hub && window.MathJax.Hub.Config) {window.MathJax.Hub.Config({SVG: {font: \"STIX-Web\"}});}</script>                <script type=\"text/javascript\">window.PlotlyConfig = {MathJaxConfig: 'local'};</script>\n",
              "        <script charset=\"utf-8\" src=\"https://cdn.plot.ly/plotly-2.24.1.min.js\"></script>                <div id=\"1755de49-e2f5-4a4e-8075-5b4ae5a4d68c\" class=\"plotly-graph-div\" style=\"height:525px; width:100%;\"></div>            <script type=\"text/javascript\">                                    window.PLOTLYENV=window.PLOTLYENV || {};                                    if (document.getElementById(\"1755de49-e2f5-4a4e-8075-5b4ae5a4d68c\")) {                    Plotly.newPlot(                        \"1755de49-e2f5-4a4e-8075-5b4ae5a4d68c\",                        [{\"alignmentgroup\":\"True\",\"bingroup\":\"x\",\"hovertemplate\":\"Doenca cardiaca=1\\u003cbr\\u003eIdade=%{x}\\u003cbr\\u003ecount=%{y}\\u003cextra\\u003e\\u003c\\u002fextra\\u003e\",\"legendgroup\":\"1\",\"marker\":{\"color\":\"#636efa\",\"pattern\":{\"shape\":\"\"},\"line\":{\"color\":\"black\",\"width\":1}},\"name\":\"1\",\"offsetgroup\":\"1\",\"orientation\":\"v\",\"showlegend\":true,\"x\":[70,57,56,59,60,63,61,46,53,67,58,57,59,50,48,61,59,40,59,49,44,66,65,42,61,59,62,51,57,58,47,61,45,58,35,58,50,61,54,54,52,47,58,67,57,63,48,60,59,55,60,46,56,56,49,54,57,62,60,63,66,64,56,64,50,54,53,52,40,58,55,66,38,62,58,65,69,67,62,51,46,67,56,41,56,70,70,35,77,58,60,51,55,64,59,58,54,65,63,62,43,61,39,52,62,43,68,62,60,65,60,60,54,44,55,64,60,58,48,67],\"xaxis\":\"x\",\"yaxis\":\"y\",\"type\":\"histogram\"},{\"alignmentgroup\":\"True\",\"bingroup\":\"x\",\"hovertemplate\":\"Doenca cardiaca=0\\u003cbr\\u003eIdade=%{x}\\u003cbr\\u003ecount=%{y}\\u003cextra\\u003e\\u003c\\u002fextra\\u003e\",\"legendgroup\":\"0\",\"marker\":{\"color\":\"#EF553B\",\"pattern\":{\"shape\":\"\"},\"line\":{\"color\":\"black\",\"width\":1}},\"name\":\"0\",\"offsetgroup\":\"0\",\"orientation\":\"v\",\"showlegend\":true,\"x\":[67,64,74,65,59,53,44,57,71,64,40,48,43,47,54,48,46,51,71,66,37,42,48,62,44,46,58,52,65,63,45,41,60,57,44,60,63,51,44,57,70,76,67,45,39,42,56,41,57,42,62,59,41,59,66,64,50,44,49,51,45,41,54,42,49,66,65,54,54,52,52,42,54,46,67,34,57,59,51,41,41,50,54,64,51,46,45,56,55,43,64,50,53,45,69,68,34,50,42,42,53,43,52,62,54,54,48,55,58,54,69,68,52,60,58,37,51,43,29,41,63,51,54,44,57,35,41,58,52,45,62,53,47,52,39,53,51,65,44,51,59,71,61,43,58,49,52,44,56,57],\"xaxis\":\"x\",\"yaxis\":\"y\",\"type\":\"histogram\"}],                        {\"template\":{\"data\":{\"histogram2dcontour\":[{\"type\":\"histogram2dcontour\",\"colorbar\":{\"outlinewidth\":0,\"ticks\":\"\"},\"colorscale\":[[0.0,\"#0d0887\"],[0.1111111111111111,\"#46039f\"],[0.2222222222222222,\"#7201a8\"],[0.3333333333333333,\"#9c179e\"],[0.4444444444444444,\"#bd3786\"],[0.5555555555555556,\"#d8576b\"],[0.6666666666666666,\"#ed7953\"],[0.7777777777777778,\"#fb9f3a\"],[0.8888888888888888,\"#fdca26\"],[1.0,\"#f0f921\"]]}],\"choropleth\":[{\"type\":\"choropleth\",\"colorbar\":{\"outlinewidth\":0,\"ticks\":\"\"}}],\"histogram2d\":[{\"type\":\"histogram2d\",\"colorbar\":{\"outlinewidth\":0,\"ticks\":\"\"},\"colorscale\":[[0.0,\"#0d0887\"],[0.1111111111111111,\"#46039f\"],[0.2222222222222222,\"#7201a8\"],[0.3333333333333333,\"#9c179e\"],[0.4444444444444444,\"#bd3786\"],[0.5555555555555556,\"#d8576b\"],[0.6666666666666666,\"#ed7953\"],[0.7777777777777778,\"#fb9f3a\"],[0.8888888888888888,\"#fdca26\"],[1.0,\"#f0f921\"]]}],\"heatmap\":[{\"type\":\"heatmap\",\"colorbar\":{\"outlinewidth\":0,\"ticks\":\"\"},\"colorscale\":[[0.0,\"#0d0887\"],[0.1111111111111111,\"#46039f\"],[0.2222222222222222,\"#7201a8\"],[0.3333333333333333,\"#9c179e\"],[0.4444444444444444,\"#bd3786\"],[0.5555555555555556,\"#d8576b\"],[0.6666666666666666,\"#ed7953\"],[0.7777777777777778,\"#fb9f3a\"],[0.8888888888888888,\"#fdca26\"],[1.0,\"#f0f921\"]]}],\"heatmapgl\":[{\"type\":\"heatmapgl\",\"colorbar\":{\"outlinewidth\":0,\"ticks\":\"\"},\"colorscale\":[[0.0,\"#0d0887\"],[0.1111111111111111,\"#46039f\"],[0.2222222222222222,\"#7201a8\"],[0.3333333333333333,\"#9c179e\"],[0.4444444444444444,\"#bd3786\"],[0.5555555555555556,\"#d8576b\"],[0.6666666666666666,\"#ed7953\"],[0.7777777777777778,\"#fb9f3a\"],[0.8888888888888888,\"#fdca26\"],[1.0,\"#f0f921\"]]}],\"contourcarpet\":[{\"type\":\"contourcarpet\",\"colorbar\":{\"outlinewidth\":0,\"ticks\":\"\"}}],\"contour\":[{\"type\":\"contour\",\"colorbar\":{\"outlinewidth\":0,\"ticks\":\"\"},\"colorscale\":[[0.0,\"#0d0887\"],[0.1111111111111111,\"#46039f\"],[0.2222222222222222,\"#7201a8\"],[0.3333333333333333,\"#9c179e\"],[0.4444444444444444,\"#bd3786\"],[0.5555555555555556,\"#d8576b\"],[0.6666666666666666,\"#ed7953\"],[0.7777777777777778,\"#fb9f3a\"],[0.8888888888888888,\"#fdca26\"],[1.0,\"#f0f921\"]]}],\"surface\":[{\"type\":\"surface\",\"colorbar\":{\"outlinewidth\":0,\"ticks\":\"\"},\"colorscale\":[[0.0,\"#0d0887\"],[0.1111111111111111,\"#46039f\"],[0.2222222222222222,\"#7201a8\"],[0.3333333333333333,\"#9c179e\"],[0.4444444444444444,\"#bd3786\"],[0.5555555555555556,\"#d8576b\"],[0.6666666666666666,\"#ed7953\"],[0.7777777777777778,\"#fb9f3a\"],[0.8888888888888888,\"#fdca26\"],[1.0,\"#f0f921\"]]}],\"mesh3d\":[{\"type\":\"mesh3d\",\"colorbar\":{\"outlinewidth\":0,\"ticks\":\"\"}}],\"scatter\":[{\"fillpattern\":{\"fillmode\":\"overlay\",\"size\":10,\"solidity\":0.2},\"type\":\"scatter\"}],\"parcoords\":[{\"type\":\"parcoords\",\"line\":{\"colorbar\":{\"outlinewidth\":0,\"ticks\":\"\"}}}],\"scatterpolargl\":[{\"type\":\"scatterpolargl\",\"marker\":{\"colorbar\":{\"outlinewidth\":0,\"ticks\":\"\"}}}],\"bar\":[{\"error_x\":{\"color\":\"#2a3f5f\"},\"error_y\":{\"color\":\"#2a3f5f\"},\"marker\":{\"line\":{\"color\":\"#E5ECF6\",\"width\":0.5},\"pattern\":{\"fillmode\":\"overlay\",\"size\":10,\"solidity\":0.2}},\"type\":\"bar\"}],\"scattergeo\":[{\"type\":\"scattergeo\",\"marker\":{\"colorbar\":{\"outlinewidth\":0,\"ticks\":\"\"}}}],\"scatterpolar\":[{\"type\":\"scatterpolar\",\"marker\":{\"colorbar\":{\"outlinewidth\":0,\"ticks\":\"\"}}}],\"histogram\":[{\"marker\":{\"pattern\":{\"fillmode\":\"overlay\",\"size\":10,\"solidity\":0.2}},\"type\":\"histogram\"}],\"scattergl\":[{\"type\":\"scattergl\",\"marker\":{\"colorbar\":{\"outlinewidth\":0,\"ticks\":\"\"}}}],\"scatter3d\":[{\"type\":\"scatter3d\",\"line\":{\"colorbar\":{\"outlinewidth\":0,\"ticks\":\"\"}},\"marker\":{\"colorbar\":{\"outlinewidth\":0,\"ticks\":\"\"}}}],\"scattermapbox\":[{\"type\":\"scattermapbox\",\"marker\":{\"colorbar\":{\"outlinewidth\":0,\"ticks\":\"\"}}}],\"scatterternary\":[{\"type\":\"scatterternary\",\"marker\":{\"colorbar\":{\"outlinewidth\":0,\"ticks\":\"\"}}}],\"scattercarpet\":[{\"type\":\"scattercarpet\",\"marker\":{\"colorbar\":{\"outlinewidth\":0,\"ticks\":\"\"}}}],\"carpet\":[{\"aaxis\":{\"endlinecolor\":\"#2a3f5f\",\"gridcolor\":\"white\",\"linecolor\":\"white\",\"minorgridcolor\":\"white\",\"startlinecolor\":\"#2a3f5f\"},\"baxis\":{\"endlinecolor\":\"#2a3f5f\",\"gridcolor\":\"white\",\"linecolor\":\"white\",\"minorgridcolor\":\"white\",\"startlinecolor\":\"#2a3f5f\"},\"type\":\"carpet\"}],\"table\":[{\"cells\":{\"fill\":{\"color\":\"#EBF0F8\"},\"line\":{\"color\":\"white\"}},\"header\":{\"fill\":{\"color\":\"#C8D4E3\"},\"line\":{\"color\":\"white\"}},\"type\":\"table\"}],\"barpolar\":[{\"marker\":{\"line\":{\"color\":\"#E5ECF6\",\"width\":0.5},\"pattern\":{\"fillmode\":\"overlay\",\"size\":10,\"solidity\":0.2}},\"type\":\"barpolar\"}],\"pie\":[{\"automargin\":true,\"type\":\"pie\"}]},\"layout\":{\"autotypenumbers\":\"strict\",\"colorway\":[\"#636efa\",\"#EF553B\",\"#00cc96\",\"#ab63fa\",\"#FFA15A\",\"#19d3f3\",\"#FF6692\",\"#B6E880\",\"#FF97FF\",\"#FECB52\"],\"font\":{\"color\":\"#2a3f5f\"},\"hovermode\":\"closest\",\"hoverlabel\":{\"align\":\"left\"},\"paper_bgcolor\":\"white\",\"plot_bgcolor\":\"#E5ECF6\",\"polar\":{\"bgcolor\":\"#E5ECF6\",\"angularaxis\":{\"gridcolor\":\"white\",\"linecolor\":\"white\",\"ticks\":\"\"},\"radialaxis\":{\"gridcolor\":\"white\",\"linecolor\":\"white\",\"ticks\":\"\"}},\"ternary\":{\"bgcolor\":\"#E5ECF6\",\"aaxis\":{\"gridcolor\":\"white\",\"linecolor\":\"white\",\"ticks\":\"\"},\"baxis\":{\"gridcolor\":\"white\",\"linecolor\":\"white\",\"ticks\":\"\"},\"caxis\":{\"gridcolor\":\"white\",\"linecolor\":\"white\",\"ticks\":\"\"}},\"coloraxis\":{\"colorbar\":{\"outlinewidth\":0,\"ticks\":\"\"}},\"colorscale\":{\"sequential\":[[0.0,\"#0d0887\"],[0.1111111111111111,\"#46039f\"],[0.2222222222222222,\"#7201a8\"],[0.3333333333333333,\"#9c179e\"],[0.4444444444444444,\"#bd3786\"],[0.5555555555555556,\"#d8576b\"],[0.6666666666666666,\"#ed7953\"],[0.7777777777777778,\"#fb9f3a\"],[0.8888888888888888,\"#fdca26\"],[1.0,\"#f0f921\"]],\"sequentialminus\":[[0.0,\"#0d0887\"],[0.1111111111111111,\"#46039f\"],[0.2222222222222222,\"#7201a8\"],[0.3333333333333333,\"#9c179e\"],[0.4444444444444444,\"#bd3786\"],[0.5555555555555556,\"#d8576b\"],[0.6666666666666666,\"#ed7953\"],[0.7777777777777778,\"#fb9f3a\"],[0.8888888888888888,\"#fdca26\"],[1.0,\"#f0f921\"]],\"diverging\":[[0,\"#8e0152\"],[0.1,\"#c51b7d\"],[0.2,\"#de77ae\"],[0.3,\"#f1b6da\"],[0.4,\"#fde0ef\"],[0.5,\"#f7f7f7\"],[0.6,\"#e6f5d0\"],[0.7,\"#b8e186\"],[0.8,\"#7fbc41\"],[0.9,\"#4d9221\"],[1,\"#276419\"]]},\"xaxis\":{\"gridcolor\":\"white\",\"linecolor\":\"white\",\"ticks\":\"\",\"title\":{\"standoff\":15},\"zerolinecolor\":\"white\",\"automargin\":true,\"zerolinewidth\":2},\"yaxis\":{\"gridcolor\":\"white\",\"linecolor\":\"white\",\"ticks\":\"\",\"title\":{\"standoff\":15},\"zerolinecolor\":\"white\",\"automargin\":true,\"zerolinewidth\":2},\"scene\":{\"xaxis\":{\"backgroundcolor\":\"#E5ECF6\",\"gridcolor\":\"white\",\"linecolor\":\"white\",\"showbackground\":true,\"ticks\":\"\",\"zerolinecolor\":\"white\",\"gridwidth\":2},\"yaxis\":{\"backgroundcolor\":\"#E5ECF6\",\"gridcolor\":\"white\",\"linecolor\":\"white\",\"showbackground\":true,\"ticks\":\"\",\"zerolinecolor\":\"white\",\"gridwidth\":2},\"zaxis\":{\"backgroundcolor\":\"#E5ECF6\",\"gridcolor\":\"white\",\"linecolor\":\"white\",\"showbackground\":true,\"ticks\":\"\",\"zerolinecolor\":\"white\",\"gridwidth\":2}},\"shapedefaults\":{\"line\":{\"color\":\"#2a3f5f\"}},\"annotationdefaults\":{\"arrowcolor\":\"#2a3f5f\",\"arrowhead\":0,\"arrowwidth\":1},\"geo\":{\"bgcolor\":\"white\",\"landcolor\":\"#E5ECF6\",\"subunitcolor\":\"white\",\"showland\":true,\"showlakes\":true,\"lakecolor\":\"white\"},\"title\":{\"x\":0.05},\"mapbox\":{\"style\":\"light\"}}},\"xaxis\":{\"anchor\":\"y\",\"domain\":[0.0,1.0],\"title\":{\"text\":\"Idade\"}},\"yaxis\":{\"anchor\":\"x\",\"domain\":[0.0,1.0],\"title\":{\"text\":\"Contagem\"}},\"legend\":{\"title\":{\"text\":\"Doenca cardiaca\"},\"tracegroupgap\":0},\"margin\":{\"t\":60},\"barmode\":\"group\"},                        {\"responsive\": true}                    ).then(function(){\n",
              "                            \n",
              "var gd = document.getElementById('1755de49-e2f5-4a4e-8075-5b4ae5a4d68c');\n",
              "var x = new MutationObserver(function (mutations, observer) {{\n",
              "        var display = window.getComputedStyle(gd).display;\n",
              "        if (!display || display === 'none') {{\n",
              "            console.log([gd, 'removed!']);\n",
              "            Plotly.purge(gd);\n",
              "            observer.disconnect();\n",
              "        }}\n",
              "}});\n",
              "\n",
              "// Listen for the removal of the full notebook cells\n",
              "var notebookContainer = gd.closest('#notebook-container');\n",
              "if (notebookContainer) {{\n",
              "    x.observe(notebookContainer, {childList: true});\n",
              "}}\n",
              "\n",
              "// Listen for the clearing of the current output cell\n",
              "var outputEl = gd.closest('.output');\n",
              "if (outputEl) {{\n",
              "    x.observe(outputEl, {childList: true});\n",
              "}}\n",
              "\n",
              "                        })                };                            </script>        </div>\n",
              "</body>\n",
              "</html>"
            ]
          },
          "metadata": {}
        },
        {
          "output_type": "display_data",
          "data": {
            "text/plain": [
              "<Figure size 800x600 with 0 Axes>"
            ]
          },
          "metadata": {}
        }
      ]
    },
    {
      "cell_type": "markdown",
      "source": [
        "Analisando o gráfico da distribuição das idades em relação à presença da doença é possível notar que ela é mais frequente nas pessoas com idades mais avançadas, começando por volta dos 54 anos."
      ],
      "metadata": {
        "id": "jr9NwHUN0qHp"
      }
    },
    {
      "cell_type": "code",
      "source": [
        "gera_countplot('Dor exercicio', 'Doenca cardiaca', data=df)"
      ],
      "metadata": {
        "colab": {
          "base_uri": "https://localhost:8080/",
          "height": 559
        },
        "id": "lI1zHD-TD0ga",
        "outputId": "1c810d9f-cf2b-4ef3-988e-5a7b3aee35db"
      },
      "execution_count": null,
      "outputs": [
        {
          "output_type": "display_data",
          "data": {
            "text/html": [
              "<html>\n",
              "<head><meta charset=\"utf-8\" /></head>\n",
              "<body>\n",
              "    <div>            <script src=\"https://cdnjs.cloudflare.com/ajax/libs/mathjax/2.7.5/MathJax.js?config=TeX-AMS-MML_SVG\"></script><script type=\"text/javascript\">if (window.MathJax && window.MathJax.Hub && window.MathJax.Hub.Config) {window.MathJax.Hub.Config({SVG: {font: \"STIX-Web\"}});}</script>                <script type=\"text/javascript\">window.PlotlyConfig = {MathJaxConfig: 'local'};</script>\n",
              "        <script charset=\"utf-8\" src=\"https://cdn.plot.ly/plotly-2.24.1.min.js\"></script>                <div id=\"d83424d1-e976-4d24-886a-6270a8ce4c3e\" class=\"plotly-graph-div\" style=\"height:525px; width:100%;\"></div>            <script type=\"text/javascript\">                                    window.PLOTLYENV=window.PLOTLYENV || {};                                    if (document.getElementById(\"d83424d1-e976-4d24-886a-6270a8ce4c3e\")) {                    Plotly.newPlot(                        \"d83424d1-e976-4d24-886a-6270a8ce4c3e\",                        [{\"alignmentgroup\":\"True\",\"bingroup\":\"x\",\"hovertemplate\":\"Doenca cardiaca=1\\u003cbr\\u003eDor exercicio=%{x}\\u003cbr\\u003ecount=%{y}\\u003cextra\\u003e\\u003c\\u002fextra\\u003e\",\"legendgroup\":\"1\",\"marker\":{\"color\":\"#636efa\",\"pattern\":{\"shape\":\"\"},\"line\":{\"color\":\"black\",\"width\":1}},\"name\":\"1\",\"offsetgroup\":\"1\",\"orientation\":\"v\",\"showlegend\":true,\"x\":[0,0,1,1,0,0,0,1,1,1,0,0,1,1,1,1,0,0,0,0,0,1,0,1,1,1,0,1,1,0,0,1,1,0,1,1,0,0,1,1,0,1,0,0,0,0,0,0,1,1,0,0,1,1,0,1,1,1,1,1,1,1,1,0,0,0,1,0,1,0,1,1,1,1,1,0,0,1,0,1,0,0,1,0,1,1,1,1,1,0,1,1,1,1,0,1,1,0,1,0,1,1,0,1,0,1,1,0,1,0,0,1,0,0,1,0,1,0,0,1],\"xaxis\":\"x\",\"yaxis\":\"y\",\"type\":\"histogram\"},{\"alignmentgroup\":\"True\",\"bingroup\":\"x\",\"hovertemplate\":\"Doenca cardiaca=0\\u003cbr\\u003eDor exercicio=%{x}\\u003cbr\\u003ecount=%{y}\\u003cextra\\u003e\\u003c\\u002fextra\\u003e\",\"legendgroup\":\"0\",\"marker\":{\"color\":\"#EF553B\",\"pattern\":{\"shape\":\"\"},\"line\":{\"color\":\"black\",\"width\":1}},\"name\":\"0\",\"offsetgroup\":\"0\",\"orientation\":\"v\",\"showlegend\":true,\"x\":[0,1,1,0,0,1,0,0,0,1,1,0,0,0,1,0,1,0,0,0,0,0,0,0,1,0,0,0,0,0,0,0,0,0,0,0,0,1,0,1,0,0,0,1,0,0,0,0,1,0,0,0,0,1,0,0,0,0,0,1,0,0,0,0,0,0,0,0,0,0,0,0,0,1,0,0,1,0,1,1,0,0,0,0,0,0,0,0,0,0,1,0,0,1,0,0,0,0,0,0,0,0,0,0,0,0,0,0,0,0,0,0,0,0,1,0,0,0,0,0,0,1,0,0,0,0,0,0,0,0,0,0,0,0,0,0,0,0,0,0,0,0,1,0,0,0,0,0,0,0],\"xaxis\":\"x\",\"yaxis\":\"y\",\"type\":\"histogram\"}],                        {\"template\":{\"data\":{\"histogram2dcontour\":[{\"type\":\"histogram2dcontour\",\"colorbar\":{\"outlinewidth\":0,\"ticks\":\"\"},\"colorscale\":[[0.0,\"#0d0887\"],[0.1111111111111111,\"#46039f\"],[0.2222222222222222,\"#7201a8\"],[0.3333333333333333,\"#9c179e\"],[0.4444444444444444,\"#bd3786\"],[0.5555555555555556,\"#d8576b\"],[0.6666666666666666,\"#ed7953\"],[0.7777777777777778,\"#fb9f3a\"],[0.8888888888888888,\"#fdca26\"],[1.0,\"#f0f921\"]]}],\"choropleth\":[{\"type\":\"choropleth\",\"colorbar\":{\"outlinewidth\":0,\"ticks\":\"\"}}],\"histogram2d\":[{\"type\":\"histogram2d\",\"colorbar\":{\"outlinewidth\":0,\"ticks\":\"\"},\"colorscale\":[[0.0,\"#0d0887\"],[0.1111111111111111,\"#46039f\"],[0.2222222222222222,\"#7201a8\"],[0.3333333333333333,\"#9c179e\"],[0.4444444444444444,\"#bd3786\"],[0.5555555555555556,\"#d8576b\"],[0.6666666666666666,\"#ed7953\"],[0.7777777777777778,\"#fb9f3a\"],[0.8888888888888888,\"#fdca26\"],[1.0,\"#f0f921\"]]}],\"heatmap\":[{\"type\":\"heatmap\",\"colorbar\":{\"outlinewidth\":0,\"ticks\":\"\"},\"colorscale\":[[0.0,\"#0d0887\"],[0.1111111111111111,\"#46039f\"],[0.2222222222222222,\"#7201a8\"],[0.3333333333333333,\"#9c179e\"],[0.4444444444444444,\"#bd3786\"],[0.5555555555555556,\"#d8576b\"],[0.6666666666666666,\"#ed7953\"],[0.7777777777777778,\"#fb9f3a\"],[0.8888888888888888,\"#fdca26\"],[1.0,\"#f0f921\"]]}],\"heatmapgl\":[{\"type\":\"heatmapgl\",\"colorbar\":{\"outlinewidth\":0,\"ticks\":\"\"},\"colorscale\":[[0.0,\"#0d0887\"],[0.1111111111111111,\"#46039f\"],[0.2222222222222222,\"#7201a8\"],[0.3333333333333333,\"#9c179e\"],[0.4444444444444444,\"#bd3786\"],[0.5555555555555556,\"#d8576b\"],[0.6666666666666666,\"#ed7953\"],[0.7777777777777778,\"#fb9f3a\"],[0.8888888888888888,\"#fdca26\"],[1.0,\"#f0f921\"]]}],\"contourcarpet\":[{\"type\":\"contourcarpet\",\"colorbar\":{\"outlinewidth\":0,\"ticks\":\"\"}}],\"contour\":[{\"type\":\"contour\",\"colorbar\":{\"outlinewidth\":0,\"ticks\":\"\"},\"colorscale\":[[0.0,\"#0d0887\"],[0.1111111111111111,\"#46039f\"],[0.2222222222222222,\"#7201a8\"],[0.3333333333333333,\"#9c179e\"],[0.4444444444444444,\"#bd3786\"],[0.5555555555555556,\"#d8576b\"],[0.6666666666666666,\"#ed7953\"],[0.7777777777777778,\"#fb9f3a\"],[0.8888888888888888,\"#fdca26\"],[1.0,\"#f0f921\"]]}],\"surface\":[{\"type\":\"surface\",\"colorbar\":{\"outlinewidth\":0,\"ticks\":\"\"},\"colorscale\":[[0.0,\"#0d0887\"],[0.1111111111111111,\"#46039f\"],[0.2222222222222222,\"#7201a8\"],[0.3333333333333333,\"#9c179e\"],[0.4444444444444444,\"#bd3786\"],[0.5555555555555556,\"#d8576b\"],[0.6666666666666666,\"#ed7953\"],[0.7777777777777778,\"#fb9f3a\"],[0.8888888888888888,\"#fdca26\"],[1.0,\"#f0f921\"]]}],\"mesh3d\":[{\"type\":\"mesh3d\",\"colorbar\":{\"outlinewidth\":0,\"ticks\":\"\"}}],\"scatter\":[{\"fillpattern\":{\"fillmode\":\"overlay\",\"size\":10,\"solidity\":0.2},\"type\":\"scatter\"}],\"parcoords\":[{\"type\":\"parcoords\",\"line\":{\"colorbar\":{\"outlinewidth\":0,\"ticks\":\"\"}}}],\"scatterpolargl\":[{\"type\":\"scatterpolargl\",\"marker\":{\"colorbar\":{\"outlinewidth\":0,\"ticks\":\"\"}}}],\"bar\":[{\"error_x\":{\"color\":\"#2a3f5f\"},\"error_y\":{\"color\":\"#2a3f5f\"},\"marker\":{\"line\":{\"color\":\"#E5ECF6\",\"width\":0.5},\"pattern\":{\"fillmode\":\"overlay\",\"size\":10,\"solidity\":0.2}},\"type\":\"bar\"}],\"scattergeo\":[{\"type\":\"scattergeo\",\"marker\":{\"colorbar\":{\"outlinewidth\":0,\"ticks\":\"\"}}}],\"scatterpolar\":[{\"type\":\"scatterpolar\",\"marker\":{\"colorbar\":{\"outlinewidth\":0,\"ticks\":\"\"}}}],\"histogram\":[{\"marker\":{\"pattern\":{\"fillmode\":\"overlay\",\"size\":10,\"solidity\":0.2}},\"type\":\"histogram\"}],\"scattergl\":[{\"type\":\"scattergl\",\"marker\":{\"colorbar\":{\"outlinewidth\":0,\"ticks\":\"\"}}}],\"scatter3d\":[{\"type\":\"scatter3d\",\"line\":{\"colorbar\":{\"outlinewidth\":0,\"ticks\":\"\"}},\"marker\":{\"colorbar\":{\"outlinewidth\":0,\"ticks\":\"\"}}}],\"scattermapbox\":[{\"type\":\"scattermapbox\",\"marker\":{\"colorbar\":{\"outlinewidth\":0,\"ticks\":\"\"}}}],\"scatterternary\":[{\"type\":\"scatterternary\",\"marker\":{\"colorbar\":{\"outlinewidth\":0,\"ticks\":\"\"}}}],\"scattercarpet\":[{\"type\":\"scattercarpet\",\"marker\":{\"colorbar\":{\"outlinewidth\":0,\"ticks\":\"\"}}}],\"carpet\":[{\"aaxis\":{\"endlinecolor\":\"#2a3f5f\",\"gridcolor\":\"white\",\"linecolor\":\"white\",\"minorgridcolor\":\"white\",\"startlinecolor\":\"#2a3f5f\"},\"baxis\":{\"endlinecolor\":\"#2a3f5f\",\"gridcolor\":\"white\",\"linecolor\":\"white\",\"minorgridcolor\":\"white\",\"startlinecolor\":\"#2a3f5f\"},\"type\":\"carpet\"}],\"table\":[{\"cells\":{\"fill\":{\"color\":\"#EBF0F8\"},\"line\":{\"color\":\"white\"}},\"header\":{\"fill\":{\"color\":\"#C8D4E3\"},\"line\":{\"color\":\"white\"}},\"type\":\"table\"}],\"barpolar\":[{\"marker\":{\"line\":{\"color\":\"#E5ECF6\",\"width\":0.5},\"pattern\":{\"fillmode\":\"overlay\",\"size\":10,\"solidity\":0.2}},\"type\":\"barpolar\"}],\"pie\":[{\"automargin\":true,\"type\":\"pie\"}]},\"layout\":{\"autotypenumbers\":\"strict\",\"colorway\":[\"#636efa\",\"#EF553B\",\"#00cc96\",\"#ab63fa\",\"#FFA15A\",\"#19d3f3\",\"#FF6692\",\"#B6E880\",\"#FF97FF\",\"#FECB52\"],\"font\":{\"color\":\"#2a3f5f\"},\"hovermode\":\"closest\",\"hoverlabel\":{\"align\":\"left\"},\"paper_bgcolor\":\"white\",\"plot_bgcolor\":\"#E5ECF6\",\"polar\":{\"bgcolor\":\"#E5ECF6\",\"angularaxis\":{\"gridcolor\":\"white\",\"linecolor\":\"white\",\"ticks\":\"\"},\"radialaxis\":{\"gridcolor\":\"white\",\"linecolor\":\"white\",\"ticks\":\"\"}},\"ternary\":{\"bgcolor\":\"#E5ECF6\",\"aaxis\":{\"gridcolor\":\"white\",\"linecolor\":\"white\",\"ticks\":\"\"},\"baxis\":{\"gridcolor\":\"white\",\"linecolor\":\"white\",\"ticks\":\"\"},\"caxis\":{\"gridcolor\":\"white\",\"linecolor\":\"white\",\"ticks\":\"\"}},\"coloraxis\":{\"colorbar\":{\"outlinewidth\":0,\"ticks\":\"\"}},\"colorscale\":{\"sequential\":[[0.0,\"#0d0887\"],[0.1111111111111111,\"#46039f\"],[0.2222222222222222,\"#7201a8\"],[0.3333333333333333,\"#9c179e\"],[0.4444444444444444,\"#bd3786\"],[0.5555555555555556,\"#d8576b\"],[0.6666666666666666,\"#ed7953\"],[0.7777777777777778,\"#fb9f3a\"],[0.8888888888888888,\"#fdca26\"],[1.0,\"#f0f921\"]],\"sequentialminus\":[[0.0,\"#0d0887\"],[0.1111111111111111,\"#46039f\"],[0.2222222222222222,\"#7201a8\"],[0.3333333333333333,\"#9c179e\"],[0.4444444444444444,\"#bd3786\"],[0.5555555555555556,\"#d8576b\"],[0.6666666666666666,\"#ed7953\"],[0.7777777777777778,\"#fb9f3a\"],[0.8888888888888888,\"#fdca26\"],[1.0,\"#f0f921\"]],\"diverging\":[[0,\"#8e0152\"],[0.1,\"#c51b7d\"],[0.2,\"#de77ae\"],[0.3,\"#f1b6da\"],[0.4,\"#fde0ef\"],[0.5,\"#f7f7f7\"],[0.6,\"#e6f5d0\"],[0.7,\"#b8e186\"],[0.8,\"#7fbc41\"],[0.9,\"#4d9221\"],[1,\"#276419\"]]},\"xaxis\":{\"gridcolor\":\"white\",\"linecolor\":\"white\",\"ticks\":\"\",\"title\":{\"standoff\":15},\"zerolinecolor\":\"white\",\"automargin\":true,\"zerolinewidth\":2},\"yaxis\":{\"gridcolor\":\"white\",\"linecolor\":\"white\",\"ticks\":\"\",\"title\":{\"standoff\":15},\"zerolinecolor\":\"white\",\"automargin\":true,\"zerolinewidth\":2},\"scene\":{\"xaxis\":{\"backgroundcolor\":\"#E5ECF6\",\"gridcolor\":\"white\",\"linecolor\":\"white\",\"showbackground\":true,\"ticks\":\"\",\"zerolinecolor\":\"white\",\"gridwidth\":2},\"yaxis\":{\"backgroundcolor\":\"#E5ECF6\",\"gridcolor\":\"white\",\"linecolor\":\"white\",\"showbackground\":true,\"ticks\":\"\",\"zerolinecolor\":\"white\",\"gridwidth\":2},\"zaxis\":{\"backgroundcolor\":\"#E5ECF6\",\"gridcolor\":\"white\",\"linecolor\":\"white\",\"showbackground\":true,\"ticks\":\"\",\"zerolinecolor\":\"white\",\"gridwidth\":2}},\"shapedefaults\":{\"line\":{\"color\":\"#2a3f5f\"}},\"annotationdefaults\":{\"arrowcolor\":\"#2a3f5f\",\"arrowhead\":0,\"arrowwidth\":1},\"geo\":{\"bgcolor\":\"white\",\"landcolor\":\"#E5ECF6\",\"subunitcolor\":\"white\",\"showland\":true,\"showlakes\":true,\"lakecolor\":\"white\"},\"title\":{\"x\":0.05},\"mapbox\":{\"style\":\"light\"}}},\"xaxis\":{\"anchor\":\"y\",\"domain\":[0.0,1.0],\"title\":{\"text\":\"Dor exercicio\"}},\"yaxis\":{\"anchor\":\"x\",\"domain\":[0.0,1.0],\"title\":{\"text\":\"Contagem\"}},\"legend\":{\"title\":{\"text\":\"Doenca cardiaca\"},\"tracegroupgap\":0},\"margin\":{\"t\":60},\"barmode\":\"group\"},                        {\"responsive\": true}                    ).then(function(){\n",
              "                            \n",
              "var gd = document.getElementById('d83424d1-e976-4d24-886a-6270a8ce4c3e');\n",
              "var x = new MutationObserver(function (mutations, observer) {{\n",
              "        var display = window.getComputedStyle(gd).display;\n",
              "        if (!display || display === 'none') {{\n",
              "            console.log([gd, 'removed!']);\n",
              "            Plotly.purge(gd);\n",
              "            observer.disconnect();\n",
              "        }}\n",
              "}});\n",
              "\n",
              "// Listen for the removal of the full notebook cells\n",
              "var notebookContainer = gd.closest('#notebook-container');\n",
              "if (notebookContainer) {{\n",
              "    x.observe(notebookContainer, {childList: true});\n",
              "}}\n",
              "\n",
              "// Listen for the clearing of the current output cell\n",
              "var outputEl = gd.closest('.output');\n",
              "if (outputEl) {{\n",
              "    x.observe(outputEl, {childList: true});\n",
              "}}\n",
              "\n",
              "                        })                };                            </script>        </div>\n",
              "</body>\n",
              "</html>"
            ]
          },
          "metadata": {}
        },
        {
          "output_type": "display_data",
          "data": {
            "text/plain": [
              "<Figure size 800x600 with 0 Axes>"
            ]
          },
          "metadata": {}
        }
      ]
    },
    {
      "cell_type": "markdown",
      "source": [
        "Visualizando o gráfico, nota-se que pessoas que realizam exercícios físicos e não sentem dor tendem, de forma mais prevalente, a não terem a presença da doença, enquanto que as pessoas que a sentem tedem, em maior proporção, ter a presença da doença."
      ],
      "metadata": {
        "id": "Zv0i37Cl1LZh"
      }
    },
    {
      "cell_type": "markdown",
      "source": [
        "### Analisando a distribuição da frequência cardíaca em relação à idade"
      ],
      "metadata": {
        "id": "EomGazb-xe-d"
      }
    },
    {
      "cell_type": "code",
      "source": [
        "# Criar os subconjuntos para cada grupo\n",
        "\n",
        "grupo_0 = df[df['Doenca cardiaca'] == 0]['Frequencia cardiaca max']\n",
        "grupo_1 = df[df['Doenca cardiaca'] == 1]['Frequencia cardiaca max']\n",
        "\n",
        "# Criar o gráfico de distribuição usando plotly.figure_factory\n",
        "\n",
        "fig = ff.create_distplot(\n",
        "    [grupo_0, grupo_1],\n",
        "    group_labels=['Sem Doença Cardíaca', 'Com Doença Cardíaca'],\n",
        "    colors=['green', 'red'],\n",
        "    show_hist=True,  # Mostra o histograma\n",
        "    show_rug=False,   # Oculta o gráfico de dispersão (\"rug plot\") abaixo do histograma\n",
        "    curve_type='kde' # Usa a estimativa de densidade kernel (KDE) para a curva\n",
        ")\n",
        "\n",
        "# Configurar o layout do gráfico\n",
        "\n",
        "fig.update_layout(\n",
        "    title_text='Distribuição da Frequência Cardíaca Máxima em Relação à Doença Cardíaca',\n",
        "    xaxis_title='Frequência Cardíaca Máxima',\n",
        "    yaxis_title='Densidade',\n",
        "    legend_title_text='Doença Cardíaca'\n",
        ")\n",
        "\n",
        "fig.show()"
      ],
      "metadata": {
        "colab": {
          "base_uri": "https://localhost:8080/",
          "height": 542
        },
        "id": "uyP4mrf3LP4-",
        "outputId": "8b4d207d-2a7c-4b1d-979a-4e58bbf77d3c"
      },
      "execution_count": null,
      "outputs": [
        {
          "output_type": "display_data",
          "data": {
            "text/html": [
              "<html>\n",
              "<head><meta charset=\"utf-8\" /></head>\n",
              "<body>\n",
              "    <div>            <script src=\"https://cdnjs.cloudflare.com/ajax/libs/mathjax/2.7.5/MathJax.js?config=TeX-AMS-MML_SVG\"></script><script type=\"text/javascript\">if (window.MathJax && window.MathJax.Hub && window.MathJax.Hub.Config) {window.MathJax.Hub.Config({SVG: {font: \"STIX-Web\"}});}</script>                <script type=\"text/javascript\">window.PlotlyConfig = {MathJaxConfig: 'local'};</script>\n",
              "        <script charset=\"utf-8\" src=\"https://cdn.plot.ly/plotly-2.24.1.min.js\"></script>                <div id=\"1791fbc1-7257-44c8-8e48-6a647d3f7b71\" class=\"plotly-graph-div\" style=\"height:525px; width:100%;\"></div>            <script type=\"text/javascript\">                                    window.PLOTLYENV=window.PLOTLYENV || {};                                    if (document.getElementById(\"1791fbc1-7257-44c8-8e48-6a647d3f7b71\")) {                    Plotly.newPlot(                        \"1791fbc1-7257-44c8-8e48-6a647d3f7b71\",                        [{\"autobinx\":false,\"histnorm\":\"probability density\",\"legendgroup\":\"Sem Doen\\u00e7a Card\\u00edaca\",\"marker\":{\"color\":\"green\"},\"name\":\"Sem Doen\\u00e7a Card\\u00edaca\",\"opacity\":0.7,\"x\":[160,105,121,140,161,111,180,159,125,144,178,180,181,143,159,139,152,157,130,138,170,150,186,163,179,156,165,184,157,179,175,168,96,173,169,171,150,186,149,163,143,116,142,148,179,173,178,168,126,178,140,145,163,164,151,133,162,175,163,143,138,153,170,162,162,114,151,152,163,169,158,178,165,160,172,192,168,182,125,172,179,158,167,122,149,172,170,162,155,161,154,159,152,152,131,115,174,163,194,122,173,162,147,157,160,156,175,161,122,158,151,151,178,160,154,187,166,165,202,172,172,154,147,170,174,182,132,162,190,185,146,160,156,172,182,143,142,148,188,123,157,162,137,171,172,171,162,173,153,148],\"xaxis\":\"x\",\"xbins\":{\"end\":202.0,\"size\":1.0,\"start\":96.0},\"yaxis\":\"y\",\"type\":\"histogram\"},{\"autobinx\":false,\"histnorm\":\"probability density\",\"legendgroup\":\"Com Doen\\u00e7a Card\\u00edaca\",\"marker\":{\"color\":\"red\"},\"name\":\"Com Doen\\u00e7a Card\\u00edaca\",\"opacity\":0.7,\"x\":[109,141,142,142,170,154,145,120,155,129,165,150,140,126,150,138,125,181,134,126,177,120,114,125,125,143,103,142,112,152,152,140,147,105,130,111,128,169,109,108,168,118,156,71,124,147,166,157,162,117,161,144,133,103,139,116,88,99,160,169,132,96,144,132,163,195,95,160,114,173,111,165,182,154,130,174,146,125,106,122,147,163,150,158,105,112,125,156,162,171,141,173,145,131,159,131,126,127,132,97,136,146,140,161,145,120,150,160,144,158,155,142,113,153,132,158,132,160,168,108],\"xaxis\":\"x\",\"xbins\":{\"end\":195.0,\"size\":1.0,\"start\":71.0},\"yaxis\":\"y\",\"type\":\"histogram\"},{\"legendgroup\":\"Sem Doen\\u00e7a Card\\u00edaca\",\"marker\":{\"color\":\"green\"},\"mode\":\"lines\",\"name\":\"Sem Doen\\u00e7a Card\\u00edaca\",\"showlegend\":false,\"x\":[96.0,96.212,96.424,96.636,96.848,97.06,97.272,97.484,97.696,97.908,98.12,98.332,98.544,98.756,98.968,99.18,99.392,99.604,99.816,100.028,100.24,100.452,100.664,100.876,101.088,101.3,101.512,101.724,101.936,102.148,102.36,102.572,102.784,102.996,103.208,103.42,103.632,103.844,104.056,104.268,104.48,104.69200000000001,104.904,105.116,105.328,105.53999999999999,105.752,105.964,106.176,106.388,106.6,106.812,107.024,107.236,107.44800000000001,107.66,107.872,108.084,108.29599999999999,108.508,108.72,108.932,109.144,109.356,109.568,109.78,109.992,110.20400000000001,110.416,110.628,110.84,111.05199999999999,111.264,111.476,111.688,111.9,112.112,112.324,112.536,112.748,112.96000000000001,113.172,113.384,113.596,113.80799999999999,114.02,114.232,114.444,114.656,114.868,115.08,115.292,115.504,115.71600000000001,115.928,116.14,116.352,116.564,116.776,116.988,117.2,117.412,117.624,117.836,118.048,118.26,118.47200000000001,118.684,118.896,119.108,119.32,119.532,119.744,119.956,120.168,120.38,120.592,120.804,121.01599999999999,121.22800000000001,121.44,121.652,121.864,122.076,122.288,122.5,122.712,122.924,123.136,123.348,123.56,123.77199999999999,123.98400000000001,124.196,124.408,124.62,124.832,125.044,125.256,125.468,125.68,125.892,126.104,126.316,126.52799999999999,126.74,126.952,127.164,127.376,127.588,127.8,128.012,128.224,128.436,128.648,128.86,129.072,129.284,129.496,129.708,129.92000000000002,130.132,130.344,130.55599999999998,130.768,130.98,131.192,131.404,131.61599999999999,131.828,132.04,132.252,132.464,132.676,132.888,133.1,133.312,133.524,133.736,133.948,134.16,134.372,134.584,134.796,135.008,135.22,135.43200000000002,135.644,135.856,136.06799999999998,136.28,136.492,136.704,136.916,137.128,137.34,137.552,137.764,137.976,138.188,138.4,138.612,138.824,139.036,139.248,139.46,139.672,139.88400000000001,140.096,140.308,140.52,140.732,140.94400000000002,141.156,141.368,141.57999999999998,141.792,142.004,142.216,142.428,142.64,142.852,143.064,143.276,143.488,143.7,143.912,144.124,144.336,144.548,144.76,144.972,145.184,145.39600000000002,145.608,145.82,146.03199999999998,146.244,146.45600000000002,146.668,146.88,147.09199999999998,147.304,147.516,147.728,147.94,148.152,148.364,148.576,148.788,149.0,149.212,149.424,149.636,149.848,150.06,150.272,150.484,150.696,150.90800000000002,151.12,151.332,151.54399999999998,151.756,151.96800000000002,152.18,152.392,152.60399999999998,152.816,153.028,153.24,153.452,153.664,153.876,154.088,154.3,154.512,154.724,154.936,155.148,155.36,155.572,155.784,155.996,156.208,156.42000000000002,156.632,156.844,157.05599999999998,157.268,157.48,157.692,157.904,158.11599999999999,158.328,158.54,158.752,158.964,159.176,159.388,159.6,159.812,160.024,160.236,160.44799999999998,160.66,160.872,161.084,161.296,161.50799999999998,161.72,161.93200000000002,162.144,162.356,162.56799999999998,162.78,162.99200000000002,163.204,163.416,163.628,163.84,164.05200000000002,164.264,164.476,164.688,164.9,165.112,165.324,165.536,165.748,165.95999999999998,166.172,166.38400000000001,166.596,166.808,167.01999999999998,167.232,167.44400000000002,167.656,167.868,168.07999999999998,168.292,168.50400000000002,168.716,168.928,169.14,169.352,169.564,169.776,169.988,170.2,170.412,170.624,170.836,171.048,171.26,171.47199999999998,171.684,171.89600000000002,172.108,172.32,172.53199999999998,172.744,172.95600000000002,173.168,173.38,173.59199999999998,173.804,174.01600000000002,174.228,174.44,174.652,174.864,175.076,175.288,175.5,175.712,175.924,176.136,176.348,176.56,176.772,176.98399999999998,177.196,177.40800000000002,177.62,177.832,178.04399999999998,178.256,178.46800000000002,178.68,178.892,179.10399999999998,179.316,179.52800000000002,179.74,179.952,180.164,180.376,180.588,180.8,181.012,181.224,181.436,181.648,181.86,182.072,182.284,182.49599999999998,182.708,182.92000000000002,183.132,183.344,183.55599999999998,183.768,183.98000000000002,184.192,184.404,184.61599999999999,184.828,185.04000000000002,185.252,185.464,185.676,185.888,186.1,186.312,186.524,186.736,186.94799999999998,187.16,187.372,187.584,187.796,188.00799999999998,188.22,188.43200000000002,188.644,188.856,189.06799999999998,189.28,189.49200000000002,189.704,189.916,190.128,190.34,190.55200000000002,190.764,190.976,191.188,191.4,191.612,191.824,192.036,192.248,192.45999999999998,192.672,192.88400000000001,193.096,193.308,193.51999999999998,193.732,193.94400000000002,194.156,194.368,194.57999999999998,194.792,195.00400000000002,195.216,195.428,195.64,195.852,196.064,196.276,196.488,196.7,196.912,197.124,197.336,197.548,197.76,197.97199999999998,198.184,198.39600000000002,198.608,198.82,199.03199999999998,199.244,199.45600000000002,199.668,199.88,200.09199999999998,200.304,200.51600000000002,200.728,200.94,201.152,201.364,201.576,201.788],\"xaxis\":\"x\",\"y\":[0.0006174990415989887,0.0006292630095199121,0.0006411169710296003,0.0006530694127394472,0.0006651295293784958,0.0006773072073791675,0.0006896130052376129,0.0007020581307357962,0.0007146544151297281,0.0007274142844245233,0.0007403507278723716,0.0007534772638436661,0.0007668079032345864,0.0007803571105861106,0.0007941397630998632,0.0008081711077450479,0.0008224667166582646,0.0008370424410439778,0.0008519143637878113,0.0008670987509978695,0.0008826120026906302,0.0008984706028379063,0.0009146910689898284,0.000931289901685777,0.0009482835338608739,0.0009656882804498834,0.0009835202883834607,0.0010017954871635534,0.001020529540195498,0.0010397377970441295,0.001059435246770077,0.0010796364724904564,0.0011003556072954664,0.0011216062916392187,0.001143401632309286,0.0011657541630654103,0.0011886758070234818,0.001212177840846299,0.0012362708607882948,0.001260964750626829,0.0012862686514987175,0.0013121909336466732,0.0013387391700671175,0.0013659201120380829,0.0013937396664937768,0.001422202875201313,0.0014513138956847038,0.0014810759838319457,0.0015114914781129277,0.0015425617853289163,0.001574287367808787,0.0016066677319629319,0.001639701418102931,0.0016733859914339602,0.0017077180341270725,0.0017426931383804735,0.0017783059003825224,0.00181454991509423,0.001851417771776111,0.001888901050192451,0.0019269903174363703,0.00196567512533044,0.0020049440083708702,0.002044784482197611,0.0020851830425884683,0.0021261251649922082,0.002167595304633425,0.00220957689724072,0.0022520523604689243,0.002295003096106004,0.002338409493175108,0.0023822509320623833,0.0024265057898206844,0.0024711514468186624,0.0025161642949230335,0.002561519747419245,0.002607192250891704,0.002653155299299278,0.002699381450494134,0.002745842345442568,0.0027925087304142525,0.0028393504824118774,0.002886336638115392,0.00293343542661458,0.0029806143061997243,0.003027840005472875,0.0030750785690311874,0.003122295407959568,0.003169455355351417,0.0032165227270545094,0.003263461387813441,0.0033102348229507657,0.003356806215696491,0.0034031385302392683,0.0034491946005335916,0.003494937224855121,0.0035403292660514756,0.0035853337573888105,0.0036299140138454328,0.003674033748653075,0.00371765719483476,0.0037607492314357433,0.0038032755140914028,0.0038452026095235473,0.0038864981335050004,0.003927130891782266,0.003967071023397358,0.004006290145803959,0.004044761501129786,0.004082460102897029,0.004119362882476757,0.004155448834521214,0.004190699160590734,0.004225097410170016,0.004258629618251471,0.00429128443865254,0.00432305327222851,0.004353930389143453,0.004383913044368951,0.004413001585593933,0.004441199552748664,0.004468513768372245,0.004494954418085232,0.004520535120467493,0.004545272985685622,0.004569188662264254,0.004592306371450559,0.004614653928681239,0.004636262751725975,0.004657167855149604,0.00467740783080741,0.0046970248141630176,0.004716064436295747,0.0047345757615437686,0.0047526112108100685,0.0047702264706395376,0.004787480388257086,0.004804434852837547,0.004821154663358127,0.0048377073834623184,0.004854163183840179,0.0048705946727029895,0.004887076715000522,0.004903686241094832,0.0049205020456668065,0.004937604577688801,0.004955075722348936,0.0049729985758596145,0.004991457214124314,0.005010536456271661,0.005030321624095794,0.005050898298464649,0.005072352073775083,0.005094768311543897,0.005118231894228099,0.005142826980365496,0.0051686367621179875,0.005195743226285359,0.0052242269198365865,0.005254166720978924,0.005285639616753119,0.00531872048810515,0.0053534819033424965,0.0053899939208353065,0.005428323901770926,0.0054685363337142676,0.005510692665666661,0.005554851155252646,0.005601066728598189,0.005649390853394963,0.005699871425574657,0.005752552669944901,0.005807475055064158,0.005864675222558852,0.005924185931010522,0.005986036014465807,0.006050250355547712,0.006116849873072218,0.006185851524002466,0.00625726831950131,0.006331109354774364,0.0064073798523295545,0.006486081218214736,0.006567211110735505,0.006650763521097167,0.006736728865362097,0.00682509408706418,0.006915842769776791,0.0070089552588903856,0.007104408791819394,0.007202177635827505,0.007302233232633473,0.007404544348939572,0.00750907723200734,0.00761579576939592,0.007724661651971181,0.007835634539294088,0.007948672226501072,0.008063730811797431,0.008180764863700556,0.008299727587186579,0.008420570987917925,0.00854324603375665,0.008667702812797884,0.008793890687194064,0.008921758442076575,0.009051254428922958,0.009182326702761062,0.009314923152645893,0.009448991624893184,0.009584480038601403,0.009721336493043997,0.009859509366564332,0.009998947406655564,0.010139599810959838,0.01028141629897062,0.010424347174272423,0.010568343377201346,0.010713356527857631,0.010859338959448104,0.011006243741982094,0.011154024696387418,0.011302636399154953,0.011452034177661349,0.011602174096355779,0.011753012934035197,0.011904508152465092,0.01205661785663695,0.012209300746984203,0.012362516063907345,0.012516223524988601,0.01267038325530109,0.0128249557112449,0.012979901598366555,0.01313518178364097,0.013290757202720374,0.013446588762674655,0.013602637240771483,0.013758863179865523,0.013915226780987432,0.014071687793744934,0.014228205405168604,0.014384738127656263,0.014541243686689489,0.014697678909016236,0.014853999612011382,0.015010160494946693,0.015166115032916665,0.015321815374183683,0.015477212241718455,0.01563225483972257,0.01578689076592963,0.01594106593048469,0.01609472448220529,0.016247808743023305,0.016400259151399702,0.016552014215492974,0.01670301047684208,0.016853182485302282,0.01700246278594083,0.017150781918561727,0.017298068430485133,0.017444248903153554,0.017589247993078698,0.017732988487574305,0.017875391375646307,0.018016375934328414,0.018155859830661154,0.01829375923941633,0.018429988976564136,0.018564462648370885,0.018697092815900592,0.0188277911745728,0.018956468748306428,0.0190830360976523,0.019207403541188803,0.01932948138932667,0.01944918018954039,0.01956641098191697,0.019681085563790786,0.01979311676211368,0.01990241871209784,0.020008907140563716,0.020112499652328746,0.020213116017887615,0.020310678460559305,0.020405111941214554,0.020496344438649894,0.020584307223640803,0.02066893512468886,0.020750166783478317,0.020827944898071996,0.02090221645191202,0.02097293292674189,0.02104005049763678,0.02110353020841592,0.021163338125817555,0.021219445470937782,0.02127182872657465,0.02132046971927244,0.021365355675029493,0.02140647924781544,0.021443838520235993,0.021477436975887235,0.0215072834431535,0.02153339201041955,0.021555781912891762,0.02157447739144645,0.021589507524149044,0.02160090603131034,0.021608711055165212,0.021612964915470635,0.021613713842524487,0.021611007689299314,0.02160489962456527,0.021595445809043323,0.021582705056778926,0.02156673848405783,0.02154760914829874,0.021525381679449136,0.0215001219064807,0.02147189648162881,0.021440772505045412,0.021406817152536214,0.021370097309031222,0.021330679210392656,0.0212886280960963,0.021244007875232375,0.021196880808160363,0.021147307206020857,0.021095345150156944,0.021041050233329205,0.020984475324425773,0.020925670358170334,0.020864682151122235,0.020801554245043673,0.02073632677848162,0.020669036387180924,0.02059971613370881,0.02052839546643562,0.02045510020778202,0.020379852571411568,0.020302671207823614,0.02022357127758278,0.020142564551215797,0.020059659534610523,0.01997486161856877,0.019888173250999786,0.019799594130087597,0.019709121416634192,0.01961674996366385,0.019522472561277482,0.019426280194670225,0.019328162313166673,0.019228107108091953,0.019126101797278822,0.019022132914012477,0.018916186598234807,0.018808248887869552,0.018698306008183063,0.018586344657170083,0.018472352285037377,0.01835631736596142,0.018238229660406016,0.018118080466411297,0.01799586285839622,0.017871571912158272,0.017745204914898848,0.01761676155925457,0.017486244120466832,0.017353657615977753,0.017219009946894386,0.017082312020915556,0.016943577856466486,0.01680282466792979,0.016660072932003844,0.016515346435350332,0.01636867230382099,0.016220081013669677,0.016069606385265212,0.01591728555992026,0.01576315896053948,0.01560727023687112,0.015449666196213446,0.015290396720486588,0.01512951467062836,0.014967075779309691,0.014803138532994324,0.014637764044384518,0.014471015916304078,0.014302960098070843,0.014133664735401761,0.013963200014880528,0.013791638003993328,0.013619052487711907,0.013445518802567905,0.01327111366912498,0.013095915023711147,0.012920001850228888,0.012743454012810183,0.012566352090032967,0.012388777211363137,0.012210810896431175,0.012032534897699376,0.01185403104702096,0.011675381106537592,0.011496666624311135,0.011317968795030919,0.011139368326090254,0.010960945309275659,0.010782779098266781,0.010604948192100875,0.01042753012471319,0.010250601360626136,0.010074237196822653,0.009898511670804827,0.009723497474807398,0.009549265876106272,0.009375886643335917,0.00920342797870484,0.00903195645597663,0.008861536964065322,0.008692232656075712,0.008524104903605207,0.008357213256110784,0.008191615405133364,0.008027367153163984,0.00786452238692902,0.007703133054865745,0.007543249148557881,0.007384918687897272,0.007228187709739024,0.0070731002598181485,0.006919698387698633,0.006768022144530747,0.0066181095833967585,0.006469996762033333,0.006323717747725873,0.006179304624179538,0.006036787500182323,0.005896194519885547,0.005757551874540425,0.005620883815541216,0.00548621266863926,0.005353558849206684,0.005222940878442613,0.005094375400429828,0.004967877199965335,0.004843459221103056,0.0047211325863629975,0.004600906616575581,0.0044827888513451495,0.004366785070131091,0.004252899313958839,0.004141133907785954,0.0040314894835612545,0.003923965004025523,0.0038185577873133536,0.003715263532423674,0.003614076345634769,0.0035149887679454426,0.003417991803628268,0.003323074949984291,0.0032302262283893162,0.0031394322167216755,0.003050678083259385,0.002963947622130103,0.002879223290392308,0.0027964862468183183,0.0027157163924409014,0.0026368924129151713,0.002559991822734771,0.002484991011328809,0.0024118652910510127,0.002340588947057348,0.0022711352890518017,0.0022034767048628306,0.002137584715795551,0.002073430033686344,0.0020109826195687645,0.0019502117438413675,0.001891086047810237,0.0018335736064618087,0.0017776419923048515,0.0017232583401045574,0.0016703894123173285,0.0016190016650211533,0.0015690613141244407,0.0015205344016259558,0.0014733868616894161,0.0014275845862897654,0.0013830934901829248,0.0013398795749478545,0.0012979089918490735,0.0012571481032686328,0.0012175635424602222,0.0011791222713832797,0.0011417916363824767,0.0011055394214876581,0.0010703338991204384],\"yaxis\":\"y\",\"type\":\"scatter\"},{\"legendgroup\":\"Com Doen\\u00e7a Card\\u00edaca\",\"marker\":{\"color\":\"red\"},\"mode\":\"lines\",\"name\":\"Com Doen\\u00e7a Card\\u00edaca\",\"showlegend\":false,\"x\":[71.0,71.248,71.496,71.744,71.992,72.24,72.488,72.736,72.984,73.232,73.48,73.728,73.976,74.224,74.472,74.72,74.968,75.216,75.464,75.712,75.96,76.208,76.456,76.704,76.952,77.2,77.44800000000001,77.696,77.944,78.19200000000001,78.44,78.688,78.936,79.184,79.432,79.68,79.928,80.176,80.424,80.672,80.92,81.168,81.416,81.664,81.912,82.16,82.408,82.656,82.904,83.152,83.4,83.648,83.896,84.144,84.392,84.64,84.888,85.136,85.384,85.632,85.88,86.128,86.376,86.624,86.872,87.12,87.368,87.616,87.864,88.112,88.36,88.608,88.856,89.104,89.352,89.6,89.848,90.096,90.344,90.592,90.84,91.088,91.336,91.584,91.832,92.08,92.328,92.576,92.824,93.072,93.32,93.568,93.816,94.064,94.312,94.56,94.80799999999999,95.056,95.304,95.55199999999999,95.8,96.048,96.29599999999999,96.544,96.792,97.03999999999999,97.288,97.536,97.78399999999999,98.032,98.28,98.52799999999999,98.776,99.024,99.27199999999999,99.52,99.768,100.01599999999999,100.264,100.512,100.76,101.008,101.256,101.504,101.752,102.0,102.248,102.496,102.744,102.992,103.24000000000001,103.488,103.73599999999999,103.98400000000001,104.232,104.47999999999999,104.72800000000001,104.976,105.22399999999999,105.47200000000001,105.72,105.968,106.21600000000001,106.464,106.712,106.96000000000001,107.208,107.456,107.70400000000001,107.952,108.2,108.44800000000001,108.696,108.944,109.19200000000001,109.44,109.688,109.936,110.184,110.432,110.68,110.928,111.176,111.424,111.672,111.92,112.168,112.416,112.664,112.912,113.16,113.408,113.656,113.904,114.152,114.4,114.648,114.896,115.144,115.392,115.64,115.888,116.136,116.384,116.632,116.88,117.128,117.376,117.624,117.872,118.12,118.368,118.616,118.864,119.112,119.36,119.608,119.856,120.104,120.352,120.6,120.848,121.096,121.344,121.592,121.84,122.088,122.336,122.584,122.832,123.08,123.328,123.576,123.824,124.072,124.32,124.568,124.816,125.064,125.312,125.56,125.80799999999999,126.056,126.304,126.55199999999999,126.8,127.048,127.29599999999999,127.544,127.792,128.04,128.288,128.536,128.784,129.03199999999998,129.28,129.528,129.776,130.024,130.272,130.52,130.768,131.016,131.264,131.512,131.76,132.008,132.256,132.504,132.752,133.0,133.248,133.496,133.744,133.992,134.24,134.488,134.736,134.984,135.232,135.48000000000002,135.728,135.976,136.224,136.47199999999998,136.72,136.96800000000002,137.216,137.464,137.712,137.95999999999998,138.208,138.45600000000002,138.704,138.952,139.2,139.44799999999998,139.696,139.94400000000002,140.192,140.44,140.688,140.936,141.184,141.43200000000002,141.68,141.928,142.176,142.424,142.672,142.92000000000002,143.168,143.416,143.664,143.912,144.16,144.40800000000002,144.656,144.904,145.152,145.4,145.648,145.89600000000002,146.144,146.392,146.64,146.888,147.136,147.38400000000001,147.632,147.88,148.128,148.376,148.624,148.872,149.12,149.368,149.61599999999999,149.864,150.112,150.36,150.608,150.856,151.10399999999998,151.352,151.6,151.848,152.096,152.344,152.59199999999998,152.84,153.088,153.336,153.584,153.832,154.07999999999998,154.328,154.576,154.824,155.072,155.32,155.56799999999998,155.816,156.064,156.312,156.56,156.808,157.05599999999998,157.304,157.55200000000002,157.8,158.048,158.296,158.54399999999998,158.792,159.04000000000002,159.288,159.536,159.784,160.03199999999998,160.28,160.52800000000002,160.776,161.024,161.272,161.51999999999998,161.768,162.01600000000002,162.264,162.512,162.76,163.00799999999998,163.256,163.50400000000002,163.752,164.0,164.248,164.49599999999998,164.744,164.99200000000002,165.24,165.488,165.736,165.98399999999998,166.232,166.48000000000002,166.728,166.976,167.224,167.47199999999998,167.72,167.96800000000002,168.216,168.464,168.712,168.95999999999998,169.208,169.45600000000002,169.704,169.952,170.2,170.44799999999998,170.696,170.94400000000002,171.192,171.44,171.688,171.936,172.184,172.43200000000002,172.68,172.928,173.176,173.424,173.672,173.92000000000002,174.168,174.416,174.664,174.912,175.16,175.40800000000002,175.656,175.904,176.152,176.4,176.648,176.89600000000002,177.144,177.392,177.64,177.888,178.136,178.38400000000001,178.632,178.88,179.128,179.376,179.624,179.872,180.12,180.368,180.61599999999999,180.864,181.112,181.36,181.608,181.856,182.10399999999998,182.352,182.6,182.848,183.096,183.344,183.59199999999998,183.84,184.088,184.336,184.584,184.832,185.07999999999998,185.328,185.576,185.824,186.072,186.32,186.56799999999998,186.816,187.064,187.312,187.56,187.808,188.05599999999998,188.304,188.55200000000002,188.8,189.048,189.296,189.54399999999998,189.792,190.04000000000002,190.288,190.536,190.784,191.03199999999998,191.28,191.52800000000002,191.776,192.024,192.272,192.51999999999998,192.768,193.01600000000002,193.264,193.512,193.76,194.00799999999998,194.256,194.50400000000002,194.752],\"xaxis\":\"x\",\"y\":[0.0004609107397409656,0.00046626579865503294,0.000471620994402595,0.0004769889898628605,0.00048238336722334154,0.0004878186149335728,0.0004933101114657923,0.0004988741059380008,0.0005045276956705504,0.0005102888007627491,0.0005161761357906996,0.0005222091787416951,0.000528408137313841,0.0005347939127220588,0.0005413880611632439,0.0005482127531039183,0.0005552907305632826,0.0005626452625729991,0.0005703000990022973,0.0005782794229430842,0.0005866078018545885,0.0005953101376706502,0.0006044116160751272,0.0006139376551519656,0.0006239138536163085,0.0006343659388316167,0.000645319714815142,0.0006568010104303321,0.0006688356279597794,0.0006814492922463303,0.0006946676005829163,0.0007085159735236589,0.0007230196067798441,0.0007382034243546535,0.0007540920330599941,0.0007707096785475949,0.0007880802029747666,0.0008062270044129334,0.0008251729980943218,0.0008449405795791923,0.0008655515899126826,0.0008870272828268816,0.0009093882940302813,0.0009326546126132097,0.0009568455545844696,0.0009819797385411588,0.001008075063460717,0.0010351486885915415,0.0010632170154063524,0.001092295671570684,0.001122399496867626,0.001153542531009383,0.001185738003256199,0.0012189983237538842,0.001253335076492828,0.00128875901378349,0.0013252800521365896,0.0013629072694302938,0.0014016489032414904,0.0014415123502142257,0.0014825041663351789,0.0015246300679838637,0.001567894933624075,0.0016123028060030377,0.0016578568947254314,0.0017045595790715034,0.0017524124109314025,0.0018014161177317878,0.00185157060523583,0.0019028749601036755,0.0019553274521075218,0.002008925535903322,0.0020636658522701886,0.0021195442287383474,0.002176555679537162,0.002234694404806473,0.002293953789026657,0.0023543263986359943,0.002415803978817753,0.0024783774494535823,0.00254203690025482,0.002606771585098654,0.002672569915611712,0.002739419454059663,0.0028073069056174555,0.002876218110111144,0.0029461380333381196,0.0030170507580887613,0.003088939475007969,0.0031617864734501647,0.003235573132496208,0.003310279912314237,0.003385886346059751,0.0034623710325220854,0.003539711629735487,0.003617884849782439,0.0036968664550252536,0.003776631256008478,0.0038571531112795085,0.003938404929378147,0.004020358673246825,0.004102985367312338,0.004186255107487153,0.004270137074332794,0.004354599549620427,0.004439609936513866,0.004525134783587892,0.004611139812879877,0.004697589952155825,0.004784449371552058,0.004871681524731996,0.004959249194673125,0.0050471145441728146,0.0051352391711327605,0.005223584168651462,0.0053121101899214485,0.0054007775178937616,0.005489546139636627,0.00557837582527815,0.005667226211384886,0.005756056888589545,0.005844827493241385,0.005933497802813979,0.006022027834764722,0.0061103779485025015,0.006198508950080688,0.006286382199196023,0.00637395971803797,0.006461204301498907,0.006548079628223742,0.0066345503719478765,0.006720582312545774,0.006806142446188361,0.006891199093987434,0.00697572200848846,0.0070596824773602905,0.007143053423621977,0.007225809501742316,0.007307927188948724,0.007389384871086739,0.007470162922381684,0.007550243778469435,0.007629612002082626,0.007708254340804594,0.007786159776332854,0.007863319564729625,0.007939727267176585,0.008015378770796019,0.008090272299149534,0.008164408412079474,0.008237789994615293,0.0083104222347288,0.008382312589786611,0.008453470741615782,0.00852390854016878,0.008593639935846043,0.008662680900608314,0.008731049338085665,0.008798764982965716,0.008865849290018832,0.00893232531319317,0.008998217575285872,0.009063551928769113,0.009128355408419024,0.009192656076462807,0.00925648286102233,0.009319865388692283,0.0093828338121457,0.009445418633709483,0.009507650525897138,0.009569560149923835,0.009631177973261686,0.0096925340873172,0.009753658026332379,0.009814578588620445,0.009875323661251142,0.009935920049295633,0.009996393310728616,0.010056767598064627,0.010117065507777539,0.010177307938515357,0.01023751395907901,0.01029770068708171,0.010357883179146737,0.010418074333435648,0.01047828480522599,0.010538522936179203,0.010598794697854557,0.010659103649935322,0.010719450913539198,0.010779835159886677,0.010840252614499267,0.010900697076995626,0.010961159956447511,0.011021630322150366,0.011082094969556096,0.011142538501008641,0.011202943420817582,0.01126329024410153,0.011323557618732622,0.011383722459617043,0.011443760094453742,0.0115036444200275,0.011563348068010699,0.01162284257917487,0.0116820985848453,0.011741085994374081,0.01179977418735544,0.011858132209266722,0.011916128969185306,0.011973733438209897,0.012030914847201937,0.012087642882460522,0.012143887877952267,0.012199621002735937,0.012254814442250178,0.01230944157217158,0.012363477123598835,0.0124168973383775,0.012469680113447299,0.012521805133170522,0.012573253988685041,0.012624010283417978,0.012674059723995722,0.012723390195891957,0.012771991823267046,0.012819857012567949,0.01286698047957825,0.012913359259730564,0.01295899270161843,0.01300388244377045,0.013048032374875401,0.013091448577771168,0.013134139257633496,0.013176114654919352,0.013217386943735542,0.013257970116413583,0.013297879855175967,0.013337133391876962,0.013375749356891066,0.01341374761830361,0.01345114911263098,0.01348797566836033,0.013524249823651632,0.01355999463958639,0.013595233510378172,0.013629989971979624,0.01366428751052811,0.013698149372068274,0.013731598374974228,0.013764656726466911,0.013797345844583734,0.013829686186907863,0.01386169708730448,0.013893396601841095,0.013924801364988982,0.013955926457114057,0.013986785284168957,0.014017389470393401,0.014047748764719984,0.014077870961465974,0.01410776183577159,0.014137425094121258,0.014166862340158013,0.014196073055873911,0.014225054598131587,0.014253802210345464,0.014282309049026701,0.014310566224774194,0.014338562857177167,0.014366286142982432,0.014393721436774039,0.014420852343313872,0.014447660820601461,0.014474127292628834,0.014500230770733823,0.014525948982392836,0.01455125850624163,0.014576134912072073,0.014600552904522907,0.014624486469164047,0.01464790901966799,0.014670793544766044,0.014693112753704501,0.01471483921894308,0.014735945514877086,0.01475640435141452,0.014776188701298277,0.01479527192013328,0.014813627858156127,0.014831230962870713,0.014848056371766793,0.014864079994437687,0.014879278583518988,0.014893629793978846,0.014907112230403807,0.014919705482039502,0.014931390145461264,0.014942147834867598,0.01495196118010454,0.014960813812643343,0.01496869033984501,0.014975576307952758,0.014981458154355358,0.014986323149761713,0.014990159331016778,0.014992955425371886,0.014994700767097574,0.014995385207393111,0.014994999018603933,0.014993532793806127,0.014990977342854372,0.014987323586017159,0.01498256244634078,0.014976684741889757,0.014969681079008118,0.014961541747732333,0.014952256620462666,0.014941815054966645,0.014930205802745634,0.01491741692374429,0.014903435708322718,0.014888248607344638,0.014871841171160251,0.014854197998182514,0.014835302693670217,0.014815137839240579,0.014793684973540864,0.01477092458441144,0.014746836112774475,0.014721397968382496,0.014694587557461801,0.014666381322185978,0.014636754791818274,0.014605682645265215,0.01457313878469355,0.014539096419773327,0.014503528162027166,0.014466406128688132,0.014427702055395654,0.014387387416993889,0.014345433555637485,0.014301811815358313,0.014256493682202456,0.014209450929010159,0.014160655763883152,0.014110080981363137,0.01405770011533299,0.014003487592647301,0.013947418886502753,0.013889470668569378,0.013829620958922451,0.013767849272839992,0.01370413676356319,0.01363846636015517,0.013570822899638206,0.013501193252638608,0.01342956644182262,0.013355933752466088,0.013280288834561308,0.013202627795930634,0.013122949285883413,0.013041254569021835,0.012957547588872123,0.01287183502108776,0.012784126316042962,0.012694433730704112,0.012602772349736552,0.012509160095871188,0.012413617729620408,0.012316168838496068,0.012216839815940848,0.012115659830241404,0.012012660783743571,0.011907877262738327,0.011801346478431661,0.011693108199450955,0.011583204676375627,0.011471680558810466,0.011358582805545343,0.01124396058836664,0.011127865190101022,0.011010349897484973,0.010891469889459559,0.010771282121493132,0.01064984520653316,0.010527219293182592,0.010403465941687019,0.01027864799830638,0.010152829468628305,0.01002607539036143,0.009898451706125817,0.009770025136732448,0.009640863055418648,0.009511033363478015,0.009380604367693925,0.009249644659955784,0.009118222999405208,0.008986408197428295,0.00885426900577722,0.008721874008073043,0.008589291514909454,0.008456589462745275,0.008323835316744209,0.008191095977688594,0.008058437693067109,0.007925925972407263,0.007793625506898071,0.007661600093323704,0.007529912562304545,0.007398624710822159,0.007267797238983306,0.007137489690960701,0.007007760400031769,0.006878666437621557,0.006750263566243259,0.006622606196219082,0.006495747346053512,0.00636973860632458,0.006244630106951434,0.0061204704876923,0.0059973068717236845,0.0058751848421497955,0.00575414842129064,0.005634240052598126,0.005515500585051357,0.005397969259885586,0.005281683699512522,0.005166679898495876,0.00505299221645035,0.004940653372739729,0.004829694442856532,0.004720144856372873,0.004612032396361045,0.004505383200190251,0.004400221761614701,0.004296570934077979,0.004194451935166579,0.004093884352156078,0.003994886148601272,0.003897473671932019,0.0038016616620246088,0.0037074632607277088,0.0036148900223304603,0.0035239519249682526,0.003434657382969511,0.0033470132601546845,0.0032610248841043036,0.0031766960614205424,0.0030940290940111434,0.0030130247964303375,0.002933682514315116,0.0028560001439589485,0.0027799741530676256,0.002705599602743793,0.0026328701707477205,0.0025617781760822462,0.0024923146049486504,0.0024244691381191947,0.0023582301797691525,0.0022935848878079222,0.0022305192057447093,0.0021690178961189747,0.0021090645755199667,0.0020506417512133547,0.0019937308593847777,0.0019383123050029255,0.0018843655032951977,0.0018318689228201811,0.0017808001301111364,0.0017311358358544629,0.0016828519425565176,0.001635923593641373,0.0015903252239109456,0.0015460306112881378,0.0015030129297521953,0.0014612448033650214,0.0014206983612762417,0.0013813452935846043,0.0013431569079234828,0.0013061041866288207,0.0012701578443392815,0.0012352883858703567,0.0012014661641970954,0.0011686614383739514,0.0011368444312148233,0.001105985386552483,0.001076054625893153,0.0010470226042803192,0.0010188599651811247,0.000991537594208962,0.0009650266714979276,0.0009392987225475742,0.0009143256673607229,0.0008900798677026339,0.0008665341723164185,0.0008436619599375564,0.000821437179959281,0.0007998343906107404,0.0007788287945208922],\"yaxis\":\"y\",\"type\":\"scatter\"}],                        {\"barmode\":\"overlay\",\"hovermode\":\"closest\",\"legend\":{\"traceorder\":\"reversed\",\"title\":{\"text\":\"Doen\\u00e7a Card\\u00edaca\"}},\"xaxis\":{\"anchor\":\"y2\",\"domain\":[0.0,1.0],\"zeroline\":false,\"title\":{\"text\":\"Frequ\\u00eancia Card\\u00edaca M\\u00e1xima\"}},\"yaxis\":{\"anchor\":\"free\",\"domain\":[0.0,1],\"position\":0.0,\"title\":{\"text\":\"Densidade\"}},\"template\":{\"data\":{\"histogram2dcontour\":[{\"type\":\"histogram2dcontour\",\"colorbar\":{\"outlinewidth\":0,\"ticks\":\"\"},\"colorscale\":[[0.0,\"#0d0887\"],[0.1111111111111111,\"#46039f\"],[0.2222222222222222,\"#7201a8\"],[0.3333333333333333,\"#9c179e\"],[0.4444444444444444,\"#bd3786\"],[0.5555555555555556,\"#d8576b\"],[0.6666666666666666,\"#ed7953\"],[0.7777777777777778,\"#fb9f3a\"],[0.8888888888888888,\"#fdca26\"],[1.0,\"#f0f921\"]]}],\"choropleth\":[{\"type\":\"choropleth\",\"colorbar\":{\"outlinewidth\":0,\"ticks\":\"\"}}],\"histogram2d\":[{\"type\":\"histogram2d\",\"colorbar\":{\"outlinewidth\":0,\"ticks\":\"\"},\"colorscale\":[[0.0,\"#0d0887\"],[0.1111111111111111,\"#46039f\"],[0.2222222222222222,\"#7201a8\"],[0.3333333333333333,\"#9c179e\"],[0.4444444444444444,\"#bd3786\"],[0.5555555555555556,\"#d8576b\"],[0.6666666666666666,\"#ed7953\"],[0.7777777777777778,\"#fb9f3a\"],[0.8888888888888888,\"#fdca26\"],[1.0,\"#f0f921\"]]}],\"heatmap\":[{\"type\":\"heatmap\",\"colorbar\":{\"outlinewidth\":0,\"ticks\":\"\"},\"colorscale\":[[0.0,\"#0d0887\"],[0.1111111111111111,\"#46039f\"],[0.2222222222222222,\"#7201a8\"],[0.3333333333333333,\"#9c179e\"],[0.4444444444444444,\"#bd3786\"],[0.5555555555555556,\"#d8576b\"],[0.6666666666666666,\"#ed7953\"],[0.7777777777777778,\"#fb9f3a\"],[0.8888888888888888,\"#fdca26\"],[1.0,\"#f0f921\"]]}],\"heatmapgl\":[{\"type\":\"heatmapgl\",\"colorbar\":{\"outlinewidth\":0,\"ticks\":\"\"},\"colorscale\":[[0.0,\"#0d0887\"],[0.1111111111111111,\"#46039f\"],[0.2222222222222222,\"#7201a8\"],[0.3333333333333333,\"#9c179e\"],[0.4444444444444444,\"#bd3786\"],[0.5555555555555556,\"#d8576b\"],[0.6666666666666666,\"#ed7953\"],[0.7777777777777778,\"#fb9f3a\"],[0.8888888888888888,\"#fdca26\"],[1.0,\"#f0f921\"]]}],\"contourcarpet\":[{\"type\":\"contourcarpet\",\"colorbar\":{\"outlinewidth\":0,\"ticks\":\"\"}}],\"contour\":[{\"type\":\"contour\",\"colorbar\":{\"outlinewidth\":0,\"ticks\":\"\"},\"colorscale\":[[0.0,\"#0d0887\"],[0.1111111111111111,\"#46039f\"],[0.2222222222222222,\"#7201a8\"],[0.3333333333333333,\"#9c179e\"],[0.4444444444444444,\"#bd3786\"],[0.5555555555555556,\"#d8576b\"],[0.6666666666666666,\"#ed7953\"],[0.7777777777777778,\"#fb9f3a\"],[0.8888888888888888,\"#fdca26\"],[1.0,\"#f0f921\"]]}],\"surface\":[{\"type\":\"surface\",\"colorbar\":{\"outlinewidth\":0,\"ticks\":\"\"},\"colorscale\":[[0.0,\"#0d0887\"],[0.1111111111111111,\"#46039f\"],[0.2222222222222222,\"#7201a8\"],[0.3333333333333333,\"#9c179e\"],[0.4444444444444444,\"#bd3786\"],[0.5555555555555556,\"#d8576b\"],[0.6666666666666666,\"#ed7953\"],[0.7777777777777778,\"#fb9f3a\"],[0.8888888888888888,\"#fdca26\"],[1.0,\"#f0f921\"]]}],\"mesh3d\":[{\"type\":\"mesh3d\",\"colorbar\":{\"outlinewidth\":0,\"ticks\":\"\"}}],\"scatter\":[{\"fillpattern\":{\"fillmode\":\"overlay\",\"size\":10,\"solidity\":0.2},\"type\":\"scatter\"}],\"parcoords\":[{\"type\":\"parcoords\",\"line\":{\"colorbar\":{\"outlinewidth\":0,\"ticks\":\"\"}}}],\"scatterpolargl\":[{\"type\":\"scatterpolargl\",\"marker\":{\"colorbar\":{\"outlinewidth\":0,\"ticks\":\"\"}}}],\"bar\":[{\"error_x\":{\"color\":\"#2a3f5f\"},\"error_y\":{\"color\":\"#2a3f5f\"},\"marker\":{\"line\":{\"color\":\"#E5ECF6\",\"width\":0.5},\"pattern\":{\"fillmode\":\"overlay\",\"size\":10,\"solidity\":0.2}},\"type\":\"bar\"}],\"scattergeo\":[{\"type\":\"scattergeo\",\"marker\":{\"colorbar\":{\"outlinewidth\":0,\"ticks\":\"\"}}}],\"scatterpolar\":[{\"type\":\"scatterpolar\",\"marker\":{\"colorbar\":{\"outlinewidth\":0,\"ticks\":\"\"}}}],\"histogram\":[{\"marker\":{\"pattern\":{\"fillmode\":\"overlay\",\"size\":10,\"solidity\":0.2}},\"type\":\"histogram\"}],\"scattergl\":[{\"type\":\"scattergl\",\"marker\":{\"colorbar\":{\"outlinewidth\":0,\"ticks\":\"\"}}}],\"scatter3d\":[{\"type\":\"scatter3d\",\"line\":{\"colorbar\":{\"outlinewidth\":0,\"ticks\":\"\"}},\"marker\":{\"colorbar\":{\"outlinewidth\":0,\"ticks\":\"\"}}}],\"scattermapbox\":[{\"type\":\"scattermapbox\",\"marker\":{\"colorbar\":{\"outlinewidth\":0,\"ticks\":\"\"}}}],\"scatterternary\":[{\"type\":\"scatterternary\",\"marker\":{\"colorbar\":{\"outlinewidth\":0,\"ticks\":\"\"}}}],\"scattercarpet\":[{\"type\":\"scattercarpet\",\"marker\":{\"colorbar\":{\"outlinewidth\":0,\"ticks\":\"\"}}}],\"carpet\":[{\"aaxis\":{\"endlinecolor\":\"#2a3f5f\",\"gridcolor\":\"white\",\"linecolor\":\"white\",\"minorgridcolor\":\"white\",\"startlinecolor\":\"#2a3f5f\"},\"baxis\":{\"endlinecolor\":\"#2a3f5f\",\"gridcolor\":\"white\",\"linecolor\":\"white\",\"minorgridcolor\":\"white\",\"startlinecolor\":\"#2a3f5f\"},\"type\":\"carpet\"}],\"table\":[{\"cells\":{\"fill\":{\"color\":\"#EBF0F8\"},\"line\":{\"color\":\"white\"}},\"header\":{\"fill\":{\"color\":\"#C8D4E3\"},\"line\":{\"color\":\"white\"}},\"type\":\"table\"}],\"barpolar\":[{\"marker\":{\"line\":{\"color\":\"#E5ECF6\",\"width\":0.5},\"pattern\":{\"fillmode\":\"overlay\",\"size\":10,\"solidity\":0.2}},\"type\":\"barpolar\"}],\"pie\":[{\"automargin\":true,\"type\":\"pie\"}]},\"layout\":{\"autotypenumbers\":\"strict\",\"colorway\":[\"#636efa\",\"#EF553B\",\"#00cc96\",\"#ab63fa\",\"#FFA15A\",\"#19d3f3\",\"#FF6692\",\"#B6E880\",\"#FF97FF\",\"#FECB52\"],\"font\":{\"color\":\"#2a3f5f\"},\"hovermode\":\"closest\",\"hoverlabel\":{\"align\":\"left\"},\"paper_bgcolor\":\"white\",\"plot_bgcolor\":\"#E5ECF6\",\"polar\":{\"bgcolor\":\"#E5ECF6\",\"angularaxis\":{\"gridcolor\":\"white\",\"linecolor\":\"white\",\"ticks\":\"\"},\"radialaxis\":{\"gridcolor\":\"white\",\"linecolor\":\"white\",\"ticks\":\"\"}},\"ternary\":{\"bgcolor\":\"#E5ECF6\",\"aaxis\":{\"gridcolor\":\"white\",\"linecolor\":\"white\",\"ticks\":\"\"},\"baxis\":{\"gridcolor\":\"white\",\"linecolor\":\"white\",\"ticks\":\"\"},\"caxis\":{\"gridcolor\":\"white\",\"linecolor\":\"white\",\"ticks\":\"\"}},\"coloraxis\":{\"colorbar\":{\"outlinewidth\":0,\"ticks\":\"\"}},\"colorscale\":{\"sequential\":[[0.0,\"#0d0887\"],[0.1111111111111111,\"#46039f\"],[0.2222222222222222,\"#7201a8\"],[0.3333333333333333,\"#9c179e\"],[0.4444444444444444,\"#bd3786\"],[0.5555555555555556,\"#d8576b\"],[0.6666666666666666,\"#ed7953\"],[0.7777777777777778,\"#fb9f3a\"],[0.8888888888888888,\"#fdca26\"],[1.0,\"#f0f921\"]],\"sequentialminus\":[[0.0,\"#0d0887\"],[0.1111111111111111,\"#46039f\"],[0.2222222222222222,\"#7201a8\"],[0.3333333333333333,\"#9c179e\"],[0.4444444444444444,\"#bd3786\"],[0.5555555555555556,\"#d8576b\"],[0.6666666666666666,\"#ed7953\"],[0.7777777777777778,\"#fb9f3a\"],[0.8888888888888888,\"#fdca26\"],[1.0,\"#f0f921\"]],\"diverging\":[[0,\"#8e0152\"],[0.1,\"#c51b7d\"],[0.2,\"#de77ae\"],[0.3,\"#f1b6da\"],[0.4,\"#fde0ef\"],[0.5,\"#f7f7f7\"],[0.6,\"#e6f5d0\"],[0.7,\"#b8e186\"],[0.8,\"#7fbc41\"],[0.9,\"#4d9221\"],[1,\"#276419\"]]},\"xaxis\":{\"gridcolor\":\"white\",\"linecolor\":\"white\",\"ticks\":\"\",\"title\":{\"standoff\":15},\"zerolinecolor\":\"white\",\"automargin\":true,\"zerolinewidth\":2},\"yaxis\":{\"gridcolor\":\"white\",\"linecolor\":\"white\",\"ticks\":\"\",\"title\":{\"standoff\":15},\"zerolinecolor\":\"white\",\"automargin\":true,\"zerolinewidth\":2},\"scene\":{\"xaxis\":{\"backgroundcolor\":\"#E5ECF6\",\"gridcolor\":\"white\",\"linecolor\":\"white\",\"showbackground\":true,\"ticks\":\"\",\"zerolinecolor\":\"white\",\"gridwidth\":2},\"yaxis\":{\"backgroundcolor\":\"#E5ECF6\",\"gridcolor\":\"white\",\"linecolor\":\"white\",\"showbackground\":true,\"ticks\":\"\",\"zerolinecolor\":\"white\",\"gridwidth\":2},\"zaxis\":{\"backgroundcolor\":\"#E5ECF6\",\"gridcolor\":\"white\",\"linecolor\":\"white\",\"showbackground\":true,\"ticks\":\"\",\"zerolinecolor\":\"white\",\"gridwidth\":2}},\"shapedefaults\":{\"line\":{\"color\":\"#2a3f5f\"}},\"annotationdefaults\":{\"arrowcolor\":\"#2a3f5f\",\"arrowhead\":0,\"arrowwidth\":1},\"geo\":{\"bgcolor\":\"white\",\"landcolor\":\"#E5ECF6\",\"subunitcolor\":\"white\",\"showland\":true,\"showlakes\":true,\"lakecolor\":\"white\"},\"title\":{\"x\":0.05},\"mapbox\":{\"style\":\"light\"}}},\"title\":{\"text\":\"Distribui\\u00e7\\u00e3o da Frequ\\u00eancia Card\\u00edaca M\\u00e1xima em Rela\\u00e7\\u00e3o \\u00e0 Doen\\u00e7a Card\\u00edaca\"}},                        {\"responsive\": true}                    ).then(function(){\n",
              "                            \n",
              "var gd = document.getElementById('1791fbc1-7257-44c8-8e48-6a647d3f7b71');\n",
              "var x = new MutationObserver(function (mutations, observer) {{\n",
              "        var display = window.getComputedStyle(gd).display;\n",
              "        if (!display || display === 'none') {{\n",
              "            console.log([gd, 'removed!']);\n",
              "            Plotly.purge(gd);\n",
              "            observer.disconnect();\n",
              "        }}\n",
              "}});\n",
              "\n",
              "// Listen for the removal of the full notebook cells\n",
              "var notebookContainer = gd.closest('#notebook-container');\n",
              "if (notebookContainer) {{\n",
              "    x.observe(notebookContainer, {childList: true});\n",
              "}}\n",
              "\n",
              "// Listen for the clearing of the current output cell\n",
              "var outputEl = gd.closest('.output');\n",
              "if (outputEl) {{\n",
              "    x.observe(outputEl, {childList: true});\n",
              "}}\n",
              "\n",
              "                        })                };                            </script>        </div>\n",
              "</body>\n",
              "</html>"
            ]
          },
          "metadata": {}
        }
      ]
    },
    {
      "cell_type": "markdown",
      "source": [
        "Gráfico que permite identificar a relação negativa entre frequência máxima cardíaca em relação a presença da doença, por meio de uma distribuição Gausiana. Nota-se que a frequência maior se refere melhor para cenários nos quais a doença não está presente, enquanto que ocorre o oposto para frequências menores."
      ],
      "metadata": {
        "id": "PBBS6LjbLxJM"
      }
    },
    {
      "cell_type": "code",
      "source": [
        "m_corr = df.corr()\n",
        "\n",
        "plt.figure(figsize=(15,10))\n",
        "heatmap = sns.heatmap(m_corr, annot=True, cmap='coolwarm', fmt = '.2f')"
      ],
      "metadata": {
        "colab": {
          "base_uri": "https://localhost:8080/",
          "height": 840
        },
        "id": "s_MdSk3hLALn",
        "outputId": "54bc3a17-f0a4-4af3-949a-50ec8ccb38cd"
      },
      "execution_count": null,
      "outputs": [
        {
          "output_type": "display_data",
          "data": {
            "text/plain": [
              "<Figure size 1500x1000 with 2 Axes>"
            ],
            "image/png": "[encoded data removed]"
          },
          "metadata": {}
        }
      ]
    },
    {
      "cell_type": "markdown",
      "source": [
        "## Implementando os modelos de machine learning 🤖\n",
        "\n",
        "Havendo já realizada a etapa de análise da qualidade do dataframe e acerca das relações entre as features a variável target, úteis para identificar possíveis padrões nos dados, chega-se a etapa da implementação do modelo de machine learning, que será capaz de classifcar as features se pertecem ou não pertencem a um cenário em que há a presença da doença.\n",
        "\n",
        "Antes da implementação dos modelos, propriamente dito, irei criar uma série de modelos de machine learning em seu formato padrão, os quais irão servir de baseline para os mesmos modelos otimizados, incluindo o XGBoost.\n",
        "\n",
        "Tal abordagem é interessante, pois por meio dela permite identificar da melhor forma quais são os modelos mais adequados ao caso e que possam desempenhar da melhor forma sobre o conjunto de dados presentes."
      ],
      "metadata": {
        "id": "9GKSUMuaaM-T"
      }
    },
    {
      "cell_type": "code",
      "source": [
        "SEED = 22"
      ],
      "metadata": {
        "id": "uBlrtXwNceiu"
      },
      "execution_count": 30,
      "outputs": []
    },
    {
      "cell_type": "code",
      "source": [
        "# Separando em X e em y:\n",
        "\n",
        "X = df.drop('Doenca cardiaca', axis=1)\n",
        "y = df['Doenca cardiaca']"
      ],
      "metadata": {
        "id": "lNuMlDiFbhLJ"
      },
      "execution_count": 31,
      "outputs": []
    },
    {
      "cell_type": "code",
      "source": [
        "X_train, X_test, y_train, y_test = train_test_split(X, y, test_size=0.2, random_state= SEED)"
      ],
      "metadata": {
        "id": "mKAvHE5Lca_K"
      },
      "execution_count": 32,
      "outputs": []
    },
    {
      "cell_type": "code",
      "source": [
        "# Instanciando os modelos :\n",
        "\n",
        "random_forest_default = RandomForestClassifier(random_state=SEED)\n",
        "logistic_regression_default = LogisticRegression(random_state=SEED)\n",
        "xgboost_default = XGBClassifier(random_state=SEED)\n",
        "knn_default = KNeighborsClassifier()"
      ],
      "metadata": {
        "id": "6If2_TRVbzSQ"
      },
      "execution_count": 33,
      "outputs": []
    },
    {
      "cell_type": "code",
      "source": [
        "def avalia_modelos(nome_modelo, modelo):\n",
        "\n",
        "  modelo.fit(X_train, y_train)\n",
        "  y_pred = modelo.predict(X_test)\n",
        "\n",
        "  acuracia = accuracy_score(y_test, y_pred).round(3)\n",
        "  recall = recall_score(y_test, y_pred).round(3)\n",
        "  precision = precision_score(y_test, y_pred).round(3)\n",
        "  f1 = f1_score(y_test, y_pred).round(3)\n",
        "\n",
        "  print(f'\\n{nome_modelo}\\n')\n",
        "\n",
        "  print(f'Acurácia: {acuracia}')\n",
        "  print(f'Recall: {recall}')\n",
        "  print(f'Precision: {precision}')\n",
        "  print(f'F1 Score: {f1}')"
      ],
      "metadata": {
        "id": "HIjc7t16c0BR"
      },
      "execution_count": null,
      "outputs": []
    },
    {
      "cell_type": "code",
      "source": [
        "import warnings\n",
        "from sklearn.exceptions import ConvergenceWarning\n",
        "\n",
        "# Para ignorar avisos de convergência gerados pelo\n",
        "# modelo de regressão logística.\n",
        "\n",
        "warnings.filterwarnings(\"ignore\", category=ConvergenceWarning)"
      ],
      "metadata": {
        "id": "jJFkjb3xeVn3"
      },
      "execution_count": null,
      "outputs": []
    },
    {
      "cell_type": "code",
      "source": [
        "modelos = [\n",
        "    ('Random Forest (default)', random_forest_default),\n",
        "    ('Logistic Regression (default)', logistic_regression_default),\n",
        "    ('XGBoost (default)', xgboost_default),\n",
        "    ('KNN (default)', knn_default)\n",
        "]\n",
        "\n",
        "for nome_modelo, modelo in modelos:\n",
        "  avalia_modelos(nome_modelo, modelo)"
      ],
      "metadata": {
        "colab": {
          "base_uri": "https://localhost:8080/"
        },
        "id": "wvAY7xaUdS0S",
        "outputId": "7c376810-c42d-4f4c-aa25-4721e6b3d03a"
      },
      "execution_count": null,
      "outputs": [
        {
          "output_type": "stream",
          "name": "stdout",
          "text": [
            "\n",
            "Random Forest (default)\n",
            "\n",
            "Acurácia: 0.833\n",
            "Recall: 0.783\n",
            "Precision: 0.818\n",
            "F1 Score: 0.8\n",
            "\n",
            "Logistic Regression (default)\n",
            "\n",
            "Acurácia: 0.87\n",
            "Recall: 0.783\n",
            "Precision: 0.9\n",
            "F1 Score: 0.837\n",
            "\n",
            "XGBoost (default)\n",
            "\n",
            "Acurácia: 0.815\n",
            "Recall: 0.783\n",
            "Precision: 0.783\n",
            "F1 Score: 0.783\n",
            "\n",
            "KNN (default)\n",
            "\n",
            "Acurácia: 0.685\n",
            "Recall: 0.652\n",
            "Precision: 0.625\n",
            "F1 Score: 0.638\n"
          ]
        }
      ]
    },
    {
      "cell_type": "markdown",
      "source": [
        "Analisando as métricas encontradas por meio da função que avalia os modelos de machine learning, pode-se compreender que os modelos que, segundo a literatura, apresentam maior robustez ao lidar com dados não normalizados ou sujeitos a um mesmo intervalo desempenham melhor, sendo desses apenas o de regressão logística que não é construído, em seu âmago, por árvores de decisão.\n",
        "\n",
        "Não obstante, analisando com maior cuidado os modelos que já apresentaram boas pontuações, nota-se que o XGBoost apesar dentre eles ser o que obteve a menor pontuação, pode apresentar via otimização um ganho de desempenho interessante.\n",
        "\n",
        "Ao final da otimização irei comparar novamente os modelos otimizados entre si, considerando inclusive a curva AUC, para analisar qual modelo desempenhou melhor para o presente caso de uso."
      ],
      "metadata": {
        "id": "mfk1PIyxe1FE"
      }
    },
    {
      "cell_type": "markdown",
      "source": [
        "## Otimizando os modelos de machine learning"
      ],
      "metadata": {
        "id": "fS0Ar-oLgw3f"
      }
    },
    {
      "cell_type": "markdown",
      "source": [
        "### Definindo os hiperparâmetros de busca para cada modelo"
      ],
      "metadata": {
        "id": "Au-W1wVYg3BU"
      }
    },
    {
      "cell_type": "code",
      "source": [
        "# Hiperparâmetros para o Random Forest :\n",
        "\n",
        "params_rf = {\n",
        "    'n_estimators': Integer(50, 500),\n",
        "    'max_depth': Integer(2, 10),\n",
        "    'min_samples_split': Integer(2, 20),\n",
        "    'min_samples_leaf': Integer(2,20),\n",
        "    'criterion': Categorical(['gini', 'entropy']),\n",
        "    'max_features': Categorical(['sqrt', 'log2'])\n",
        "}\n",
        "\n",
        "# Hiperparâmetros para a Regressão Logística :\n",
        "\n",
        "params_lg = {\n",
        "    'C': Real(0.01, 10),\n",
        "    'max_iter': Integer(100, 300),\n",
        "    'penalty': Categorical(['l1', 'l2']),\n",
        "    'solver': Categorical(['liblinear'])\n",
        "}\n",
        "\n",
        "# Hiperparâmetros para o XGBoost :\n",
        "\n",
        "params_xgb = {\n",
        "    'n_estimators': Integer(50, 500),\n",
        "    'max_depth': Integer(2, 10),\n",
        "    'learning_rate': Real(0.01, 0.3),\n",
        "    'subsample': Real(0.5,1),\n",
        "    'colsample_bytree': Real(0.5,1)\n",
        "}\n",
        "\n",
        "# Hiperparâmetros para o K-Nierst Neighbors :\n",
        "\n",
        "params_knn = {\n",
        "    'n_neighbors': Integer(3,10),\n",
        "    'weights': Categorical(['uniform', 'distance']),\n",
        "    'metric': Categorical(['euclidean', 'manhattan'])\n",
        "}"
      ],
      "metadata": {
        "id": "w_YZDbUydtOp"
      },
      "execution_count": 36,
      "outputs": []
    },
    {
      "cell_type": "markdown",
      "source": [
        "O algoritmo de otimização escolhido será a modelo de otmização bayesiana, o qual construído com influência no teorema de Bayes, otimiza o modelo de machine learning conjungando a informação anterior, buscand encontrar uma nova posterior. Em termos práticos, significa dizer que por meio da função de custo ela avalia cada combinação de modelo iterativamente, passando a buscar, a cada passo, a melhor combinação de hiperparâmetros que promovam o ponto de ótimo.\n",
        "\n",
        "Para mais explicação sobre como procede esse otimizador, recomendo olhar o notebook no qual eu debruço sobre o tema, bem como checar o link a seguir : https://medium.com/@beniciowg/como-tunar-hiperparâmetros-com-otimização-bayesiana-5687fd51370f"
      ],
      "metadata": {
        "id": "EuYJnCurncEQ"
      }
    },
    {
      "cell_type": "code",
      "source": [
        "# Para a validação, unindo o otimizador bayesiano,\n",
        "# irei me utilizar da validação cruzada aninhada, a\n",
        "# qual visa cumprir justamente que os modelos elaborados\n",
        "# não apresentem otimismo quanto as previsões, reduzindo\n",
        "# ao máximo o risco ao overfiting nos dados.\n",
        "\n",
        "# Porção interna :\n",
        "inner_cv = StratifiedKFold(n_splits=3, shuffle=True, random_state=SEED)\n",
        "\n",
        "# Porção externa:\n",
        "outer_cv = StratifiedKFold(n_splits=5, shuffle=True, random_state=SEED)"
      ],
      "metadata": {
        "id": "IgS_PqWRmJx0"
      },
      "execution_count": 38,
      "outputs": []
    },
    {
      "cell_type": "markdown",
      "source": [
        "### Otimizando o Random Forest 🌳🌳🌳"
      ],
      "metadata": {
        "id": "cRcqlOoDSYIP"
      }
    },
    {
      "cell_type": "code",
      "source": [
        "# Instanciando o otimizador bayesiano\n",
        "\n",
        "rf_opt_bayesian = BayesSearchCV(\n",
        "    estimator = RandomForestClassifier(random_state = SEED),\n",
        "    search_spaces = params_rf,\n",
        "    n_iter = 50,\n",
        "    scoring = 'recall',\n",
        "    n_jobs = -1,\n",
        "    cv = inner_cv)"
      ],
      "metadata": {
        "id": "sgPsTO6kprq8"
      },
      "execution_count": null,
      "outputs": []
    },
    {
      "cell_type": "code",
      "source": [
        "%%time\n",
        "\n",
        "# Encontrando a acurácia da etapa de treinamento :\n",
        "\n",
        "rf_nested_score = cross_val_score(rf_opt_bayesian, X_train, y_train, cv = outer_cv)"
      ],
      "metadata": {
        "colab": {
          "base_uri": "https://localhost:8080/"
        },
        "id": "iHUMgeE2qVVj",
        "outputId": "0757e523-3aee-4cf4-f9bc-ced40de3f8d3"
      },
      "execution_count": null,
      "outputs": [
        {
          "output_type": "stream",
          "name": "stdout",
          "text": [
            "CPU times: user 8min 54s, sys: 5min 17s, total: 14min 11s\n",
            "Wall time: 16min 14s\n"
          ]
        }
      ]
    },
    {
      "cell_type": "code",
      "source": [
        "# Encontrando a acurácia média do treinamento :\n",
        "\n",
        "rf_nested_mean_score = rf_nested_score.mean().round(3)"
      ],
      "metadata": {
        "id": "ksyIbX9jqVW5"
      },
      "execution_count": null,
      "outputs": []
    },
    {
      "cell_type": "code",
      "source": [
        "print(f'Acurácia média da validação cruzada aninhada do Random Forest : {rf_nested_mean_score}')"
      ],
      "metadata": {
        "colab": {
          "base_uri": "https://localhost:8080/"
        },
        "id": "EQOkUEvHLgJ6",
        "outputId": "28dc5685-68b6-498c-e9dc-218d59847110"
      },
      "execution_count": null,
      "outputs": [
        {
          "output_type": "stream",
          "name": "stdout",
          "text": [
            "Acurácia média da validação cruzada aninhada: 0.752\n"
          ]
        }
      ]
    },
    {
      "cell_type": "code",
      "source": [
        "%%time\n",
        "\n",
        "# Treinando o modelo para visualizar os melhores hiperparâmetros :\n",
        "\n",
        "rf_opt_bayesian.fit(X_train, y_train)"
      ],
      "metadata": {
        "colab": {
          "base_uri": "https://localhost:8080/",
          "height": 151
        },
        "id": "kNuezZWRPlj7",
        "outputId": "a7c71b59-d47c-4208-9cc2-92f7d385c98c"
      },
      "execution_count": null,
      "outputs": [
        {
          "output_type": "stream",
          "name": "stdout",
          "text": [
            "CPU times: user 1min 37s, sys: 58.6 s, total: 2min 35s\n",
            "Wall time: 2min 53s\n"
          ]
        },
        {
          "output_type": "execute_result",
          "data": {
            "text/plain": [
              "BayesSearchCV(cv=StratifiedKFold(n_splits=3, random_state=22, shuffle=True),\n",
              "              estimator=RandomForestClassifier(random_state=22), n_jobs=-1,\n",
              "              scoring='recall',\n",
              "              search_spaces={'criterion': Categorical(categories=('gini', 'entropy'), prior=None),\n",
              "                             'max_depth': Integer(low=2, high=10, prior='uniform', transform='normalize'),\n",
              "                             'max_features': Categorical(categories=('sqrt', 'log2'), prior=None),\n",
              "                             'min_samples_leaf': Integer(low=2, high=20, prior='uniform', transform='normalize'),\n",
              "                             'min_samples_split': Integer(low=2, high=20, prior='uniform', transform='normalize'),\n",
              "                             'n_estimators': Integer(low=50, high=500, prior='uniform', transform='normalize')})"
            ],
            "text/html": [
              "<style>#sk-container-id-1 {color: black;background-color: white;}#sk-container-id-1 pre{padding: 0;}#sk-container-id-1 div.sk-toggleable {background-color: white;}#sk-container-id-1 label.sk-toggleable__label {cursor: pointer;display: block;width: 100%;margin-bottom: 0;padding: 0.3em;box-sizing: border-box;text-align: center;}#sk-container-id-1 label.sk-toggleable__label-arrow:before {content: \"▸\";float: left;margin-right: 0.25em;color: #696969;}#sk-container-id-1 label.sk-toggleable__label-arrow:hover:before {color: black;}#sk-container-id-1 div.sk-estimator:hover label.sk-toggleable__label-arrow:before {color: black;}#sk-container-id-1 div.sk-toggleable__content {max-height: 0;max-width: 0;overflow: hidden;text-align: left;background-color: #f0f8ff;}#sk-container-id-1 div.sk-toggleable__content pre {margin: 0.2em;color: black;border-radius: 0.25em;background-color: #f0f8ff;}#sk-container-id-1 input.sk-toggleable__control:checked~div.sk-toggleable__content {max-height: 200px;max-width: 100%;overflow: auto;}#sk-container-id-1 input.sk-toggleable__control:checked~label.sk-toggleable__label-arrow:before {content: \"▾\";}#sk-container-id-1 div.sk-estimator input.sk-toggleable__control:checked~label.sk-toggleable__label {background-color: #d4ebff;}#sk-container-id-1 div.sk-label input.sk-toggleable__control:checked~label.sk-toggleable__label {background-color: #d4ebff;}#sk-container-id-1 input.sk-hidden--visually {border: 0;clip: rect(1px 1px 1px 1px);clip: rect(1px, 1px, 1px, 1px);height: 1px;margin: -1px;overflow: hidden;padding: 0;position: absolute;width: 1px;}#sk-container-id-1 div.sk-estimator {font-family: monospace;background-color: #f0f8ff;border: 1px dotted black;border-radius: 0.25em;box-sizing: border-box;margin-bottom: 0.5em;}#sk-container-id-1 div.sk-estimator:hover {background-color: #d4ebff;}#sk-container-id-1 div.sk-parallel-item::after {content: \"\";width: 100%;border-bottom: 1px solid gray;flex-grow: 1;}#sk-container-id-1 div.sk-label:hover label.sk-toggleable__label {background-color: #d4ebff;}#sk-container-id-1 div.sk-serial::before {content: \"\";position: absolute;border-left: 1px solid gray;box-sizing: border-box;top: 0;bottom: 0;left: 50%;z-index: 0;}#sk-container-id-1 div.sk-serial {display: flex;flex-direction: column;align-items: center;background-color: white;padding-right: 0.2em;padding-left: 0.2em;position: relative;}#sk-container-id-1 div.sk-item {position: relative;z-index: 1;}#sk-container-id-1 div.sk-parallel {display: flex;align-items: stretch;justify-content: center;background-color: white;position: relative;}#sk-container-id-1 div.sk-item::before, #sk-container-id-1 div.sk-parallel-item::before {content: \"\";position: absolute;border-left: 1px solid gray;box-sizing: border-box;top: 0;bottom: 0;left: 50%;z-index: -1;}#sk-container-id-1 div.sk-parallel-item {display: flex;flex-direction: column;z-index: 1;position: relative;background-color: white;}#sk-container-id-1 div.sk-parallel-item:first-child::after {align-self: flex-end;width: 50%;}#sk-container-id-1 div.sk-parallel-item:last-child::after {align-self: flex-start;width: 50%;}#sk-container-id-1 div.sk-parallel-item:only-child::after {width: 0;}#sk-container-id-1 div.sk-dashed-wrapped {border: 1px dashed gray;margin: 0 0.4em 0.5em 0.4em;box-sizing: border-box;padding-bottom: 0.4em;background-color: white;}#sk-container-id-1 div.sk-label label {font-family: monospace;font-weight: bold;display: inline-block;line-height: 1.2em;}#sk-container-id-1 div.sk-label-container {text-align: center;}#sk-container-id-1 div.sk-container {/* jupyter's `normalize.less` sets `[hidden] { display: none; }` but bootstrap.min.css set `[hidden] { display: none !important; }` so we also need the `!important` here to be able to override the default hidden behavior on the sphinx rendered scikit-learn.org. See: https://github.com/scikit-learn/scikit-learn/issues/21755 */display: inline-block !important;position: relative;}#sk-container-id-1 div.sk-text-repr-fallback {display: none;}</style><div id=\"sk-container-id-1\" class=\"sk-top-container\"><div class=\"sk-text-repr-fallback\"><pre>BayesSearchCV(cv=StratifiedKFold(n_splits=3, random_state=22, shuffle=True),\n",
              "              estimator=RandomForestClassifier(random_state=22), n_jobs=-1,\n",
              "              scoring=&#x27;recall&#x27;,\n",
              "              search_spaces={&#x27;criterion&#x27;: Categorical(categories=(&#x27;gini&#x27;, &#x27;entropy&#x27;), prior=None),\n",
              "                             &#x27;max_depth&#x27;: Integer(low=2, high=10, prior=&#x27;uniform&#x27;, transform=&#x27;normalize&#x27;),\n",
              "                             &#x27;max_features&#x27;: Categorical(categories=(&#x27;sqrt&#x27;, &#x27;log2&#x27;), prior=None),\n",
              "                             &#x27;min_samples_leaf&#x27;: Integer(low=2, high=20, prior=&#x27;uniform&#x27;, transform=&#x27;normalize&#x27;),\n",
              "                             &#x27;min_samples_split&#x27;: Integer(low=2, high=20, prior=&#x27;uniform&#x27;, transform=&#x27;normalize&#x27;),\n",
              "                             &#x27;n_estimators&#x27;: Integer(low=50, high=500, prior=&#x27;uniform&#x27;, transform=&#x27;normalize&#x27;)})</pre><b>In a Jupyter environment, please rerun this cell to show the HTML representation or trust the notebook. <br />On GitHub, the HTML representation is unable to render, please try loading this page with nbviewer.org.</b></div><div class=\"sk-container\" hidden><div class=\"sk-item sk-dashed-wrapped\"><div class=\"sk-label-container\"><div class=\"sk-label sk-toggleable\"><input class=\"sk-toggleable__control sk-hidden--visually\" id=\"sk-estimator-id-1\" type=\"checkbox\" ><label for=\"sk-estimator-id-1\" class=\"sk-toggleable__label sk-toggleable__label-arrow\">BayesSearchCV</label><div class=\"sk-toggleable__content\"><pre>BayesSearchCV(cv=StratifiedKFold(n_splits=3, random_state=22, shuffle=True),\n",
              "              estimator=RandomForestClassifier(random_state=22), n_jobs=-1,\n",
              "              scoring=&#x27;recall&#x27;,\n",
              "              search_spaces={&#x27;criterion&#x27;: Categorical(categories=(&#x27;gini&#x27;, &#x27;entropy&#x27;), prior=None),\n",
              "                             &#x27;max_depth&#x27;: Integer(low=2, high=10, prior=&#x27;uniform&#x27;, transform=&#x27;normalize&#x27;),\n",
              "                             &#x27;max_features&#x27;: Categorical(categories=(&#x27;sqrt&#x27;, &#x27;log2&#x27;), prior=None),\n",
              "                             &#x27;min_samples_leaf&#x27;: Integer(low=2, high=20, prior=&#x27;uniform&#x27;, transform=&#x27;normalize&#x27;),\n",
              "                             &#x27;min_samples_split&#x27;: Integer(low=2, high=20, prior=&#x27;uniform&#x27;, transform=&#x27;normalize&#x27;),\n",
              "                             &#x27;n_estimators&#x27;: Integer(low=50, high=500, prior=&#x27;uniform&#x27;, transform=&#x27;normalize&#x27;)})</pre></div></div></div><div class=\"sk-parallel\"><div class=\"sk-parallel-item\"><div class=\"sk-item\"><div class=\"sk-label-container\"><div class=\"sk-label sk-toggleable\"><input class=\"sk-toggleable__control sk-hidden--visually\" id=\"sk-estimator-id-2\" type=\"checkbox\" ><label for=\"sk-estimator-id-2\" class=\"sk-toggleable__label sk-toggleable__label-arrow\">estimator: RandomForestClassifier</label><div class=\"sk-toggleable__content\"><pre>RandomForestClassifier(random_state=22)</pre></div></div></div><div class=\"sk-serial\"><div class=\"sk-item\"><div class=\"sk-estimator sk-toggleable\"><input class=\"sk-toggleable__control sk-hidden--visually\" id=\"sk-estimator-id-3\" type=\"checkbox\" ><label for=\"sk-estimator-id-3\" class=\"sk-toggleable__label sk-toggleable__label-arrow\">RandomForestClassifier</label><div class=\"sk-toggleable__content\"><pre>RandomForestClassifier(random_state=22)</pre></div></div></div></div></div></div></div></div></div></div>"
            ]
          },
          "metadata": {},
          "execution_count": 40
        }
      ]
    },
    {
      "cell_type": "code",
      "source": [
        "# Visualizando os melhores hiperparâmetros :\n",
        "\n",
        "rf_opt_bayesian.best_params_"
      ],
      "metadata": {
        "colab": {
          "base_uri": "https://localhost:8080/"
        },
        "id": "cZTaG7rEPuZK",
        "outputId": "2c4d7932-7f2c-4a72-b3f3-6e3124468844"
      },
      "execution_count": null,
      "outputs": [
        {
          "output_type": "execute_result",
          "data": {
            "text/plain": [
              "OrderedDict([('criterion', 'gini'),\n",
              "             ('max_depth', 10),\n",
              "             ('max_features', 'log2'),\n",
              "             ('min_samples_leaf', 2),\n",
              "             ('min_samples_split', 3),\n",
              "             ('n_estimators', 50)])"
            ]
          },
          "metadata": {},
          "execution_count": 41
        }
      ]
    },
    {
      "cell_type": "code",
      "source": [
        "# Instanciando o modelo otimizado :\n",
        "\n",
        "random_forest_opt = RandomForestClassifier(\n",
        "    n_estimators = 50,\n",
        "    max_depth = 10,\n",
        "    max_features = 'log2',\n",
        "    criterion = 'gini',\n",
        "    min_samples_leaf = 2,\n",
        "    min_samples_split = 3,\n",
        "    random_state = SEED)"
      ],
      "metadata": {
        "id": "n3PBLoYrQzbL"
      },
      "execution_count": null,
      "outputs": []
    },
    {
      "cell_type": "markdown",
      "source": [
        "## Otimizando o modelo de regressão logística 📈"
      ],
      "metadata": {
        "id": "F57AnclXTBBL"
      }
    },
    {
      "cell_type": "code",
      "source": [
        "# Instanciando o otimizador bayesiano\n",
        "\n",
        "lr_opt_bayesian = BayesSearchCV(\n",
        "    estimator = LogisticRegression(random_state = SEED),\n",
        "    search_spaces = params_lg,\n",
        "    n_iter = 50,\n",
        "    scoring = 'recall',\n",
        "    n_jobs = -1,\n",
        "    cv = inner_cv)"
      ],
      "metadata": {
        "id": "-yJOgRtVSPly"
      },
      "execution_count": null,
      "outputs": []
    },
    {
      "cell_type": "code",
      "source": [
        "%%time\n",
        "\n",
        "# Encontrando a acurácia da etapa de treinamento :\n",
        "\n",
        "lr_nested_score = cross_val_score(lr_opt_bayesian, X_train, y_train, cv = outer_cv)"
      ],
      "metadata": {
        "colab": {
          "base_uri": "https://localhost:8080/"
        },
        "id": "-21k3nbeTHoT",
        "outputId": "41fed1a2-886a-46b3-cb3c-0ec8331b9316"
      },
      "execution_count": null,
      "outputs": [
        {
          "output_type": "stream",
          "name": "stdout",
          "text": [
            "CPU times: user 7min 47s, sys: 4min 32s, total: 12min 19s\n",
            "Wall time: 10min 57s\n"
          ]
        }
      ]
    },
    {
      "cell_type": "code",
      "source": [
        "# Encontrando a acurácia média da etapa de treinamento :\n",
        "\n",
        "lr_nested_mean_score = rf_nested_score.mean().round(3)\n",
        "\n",
        "print(f'Acurácia média da validação cruzada aninhada do L. Regression : {lr_nested_mean_score}')"
      ],
      "metadata": {
        "colab": {
          "base_uri": "https://localhost:8080/"
        },
        "id": "pfOtwcBcUKDm",
        "outputId": "103db653-851c-4b35-8460-73337d51fd3f"
      },
      "execution_count": null,
      "outputs": [
        {
          "output_type": "stream",
          "name": "stdout",
          "text": [
            "Acurácia média da validação cruzada aninhada do L. Regression : 0.752\n"
          ]
        }
      ]
    },
    {
      "cell_type": "code",
      "source": [
        "%%time\n",
        "\n",
        "# Treinando novamente o modelo para visualizar os melhores hiperparâmetros :\n",
        "\n",
        "lr_opt_bayesian.fit(X_train, y_train)"
      ],
      "metadata": {
        "colab": {
          "base_uri": "https://localhost:8080/",
          "height": 151
        },
        "id": "zXd6xmTkT110",
        "outputId": "2ea7921c-c0e2-4f71-cf9a-45e3bdfce1c4"
      },
      "execution_count": null,
      "outputs": [
        {
          "output_type": "stream",
          "name": "stdout",
          "text": [
            "CPU times: user 1min 27s, sys: 55.4 s, total: 2min 22s\n",
            "Wall time: 1min 58s\n"
          ]
        },
        {
          "output_type": "execute_result",
          "data": {
            "text/plain": [
              "BayesSearchCV(cv=StratifiedKFold(n_splits=3, random_state=22, shuffle=True),\n",
              "              estimator=LogisticRegression(random_state=22), n_jobs=-1,\n",
              "              scoring='recall',\n",
              "              search_spaces={'C': Real(low=0.01, high=10, prior='uniform', transform='normalize'),\n",
              "                             'max_iter': Integer(low=100, high=300, prior='uniform', transform='normalize'),\n",
              "                             'penalty': Categorical(categories=('l1', 'l2'), prior=None),\n",
              "                             'solver': Categorical(categories=('liblinear',), prior=None)})"
            ],
            "text/html": [
              "<style>#sk-container-id-2 {color: black;background-color: white;}#sk-container-id-2 pre{padding: 0;}#sk-container-id-2 div.sk-toggleable {background-color: white;}#sk-container-id-2 label.sk-toggleable__label {cursor: pointer;display: block;width: 100%;margin-bottom: 0;padding: 0.3em;box-sizing: border-box;text-align: center;}#sk-container-id-2 label.sk-toggleable__label-arrow:before {content: \"▸\";float: left;margin-right: 0.25em;color: #696969;}#sk-container-id-2 label.sk-toggleable__label-arrow:hover:before {color: black;}#sk-container-id-2 div.sk-estimator:hover label.sk-toggleable__label-arrow:before {color: black;}#sk-container-id-2 div.sk-toggleable__content {max-height: 0;max-width: 0;overflow: hidden;text-align: left;background-color: #f0f8ff;}#sk-container-id-2 div.sk-toggleable__content pre {margin: 0.2em;color: black;border-radius: 0.25em;background-color: #f0f8ff;}#sk-container-id-2 input.sk-toggleable__control:checked~div.sk-toggleable__content {max-height: 200px;max-width: 100%;overflow: auto;}#sk-container-id-2 input.sk-toggleable__control:checked~label.sk-toggleable__label-arrow:before {content: \"▾\";}#sk-container-id-2 div.sk-estimator input.sk-toggleable__control:checked~label.sk-toggleable__label {background-color: #d4ebff;}#sk-container-id-2 div.sk-label input.sk-toggleable__control:checked~label.sk-toggleable__label {background-color: #d4ebff;}#sk-container-id-2 input.sk-hidden--visually {border: 0;clip: rect(1px 1px 1px 1px);clip: rect(1px, 1px, 1px, 1px);height: 1px;margin: -1px;overflow: hidden;padding: 0;position: absolute;width: 1px;}#sk-container-id-2 div.sk-estimator {font-family: monospace;background-color: #f0f8ff;border: 1px dotted black;border-radius: 0.25em;box-sizing: border-box;margin-bottom: 0.5em;}#sk-container-id-2 div.sk-estimator:hover {background-color: #d4ebff;}#sk-container-id-2 div.sk-parallel-item::after {content: \"\";width: 100%;border-bottom: 1px solid gray;flex-grow: 1;}#sk-container-id-2 div.sk-label:hover label.sk-toggleable__label {background-color: #d4ebff;}#sk-container-id-2 div.sk-serial::before {content: \"\";position: absolute;border-left: 1px solid gray;box-sizing: border-box;top: 0;bottom: 0;left: 50%;z-index: 0;}#sk-container-id-2 div.sk-serial {display: flex;flex-direction: column;align-items: center;background-color: white;padding-right: 0.2em;padding-left: 0.2em;position: relative;}#sk-container-id-2 div.sk-item {position: relative;z-index: 1;}#sk-container-id-2 div.sk-parallel {display: flex;align-items: stretch;justify-content: center;background-color: white;position: relative;}#sk-container-id-2 div.sk-item::before, #sk-container-id-2 div.sk-parallel-item::before {content: \"\";position: absolute;border-left: 1px solid gray;box-sizing: border-box;top: 0;bottom: 0;left: 50%;z-index: -1;}#sk-container-id-2 div.sk-parallel-item {display: flex;flex-direction: column;z-index: 1;position: relative;background-color: white;}#sk-container-id-2 div.sk-parallel-item:first-child::after {align-self: flex-end;width: 50%;}#sk-container-id-2 div.sk-parallel-item:last-child::after {align-self: flex-start;width: 50%;}#sk-container-id-2 div.sk-parallel-item:only-child::after {width: 0;}#sk-container-id-2 div.sk-dashed-wrapped {border: 1px dashed gray;margin: 0 0.4em 0.5em 0.4em;box-sizing: border-box;padding-bottom: 0.4em;background-color: white;}#sk-container-id-2 div.sk-label label {font-family: monospace;font-weight: bold;display: inline-block;line-height: 1.2em;}#sk-container-id-2 div.sk-label-container {text-align: center;}#sk-container-id-2 div.sk-container {/* jupyter's `normalize.less` sets `[hidden] { display: none; }` but bootstrap.min.css set `[hidden] { display: none !important; }` so we also need the `!important` here to be able to override the default hidden behavior on the sphinx rendered scikit-learn.org. See: https://github.com/scikit-learn/scikit-learn/issues/21755 */display: inline-block !important;position: relative;}#sk-container-id-2 div.sk-text-repr-fallback {display: none;}</style><div id=\"sk-container-id-2\" class=\"sk-top-container\"><div class=\"sk-text-repr-fallback\"><pre>BayesSearchCV(cv=StratifiedKFold(n_splits=3, random_state=22, shuffle=True),\n",
              "              estimator=LogisticRegression(random_state=22), n_jobs=-1,\n",
              "              scoring=&#x27;recall&#x27;,\n",
              "              search_spaces={&#x27;C&#x27;: Real(low=0.01, high=10, prior=&#x27;uniform&#x27;, transform=&#x27;normalize&#x27;),\n",
              "                             &#x27;max_iter&#x27;: Integer(low=100, high=300, prior=&#x27;uniform&#x27;, transform=&#x27;normalize&#x27;),\n",
              "                             &#x27;penalty&#x27;: Categorical(categories=(&#x27;l1&#x27;, &#x27;l2&#x27;), prior=None),\n",
              "                             &#x27;solver&#x27;: Categorical(categories=(&#x27;liblinear&#x27;,), prior=None)})</pre><b>In a Jupyter environment, please rerun this cell to show the HTML representation or trust the notebook. <br />On GitHub, the HTML representation is unable to render, please try loading this page with nbviewer.org.</b></div><div class=\"sk-container\" hidden><div class=\"sk-item sk-dashed-wrapped\"><div class=\"sk-label-container\"><div class=\"sk-label sk-toggleable\"><input class=\"sk-toggleable__control sk-hidden--visually\" id=\"sk-estimator-id-4\" type=\"checkbox\" ><label for=\"sk-estimator-id-4\" class=\"sk-toggleable__label sk-toggleable__label-arrow\">BayesSearchCV</label><div class=\"sk-toggleable__content\"><pre>BayesSearchCV(cv=StratifiedKFold(n_splits=3, random_state=22, shuffle=True),\n",
              "              estimator=LogisticRegression(random_state=22), n_jobs=-1,\n",
              "              scoring=&#x27;recall&#x27;,\n",
              "              search_spaces={&#x27;C&#x27;: Real(low=0.01, high=10, prior=&#x27;uniform&#x27;, transform=&#x27;normalize&#x27;),\n",
              "                             &#x27;max_iter&#x27;: Integer(low=100, high=300, prior=&#x27;uniform&#x27;, transform=&#x27;normalize&#x27;),\n",
              "                             &#x27;penalty&#x27;: Categorical(categories=(&#x27;l1&#x27;, &#x27;l2&#x27;), prior=None),\n",
              "                             &#x27;solver&#x27;: Categorical(categories=(&#x27;liblinear&#x27;,), prior=None)})</pre></div></div></div><div class=\"sk-parallel\"><div class=\"sk-parallel-item\"><div class=\"sk-item\"><div class=\"sk-label-container\"><div class=\"sk-label sk-toggleable\"><input class=\"sk-toggleable__control sk-hidden--visually\" id=\"sk-estimator-id-5\" type=\"checkbox\" ><label for=\"sk-estimator-id-5\" class=\"sk-toggleable__label sk-toggleable__label-arrow\">estimator: LogisticRegression</label><div class=\"sk-toggleable__content\"><pre>LogisticRegression(random_state=22)</pre></div></div></div><div class=\"sk-serial\"><div class=\"sk-item\"><div class=\"sk-estimator sk-toggleable\"><input class=\"sk-toggleable__control sk-hidden--visually\" id=\"sk-estimator-id-6\" type=\"checkbox\" ><label for=\"sk-estimator-id-6\" class=\"sk-toggleable__label sk-toggleable__label-arrow\">LogisticRegression</label><div class=\"sk-toggleable__content\"><pre>LogisticRegression(random_state=22)</pre></div></div></div></div></div></div></div></div></div></div>"
            ]
          },
          "metadata": {},
          "execution_count": 53
        }
      ]
    },
    {
      "cell_type": "code",
      "source": [
        "# Encontrando os melhores hiperparâmetros :\n",
        "\n",
        "lr_opt_bayesian.best_params_"
      ],
      "metadata": {
        "colab": {
          "base_uri": "https://localhost:8080/"
        },
        "id": "bEf_YvBFU-iJ",
        "outputId": "3430feff-e9a2-44f0-d9e4-d21de2f3b435"
      },
      "execution_count": null,
      "outputs": [
        {
          "output_type": "execute_result",
          "data": {
            "text/plain": [
              "OrderedDict([('C', 4.330084702341494),\n",
              "             ('max_iter', 295),\n",
              "             ('penalty', 'l2'),\n",
              "             ('solver', 'liblinear')])"
            ]
          },
          "metadata": {},
          "execution_count": 54
        }
      ]
    },
    {
      "cell_type": "code",
      "source": [
        "# Instanciando o melhor modelo encontrado :\n",
        "\n",
        "logistic_regression_opt = LogisticRegression(\n",
        "    C = 4.33,\n",
        "    max_iter = 295,\n",
        "    penalty = 'l2',\n",
        "    solver = 'liblinear',\n",
        "    random_state = SEED)"
      ],
      "metadata": {
        "id": "oV2Zay9rXxKs"
      },
      "execution_count": null,
      "outputs": []
    },
    {
      "cell_type": "markdown",
      "source": [
        "## Otimizando o XGBoost 🌳🌳"
      ],
      "metadata": {
        "id": "DM3DC_OaVAgm"
      }
    },
    {
      "cell_type": "code",
      "source": [
        "# Instanciando o otimizador bayesiano\n",
        "\n",
        "xgb_opt_bayesian = BayesSearchCV(\n",
        "    estimator = XGBClassifier(random_state=SEED),\n",
        "    search_spaces = params_xgb,\n",
        "    n_iter = 50,\n",
        "    scoring = 'recall',\n",
        "    n_jobs = -1,\n",
        "    cv = inner_cv)"
      ],
      "metadata": {
        "id": "l4hiRC5HVNE7"
      },
      "execution_count": null,
      "outputs": []
    },
    {
      "cell_type": "code",
      "source": [
        "%%time\n",
        "\n",
        "# Encontrando a acurácia da etapa de treinamento :\n",
        "\n",
        "xgb_nested_score = cross_val_score(xgb_opt_bayesian, X_train, y_train, cv = outer_cv)"
      ],
      "metadata": {
        "colab": {
          "base_uri": "https://localhost:8080/"
        },
        "id": "s6iYFz5AViJv",
        "outputId": "92702866-3d09-40bc-f4f7-20703ca29dee"
      },
      "execution_count": null,
      "outputs": [
        {
          "output_type": "stream",
          "name": "stdout",
          "text": [
            "CPU times: user 9min 21s, sys: 4min 53s, total: 14min 15s\n",
            "Wall time: 12min 47s\n"
          ]
        }
      ]
    },
    {
      "cell_type": "code",
      "source": [
        "# Encontrando a acurácia média da etapa de treinamento :\n",
        "\n",
        "xgb_mean_score = xgb_nested_score.mean().round(3)\n",
        "\n",
        "print(f'Acurácia média da validação cruzada aninhada do XGBoost : {xgb_mean_score}')"
      ],
      "metadata": {
        "colab": {
          "base_uri": "https://localhost:8080/"
        },
        "id": "VQVz_q86V7B2",
        "outputId": "62518d4f-31c3-4dd0-e616-1b8ac9e3b7ed"
      },
      "execution_count": null,
      "outputs": [
        {
          "output_type": "stream",
          "name": "stdout",
          "text": [
            "Acurácia média da validação cruzada aninhada do XGBoost : 0.753\n"
          ]
        }
      ]
    },
    {
      "cell_type": "code",
      "source": [
        "%%time\n",
        "\n",
        "# Treinando novamente o modelo para verificar seus melhores hiperparâmetros :\n",
        "\n",
        "xgb_opt_bayesian.fit(X_train, y_train)"
      ],
      "metadata": {
        "colab": {
          "base_uri": "https://localhost:8080/",
          "height": 151
        },
        "id": "SK2MGNlsWp1M",
        "outputId": "0a03d29a-ed84-44c4-bc2a-f3eccb1d722b"
      },
      "execution_count": null,
      "outputs": [
        {
          "output_type": "stream",
          "name": "stdout",
          "text": [
            "CPU times: user 1min 34s, sys: 59.3 s, total: 2min 33s\n",
            "Wall time: 1min 53s\n"
          ]
        },
        {
          "output_type": "execute_result",
          "data": {
            "text/plain": [
              "BayesSearchCV(cv=StratifiedKFold(n_splits=3, random_state=22, shuffle=True),\n",
              "              estimator=XGBClassifier(base_score=None, booster=None,\n",
              "                                      callbacks=None, colsample_bylevel=None,\n",
              "                                      colsample_bynode=None,\n",
              "                                      colsample_bytree=None, device=None,\n",
              "                                      early_stopping_rounds=None,\n",
              "                                      enable_categorical=False,\n",
              "                                      eval_metric=None, feature_types=None,\n",
              "                                      gamma=None, grow_policy=None,\n",
              "                                      importance_ty...\n",
              "              search_spaces={'colsample_bytree': Real(low=0.5, high=1, prior='uniform', transform='normalize'),\n",
              "                             'learning_rate': Real(low=0.01, high=0.3, prior='uniform', transform='normalize'),\n",
              "                             'max_depth': Integer(low=2, high=10, prior='uniform', transform='normalize'),\n",
              "                             'n_estimators': Integer(low=50, high=500, prior='uniform', transform='normalize'),\n",
              "                             'subsample': Real(low=0.5, high=1, prior='uniform', transform='normalize')})"
            ],
            "text/html": [
              "<style>#sk-container-id-3 {color: black;background-color: white;}#sk-container-id-3 pre{padding: 0;}#sk-container-id-3 div.sk-toggleable {background-color: white;}#sk-container-id-3 label.sk-toggleable__label {cursor: pointer;display: block;width: 100%;margin-bottom: 0;padding: 0.3em;box-sizing: border-box;text-align: center;}#sk-container-id-3 label.sk-toggleable__label-arrow:before {content: \"▸\";float: left;margin-right: 0.25em;color: #696969;}#sk-container-id-3 label.sk-toggleable__label-arrow:hover:before {color: black;}#sk-container-id-3 div.sk-estimator:hover label.sk-toggleable__label-arrow:before {color: black;}#sk-container-id-3 div.sk-toggleable__content {max-height: 0;max-width: 0;overflow: hidden;text-align: left;background-color: #f0f8ff;}#sk-container-id-3 div.sk-toggleable__content pre {margin: 0.2em;color: black;border-radius: 0.25em;background-color: #f0f8ff;}#sk-container-id-3 input.sk-toggleable__control:checked~div.sk-toggleable__content {max-height: 200px;max-width: 100%;overflow: auto;}#sk-container-id-3 input.sk-toggleable__control:checked~label.sk-toggleable__label-arrow:before {content: \"▾\";}#sk-container-id-3 div.sk-estimator input.sk-toggleable__control:checked~label.sk-toggleable__label {background-color: #d4ebff;}#sk-container-id-3 div.sk-label input.sk-toggleable__control:checked~label.sk-toggleable__label {background-color: #d4ebff;}#sk-container-id-3 input.sk-hidden--visually {border: 0;clip: rect(1px 1px 1px 1px);clip: rect(1px, 1px, 1px, 1px);height: 1px;margin: -1px;overflow: hidden;padding: 0;position: absolute;width: 1px;}#sk-container-id-3 div.sk-estimator {font-family: monospace;background-color: #f0f8ff;border: 1px dotted black;border-radius: 0.25em;box-sizing: border-box;margin-bottom: 0.5em;}#sk-container-id-3 div.sk-estimator:hover {background-color: #d4ebff;}#sk-container-id-3 div.sk-parallel-item::after {content: \"\";width: 100%;border-bottom: 1px solid gray;flex-grow: 1;}#sk-container-id-3 div.sk-label:hover label.sk-toggleable__label {background-color: #d4ebff;}#sk-container-id-3 div.sk-serial::before {content: \"\";position: absolute;border-left: 1px solid gray;box-sizing: border-box;top: 0;bottom: 0;left: 50%;z-index: 0;}#sk-container-id-3 div.sk-serial {display: flex;flex-direction: column;align-items: center;background-color: white;padding-right: 0.2em;padding-left: 0.2em;position: relative;}#sk-container-id-3 div.sk-item {position: relative;z-index: 1;}#sk-container-id-3 div.sk-parallel {display: flex;align-items: stretch;justify-content: center;background-color: white;position: relative;}#sk-container-id-3 div.sk-item::before, #sk-container-id-3 div.sk-parallel-item::before {content: \"\";position: absolute;border-left: 1px solid gray;box-sizing: border-box;top: 0;bottom: 0;left: 50%;z-index: -1;}#sk-container-id-3 div.sk-parallel-item {display: flex;flex-direction: column;z-index: 1;position: relative;background-color: white;}#sk-container-id-3 div.sk-parallel-item:first-child::after {align-self: flex-end;width: 50%;}#sk-container-id-3 div.sk-parallel-item:last-child::after {align-self: flex-start;width: 50%;}#sk-container-id-3 div.sk-parallel-item:only-child::after {width: 0;}#sk-container-id-3 div.sk-dashed-wrapped {border: 1px dashed gray;margin: 0 0.4em 0.5em 0.4em;box-sizing: border-box;padding-bottom: 0.4em;background-color: white;}#sk-container-id-3 div.sk-label label {font-family: monospace;font-weight: bold;display: inline-block;line-height: 1.2em;}#sk-container-id-3 div.sk-label-container {text-align: center;}#sk-container-id-3 div.sk-container {/* jupyter's `normalize.less` sets `[hidden] { display: none; }` but bootstrap.min.css set `[hidden] { display: none !important; }` so we also need the `!important` here to be able to override the default hidden behavior on the sphinx rendered scikit-learn.org. See: https://github.com/scikit-learn/scikit-learn/issues/21755 */display: inline-block !important;position: relative;}#sk-container-id-3 div.sk-text-repr-fallback {display: none;}</style><div id=\"sk-container-id-3\" class=\"sk-top-container\"><div class=\"sk-text-repr-fallback\"><pre>BayesSearchCV(cv=StratifiedKFold(n_splits=3, random_state=22, shuffle=True),\n",
              "              estimator=XGBClassifier(base_score=None, booster=None,\n",
              "                                      callbacks=None, colsample_bylevel=None,\n",
              "                                      colsample_bynode=None,\n",
              "                                      colsample_bytree=None, device=None,\n",
              "                                      early_stopping_rounds=None,\n",
              "                                      enable_categorical=False,\n",
              "                                      eval_metric=None, feature_types=None,\n",
              "                                      gamma=None, grow_policy=None,\n",
              "                                      importance_ty...\n",
              "              search_spaces={&#x27;colsample_bytree&#x27;: Real(low=0.5, high=1, prior=&#x27;uniform&#x27;, transform=&#x27;normalize&#x27;),\n",
              "                             &#x27;learning_rate&#x27;: Real(low=0.01, high=0.3, prior=&#x27;uniform&#x27;, transform=&#x27;normalize&#x27;),\n",
              "                             &#x27;max_depth&#x27;: Integer(low=2, high=10, prior=&#x27;uniform&#x27;, transform=&#x27;normalize&#x27;),\n",
              "                             &#x27;n_estimators&#x27;: Integer(low=50, high=500, prior=&#x27;uniform&#x27;, transform=&#x27;normalize&#x27;),\n",
              "                             &#x27;subsample&#x27;: Real(low=0.5, high=1, prior=&#x27;uniform&#x27;, transform=&#x27;normalize&#x27;)})</pre><b>In a Jupyter environment, please rerun this cell to show the HTML representation or trust the notebook. <br />On GitHub, the HTML representation is unable to render, please try loading this page with nbviewer.org.</b></div><div class=\"sk-container\" hidden><div class=\"sk-item sk-dashed-wrapped\"><div class=\"sk-label-container\"><div class=\"sk-label sk-toggleable\"><input class=\"sk-toggleable__control sk-hidden--visually\" id=\"sk-estimator-id-7\" type=\"checkbox\" ><label for=\"sk-estimator-id-7\" class=\"sk-toggleable__label sk-toggleable__label-arrow\">BayesSearchCV</label><div class=\"sk-toggleable__content\"><pre>BayesSearchCV(cv=StratifiedKFold(n_splits=3, random_state=22, shuffle=True),\n",
              "              estimator=XGBClassifier(base_score=None, booster=None,\n",
              "                                      callbacks=None, colsample_bylevel=None,\n",
              "                                      colsample_bynode=None,\n",
              "                                      colsample_bytree=None, device=None,\n",
              "                                      early_stopping_rounds=None,\n",
              "                                      enable_categorical=False,\n",
              "                                      eval_metric=None, feature_types=None,\n",
              "                                      gamma=None, grow_policy=None,\n",
              "                                      importance_ty...\n",
              "              search_spaces={&#x27;colsample_bytree&#x27;: Real(low=0.5, high=1, prior=&#x27;uniform&#x27;, transform=&#x27;normalize&#x27;),\n",
              "                             &#x27;learning_rate&#x27;: Real(low=0.01, high=0.3, prior=&#x27;uniform&#x27;, transform=&#x27;normalize&#x27;),\n",
              "                             &#x27;max_depth&#x27;: Integer(low=2, high=10, prior=&#x27;uniform&#x27;, transform=&#x27;normalize&#x27;),\n",
              "                             &#x27;n_estimators&#x27;: Integer(low=50, high=500, prior=&#x27;uniform&#x27;, transform=&#x27;normalize&#x27;),\n",
              "                             &#x27;subsample&#x27;: Real(low=0.5, high=1, prior=&#x27;uniform&#x27;, transform=&#x27;normalize&#x27;)})</pre></div></div></div><div class=\"sk-parallel\"><div class=\"sk-parallel-item\"><div class=\"sk-item\"><div class=\"sk-label-container\"><div class=\"sk-label sk-toggleable\"><input class=\"sk-toggleable__control sk-hidden--visually\" id=\"sk-estimator-id-8\" type=\"checkbox\" ><label for=\"sk-estimator-id-8\" class=\"sk-toggleable__label sk-toggleable__label-arrow\">estimator: XGBClassifier</label><div class=\"sk-toggleable__content\"><pre>XGBClassifier(base_score=None, booster=None, callbacks=None,\n",
              "              colsample_bylevel=None, colsample_bynode=None,\n",
              "              colsample_bytree=None, device=None, early_stopping_rounds=None,\n",
              "              enable_categorical=False, eval_metric=None, feature_types=None,\n",
              "              gamma=None, grow_policy=None, importance_type=None,\n",
              "              interaction_constraints=None, learning_rate=None, max_bin=None,\n",
              "              max_cat_threshold=None, max_cat_to_onehot=None,\n",
              "              max_delta_step=None, max_depth=None, max_leaves=None,\n",
              "              min_child_weight=None, missing=nan, monotone_constraints=None,\n",
              "              multi_strategy=None, n_estimators=None, n_jobs=None,\n",
              "              num_parallel_tree=None, random_state=22, ...)</pre></div></div></div><div class=\"sk-serial\"><div class=\"sk-item\"><div class=\"sk-estimator sk-toggleable\"><input class=\"sk-toggleable__control sk-hidden--visually\" id=\"sk-estimator-id-9\" type=\"checkbox\" ><label for=\"sk-estimator-id-9\" class=\"sk-toggleable__label sk-toggleable__label-arrow\">XGBClassifier</label><div class=\"sk-toggleable__content\"><pre>XGBClassifier(base_score=None, booster=None, callbacks=None,\n",
              "              colsample_bylevel=None, colsample_bynode=None,\n",
              "              colsample_bytree=None, device=None, early_stopping_rounds=None,\n",
              "              enable_categorical=False, eval_metric=None, feature_types=None,\n",
              "              gamma=None, grow_policy=None, importance_type=None,\n",
              "              interaction_constraints=None, learning_rate=None, max_bin=None,\n",
              "              max_cat_threshold=None, max_cat_to_onehot=None,\n",
              "              max_delta_step=None, max_depth=None, max_leaves=None,\n",
              "              min_child_weight=None, missing=nan, monotone_constraints=None,\n",
              "              multi_strategy=None, n_estimators=None, n_jobs=None,\n",
              "              num_parallel_tree=None, random_state=22, ...)</pre></div></div></div></div></div></div></div></div></div></div>"
            ]
          },
          "metadata": {},
          "execution_count": 59
        }
      ]
    },
    {
      "cell_type": "code",
      "source": [
        "# Encontrando os melhores hiperparâmetros :\n",
        "\n",
        "xgb_opt_bayesian.best_params_"
      ],
      "metadata": {
        "colab": {
          "base_uri": "https://localhost:8080/"
        },
        "id": "XN5eP_RsWqJk",
        "outputId": "d36d5bf7-0327-48eb-81c1-93ddc88aafdd"
      },
      "execution_count": null,
      "outputs": [
        {
          "output_type": "execute_result",
          "data": {
            "text/plain": [
              "OrderedDict([('colsample_bytree', 0.5),\n",
              "             ('learning_rate', 0.2410079918879401),\n",
              "             ('max_depth', 2),\n",
              "             ('n_estimators', 388),\n",
              "             ('subsample', 0.5248097306845334)])"
            ]
          },
          "metadata": {},
          "execution_count": 60
        }
      ]
    },
    {
      "cell_type": "code",
      "source": [
        "# Instanciando o melhor modelo encontrado :\n",
        "\n",
        "xgb_opt_bayesian = XGBClassifier(\n",
        "    n_estimators = 388,\n",
        "    max_depth = 2,\n",
        "    learning_rate = 0.24,\n",
        "    subsample = 0.52,\n",
        "    colsample_bytree = 0.5,\n",
        "    random_state = SEED)\n"
      ],
      "metadata": {
        "id": "Me7GuJ0Ebvdc"
      },
      "execution_count": 34,
      "outputs": []
    },
    {
      "cell_type": "markdown",
      "source": [
        "## Otimizando o K-Nierst Neighbors 📏"
      ],
      "metadata": {
        "id": "K2csHKCwW4pH"
      }
    },
    {
      "cell_type": "code",
      "source": [
        "# Instanciando o otimizador bayesiano\n",
        "\n",
        "knn_opt_bayesian = BayesSearchCV(\n",
        "    estimator = KNeighborsClassifier(),\n",
        "    search_spaces = params_knn,\n",
        "    n_iter = 50,\n",
        "    scoring = 'recall',\n",
        "    n_jobs = -1,\n",
        "    cv = inner_cv)"
      ],
      "metadata": {
        "id": "hjCs2HoKW30p"
      },
      "execution_count": 39,
      "outputs": []
    },
    {
      "cell_type": "code",
      "source": [
        "%%time\n",
        "\n",
        "# Encontrando a acurácia da etapa de treinamento :\n",
        "\n",
        "knn_nested_score = cross_val_score(knn_opt_bayesian, X_train, y_train, cv = outer_cv)"
      ],
      "metadata": {
        "colab": {
          "base_uri": "https://localhost:8080/"
        },
        "collapsed": true,
        "id": "i-egwFBLXmQa",
        "outputId": "2cce6adc-e65a-4513-c860-aaa27019967a"
      },
      "execution_count": null,
      "outputs": [
        {
          "output_type": "stream",
          "name": "stderr",
          "text": [
            "/usr/local/lib/python3.10/dist-packages/skopt/optimizer/optimizer.py:517: UserWarning: The objective has been evaluated at point ['euclidean', 3, 'distance'] before, using random point ['manhattan', 4, 'distance']\n",
            "  warnings.warn(\n",
            "/usr/local/lib/python3.10/dist-packages/skopt/optimizer/optimizer.py:517: UserWarning: The objective has been evaluated at point ['euclidean', 3, 'distance'] before, using random point ['euclidean', 5, 'uniform']\n",
            "  warnings.warn(\n",
            "/usr/local/lib/python3.10/dist-packages/skopt/optimizer/optimizer.py:517: UserWarning: The objective has been evaluated at point ['manhattan', 3, 'distance'] before, using random point ['euclidean', 4, 'uniform']\n",
            "  warnings.warn(\n",
            "/usr/local/lib/python3.10/dist-packages/skopt/optimizer/optimizer.py:517: UserWarning: The objective has been evaluated at point ['euclidean', 3, 'distance'] before, using random point ['euclidean', 4, 'uniform']\n",
            "  warnings.warn(\n",
            "/usr/local/lib/python3.10/dist-packages/skopt/optimizer/optimizer.py:517: UserWarning: The objective has been evaluated at point ['euclidean', 3, 'distance'] before, using random point ['manhattan', 8, 'distance']\n",
            "  warnings.warn(\n",
            "/usr/local/lib/python3.10/dist-packages/skopt/optimizer/optimizer.py:517: UserWarning: The objective has been evaluated at point ['euclidean', 3, 'distance'] before, using random point ['manhattan', 5, 'uniform']\n",
            "  warnings.warn(\n",
            "/usr/local/lib/python3.10/dist-packages/skopt/optimizer/optimizer.py:517: UserWarning: The objective has been evaluated at point ['euclidean', 3, 'distance'] before, using random point ['euclidean', 4, 'distance']\n",
            "  warnings.warn(\n",
            "/usr/local/lib/python3.10/dist-packages/skopt/optimizer/optimizer.py:517: UserWarning: The objective has been evaluated at point ['manhattan', 10, 'distance'] before, using random point ['euclidean', 9, 'uniform']\n",
            "  warnings.warn(\n",
            "/usr/local/lib/python3.10/dist-packages/skopt/optimizer/optimizer.py:517: UserWarning: The objective has been evaluated at point ['manhattan', 3, 'distance'] before, using random point ['manhattan', 5, 'uniform']\n",
            "  warnings.warn(\n",
            "/usr/local/lib/python3.10/dist-packages/skopt/optimizer/optimizer.py:517: UserWarning: The objective has been evaluated at point ['manhattan', 3, 'distance'] before, using random point ['manhattan', 7, 'distance']\n",
            "  warnings.warn(\n",
            "/usr/local/lib/python3.10/dist-packages/skopt/optimizer/optimizer.py:517: UserWarning: The objective has been evaluated at point ['manhattan', 3, 'distance'] before, using random point ['manhattan', 3, 'distance']\n",
            "  warnings.warn(\n",
            "/usr/local/lib/python3.10/dist-packages/skopt/optimizer/optimizer.py:517: UserWarning: The objective has been evaluated at point ['manhattan', 3, 'distance'] before, using random point ['manhattan', 6, 'uniform']\n",
            "  warnings.warn(\n",
            "/usr/local/lib/python3.10/dist-packages/skopt/optimizer/optimizer.py:517: UserWarning: The objective has been evaluated at point ['manhattan', 10, 'distance'] before, using random point ['euclidean', 10, 'distance']\n",
            "  warnings.warn(\n",
            "/usr/local/lib/python3.10/dist-packages/skopt/optimizer/optimizer.py:517: UserWarning: The objective has been evaluated at point ['manhattan', 3, 'distance'] before, using random point ['manhattan', 7, 'distance']\n",
            "  warnings.warn(\n",
            "/usr/local/lib/python3.10/dist-packages/skopt/optimizer/optimizer.py:517: UserWarning: The objective has been evaluated at point ['manhattan', 3, 'distance'] before, using random point ['euclidean', 4, 'distance']\n",
            "  warnings.warn(\n",
            "/usr/local/lib/python3.10/dist-packages/skopt/optimizer/optimizer.py:517: UserWarning: The objective has been evaluated at point ['manhattan', 3, 'distance'] before, using random point ['manhattan', 5, 'distance']\n",
            "  warnings.warn(\n",
            "/usr/local/lib/python3.10/dist-packages/skopt/optimizer/optimizer.py:517: UserWarning: The objective has been evaluated at point ['manhattan', 10, 'distance'] before, using random point ['manhattan', 6, 'uniform']\n",
            "  warnings.warn(\n",
            "/usr/local/lib/python3.10/dist-packages/skopt/optimizer/optimizer.py:517: UserWarning: The objective has been evaluated at point ['euclidean', 5, 'distance'] before, using random point ['manhattan', 7, 'uniform']\n",
            "  warnings.warn(\n",
            "/usr/local/lib/python3.10/dist-packages/skopt/optimizer/optimizer.py:517: UserWarning: The objective has been evaluated at point ['manhattan', 10, 'distance'] before, using random point ['euclidean', 6, 'uniform']\n",
            "  warnings.warn(\n",
            "/usr/local/lib/python3.10/dist-packages/skopt/optimizer/optimizer.py:517: UserWarning: The objective has been evaluated at point ['euclidean', 5, 'uniform'] before, using random point ['euclidean', 9, 'distance']\n",
            "  warnings.warn(\n",
            "/usr/local/lib/python3.10/dist-packages/skopt/optimizer/optimizer.py:517: UserWarning: The objective has been evaluated at point ['manhattan', 4, 'distance'] before, using random point ['euclidean', 10, 'uniform']\n",
            "  warnings.warn(\n",
            "/usr/local/lib/python3.10/dist-packages/skopt/optimizer/optimizer.py:517: UserWarning: The objective has been evaluated at point ['manhattan', 3, 'distance'] before, using random point ['euclidean', 5, 'uniform']\n",
            "  warnings.warn(\n",
            "/usr/local/lib/python3.10/dist-packages/skopt/optimizer/optimizer.py:517: UserWarning: The objective has been evaluated at point ['manhattan', 3, 'distance'] before, using random point ['manhattan', 8, 'distance']\n",
            "  warnings.warn(\n",
            "/usr/local/lib/python3.10/dist-packages/skopt/optimizer/optimizer.py:517: UserWarning: The objective has been evaluated at point ['manhattan', 3, 'distance'] before, using random point ['euclidean', 8, 'distance']\n",
            "  warnings.warn(\n",
            "/usr/local/lib/python3.10/dist-packages/skopt/optimizer/optimizer.py:517: UserWarning: The objective has been evaluated at point ['manhattan', 3, 'distance'] before, using random point ['manhattan', 8, 'distance']\n",
            "  warnings.warn(\n",
            "/usr/local/lib/python3.10/dist-packages/skopt/optimizer/optimizer.py:517: UserWarning: The objective has been evaluated at point ['manhattan', 3, 'distance'] before, using random point ['manhattan', 8, 'uniform']\n",
            "  warnings.warn(\n",
            "/usr/local/lib/python3.10/dist-packages/skopt/optimizer/optimizer.py:517: UserWarning: The objective has been evaluated at point ['manhattan', 4, 'distance'] before, using random point ['euclidean', 4, 'uniform']\n",
            "  warnings.warn(\n",
            "/usr/local/lib/python3.10/dist-packages/skopt/optimizer/optimizer.py:517: UserWarning: The objective has been evaluated at point ['euclidean', 7, 'uniform'] before, using random point ['euclidean', 8, 'uniform']\n",
            "  warnings.warn(\n",
            "/usr/local/lib/python3.10/dist-packages/skopt/optimizer/optimizer.py:517: UserWarning: The objective has been evaluated at point ['manhattan', 4, 'distance'] before, using random point ['manhattan', 4, 'distance']\n",
            "  warnings.warn(\n",
            "/usr/local/lib/python3.10/dist-packages/skopt/optimizer/optimizer.py:517: UserWarning: The objective has been evaluated at point ['euclidean', 5, 'uniform'] before, using random point ['manhattan', 5, 'uniform']\n",
            "  warnings.warn(\n",
            "/usr/local/lib/python3.10/dist-packages/skopt/optimizer/optimizer.py:517: UserWarning: The objective has been evaluated at point ['euclidean', 6, 'uniform'] before, using random point ['euclidean', 8, 'uniform']\n",
            "  warnings.warn(\n",
            "/usr/local/lib/python3.10/dist-packages/skopt/optimizer/optimizer.py:517: UserWarning: The objective has been evaluated at point ['euclidean', 5, 'uniform'] before, using random point ['manhattan', 6, 'uniform']\n",
            "  warnings.warn(\n",
            "/usr/local/lib/python3.10/dist-packages/skopt/optimizer/optimizer.py:517: UserWarning: The objective has been evaluated at point ['manhattan', 4, 'uniform'] before, using random point ['manhattan', 9, 'uniform']\n",
            "  warnings.warn(\n",
            "/usr/local/lib/python3.10/dist-packages/skopt/optimizer/optimizer.py:517: UserWarning: The objective has been evaluated at point ['euclidean', 7, 'distance'] before, using random point ['euclidean', 10, 'distance']\n",
            "  warnings.warn(\n",
            "/usr/local/lib/python3.10/dist-packages/skopt/optimizer/optimizer.py:517: UserWarning: The objective has been evaluated at point ['manhattan', 7, 'distance'] before, using random point ['euclidean', 5, 'distance']\n",
            "  warnings.warn(\n",
            "/usr/local/lib/python3.10/dist-packages/skopt/optimizer/optimizer.py:517: UserWarning: The objective has been evaluated at point ['manhattan', 6, 'distance'] before, using random point ['manhattan', 10, 'distance']\n",
            "  warnings.warn(\n",
            "/usr/local/lib/python3.10/dist-packages/skopt/optimizer/optimizer.py:517: UserWarning: The objective has been evaluated at point ['manhattan', 7, 'uniform'] before, using random point ['manhattan', 8, 'distance']\n",
            "  warnings.warn(\n",
            "/usr/local/lib/python3.10/dist-packages/skopt/optimizer/optimizer.py:517: UserWarning: The objective has been evaluated at point ['euclidean', 5, 'uniform'] before, using random point ['euclidean', 8, 'uniform']\n",
            "  warnings.warn(\n",
            "/usr/local/lib/python3.10/dist-packages/skopt/optimizer/optimizer.py:517: UserWarning: The objective has been evaluated at point ['euclidean', 5, 'uniform'] before, using random point ['manhattan', 7, 'distance']\n",
            "  warnings.warn(\n",
            "/usr/local/lib/python3.10/dist-packages/skopt/optimizer/optimizer.py:517: UserWarning: The objective has been evaluated at point ['manhattan', 8, 'uniform'] before, using random point ['euclidean', 5, 'distance']\n",
            "  warnings.warn(\n",
            "/usr/local/lib/python3.10/dist-packages/skopt/optimizer/optimizer.py:517: UserWarning: The objective has been evaluated at point ['euclidean', 5, 'uniform'] before, using random point ['manhattan', 8, 'distance']\n",
            "  warnings.warn(\n",
            "/usr/local/lib/python3.10/dist-packages/skopt/optimizer/optimizer.py:517: UserWarning: The objective has been evaluated at point ['euclidean', 5, 'uniform'] before, using random point ['euclidean', 8, 'uniform']\n",
            "  warnings.warn(\n",
            "/usr/local/lib/python3.10/dist-packages/skopt/optimizer/optimizer.py:517: UserWarning: The objective has been evaluated at point ['euclidean', 5, 'uniform'] before, using random point ['euclidean', 8, 'distance']\n",
            "  warnings.warn(\n",
            "/usr/local/lib/python3.10/dist-packages/skopt/optimizer/optimizer.py:517: UserWarning: The objective has been evaluated at point ['manhattan', 7, 'distance'] before, using random point ['euclidean', 9, 'uniform']\n",
            "  warnings.warn(\n",
            "/usr/local/lib/python3.10/dist-packages/skopt/optimizer/optimizer.py:517: UserWarning: The objective has been evaluated at point ['manhattan', 10, 'distance'] before, using random point ['euclidean', 9, 'uniform']\n",
            "  warnings.warn(\n",
            "/usr/local/lib/python3.10/dist-packages/skopt/optimizer/optimizer.py:517: UserWarning: The objective has been evaluated at point ['manhattan', 10, 'distance'] before, using random point ['manhattan', 4, 'distance']\n",
            "  warnings.warn(\n",
            "/usr/local/lib/python3.10/dist-packages/skopt/optimizer/optimizer.py:517: UserWarning: The objective has been evaluated at point ['manhattan', 10, 'distance'] before, using random point ['manhattan', 8, 'uniform']\n",
            "  warnings.warn(\n",
            "/usr/local/lib/python3.10/dist-packages/skopt/optimizer/optimizer.py:517: UserWarning: The objective has been evaluated at point ['manhattan', 10, 'distance'] before, using random point ['euclidean', 4, 'distance']\n",
            "  warnings.warn(\n",
            "/usr/local/lib/python3.10/dist-packages/skopt/optimizer/optimizer.py:517: UserWarning: The objective has been evaluated at point ['manhattan', 10, 'distance'] before, using random point ['manhattan', 9, 'uniform']\n",
            "  warnings.warn(\n",
            "/usr/local/lib/python3.10/dist-packages/skopt/optimizer/optimizer.py:517: UserWarning: The objective has been evaluated at point ['manhattan', 10, 'distance'] before, using random point ['manhattan', 5, 'uniform']\n",
            "  warnings.warn(\n",
            "/usr/local/lib/python3.10/dist-packages/skopt/optimizer/optimizer.py:517: UserWarning: The objective has been evaluated at point ['manhattan', 10, 'distance'] before, using random point ['manhattan', 6, 'uniform']\n",
            "  warnings.warn(\n",
            "/usr/local/lib/python3.10/dist-packages/skopt/optimizer/optimizer.py:517: UserWarning: The objective has been evaluated at point ['manhattan', 10, 'distance'] before, using random point ['euclidean', 3, 'uniform']\n",
            "  warnings.warn(\n",
            "/usr/local/lib/python3.10/dist-packages/skopt/optimizer/optimizer.py:517: UserWarning: The objective has been evaluated at point ['manhattan', 10, 'distance'] before, using random point ['manhattan', 6, 'uniform']\n",
            "  warnings.warn(\n",
            "/usr/local/lib/python3.10/dist-packages/skopt/optimizer/optimizer.py:517: UserWarning: The objective has been evaluated at point ['manhattan', 10, 'distance'] before, using random point ['euclidean', 7, 'distance']\n",
            "  warnings.warn(\n",
            "/usr/local/lib/python3.10/dist-packages/skopt/optimizer/optimizer.py:517: UserWarning: The objective has been evaluated at point ['manhattan', 10, 'distance'] before, using random point ['manhattan', 5, 'uniform']\n",
            "  warnings.warn(\n",
            "/usr/local/lib/python3.10/dist-packages/skopt/optimizer/optimizer.py:517: UserWarning: The objective has been evaluated at point ['manhattan', 10, 'distance'] before, using random point ['euclidean', 7, 'uniform']\n",
            "  warnings.warn(\n",
            "/usr/local/lib/python3.10/dist-packages/skopt/optimizer/optimizer.py:517: UserWarning: The objective has been evaluated at point ['manhattan', 10, 'distance'] before, using random point ['manhattan', 7, 'uniform']\n",
            "  warnings.warn(\n",
            "/usr/local/lib/python3.10/dist-packages/skopt/optimizer/optimizer.py:517: UserWarning: The objective has been evaluated at point ['manhattan', 7, 'distance'] before, using random point ['euclidean', 9, 'distance']\n",
            "  warnings.warn(\n",
            "/usr/local/lib/python3.10/dist-packages/skopt/optimizer/optimizer.py:517: UserWarning: The objective has been evaluated at point ['manhattan', 10, 'distance'] before, using random point ['manhattan', 8, 'uniform']\n",
            "  warnings.warn(\n",
            "/usr/local/lib/python3.10/dist-packages/skopt/optimizer/optimizer.py:517: UserWarning: The objective has been evaluated at point ['manhattan', 6, 'distance'] before, using random point ['euclidean', 9, 'uniform']\n",
            "  warnings.warn(\n",
            "/usr/local/lib/python3.10/dist-packages/skopt/optimizer/optimizer.py:517: UserWarning: The objective has been evaluated at point ['manhattan', 6, 'distance'] before, using random point ['manhattan', 8, 'uniform']\n",
            "  warnings.warn(\n",
            "/usr/local/lib/python3.10/dist-packages/skopt/optimizer/optimizer.py:517: UserWarning: The objective has been evaluated at point ['manhattan', 6, 'distance'] before, using random point ['manhattan', 3, 'uniform']\n",
            "  warnings.warn(\n",
            "/usr/local/lib/python3.10/dist-packages/skopt/optimizer/optimizer.py:517: UserWarning: The objective has been evaluated at point ['euclidean', 6, 'uniform'] before, using random point ['manhattan', 7, 'uniform']\n",
            "  warnings.warn(\n",
            "/usr/local/lib/python3.10/dist-packages/skopt/optimizer/optimizer.py:517: UserWarning: The objective has been evaluated at point ['manhattan', 6, 'distance'] before, using random point ['manhattan', 3, 'uniform']\n",
            "  warnings.warn(\n",
            "/usr/local/lib/python3.10/dist-packages/skopt/optimizer/optimizer.py:517: UserWarning: The objective has been evaluated at point ['manhattan', 6, 'distance'] before, using random point ['euclidean', 8, 'uniform']\n",
            "  warnings.warn(\n",
            "/usr/local/lib/python3.10/dist-packages/skopt/optimizer/optimizer.py:517: UserWarning: The objective has been evaluated at point ['manhattan', 6, 'distance'] before, using random point ['euclidean', 10, 'uniform']\n",
            "  warnings.warn(\n",
            "/usr/local/lib/python3.10/dist-packages/skopt/optimizer/optimizer.py:517: UserWarning: The objective has been evaluated at point ['manhattan', 6, 'distance'] before, using random point ['manhattan', 5, 'uniform']\n",
            "  warnings.warn(\n",
            "/usr/local/lib/python3.10/dist-packages/skopt/optimizer/optimizer.py:517: UserWarning: The objective has been evaluated at point ['manhattan', 6, 'distance'] before, using random point ['euclidean', 7, 'distance']\n",
            "  warnings.warn(\n",
            "/usr/local/lib/python3.10/dist-packages/skopt/optimizer/optimizer.py:517: UserWarning: The objective has been evaluated at point ['manhattan', 6, 'distance'] before, using random point ['manhattan', 6, 'distance']\n",
            "  warnings.warn(\n",
            "/usr/local/lib/python3.10/dist-packages/skopt/optimizer/optimizer.py:517: UserWarning: The objective has been evaluated at point ['euclidean', 7, 'distance'] before, using random point ['manhattan', 7, 'distance']\n",
            "  warnings.warn(\n",
            "/usr/local/lib/python3.10/dist-packages/skopt/optimizer/optimizer.py:517: UserWarning: The objective has been evaluated at point ['euclidean', 9, 'distance'] before, using random point ['manhattan', 7, 'uniform']\n",
            "  warnings.warn(\n",
            "/usr/local/lib/python3.10/dist-packages/skopt/optimizer/optimizer.py:517: UserWarning: The objective has been evaluated at point ['manhattan', 6, 'distance'] before, using random point ['euclidean', 4, 'uniform']\n",
            "  warnings.warn(\n",
            "/usr/local/lib/python3.10/dist-packages/skopt/optimizer/optimizer.py:517: UserWarning: The objective has been evaluated at point ['manhattan', 6, 'distance'] before, using random point ['manhattan', 9, 'uniform']\n",
            "  warnings.warn(\n",
            "/usr/local/lib/python3.10/dist-packages/skopt/optimizer/optimizer.py:517: UserWarning: The objective has been evaluated at point ['euclidean', 4, 'uniform'] before, using random point ['manhattan', 5, 'distance']\n",
            "  warnings.warn(\n",
            "/usr/local/lib/python3.10/dist-packages/skopt/optimizer/optimizer.py:517: UserWarning: The objective has been evaluated at point ['manhattan', 6, 'distance'] before, using random point ['euclidean', 6, 'distance']\n",
            "  warnings.warn(\n",
            "/usr/local/lib/python3.10/dist-packages/skopt/optimizer/optimizer.py:517: UserWarning: The objective has been evaluated at point ['euclidean', 9, 'distance'] before, using random point ['euclidean', 9, 'distance']\n",
            "  warnings.warn(\n",
            "/usr/local/lib/python3.10/dist-packages/skopt/optimizer/optimizer.py:517: UserWarning: The objective has been evaluated at point ['manhattan', 4, 'distance'] before, using random point ['manhattan', 10, 'uniform']\n",
            "  warnings.warn(\n",
            "/usr/local/lib/python3.10/dist-packages/skopt/optimizer/optimizer.py:517: UserWarning: The objective has been evaluated at point ['manhattan', 4, 'distance'] before, using random point ['manhattan', 9, 'uniform']\n",
            "  warnings.warn(\n",
            "/usr/local/lib/python3.10/dist-packages/skopt/optimizer/optimizer.py:517: UserWarning: The objective has been evaluated at point ['manhattan', 4, 'distance'] before, using random point ['manhattan', 4, 'distance']\n",
            "  warnings.warn(\n",
            "/usr/local/lib/python3.10/dist-packages/skopt/optimizer/optimizer.py:517: UserWarning: The objective has been evaluated at point ['manhattan', 9, 'uniform'] before, using random point ['manhattan', 8, 'distance']\n",
            "  warnings.warn(\n",
            "/usr/local/lib/python3.10/dist-packages/skopt/optimizer/optimizer.py:517: UserWarning: The objective has been evaluated at point ['manhattan', 4, 'distance'] before, using random point ['euclidean', 8, 'uniform']\n",
            "  warnings.warn(\n",
            "/usr/local/lib/python3.10/dist-packages/skopt/optimizer/optimizer.py:517: UserWarning: The objective has been evaluated at point ['euclidean', 9, 'distance'] before, using random point ['euclidean', 6, 'distance']\n",
            "  warnings.warn(\n",
            "/usr/local/lib/python3.10/dist-packages/skopt/optimizer/optimizer.py:517: UserWarning: The objective has been evaluated at point ['manhattan', 9, 'distance'] before, using random point ['euclidean', 10, 'distance']\n",
            "  warnings.warn(\n",
            "/usr/local/lib/python3.10/dist-packages/skopt/optimizer/optimizer.py:517: UserWarning: The objective has been evaluated at point ['euclidean', 4, 'distance'] before, using random point ['manhattan', 3, 'uniform']\n",
            "  warnings.warn(\n",
            "/usr/local/lib/python3.10/dist-packages/skopt/optimizer/optimizer.py:517: UserWarning: The objective has been evaluated at point ['euclidean', 4, 'distance'] before, using random point ['euclidean', 7, 'uniform']\n",
            "  warnings.warn(\n",
            "/usr/local/lib/python3.10/dist-packages/skopt/optimizer/optimizer.py:517: UserWarning: The objective has been evaluated at point ['manhattan', 4, 'distance'] before, using random point ['euclidean', 6, 'distance']\n",
            "  warnings.warn(\n",
            "/usr/local/lib/python3.10/dist-packages/skopt/optimizer/optimizer.py:517: UserWarning: The objective has been evaluated at point ['euclidean', 7, 'uniform'] before, using random point ['manhattan', 6, 'uniform']\n",
            "  warnings.warn(\n",
            "/usr/local/lib/python3.10/dist-packages/skopt/optimizer/optimizer.py:517: UserWarning: The objective has been evaluated at point ['manhattan', 4, 'distance'] before, using random point ['manhattan', 5, 'uniform']\n",
            "  warnings.warn(\n",
            "/usr/local/lib/python3.10/dist-packages/skopt/optimizer/optimizer.py:517: UserWarning: The objective has been evaluated at point ['manhattan', 4, 'distance'] before, using random point ['manhattan', 4, 'distance']\n",
            "  warnings.warn(\n",
            "/usr/local/lib/python3.10/dist-packages/skopt/optimizer/optimizer.py:517: UserWarning: The objective has been evaluated at point ['manhattan', 4, 'distance'] before, using random point ['euclidean', 9, 'uniform']\n",
            "  warnings.warn(\n",
            "/usr/local/lib/python3.10/dist-packages/skopt/optimizer/optimizer.py:517: UserWarning: The objective has been evaluated at point ['manhattan', 4, 'distance'] before, using random point ['manhattan', 6, 'distance']\n",
            "  warnings.warn(\n",
            "/usr/local/lib/python3.10/dist-packages/skopt/optimizer/optimizer.py:517: UserWarning: The objective has been evaluated at point ['manhattan', 4, 'distance'] before, using random point ['manhattan', 4, 'uniform']\n",
            "  warnings.warn(\n",
            "/usr/local/lib/python3.10/dist-packages/skopt/optimizer/optimizer.py:517: UserWarning: The objective has been evaluated at point ['manhattan', 4, 'distance'] before, using random point ['euclidean', 6, 'distance']\n",
            "  warnings.warn(\n",
            "/usr/local/lib/python3.10/dist-packages/skopt/optimizer/optimizer.py:517: UserWarning: The objective has been evaluated at point ['manhattan', 4, 'distance'] before, using random point ['euclidean', 5, 'uniform']\n",
            "  warnings.warn(\n"
          ]
        },
        {
          "output_type": "stream",
          "name": "stdout",
          "text": [
            "CPU times: user 6min 11s, sys: 4min 13s, total: 10min 25s\n",
            "Wall time: 7min 4s\n"
          ]
        }
      ]
    },
    {
      "cell_type": "code",
      "source": [
        "# Encontrando a acurácia média da etapa de treinamento :\n",
        "\n",
        "knn_mean_score  = knn_nested_score.mean().round(3)\n",
        "\n",
        "print(f'Acurácia média da validação cruzada aninhada do K-Nierst Neighbors : {knn_mean_score}')"
      ],
      "metadata": {
        "colab": {
          "base_uri": "https://localhost:8080/"
        },
        "id": "rZcE6_UUYETD",
        "outputId": "11a497b2-ceb0-404d-b092-b807be631ae7"
      },
      "execution_count": null,
      "outputs": [
        {
          "output_type": "stream",
          "name": "stdout",
          "text": [
            "Acurácia média da validação cruzada aninhada do K-Nierst Neighbors : 0.606\n"
          ]
        }
      ]
    },
    {
      "cell_type": "code",
      "source": [
        "%%time\n",
        "\n",
        "# Treinando novamente o modelo para verificar seus melhores hiperparâmetros :\n",
        "\n",
        "knn_opt_bayesian.fit(X_train, y_train)\n"
      ],
      "metadata": {
        "colab": {
          "base_uri": "https://localhost:8080/"
        },
        "collapsed": true,
        "id": "lClZXdNfYMjd",
        "outputId": "b484487f-fd4e-4064-cd6a-16022514a106"
      },
      "execution_count": null,
      "outputs": [
        {
          "output_type": "stream",
          "name": "stderr",
          "text": [
            "/usr/local/lib/python3.10/dist-packages/skopt/optimizer/optimizer.py:517: UserWarning: The objective has been evaluated at point ['manhattan', 7, 'uniform'] before, using random point ['manhattan', 6, 'uniform']\n",
            "  warnings.warn(\n",
            "/usr/local/lib/python3.10/dist-packages/skopt/optimizer/optimizer.py:517: UserWarning: The objective has been evaluated at point ['manhattan', 7, 'uniform'] before, using random point ['euclidean', 6, 'distance']\n",
            "  warnings.warn(\n",
            "/usr/local/lib/python3.10/dist-packages/skopt/optimizer/optimizer.py:517: UserWarning: The objective has been evaluated at point ['euclidean', 6, 'uniform'] before, using random point ['manhattan', 4, 'uniform']\n",
            "  warnings.warn(\n",
            "/usr/local/lib/python3.10/dist-packages/skopt/optimizer/optimizer.py:517: UserWarning: The objective has been evaluated at point ['manhattan', 7, 'uniform'] before, using random point ['euclidean', 8, 'uniform']\n",
            "  warnings.warn(\n",
            "/usr/local/lib/python3.10/dist-packages/skopt/optimizer/optimizer.py:517: UserWarning: The objective has been evaluated at point ['euclidean', 9, 'uniform'] before, using random point ['manhattan', 7, 'distance']\n",
            "  warnings.warn(\n",
            "/usr/local/lib/python3.10/dist-packages/skopt/optimizer/optimizer.py:517: UserWarning: The objective has been evaluated at point ['manhattan', 7, 'uniform'] before, using random point ['euclidean', 10, 'uniform']\n",
            "  warnings.warn(\n",
            "/usr/local/lib/python3.10/dist-packages/skopt/optimizer/optimizer.py:517: UserWarning: The objective has been evaluated at point ['manhattan', 7, 'uniform'] before, using random point ['euclidean', 5, 'uniform']\n",
            "  warnings.warn(\n",
            "/usr/local/lib/python3.10/dist-packages/skopt/optimizer/optimizer.py:517: UserWarning: The objective has been evaluated at point ['manhattan', 7, 'uniform'] before, using random point ['manhattan', 5, 'distance']\n",
            "  warnings.warn(\n",
            "/usr/local/lib/python3.10/dist-packages/skopt/optimizer/optimizer.py:517: UserWarning: The objective has been evaluated at point ['manhattan', 7, 'uniform'] before, using random point ['euclidean', 10, 'uniform']\n",
            "  warnings.warn(\n",
            "/usr/local/lib/python3.10/dist-packages/skopt/optimizer/optimizer.py:517: UserWarning: The objective has been evaluated at point ['manhattan', 8, 'uniform'] before, using random point ['manhattan', 5, 'distance']\n",
            "  warnings.warn(\n",
            "/usr/local/lib/python3.10/dist-packages/skopt/optimizer/optimizer.py:517: UserWarning: The objective has been evaluated at point ['manhattan', 7, 'uniform'] before, using random point ['manhattan', 7, 'distance']\n",
            "  warnings.warn(\n",
            "/usr/local/lib/python3.10/dist-packages/skopt/optimizer/optimizer.py:517: UserWarning: The objective has been evaluated at point ['euclidean', 4, 'distance'] before, using random point ['euclidean', 10, 'uniform']\n",
            "  warnings.warn(\n",
            "/usr/local/lib/python3.10/dist-packages/skopt/optimizer/optimizer.py:517: UserWarning: The objective has been evaluated at point ['euclidean', 7, 'distance'] before, using random point ['manhattan', 7, 'distance']\n",
            "  warnings.warn(\n",
            "/usr/local/lib/python3.10/dist-packages/skopt/optimizer/optimizer.py:517: UserWarning: The objective has been evaluated at point ['manhattan', 7, 'uniform'] before, using random point ['euclidean', 7, 'uniform']\n",
            "  warnings.warn(\n",
            "/usr/local/lib/python3.10/dist-packages/skopt/optimizer/optimizer.py:517: UserWarning: The objective has been evaluated at point ['manhattan', 7, 'uniform'] before, using random point ['euclidean', 5, 'distance']\n",
            "  warnings.warn(\n",
            "/usr/local/lib/python3.10/dist-packages/skopt/optimizer/optimizer.py:517: UserWarning: The objective has been evaluated at point ['manhattan', 7, 'uniform'] before, using random point ['manhattan', 4, 'uniform']\n",
            "  warnings.warn(\n"
          ]
        },
        {
          "output_type": "stream",
          "name": "stdout",
          "text": [
            "CPU times: user 1min 14s, sys: 50.5 s, total: 2min 4s\n",
            "Wall time: 1min 23s\n"
          ]
        },
        {
          "output_type": "execute_result",
          "data": {
            "text/plain": [
              "BayesSearchCV(cv=StratifiedKFold(n_splits=3, random_state=22, shuffle=True),\n",
              "              estimator=KNeighborsClassifier(), n_jobs=-1, scoring='recall',\n",
              "              search_spaces={'metric': Categorical(categories=('euclidean', 'manhattan'), prior=None),\n",
              "                             'n_neighbors': Integer(low=3, high=10, prior='uniform', transform='normalize'),\n",
              "                             'weights': Categorical(categories=('uniform', 'distance'), prior=None)})"
            ],
            "text/html": [
              "<style>#sk-container-id-4 {color: black;background-color: white;}#sk-container-id-4 pre{padding: 0;}#sk-container-id-4 div.sk-toggleable {background-color: white;}#sk-container-id-4 label.sk-toggleable__label {cursor: pointer;display: block;width: 100%;margin-bottom: 0;padding: 0.3em;box-sizing: border-box;text-align: center;}#sk-container-id-4 label.sk-toggleable__label-arrow:before {content: \"▸\";float: left;margin-right: 0.25em;color: #696969;}#sk-container-id-4 label.sk-toggleable__label-arrow:hover:before {color: black;}#sk-container-id-4 div.sk-estimator:hover label.sk-toggleable__label-arrow:before {color: black;}#sk-container-id-4 div.sk-toggleable__content {max-height: 0;max-width: 0;overflow: hidden;text-align: left;background-color: #f0f8ff;}#sk-container-id-4 div.sk-toggleable__content pre {margin: 0.2em;color: black;border-radius: 0.25em;background-color: #f0f8ff;}#sk-container-id-4 input.sk-toggleable__control:checked~div.sk-toggleable__content {max-height: 200px;max-width: 100%;overflow: auto;}#sk-container-id-4 input.sk-toggleable__control:checked~label.sk-toggleable__label-arrow:before {content: \"▾\";}#sk-container-id-4 div.sk-estimator input.sk-toggleable__control:checked~label.sk-toggleable__label {background-color: #d4ebff;}#sk-container-id-4 div.sk-label input.sk-toggleable__control:checked~label.sk-toggleable__label {background-color: #d4ebff;}#sk-container-id-4 input.sk-hidden--visually {border: 0;clip: rect(1px 1px 1px 1px);clip: rect(1px, 1px, 1px, 1px);height: 1px;margin: -1px;overflow: hidden;padding: 0;position: absolute;width: 1px;}#sk-container-id-4 div.sk-estimator {font-family: monospace;background-color: #f0f8ff;border: 1px dotted black;border-radius: 0.25em;box-sizing: border-box;margin-bottom: 0.5em;}#sk-container-id-4 div.sk-estimator:hover {background-color: #d4ebff;}#sk-container-id-4 div.sk-parallel-item::after {content: \"\";width: 100%;border-bottom: 1px solid gray;flex-grow: 1;}#sk-container-id-4 div.sk-label:hover label.sk-toggleable__label {background-color: #d4ebff;}#sk-container-id-4 div.sk-serial::before {content: \"\";position: absolute;border-left: 1px solid gray;box-sizing: border-box;top: 0;bottom: 0;left: 50%;z-index: 0;}#sk-container-id-4 div.sk-serial {display: flex;flex-direction: column;align-items: center;background-color: white;padding-right: 0.2em;padding-left: 0.2em;position: relative;}#sk-container-id-4 div.sk-item {position: relative;z-index: 1;}#sk-container-id-4 div.sk-parallel {display: flex;align-items: stretch;justify-content: center;background-color: white;position: relative;}#sk-container-id-4 div.sk-item::before, #sk-container-id-4 div.sk-parallel-item::before {content: \"\";position: absolute;border-left: 1px solid gray;box-sizing: border-box;top: 0;bottom: 0;left: 50%;z-index: -1;}#sk-container-id-4 div.sk-parallel-item {display: flex;flex-direction: column;z-index: 1;position: relative;background-color: white;}#sk-container-id-4 div.sk-parallel-item:first-child::after {align-self: flex-end;width: 50%;}#sk-container-id-4 div.sk-parallel-item:last-child::after {align-self: flex-start;width: 50%;}#sk-container-id-4 div.sk-parallel-item:only-child::after {width: 0;}#sk-container-id-4 div.sk-dashed-wrapped {border: 1px dashed gray;margin: 0 0.4em 0.5em 0.4em;box-sizing: border-box;padding-bottom: 0.4em;background-color: white;}#sk-container-id-4 div.sk-label label {font-family: monospace;font-weight: bold;display: inline-block;line-height: 1.2em;}#sk-container-id-4 div.sk-label-container {text-align: center;}#sk-container-id-4 div.sk-container {/* jupyter's `normalize.less` sets `[hidden] { display: none; }` but bootstrap.min.css set `[hidden] { display: none !important; }` so we also need the `!important` here to be able to override the default hidden behavior on the sphinx rendered scikit-learn.org. See: https://github.com/scikit-learn/scikit-learn/issues/21755 */display: inline-block !important;position: relative;}#sk-container-id-4 div.sk-text-repr-fallback {display: none;}</style><div id=\"sk-container-id-4\" class=\"sk-top-container\"><div class=\"sk-text-repr-fallback\"><pre>BayesSearchCV(cv=StratifiedKFold(n_splits=3, random_state=22, shuffle=True),\n",
              "              estimator=KNeighborsClassifier(), n_jobs=-1, scoring=&#x27;recall&#x27;,\n",
              "              search_spaces={&#x27;metric&#x27;: Categorical(categories=(&#x27;euclidean&#x27;, &#x27;manhattan&#x27;), prior=None),\n",
              "                             &#x27;n_neighbors&#x27;: Integer(low=3, high=10, prior=&#x27;uniform&#x27;, transform=&#x27;normalize&#x27;),\n",
              "                             &#x27;weights&#x27;: Categorical(categories=(&#x27;uniform&#x27;, &#x27;distance&#x27;), prior=None)})</pre><b>In a Jupyter environment, please rerun this cell to show the HTML representation or trust the notebook. <br />On GitHub, the HTML representation is unable to render, please try loading this page with nbviewer.org.</b></div><div class=\"sk-container\" hidden><div class=\"sk-item sk-dashed-wrapped\"><div class=\"sk-label-container\"><div class=\"sk-label sk-toggleable\"><input class=\"sk-toggleable__control sk-hidden--visually\" id=\"sk-estimator-id-10\" type=\"checkbox\" ><label for=\"sk-estimator-id-10\" class=\"sk-toggleable__label sk-toggleable__label-arrow\">BayesSearchCV</label><div class=\"sk-toggleable__content\"><pre>BayesSearchCV(cv=StratifiedKFold(n_splits=3, random_state=22, shuffle=True),\n",
              "              estimator=KNeighborsClassifier(), n_jobs=-1, scoring=&#x27;recall&#x27;,\n",
              "              search_spaces={&#x27;metric&#x27;: Categorical(categories=(&#x27;euclidean&#x27;, &#x27;manhattan&#x27;), prior=None),\n",
              "                             &#x27;n_neighbors&#x27;: Integer(low=3, high=10, prior=&#x27;uniform&#x27;, transform=&#x27;normalize&#x27;),\n",
              "                             &#x27;weights&#x27;: Categorical(categories=(&#x27;uniform&#x27;, &#x27;distance&#x27;), prior=None)})</pre></div></div></div><div class=\"sk-parallel\"><div class=\"sk-parallel-item\"><div class=\"sk-item\"><div class=\"sk-label-container\"><div class=\"sk-label sk-toggleable\"><input class=\"sk-toggleable__control sk-hidden--visually\" id=\"sk-estimator-id-11\" type=\"checkbox\" ><label for=\"sk-estimator-id-11\" class=\"sk-toggleable__label sk-toggleable__label-arrow\">estimator: KNeighborsClassifier</label><div class=\"sk-toggleable__content\"><pre>KNeighborsClassifier()</pre></div></div></div><div class=\"sk-serial\"><div class=\"sk-item\"><div class=\"sk-estimator sk-toggleable\"><input class=\"sk-toggleable__control sk-hidden--visually\" id=\"sk-estimator-id-12\" type=\"checkbox\" ><label for=\"sk-estimator-id-12\" class=\"sk-toggleable__label sk-toggleable__label-arrow\">KNeighborsClassifier</label><div class=\"sk-toggleable__content\"><pre>KNeighborsClassifier()</pre></div></div></div></div></div></div></div></div></div></div>"
            ]
          },
          "metadata": {},
          "execution_count": 65
        }
      ]
    },
    {
      "cell_type": "code",
      "source": [
        "# Para encontrar os melhores hiperparâmetros :\n",
        "\n",
        "knn_opt_bayesian.best_params_"
      ],
      "metadata": {
        "colab": {
          "base_uri": "https://localhost:8080/"
        },
        "id": "nJxQ62mwYY7L",
        "outputId": "673774d5-1509-476c-9828-b83e49e0138d"
      },
      "execution_count": null,
      "outputs": [
        {
          "output_type": "execute_result",
          "data": {
            "text/plain": [
              "OrderedDict([('metric', 'manhattan'),\n",
              "             ('n_neighbors', 7),\n",
              "             ('weights', 'uniform')])"
            ]
          },
          "metadata": {},
          "execution_count": 66
        }
      ]
    },
    {
      "cell_type": "code",
      "source": [
        "# Instanciando o melhor modelo encontrado :\n",
        "\n",
        "knn_opt_bayesian = KNeighborsClassifier(\n",
        "    n_neighbors = 7,\n",
        "    weights = 'uniform',\n",
        "    metric = 'manhattan')"
      ],
      "metadata": {
        "id": "MwNobQCsfSeB"
      },
      "execution_count": null,
      "outputs": []
    },
    {
      "cell_type": "markdown",
      "source": [
        "## Avaliando os modelos otimizados"
      ],
      "metadata": {
        "id": "G2Drt0XOfaeT"
      }
    },
    {
      "cell_type": "code",
      "source": [
        "modelos = [\n",
        "    ('Random Forest (opt)', random_forest_opt),\n",
        "    ('Logistic Regression (opt)', logistic_regression_opt),\n",
        "    ('XGBoost (opt)', xgb_opt_bayesian),\n",
        "    ('KNN (opt)', knn_opt_bayesian)\n",
        "]\n",
        "\n",
        "for nome_modelo, modelo in modelos:\n",
        "  avalia_modelos(nome_modelo, modelo)"
      ],
      "metadata": {
        "colab": {
          "base_uri": "https://localhost:8080/"
        },
        "id": "kTpldvcYfXa8",
        "outputId": "f9fb91ac-b5dc-4891-8009-416d26413cb3"
      },
      "execution_count": null,
      "outputs": [
        {
          "output_type": "stream",
          "name": "stdout",
          "text": [
            "\n",
            "Random Forest (opt)\n",
            "\n",
            "Acurácia: 0.833\n",
            "Recall: 0.783\n",
            "Precision: 0.818\n",
            "F1 Score: 0.8\n",
            "\n",
            "Logistic Regression (opt)\n",
            "\n",
            "Acurácia: 0.87\n",
            "Recall: 0.783\n",
            "Precision: 0.9\n",
            "F1 Score: 0.837\n",
            "\n",
            "XGBoost (opt)\n",
            "\n",
            "Acurácia: 0.815\n",
            "Recall: 0.826\n",
            "Precision: 0.76\n",
            "F1 Score: 0.792\n",
            "\n",
            "KNN (opt)\n",
            "\n",
            "Acurácia: 0.741\n",
            "Recall: 0.696\n",
            "Precision: 0.696\n",
            "F1 Score: 0.696\n"
          ]
        }
      ]
    },
    {
      "cell_type": "markdown",
      "source": [
        "Analisando os modelos otimizados com a otimização bayesiana sujeita a uma validação cruzada aninhada, nota-se que alguns modelos apresentaram significativa melhora, como o KNN, ainda que seja inferior aos demais outros, bem como o XGBoost, que obteve uma melhora em seu recall, sendo o modelo com a maior taxa dessa métrica entre todos.\n",
        "\n",
        "Outro modelo que se destaca é o de regressão logística, o qual apresenta a maior média harmônica dos modelos otimizados, justamente por conta da sua elevada precisão, que para seu calculo considera a razão de verdadeiros positivos por falsos positivos mais verdadeiros positivos.\n",
        "\n",
        "Uma vez que o presente notebook apresenta um estudo de caso referente a classificação de pessoas que podem ou não ter doença cardíaca, uma vez que para o cálculo da recall cria-se uma razão de VP / VP + FN, iremos escolhê-la como critério para a seleção do modelo escolhido, além de considerar a matriz de confusão e curva AUC."
      ],
      "metadata": {
        "id": "7plvPrppgT1P"
      }
    },
    {
      "cell_type": "markdown",
      "source": [
        "## Matriz de confusão 😵‍💫\n",
        "\n",
        "Irei analisar a matriz de confusão de dois modelos que desempenharam bem segundo as métricas adotadas, sendo o modelo de regressão logística e o XGBoost, que, respectivamente, oferecam a maior precisão e recall.\n",
        "\n",
        "A análise da matriz visa adicionar uma nova camada de análise, buscando compreender dentre esses qual foi o melhor modelo."
      ],
      "metadata": {
        "id": "tolXPdYemd3F"
      }
    },
    {
      "cell_type": "code",
      "source": [
        "# Obtendo as classes únicas presentes em y_test :\n",
        "\n",
        "classes = sorted(set(y_test))"
      ],
      "metadata": {
        "id": "li0GtUvaf3gc"
      },
      "execution_count": null,
      "outputs": []
    },
    {
      "cell_type": "markdown",
      "source": [
        "### Matriz de confusão ao modelo de regresssão logística"
      ],
      "metadata": {
        "id": "HWgazoUAtJ35"
      }
    },
    {
      "cell_type": "code",
      "source": [
        "# Criando a matriz de confusão para o modelo de regressão logística :\n",
        "\n",
        "cm_lr = confusion_matrix(y_test, logistic_regression_opt.predict(X_test))\n",
        "\n",
        "fig = px.imshow(cm_lr,\n",
        "                labels=dict(x=\"Previsto\", y=\"Real\", color = \"Contagem\"),\n",
        "                x = classes,\n",
        "                y = classes,\n",
        "                text_auto=True,\n",
        "                color_continuous_scale='viridis')\n",
        "\n",
        "# Ajustando o tamanho e a cor do texto\n",
        "fig.update_traces(textfont_size=16, textfont_color='blue')\n",
        "\n",
        "fig.update_layout(title_text=\"Matriz de Confusão\", title_x=0.5)\n",
        "fig.show()"
      ],
      "metadata": {
        "colab": {
          "base_uri": "https://localhost:8080/",
          "height": 542
        },
        "id": "DY5jrlXZq9No",
        "outputId": "28baaadb-a5b2-4f22-e9cb-1c3b1b9a5b07"
      },
      "execution_count": null,
      "outputs": [
        {
          "output_type": "display_data",
          "data": {
            "text/html": [
              "<html>\n",
              "<head><meta charset=\"utf-8\" /></head>\n",
              "<body>\n",
              "    <div>            <script src=\"https://cdnjs.cloudflare.com/ajax/libs/mathjax/2.7.5/MathJax.js?config=TeX-AMS-MML_SVG\"></script><script type=\"text/javascript\">if (window.MathJax && window.MathJax.Hub && window.MathJax.Hub.Config) {window.MathJax.Hub.Config({SVG: {font: \"STIX-Web\"}});}</script>                <script type=\"text/javascript\">window.PlotlyConfig = {MathJaxConfig: 'local'};</script>\n",
              "        <script charset=\"utf-8\" src=\"https://cdn.plot.ly/plotly-2.24.1.min.js\"></script>                <div id=\"3ef7cf51-b3f0-4b1a-8f26-6e9803b6e431\" class=\"plotly-graph-div\" style=\"height:525px; width:100%;\"></div>            <script type=\"text/javascript\">                                    window.PLOTLYENV=window.PLOTLYENV || {};                                    if (document.getElementById(\"3ef7cf51-b3f0-4b1a-8f26-6e9803b6e431\")) {                    Plotly.newPlot(                        \"3ef7cf51-b3f0-4b1a-8f26-6e9803b6e431\",                        [{\"coloraxis\":\"coloraxis\",\"name\":\"0\",\"texttemplate\":\"%{z}\",\"x\":[0,1],\"y\":[0,1],\"z\":[[29,2],[5,18]],\"type\":\"heatmap\",\"xaxis\":\"x\",\"yaxis\":\"y\",\"hovertemplate\":\"Previsto: %{x}\\u003cbr\\u003eReal: %{y}\\u003cbr\\u003eContagem: %{z}\\u003cextra\\u003e\\u003c\\u002fextra\\u003e\",\"textfont\":{\"color\":\"blue\",\"size\":16}}],                        {\"template\":{\"data\":{\"histogram2dcontour\":[{\"type\":\"histogram2dcontour\",\"colorbar\":{\"outlinewidth\":0,\"ticks\":\"\"},\"colorscale\":[[0.0,\"#0d0887\"],[0.1111111111111111,\"#46039f\"],[0.2222222222222222,\"#7201a8\"],[0.3333333333333333,\"#9c179e\"],[0.4444444444444444,\"#bd3786\"],[0.5555555555555556,\"#d8576b\"],[0.6666666666666666,\"#ed7953\"],[0.7777777777777778,\"#fb9f3a\"],[0.8888888888888888,\"#fdca26\"],[1.0,\"#f0f921\"]]}],\"choropleth\":[{\"type\":\"choropleth\",\"colorbar\":{\"outlinewidth\":0,\"ticks\":\"\"}}],\"histogram2d\":[{\"type\":\"histogram2d\",\"colorbar\":{\"outlinewidth\":0,\"ticks\":\"\"},\"colorscale\":[[0.0,\"#0d0887\"],[0.1111111111111111,\"#46039f\"],[0.2222222222222222,\"#7201a8\"],[0.3333333333333333,\"#9c179e\"],[0.4444444444444444,\"#bd3786\"],[0.5555555555555556,\"#d8576b\"],[0.6666666666666666,\"#ed7953\"],[0.7777777777777778,\"#fb9f3a\"],[0.8888888888888888,\"#fdca26\"],[1.0,\"#f0f921\"]]}],\"heatmap\":[{\"type\":\"heatmap\",\"colorbar\":{\"outlinewidth\":0,\"ticks\":\"\"},\"colorscale\":[[0.0,\"#0d0887\"],[0.1111111111111111,\"#46039f\"],[0.2222222222222222,\"#7201a8\"],[0.3333333333333333,\"#9c179e\"],[0.4444444444444444,\"#bd3786\"],[0.5555555555555556,\"#d8576b\"],[0.6666666666666666,\"#ed7953\"],[0.7777777777777778,\"#fb9f3a\"],[0.8888888888888888,\"#fdca26\"],[1.0,\"#f0f921\"]]}],\"heatmapgl\":[{\"type\":\"heatmapgl\",\"colorbar\":{\"outlinewidth\":0,\"ticks\":\"\"},\"colorscale\":[[0.0,\"#0d0887\"],[0.1111111111111111,\"#46039f\"],[0.2222222222222222,\"#7201a8\"],[0.3333333333333333,\"#9c179e\"],[0.4444444444444444,\"#bd3786\"],[0.5555555555555556,\"#d8576b\"],[0.6666666666666666,\"#ed7953\"],[0.7777777777777778,\"#fb9f3a\"],[0.8888888888888888,\"#fdca26\"],[1.0,\"#f0f921\"]]}],\"contourcarpet\":[{\"type\":\"contourcarpet\",\"colorbar\":{\"outlinewidth\":0,\"ticks\":\"\"}}],\"contour\":[{\"type\":\"contour\",\"colorbar\":{\"outlinewidth\":0,\"ticks\":\"\"},\"colorscale\":[[0.0,\"#0d0887\"],[0.1111111111111111,\"#46039f\"],[0.2222222222222222,\"#7201a8\"],[0.3333333333333333,\"#9c179e\"],[0.4444444444444444,\"#bd3786\"],[0.5555555555555556,\"#d8576b\"],[0.6666666666666666,\"#ed7953\"],[0.7777777777777778,\"#fb9f3a\"],[0.8888888888888888,\"#fdca26\"],[1.0,\"#f0f921\"]]}],\"surface\":[{\"type\":\"surface\",\"colorbar\":{\"outlinewidth\":0,\"ticks\":\"\"},\"colorscale\":[[0.0,\"#0d0887\"],[0.1111111111111111,\"#46039f\"],[0.2222222222222222,\"#7201a8\"],[0.3333333333333333,\"#9c179e\"],[0.4444444444444444,\"#bd3786\"],[0.5555555555555556,\"#d8576b\"],[0.6666666666666666,\"#ed7953\"],[0.7777777777777778,\"#fb9f3a\"],[0.8888888888888888,\"#fdca26\"],[1.0,\"#f0f921\"]]}],\"mesh3d\":[{\"type\":\"mesh3d\",\"colorbar\":{\"outlinewidth\":0,\"ticks\":\"\"}}],\"scatter\":[{\"fillpattern\":{\"fillmode\":\"overlay\",\"size\":10,\"solidity\":0.2},\"type\":\"scatter\"}],\"parcoords\":[{\"type\":\"parcoords\",\"line\":{\"colorbar\":{\"outlinewidth\":0,\"ticks\":\"\"}}}],\"scatterpolargl\":[{\"type\":\"scatterpolargl\",\"marker\":{\"colorbar\":{\"outlinewidth\":0,\"ticks\":\"\"}}}],\"bar\":[{\"error_x\":{\"color\":\"#2a3f5f\"},\"error_y\":{\"color\":\"#2a3f5f\"},\"marker\":{\"line\":{\"color\":\"#E5ECF6\",\"width\":0.5},\"pattern\":{\"fillmode\":\"overlay\",\"size\":10,\"solidity\":0.2}},\"type\":\"bar\"}],\"scattergeo\":[{\"type\":\"scattergeo\",\"marker\":{\"colorbar\":{\"outlinewidth\":0,\"ticks\":\"\"}}}],\"scatterpolar\":[{\"type\":\"scatterpolar\",\"marker\":{\"colorbar\":{\"outlinewidth\":0,\"ticks\":\"\"}}}],\"histogram\":[{\"marker\":{\"pattern\":{\"fillmode\":\"overlay\",\"size\":10,\"solidity\":0.2}},\"type\":\"histogram\"}],\"scattergl\":[{\"type\":\"scattergl\",\"marker\":{\"colorbar\":{\"outlinewidth\":0,\"ticks\":\"\"}}}],\"scatter3d\":[{\"type\":\"scatter3d\",\"line\":{\"colorbar\":{\"outlinewidth\":0,\"ticks\":\"\"}},\"marker\":{\"colorbar\":{\"outlinewidth\":0,\"ticks\":\"\"}}}],\"scattermapbox\":[{\"type\":\"scattermapbox\",\"marker\":{\"colorbar\":{\"outlinewidth\":0,\"ticks\":\"\"}}}],\"scatterternary\":[{\"type\":\"scatterternary\",\"marker\":{\"colorbar\":{\"outlinewidth\":0,\"ticks\":\"\"}}}],\"scattercarpet\":[{\"type\":\"scattercarpet\",\"marker\":{\"colorbar\":{\"outlinewidth\":0,\"ticks\":\"\"}}}],\"carpet\":[{\"aaxis\":{\"endlinecolor\":\"#2a3f5f\",\"gridcolor\":\"white\",\"linecolor\":\"white\",\"minorgridcolor\":\"white\",\"startlinecolor\":\"#2a3f5f\"},\"baxis\":{\"endlinecolor\":\"#2a3f5f\",\"gridcolor\":\"white\",\"linecolor\":\"white\",\"minorgridcolor\":\"white\",\"startlinecolor\":\"#2a3f5f\"},\"type\":\"carpet\"}],\"table\":[{\"cells\":{\"fill\":{\"color\":\"#EBF0F8\"},\"line\":{\"color\":\"white\"}},\"header\":{\"fill\":{\"color\":\"#C8D4E3\"},\"line\":{\"color\":\"white\"}},\"type\":\"table\"}],\"barpolar\":[{\"marker\":{\"line\":{\"color\":\"#E5ECF6\",\"width\":0.5},\"pattern\":{\"fillmode\":\"overlay\",\"size\":10,\"solidity\":0.2}},\"type\":\"barpolar\"}],\"pie\":[{\"automargin\":true,\"type\":\"pie\"}]},\"layout\":{\"autotypenumbers\":\"strict\",\"colorway\":[\"#636efa\",\"#EF553B\",\"#00cc96\",\"#ab63fa\",\"#FFA15A\",\"#19d3f3\",\"#FF6692\",\"#B6E880\",\"#FF97FF\",\"#FECB52\"],\"font\":{\"color\":\"#2a3f5f\"},\"hovermode\":\"closest\",\"hoverlabel\":{\"align\":\"left\"},\"paper_bgcolor\":\"white\",\"plot_bgcolor\":\"#E5ECF6\",\"polar\":{\"bgcolor\":\"#E5ECF6\",\"angularaxis\":{\"gridcolor\":\"white\",\"linecolor\":\"white\",\"ticks\":\"\"},\"radialaxis\":{\"gridcolor\":\"white\",\"linecolor\":\"white\",\"ticks\":\"\"}},\"ternary\":{\"bgcolor\":\"#E5ECF6\",\"aaxis\":{\"gridcolor\":\"white\",\"linecolor\":\"white\",\"ticks\":\"\"},\"baxis\":{\"gridcolor\":\"white\",\"linecolor\":\"white\",\"ticks\":\"\"},\"caxis\":{\"gridcolor\":\"white\",\"linecolor\":\"white\",\"ticks\":\"\"}},\"coloraxis\":{\"colorbar\":{\"outlinewidth\":0,\"ticks\":\"\"}},\"colorscale\":{\"sequential\":[[0.0,\"#0d0887\"],[0.1111111111111111,\"#46039f\"],[0.2222222222222222,\"#7201a8\"],[0.3333333333333333,\"#9c179e\"],[0.4444444444444444,\"#bd3786\"],[0.5555555555555556,\"#d8576b\"],[0.6666666666666666,\"#ed7953\"],[0.7777777777777778,\"#fb9f3a\"],[0.8888888888888888,\"#fdca26\"],[1.0,\"#f0f921\"]],\"sequentialminus\":[[0.0,\"#0d0887\"],[0.1111111111111111,\"#46039f\"],[0.2222222222222222,\"#7201a8\"],[0.3333333333333333,\"#9c179e\"],[0.4444444444444444,\"#bd3786\"],[0.5555555555555556,\"#d8576b\"],[0.6666666666666666,\"#ed7953\"],[0.7777777777777778,\"#fb9f3a\"],[0.8888888888888888,\"#fdca26\"],[1.0,\"#f0f921\"]],\"diverging\":[[0,\"#8e0152\"],[0.1,\"#c51b7d\"],[0.2,\"#de77ae\"],[0.3,\"#f1b6da\"],[0.4,\"#fde0ef\"],[0.5,\"#f7f7f7\"],[0.6,\"#e6f5d0\"],[0.7,\"#b8e186\"],[0.8,\"#7fbc41\"],[0.9,\"#4d9221\"],[1,\"#276419\"]]},\"xaxis\":{\"gridcolor\":\"white\",\"linecolor\":\"white\",\"ticks\":\"\",\"title\":{\"standoff\":15},\"zerolinecolor\":\"white\",\"automargin\":true,\"zerolinewidth\":2},\"yaxis\":{\"gridcolor\":\"white\",\"linecolor\":\"white\",\"ticks\":\"\",\"title\":{\"standoff\":15},\"zerolinecolor\":\"white\",\"automargin\":true,\"zerolinewidth\":2},\"scene\":{\"xaxis\":{\"backgroundcolor\":\"#E5ECF6\",\"gridcolor\":\"white\",\"linecolor\":\"white\",\"showbackground\":true,\"ticks\":\"\",\"zerolinecolor\":\"white\",\"gridwidth\":2},\"yaxis\":{\"backgroundcolor\":\"#E5ECF6\",\"gridcolor\":\"white\",\"linecolor\":\"white\",\"showbackground\":true,\"ticks\":\"\",\"zerolinecolor\":\"white\",\"gridwidth\":2},\"zaxis\":{\"backgroundcolor\":\"#E5ECF6\",\"gridcolor\":\"white\",\"linecolor\":\"white\",\"showbackground\":true,\"ticks\":\"\",\"zerolinecolor\":\"white\",\"gridwidth\":2}},\"shapedefaults\":{\"line\":{\"color\":\"#2a3f5f\"}},\"annotationdefaults\":{\"arrowcolor\":\"#2a3f5f\",\"arrowhead\":0,\"arrowwidth\":1},\"geo\":{\"bgcolor\":\"white\",\"landcolor\":\"#E5ECF6\",\"subunitcolor\":\"white\",\"showland\":true,\"showlakes\":true,\"lakecolor\":\"white\"},\"title\":{\"x\":0.05},\"mapbox\":{\"style\":\"light\"}}},\"xaxis\":{\"anchor\":\"y\",\"domain\":[0.0,1.0],\"scaleanchor\":\"y\",\"constrain\":\"domain\",\"title\":{\"text\":\"Previsto\"}},\"yaxis\":{\"anchor\":\"x\",\"domain\":[0.0,1.0],\"autorange\":\"reversed\",\"constrain\":\"domain\",\"title\":{\"text\":\"Real\"}},\"coloraxis\":{\"colorbar\":{\"title\":{\"text\":\"Contagem\"}},\"colorscale\":[[0.0,\"#440154\"],[0.1111111111111111,\"#482878\"],[0.2222222222222222,\"#3e4989\"],[0.3333333333333333,\"#31688e\"],[0.4444444444444444,\"#26828e\"],[0.5555555555555556,\"#1f9e89\"],[0.6666666666666666,\"#35b779\"],[0.7777777777777778,\"#6ece58\"],[0.8888888888888888,\"#b5de2b\"],[1.0,\"#fde725\"]]},\"margin\":{\"t\":60},\"title\":{\"text\":\"Matriz de Confus\\u00e3o\",\"x\":0.5}},                        {\"responsive\": true}                    ).then(function(){\n",
              "                            \n",
              "var gd = document.getElementById('3ef7cf51-b3f0-4b1a-8f26-6e9803b6e431');\n",
              "var x = new MutationObserver(function (mutations, observer) {{\n",
              "        var display = window.getComputedStyle(gd).display;\n",
              "        if (!display || display === 'none') {{\n",
              "            console.log([gd, 'removed!']);\n",
              "            Plotly.purge(gd);\n",
              "            observer.disconnect();\n",
              "        }}\n",
              "}});\n",
              "\n",
              "// Listen for the removal of the full notebook cells\n",
              "var notebookContainer = gd.closest('#notebook-container');\n",
              "if (notebookContainer) {{\n",
              "    x.observe(notebookContainer, {childList: true});\n",
              "}}\n",
              "\n",
              "// Listen for the clearing of the current output cell\n",
              "var outputEl = gd.closest('.output');\n",
              "if (outputEl) {{\n",
              "    x.observe(outputEl, {childList: true});\n",
              "}}\n",
              "\n",
              "                        })                };                            </script>        </div>\n",
              "</body>\n",
              "</html>"
            ]
          },
          "metadata": {}
        }
      ]
    },
    {
      "cell_type": "markdown",
      "source": [
        "Analisando a matriz de confusão para o modelo de regresão logística, nota-se que ele acerta, considerando tanto os verdadeiros negativos quanto postivos, cerca de 47 vezes, errando 7 vezes, mostrando uma eficiência de aproximadamente 0.88 (ou 88%)."
      ],
      "metadata": {
        "id": "OdCFZ_P-sb9y"
      }
    },
    {
      "cell_type": "markdown",
      "source": [
        "### Criando a matriz de confusão ao modelo XGBoost"
      ],
      "metadata": {
        "id": "VJ8X8L4gtQDr"
      }
    },
    {
      "cell_type": "code",
      "source": [
        "# Criando a matriz de confusão para o modelo de regressão logística :\n",
        "\n",
        "cm_xgb = confusion_matrix(y_test, xgb_opt_bayesian.predict(X_test))\n",
        "\n",
        "fig = px.imshow(cm_xgb,\n",
        "                labels=dict(x=\"Previsto\", y=\"Real\", color = \"Contagem\"),\n",
        "                x = classes,\n",
        "                y = classes,\n",
        "                text_auto=True,\n",
        "                color_continuous_scale='viridis')\n",
        "\n",
        "# Ajustando o tamanho e a cor do texto\n",
        "fig.update_traces(textfont_size=16, textfont_color='blue')\n",
        "\n",
        "fig.update_layout(title_text=\"Matriz de Confusão\", title_x=0.5)\n",
        "fig.show()"
      ],
      "metadata": {
        "colab": {
          "base_uri": "https://localhost:8080/",
          "height": 542
        },
        "id": "O1wlk9KbscmN",
        "outputId": "502180c7-5657-47d0-c1ad-600939bfbc2d"
      },
      "execution_count": null,
      "outputs": [
        {
          "output_type": "display_data",
          "data": {
            "text/html": [
              "<html>\n",
              "<head><meta charset=\"utf-8\" /></head>\n",
              "<body>\n",
              "    <div>            <script src=\"https://cdnjs.cloudflare.com/ajax/libs/mathjax/2.7.5/MathJax.js?config=TeX-AMS-MML_SVG\"></script><script type=\"text/javascript\">if (window.MathJax && window.MathJax.Hub && window.MathJax.Hub.Config) {window.MathJax.Hub.Config({SVG: {font: \"STIX-Web\"}});}</script>                <script type=\"text/javascript\">window.PlotlyConfig = {MathJaxConfig: 'local'};</script>\n",
              "        <script charset=\"utf-8\" src=\"https://cdn.plot.ly/plotly-2.24.1.min.js\"></script>                <div id=\"2ff84438-8d59-42ce-a6b4-3794608ee6ae\" class=\"plotly-graph-div\" style=\"height:525px; width:100%;\"></div>            <script type=\"text/javascript\">                                    window.PLOTLYENV=window.PLOTLYENV || {};                                    if (document.getElementById(\"2ff84438-8d59-42ce-a6b4-3794608ee6ae\")) {                    Plotly.newPlot(                        \"2ff84438-8d59-42ce-a6b4-3794608ee6ae\",                        [{\"coloraxis\":\"coloraxis\",\"name\":\"0\",\"texttemplate\":\"%{z}\",\"x\":[0,1],\"y\":[0,1],\"z\":[[25,6],[4,19]],\"type\":\"heatmap\",\"xaxis\":\"x\",\"yaxis\":\"y\",\"hovertemplate\":\"Previsto: %{x}\\u003cbr\\u003eReal: %{y}\\u003cbr\\u003eContagem: %{z}\\u003cextra\\u003e\\u003c\\u002fextra\\u003e\",\"textfont\":{\"color\":\"blue\",\"size\":16}}],                        {\"template\":{\"data\":{\"histogram2dcontour\":[{\"type\":\"histogram2dcontour\",\"colorbar\":{\"outlinewidth\":0,\"ticks\":\"\"},\"colorscale\":[[0.0,\"#0d0887\"],[0.1111111111111111,\"#46039f\"],[0.2222222222222222,\"#7201a8\"],[0.3333333333333333,\"#9c179e\"],[0.4444444444444444,\"#bd3786\"],[0.5555555555555556,\"#d8576b\"],[0.6666666666666666,\"#ed7953\"],[0.7777777777777778,\"#fb9f3a\"],[0.8888888888888888,\"#fdca26\"],[1.0,\"#f0f921\"]]}],\"choropleth\":[{\"type\":\"choropleth\",\"colorbar\":{\"outlinewidth\":0,\"ticks\":\"\"}}],\"histogram2d\":[{\"type\":\"histogram2d\",\"colorbar\":{\"outlinewidth\":0,\"ticks\":\"\"},\"colorscale\":[[0.0,\"#0d0887\"],[0.1111111111111111,\"#46039f\"],[0.2222222222222222,\"#7201a8\"],[0.3333333333333333,\"#9c179e\"],[0.4444444444444444,\"#bd3786\"],[0.5555555555555556,\"#d8576b\"],[0.6666666666666666,\"#ed7953\"],[0.7777777777777778,\"#fb9f3a\"],[0.8888888888888888,\"#fdca26\"],[1.0,\"#f0f921\"]]}],\"heatmap\":[{\"type\":\"heatmap\",\"colorbar\":{\"outlinewidth\":0,\"ticks\":\"\"},\"colorscale\":[[0.0,\"#0d0887\"],[0.1111111111111111,\"#46039f\"],[0.2222222222222222,\"#7201a8\"],[0.3333333333333333,\"#9c179e\"],[0.4444444444444444,\"#bd3786\"],[0.5555555555555556,\"#d8576b\"],[0.6666666666666666,\"#ed7953\"],[0.7777777777777778,\"#fb9f3a\"],[0.8888888888888888,\"#fdca26\"],[1.0,\"#f0f921\"]]}],\"heatmapgl\":[{\"type\":\"heatmapgl\",\"colorbar\":{\"outlinewidth\":0,\"ticks\":\"\"},\"colorscale\":[[0.0,\"#0d0887\"],[0.1111111111111111,\"#46039f\"],[0.2222222222222222,\"#7201a8\"],[0.3333333333333333,\"#9c179e\"],[0.4444444444444444,\"#bd3786\"],[0.5555555555555556,\"#d8576b\"],[0.6666666666666666,\"#ed7953\"],[0.7777777777777778,\"#fb9f3a\"],[0.8888888888888888,\"#fdca26\"],[1.0,\"#f0f921\"]]}],\"contourcarpet\":[{\"type\":\"contourcarpet\",\"colorbar\":{\"outlinewidth\":0,\"ticks\":\"\"}}],\"contour\":[{\"type\":\"contour\",\"colorbar\":{\"outlinewidth\":0,\"ticks\":\"\"},\"colorscale\":[[0.0,\"#0d0887\"],[0.1111111111111111,\"#46039f\"],[0.2222222222222222,\"#7201a8\"],[0.3333333333333333,\"#9c179e\"],[0.4444444444444444,\"#bd3786\"],[0.5555555555555556,\"#d8576b\"],[0.6666666666666666,\"#ed7953\"],[0.7777777777777778,\"#fb9f3a\"],[0.8888888888888888,\"#fdca26\"],[1.0,\"#f0f921\"]]}],\"surface\":[{\"type\":\"surface\",\"colorbar\":{\"outlinewidth\":0,\"ticks\":\"\"},\"colorscale\":[[0.0,\"#0d0887\"],[0.1111111111111111,\"#46039f\"],[0.2222222222222222,\"#7201a8\"],[0.3333333333333333,\"#9c179e\"],[0.4444444444444444,\"#bd3786\"],[0.5555555555555556,\"#d8576b\"],[0.6666666666666666,\"#ed7953\"],[0.7777777777777778,\"#fb9f3a\"],[0.8888888888888888,\"#fdca26\"],[1.0,\"#f0f921\"]]}],\"mesh3d\":[{\"type\":\"mesh3d\",\"colorbar\":{\"outlinewidth\":0,\"ticks\":\"\"}}],\"scatter\":[{\"fillpattern\":{\"fillmode\":\"overlay\",\"size\":10,\"solidity\":0.2},\"type\":\"scatter\"}],\"parcoords\":[{\"type\":\"parcoords\",\"line\":{\"colorbar\":{\"outlinewidth\":0,\"ticks\":\"\"}}}],\"scatterpolargl\":[{\"type\":\"scatterpolargl\",\"marker\":{\"colorbar\":{\"outlinewidth\":0,\"ticks\":\"\"}}}],\"bar\":[{\"error_x\":{\"color\":\"#2a3f5f\"},\"error_y\":{\"color\":\"#2a3f5f\"},\"marker\":{\"line\":{\"color\":\"#E5ECF6\",\"width\":0.5},\"pattern\":{\"fillmode\":\"overlay\",\"size\":10,\"solidity\":0.2}},\"type\":\"bar\"}],\"scattergeo\":[{\"type\":\"scattergeo\",\"marker\":{\"colorbar\":{\"outlinewidth\":0,\"ticks\":\"\"}}}],\"scatterpolar\":[{\"type\":\"scatterpolar\",\"marker\":{\"colorbar\":{\"outlinewidth\":0,\"ticks\":\"\"}}}],\"histogram\":[{\"marker\":{\"pattern\":{\"fillmode\":\"overlay\",\"size\":10,\"solidity\":0.2}},\"type\":\"histogram\"}],\"scattergl\":[{\"type\":\"scattergl\",\"marker\":{\"colorbar\":{\"outlinewidth\":0,\"ticks\":\"\"}}}],\"scatter3d\":[{\"type\":\"scatter3d\",\"line\":{\"colorbar\":{\"outlinewidth\":0,\"ticks\":\"\"}},\"marker\":{\"colorbar\":{\"outlinewidth\":0,\"ticks\":\"\"}}}],\"scattermapbox\":[{\"type\":\"scattermapbox\",\"marker\":{\"colorbar\":{\"outlinewidth\":0,\"ticks\":\"\"}}}],\"scatterternary\":[{\"type\":\"scatterternary\",\"marker\":{\"colorbar\":{\"outlinewidth\":0,\"ticks\":\"\"}}}],\"scattercarpet\":[{\"type\":\"scattercarpet\",\"marker\":{\"colorbar\":{\"outlinewidth\":0,\"ticks\":\"\"}}}],\"carpet\":[{\"aaxis\":{\"endlinecolor\":\"#2a3f5f\",\"gridcolor\":\"white\",\"linecolor\":\"white\",\"minorgridcolor\":\"white\",\"startlinecolor\":\"#2a3f5f\"},\"baxis\":{\"endlinecolor\":\"#2a3f5f\",\"gridcolor\":\"white\",\"linecolor\":\"white\",\"minorgridcolor\":\"white\",\"startlinecolor\":\"#2a3f5f\"},\"type\":\"carpet\"}],\"table\":[{\"cells\":{\"fill\":{\"color\":\"#EBF0F8\"},\"line\":{\"color\":\"white\"}},\"header\":{\"fill\":{\"color\":\"#C8D4E3\"},\"line\":{\"color\":\"white\"}},\"type\":\"table\"}],\"barpolar\":[{\"marker\":{\"line\":{\"color\":\"#E5ECF6\",\"width\":0.5},\"pattern\":{\"fillmode\":\"overlay\",\"size\":10,\"solidity\":0.2}},\"type\":\"barpolar\"}],\"pie\":[{\"automargin\":true,\"type\":\"pie\"}]},\"layout\":{\"autotypenumbers\":\"strict\",\"colorway\":[\"#636efa\",\"#EF553B\",\"#00cc96\",\"#ab63fa\",\"#FFA15A\",\"#19d3f3\",\"#FF6692\",\"#B6E880\",\"#FF97FF\",\"#FECB52\"],\"font\":{\"color\":\"#2a3f5f\"},\"hovermode\":\"closest\",\"hoverlabel\":{\"align\":\"left\"},\"paper_bgcolor\":\"white\",\"plot_bgcolor\":\"#E5ECF6\",\"polar\":{\"bgcolor\":\"#E5ECF6\",\"angularaxis\":{\"gridcolor\":\"white\",\"linecolor\":\"white\",\"ticks\":\"\"},\"radialaxis\":{\"gridcolor\":\"white\",\"linecolor\":\"white\",\"ticks\":\"\"}},\"ternary\":{\"bgcolor\":\"#E5ECF6\",\"aaxis\":{\"gridcolor\":\"white\",\"linecolor\":\"white\",\"ticks\":\"\"},\"baxis\":{\"gridcolor\":\"white\",\"linecolor\":\"white\",\"ticks\":\"\"},\"caxis\":{\"gridcolor\":\"white\",\"linecolor\":\"white\",\"ticks\":\"\"}},\"coloraxis\":{\"colorbar\":{\"outlinewidth\":0,\"ticks\":\"\"}},\"colorscale\":{\"sequential\":[[0.0,\"#0d0887\"],[0.1111111111111111,\"#46039f\"],[0.2222222222222222,\"#7201a8\"],[0.3333333333333333,\"#9c179e\"],[0.4444444444444444,\"#bd3786\"],[0.5555555555555556,\"#d8576b\"],[0.6666666666666666,\"#ed7953\"],[0.7777777777777778,\"#fb9f3a\"],[0.8888888888888888,\"#fdca26\"],[1.0,\"#f0f921\"]],\"sequentialminus\":[[0.0,\"#0d0887\"],[0.1111111111111111,\"#46039f\"],[0.2222222222222222,\"#7201a8\"],[0.3333333333333333,\"#9c179e\"],[0.4444444444444444,\"#bd3786\"],[0.5555555555555556,\"#d8576b\"],[0.6666666666666666,\"#ed7953\"],[0.7777777777777778,\"#fb9f3a\"],[0.8888888888888888,\"#fdca26\"],[1.0,\"#f0f921\"]],\"diverging\":[[0,\"#8e0152\"],[0.1,\"#c51b7d\"],[0.2,\"#de77ae\"],[0.3,\"#f1b6da\"],[0.4,\"#fde0ef\"],[0.5,\"#f7f7f7\"],[0.6,\"#e6f5d0\"],[0.7,\"#b8e186\"],[0.8,\"#7fbc41\"],[0.9,\"#4d9221\"],[1,\"#276419\"]]},\"xaxis\":{\"gridcolor\":\"white\",\"linecolor\":\"white\",\"ticks\":\"\",\"title\":{\"standoff\":15},\"zerolinecolor\":\"white\",\"automargin\":true,\"zerolinewidth\":2},\"yaxis\":{\"gridcolor\":\"white\",\"linecolor\":\"white\",\"ticks\":\"\",\"title\":{\"standoff\":15},\"zerolinecolor\":\"white\",\"automargin\":true,\"zerolinewidth\":2},\"scene\":{\"xaxis\":{\"backgroundcolor\":\"#E5ECF6\",\"gridcolor\":\"white\",\"linecolor\":\"white\",\"showbackground\":true,\"ticks\":\"\",\"zerolinecolor\":\"white\",\"gridwidth\":2},\"yaxis\":{\"backgroundcolor\":\"#E5ECF6\",\"gridcolor\":\"white\",\"linecolor\":\"white\",\"showbackground\":true,\"ticks\":\"\",\"zerolinecolor\":\"white\",\"gridwidth\":2},\"zaxis\":{\"backgroundcolor\":\"#E5ECF6\",\"gridcolor\":\"white\",\"linecolor\":\"white\",\"showbackground\":true,\"ticks\":\"\",\"zerolinecolor\":\"white\",\"gridwidth\":2}},\"shapedefaults\":{\"line\":{\"color\":\"#2a3f5f\"}},\"annotationdefaults\":{\"arrowcolor\":\"#2a3f5f\",\"arrowhead\":0,\"arrowwidth\":1},\"geo\":{\"bgcolor\":\"white\",\"landcolor\":\"#E5ECF6\",\"subunitcolor\":\"white\",\"showland\":true,\"showlakes\":true,\"lakecolor\":\"white\"},\"title\":{\"x\":0.05},\"mapbox\":{\"style\":\"light\"}}},\"xaxis\":{\"anchor\":\"y\",\"domain\":[0.0,1.0],\"scaleanchor\":\"y\",\"constrain\":\"domain\",\"title\":{\"text\":\"Previsto\"}},\"yaxis\":{\"anchor\":\"x\",\"domain\":[0.0,1.0],\"autorange\":\"reversed\",\"constrain\":\"domain\",\"title\":{\"text\":\"Real\"}},\"coloraxis\":{\"colorbar\":{\"title\":{\"text\":\"Contagem\"}},\"colorscale\":[[0.0,\"#440154\"],[0.1111111111111111,\"#482878\"],[0.2222222222222222,\"#3e4989\"],[0.3333333333333333,\"#31688e\"],[0.4444444444444444,\"#26828e\"],[0.5555555555555556,\"#1f9e89\"],[0.6666666666666666,\"#35b779\"],[0.7777777777777778,\"#6ece58\"],[0.8888888888888888,\"#b5de2b\"],[1.0,\"#fde725\"]]},\"margin\":{\"t\":60},\"title\":{\"text\":\"Matriz de Confus\\u00e3o\",\"x\":0.5}},                        {\"responsive\": true}                    ).then(function(){\n",
              "                            \n",
              "var gd = document.getElementById('2ff84438-8d59-42ce-a6b4-3794608ee6ae');\n",
              "var x = new MutationObserver(function (mutations, observer) {{\n",
              "        var display = window.getComputedStyle(gd).display;\n",
              "        if (!display || display === 'none') {{\n",
              "            console.log([gd, 'removed!']);\n",
              "            Plotly.purge(gd);\n",
              "            observer.disconnect();\n",
              "        }}\n",
              "}});\n",
              "\n",
              "// Listen for the removal of the full notebook cells\n",
              "var notebookContainer = gd.closest('#notebook-container');\n",
              "if (notebookContainer) {{\n",
              "    x.observe(notebookContainer, {childList: true});\n",
              "}}\n",
              "\n",
              "// Listen for the clearing of the current output cell\n",
              "var outputEl = gd.closest('.output');\n",
              "if (outputEl) {{\n",
              "    x.observe(outputEl, {childList: true});\n",
              "}}\n",
              "\n",
              "                        })                };                            </script>        </div>\n",
              "</body>\n",
              "</html>"
            ]
          },
          "metadata": {}
        }
      ]
    },
    {
      "cell_type": "markdown",
      "source": [
        "Analisando a matriz de confusão para o modelo XGBoost, nota-se que ele possui uma taxa de acerto, considerando tanto verdadeiros positivos quantos verdadeiros negativos, de aproximadamente 0.81 (ou 81%), acertando 44 vezes e errando 10 vezes. Comparando-o com o modelo anterior, é possível compreender que, segundo a matriz de confusão ele é um pouco inferior, com perda percentual de 7%, em relação ao modelo de regressão logística.\n",
        "\n",
        "Não obstante, é possível identificar que os valores encontrados, referente ao desempenho geral do modelo, na matriz de confusão é similar ao oferecido pela métrica acurácia, de modo que ambas mostram valores semelhantes para cada modelo no escopo da taxa de acerto de cada qual.\n",
        "\n"
      ],
      "metadata": {
        "id": "zxOQ0IRRt2Ld"
      }
    },
    {
      "cell_type": "markdown",
      "source": [
        "## Analisando os modelos com a curva ROC 🔬"
      ],
      "metadata": {
        "id": "6g6nAe-xy7h7"
      }
    },
    {
      "cell_type": "code",
      "source": [
        "# Criando as variáveis que armazenam as previsões de cada modelo :\n",
        "\n",
        "xgb_opt_predict = xgb_opt_bayesian.predict(X_test)\n",
        "lr_opt_predict = logistic_regression_opt.predict(X_test)"
      ],
      "metadata": {
        "id": "tXXeXSI4r-WV"
      },
      "execution_count": null,
      "outputs": []
    },
    {
      "cell_type": "code",
      "source": [
        "def cria_curva_roc(y_pred, nome_modelo):\n",
        "\n",
        "  RocCurveDisplay.from_predictions(y_test, y_pred, name = nome_modelo);\n",
        "\n"
      ],
      "metadata": {
        "id": "owwHXI32zm4n"
      },
      "execution_count": null,
      "outputs": []
    },
    {
      "cell_type": "markdown",
      "source": [
        "### Curva ROC - XGBoost"
      ],
      "metadata": {
        "id": "WnOcl5Kq0a_V"
      }
    },
    {
      "cell_type": "code",
      "source": [
        "cria_curva_roc(xgb_opt_predict, 'XGBoost')"
      ],
      "metadata": {
        "colab": {
          "base_uri": "https://localhost:8080/",
          "height": 449
        },
        "id": "pD1bq-Oa0JPY",
        "outputId": "2d92f126-3c1f-4aaa-91c2-3d073a5c6a6a"
      },
      "execution_count": null,
      "outputs": [
        {
          "output_type": "display_data",
          "data": {
            "text/plain": [
              "<Figure size 640x480 with 1 Axes>"
            ],
            "image/png": "[encoded data removed]"
          },
          "metadata": {}
        }
      ]
    },
    {
      "cell_type": "markdown",
      "source": [
        "### Curva ROC - Logistic Regression"
      ],
      "metadata": {
        "id": "5xHvjN4r0g9U"
      }
    },
    {
      "cell_type": "code",
      "source": [
        "cria_curva_roc(lr_opt_predict, 'Logistic Regression')"
      ],
      "metadata": {
        "colab": {
          "base_uri": "https://localhost:8080/",
          "height": 449
        },
        "id": "vflN2nLi0VaH",
        "outputId": "b2715f02-fec9-4fee-f25a-4f6d880e4baf"
      },
      "execution_count": null,
      "outputs": [
        {
          "output_type": "display_data",
          "data": {
            "text/plain": [
              "<Figure size 640x480 with 1 Axes>"
            ],
            "image/png": "[encoded data removed]"
          },
          "metadata": {}
        }
      ]
    },
    {
      "cell_type": "markdown",
      "source": [
        "Lembrando, tal curva se refere à compreensão do quanto o modelo está sendo capaz de ser assertivo quanto as suas previsões para verdadeiros positivos e verdadeiros negativos.\n",
        "\n",
        "Nesse sentido, analisando ambas as curvas, nota-se que ambos os modelos apresentam desempenham semelhante, sendo a diferença entre eles de apenas 0.04 ou 4%."
      ],
      "metadata": {
        "id": "mcOJ2Lwy2S4u"
      }
    },
    {
      "cell_type": "markdown",
      "source": [
        "## Conclusão\n",
        "\n",
        "### Seleção dos modelos 🤖\n",
        "\n",
        "Após a criação dos modelos otimizados, observou-se que os melhores modelos em termos de desempenho foram o modelo de regressão, tanto por sua acurácia quanto pela precisão, bem como o XGBoost, por meio de seu recall.\n",
        "\n",
        "Desse modo, verificou-se de forma mais profunda sobre cada um deles, buscando ver o quão precisos eram tanto por meio da matriz de confusão quanto pela curva ROC-AUC, de modo que percebeu-se que em termos de desempenho geral o modelo de regressão possui um ganho de 7 pontos percentuais em relação ao XGBoost, com 4 pontos percentuais de maior precisão, segundo a própria curva.\n",
        "\n",
        "Por outro lado, considerando o presente estudo de caso, para a seleção do modelo de machine learning adotado, o qual se baseia na classificação de pacientes com doença cardíaca ou não, faz-se necessário escolher o modelo que apresenta a maior recall, que manifesta a maior taxa de acerto efetivo.\n",
        "\n",
        "Assim, tendo em vista que o XGBoost em outras métricas, como taxa de acerto geral e curva ROC-AUC apresenta pouca desvantagem percentual em relação ao modelo de regressão logística, bem como apresenta em relação a esse maior recall, considera-se para o vigente contexto que ele é o melhor modelo a ser escolhido."
      ],
      "metadata": {
        "id": "4h0EqgcBr7DL"
      }
    },
    {
      "cell_type": "markdown",
      "source": [
        "## Identificando quais foram as features mais relevantes segundo o modelo selecionado 🔍"
      ],
      "metadata": {
        "id": "sau8OG4p6OYp"
      }
    },
    {
      "cell_type": "code",
      "source": [
        "%%time\n",
        "\n",
        "xgb_opt_bayesian.fit(X_train, y_train)"
      ],
      "metadata": {
        "colab": {
          "base_uri": "https://localhost:8080/",
          "height": 283
        },
        "id": "wLFq8rpC7XS2",
        "outputId": "70539f81-eb02-4c6a-ea7f-e92f3c0065f6"
      },
      "execution_count": null,
      "outputs": [
        {
          "output_type": "stream",
          "name": "stdout",
          "text": [
            "CPU times: user 1.01 s, sys: 7.45 ms, total: 1.02 s\n",
            "Wall time: 1.18 s\n"
          ]
        },
        {
          "output_type": "execute_result",
          "data": {
            "text/plain": [
              "XGBClassifier(base_score=None, booster=None, callbacks=None,\n",
              "              colsample_bylevel=None, colsample_bynode=None,\n",
              "              colsample_bytree=0.5, device=None, early_stopping_rounds=None,\n",
              "              enable_categorical=False, eval_metric=None, feature_types=None,\n",
              "              gamma=None, grow_policy=None, importance_type=None,\n",
              "              interaction_constraints=None, learning_rate=0.24, max_bin=None,\n",
              "              max_cat_threshold=None, max_cat_to_onehot=None,\n",
              "              max_delta_step=None, max_depth=2, max_leaves=None,\n",
              "              min_child_weight=None, missing=nan, monotone_constraints=None,\n",
              "              multi_strategy=None, n_estimators=388, n_jobs=None,\n",
              "              num_parallel_tree=None, random_state=22, ...)"
            ],
            "text/html": [
              "<style>#sk-container-id-1 {color: black;background-color: white;}#sk-container-id-1 pre{padding: 0;}#sk-container-id-1 div.sk-toggleable {background-color: white;}#sk-container-id-1 label.sk-toggleable__label {cursor: pointer;display: block;width: 100%;margin-bottom: 0;padding: 0.3em;box-sizing: border-box;text-align: center;}#sk-container-id-1 label.sk-toggleable__label-arrow:before {content: \"▸\";float: left;margin-right: 0.25em;color: #696969;}#sk-container-id-1 label.sk-toggleable__label-arrow:hover:before {color: black;}#sk-container-id-1 div.sk-estimator:hover label.sk-toggleable__label-arrow:before {color: black;}#sk-container-id-1 div.sk-toggleable__content {max-height: 0;max-width: 0;overflow: hidden;text-align: left;background-color: #f0f8ff;}#sk-container-id-1 div.sk-toggleable__content pre {margin: 0.2em;color: black;border-radius: 0.25em;background-color: #f0f8ff;}#sk-container-id-1 input.sk-toggleable__control:checked~div.sk-toggleable__content {max-height: 200px;max-width: 100%;overflow: auto;}#sk-container-id-1 input.sk-toggleable__control:checked~label.sk-toggleable__label-arrow:before {content: \"▾\";}#sk-container-id-1 div.sk-estimator input.sk-toggleable__control:checked~label.sk-toggleable__label {background-color: #d4ebff;}#sk-container-id-1 div.sk-label input.sk-toggleable__control:checked~label.sk-toggleable__label {background-color: #d4ebff;}#sk-container-id-1 input.sk-hidden--visually {border: 0;clip: rect(1px 1px 1px 1px);clip: rect(1px, 1px, 1px, 1px);height: 1px;margin: -1px;overflow: hidden;padding: 0;position: absolute;width: 1px;}#sk-container-id-1 div.sk-estimator {font-family: monospace;background-color: #f0f8ff;border: 1px dotted black;border-radius: 0.25em;box-sizing: border-box;margin-bottom: 0.5em;}#sk-container-id-1 div.sk-estimator:hover {background-color: #d4ebff;}#sk-container-id-1 div.sk-parallel-item::after {content: \"\";width: 100%;border-bottom: 1px solid gray;flex-grow: 1;}#sk-container-id-1 div.sk-label:hover label.sk-toggleable__label {background-color: #d4ebff;}#sk-container-id-1 div.sk-serial::before {content: \"\";position: absolute;border-left: 1px solid gray;box-sizing: border-box;top: 0;bottom: 0;left: 50%;z-index: 0;}#sk-container-id-1 div.sk-serial {display: flex;flex-direction: column;align-items: center;background-color: white;padding-right: 0.2em;padding-left: 0.2em;position: relative;}#sk-container-id-1 div.sk-item {position: relative;z-index: 1;}#sk-container-id-1 div.sk-parallel {display: flex;align-items: stretch;justify-content: center;background-color: white;position: relative;}#sk-container-id-1 div.sk-item::before, #sk-container-id-1 div.sk-parallel-item::before {content: \"\";position: absolute;border-left: 1px solid gray;box-sizing: border-box;top: 0;bottom: 0;left: 50%;z-index: -1;}#sk-container-id-1 div.sk-parallel-item {display: flex;flex-direction: column;z-index: 1;position: relative;background-color: white;}#sk-container-id-1 div.sk-parallel-item:first-child::after {align-self: flex-end;width: 50%;}#sk-container-id-1 div.sk-parallel-item:last-child::after {align-self: flex-start;width: 50%;}#sk-container-id-1 div.sk-parallel-item:only-child::after {width: 0;}#sk-container-id-1 div.sk-dashed-wrapped {border: 1px dashed gray;margin: 0 0.4em 0.5em 0.4em;box-sizing: border-box;padding-bottom: 0.4em;background-color: white;}#sk-container-id-1 div.sk-label label {font-family: monospace;font-weight: bold;display: inline-block;line-height: 1.2em;}#sk-container-id-1 div.sk-label-container {text-align: center;}#sk-container-id-1 div.sk-container {/* jupyter's `normalize.less` sets `[hidden] { display: none; }` but bootstrap.min.css set `[hidden] { display: none !important; }` so we also need the `!important` here to be able to override the default hidden behavior on the sphinx rendered scikit-learn.org. See: https://github.com/scikit-learn/scikit-learn/issues/21755 */display: inline-block !important;position: relative;}#sk-container-id-1 div.sk-text-repr-fallback {display: none;}</style><div id=\"sk-container-id-1\" class=\"sk-top-container\"><div class=\"sk-text-repr-fallback\"><pre>XGBClassifier(base_score=None, booster=None, callbacks=None,\n",
              "              colsample_bylevel=None, colsample_bynode=None,\n",
              "              colsample_bytree=0.5, device=None, early_stopping_rounds=None,\n",
              "              enable_categorical=False, eval_metric=None, feature_types=None,\n",
              "              gamma=None, grow_policy=None, importance_type=None,\n",
              "              interaction_constraints=None, learning_rate=0.24, max_bin=None,\n",
              "              max_cat_threshold=None, max_cat_to_onehot=None,\n",
              "              max_delta_step=None, max_depth=2, max_leaves=None,\n",
              "              min_child_weight=None, missing=nan, monotone_constraints=None,\n",
              "              multi_strategy=None, n_estimators=388, n_jobs=None,\n",
              "              num_parallel_tree=None, random_state=22, ...)</pre><b>In a Jupyter environment, please rerun this cell to show the HTML representation or trust the notebook. <br />On GitHub, the HTML representation is unable to render, please try loading this page with nbviewer.org.</b></div><div class=\"sk-container\" hidden><div class=\"sk-item\"><div class=\"sk-estimator sk-toggleable\"><input class=\"sk-toggleable__control sk-hidden--visually\" id=\"sk-estimator-id-1\" type=\"checkbox\" checked><label for=\"sk-estimator-id-1\" class=\"sk-toggleable__label sk-toggleable__label-arrow\">XGBClassifier</label><div class=\"sk-toggleable__content\"><pre>XGBClassifier(base_score=None, booster=None, callbacks=None,\n",
              "              colsample_bylevel=None, colsample_bynode=None,\n",
              "              colsample_bytree=0.5, device=None, early_stopping_rounds=None,\n",
              "              enable_categorical=False, eval_metric=None, feature_types=None,\n",
              "              gamma=None, grow_policy=None, importance_type=None,\n",
              "              interaction_constraints=None, learning_rate=0.24, max_bin=None,\n",
              "              max_cat_threshold=None, max_cat_to_onehot=None,\n",
              "              max_delta_step=None, max_depth=2, max_leaves=None,\n",
              "              min_child_weight=None, missing=nan, monotone_constraints=None,\n",
              "              multi_strategy=None, n_estimators=388, n_jobs=None,\n",
              "              num_parallel_tree=None, random_state=22, ...)</pre></div></div></div></div></div>"
            ]
          },
          "metadata": {},
          "execution_count": 37
        }
      ]
    },
    {
      "cell_type": "code",
      "source": [
        "feature_importance = pd.DataFrame({'colunas' : X_train.columns, 'importancia' : xgb_opt_bayesian.feature_importances_})\n",
        "\n",
        "feature_importance.sort_values(by = 'importancia', ascending = False)"
      ],
      "metadata": {
        "colab": {
          "base_uri": "https://localhost:8080/",
          "height": 457
        },
        "id": "r8fjOFL36uQS",
        "outputId": "76d9d7bc-e258-4b5c-b61d-bc60243546da"
      },
      "execution_count": null,
      "outputs": [
        {
          "output_type": "execute_result",
          "data": {
            "text/plain": [
              "                    colunas  importancia\n",
              "11       Numero vasos fluro     0.130256\n",
              "8             Dor exercicio     0.114581\n",
              "2                  Tipo dor     0.093217\n",
              "1                      Sexo     0.086178\n",
              "12      Teste cintilografia     0.083835\n",
              "5       Glicemia jejum >120     0.080850\n",
              "9              Depressao ST     0.071760\n",
              "10            Inclinacao ST     0.064923\n",
              "7   Frequencia cardiaca max     0.061850\n",
              "4                Colesterol     0.056779\n",
              "0                     Idade     0.054040\n",
              "6            Resultados ECG     0.050950\n",
              "3          Pressao arterial     0.050781"
            ],
            "text/html": [
              "\n",
              "  <div id=\"df-525ec29d-7d40-49b5-acfd-839960f4fe3f\" class=\"colab-df-container\">\n",
              "    <div>\n",
              "<style scoped>\n",
              "    .dataframe tbody tr th:only-of-type {\n",
              "        vertical-align: middle;\n",
              "    }\n",
              "\n",
              "    .dataframe tbody tr th {\n",
              "        vertical-align: top;\n",
              "    }\n",
              "\n",
              "    .dataframe thead th {\n",
              "        text-align: right;\n",
              "    }\n",
              "</style>\n",
              "<table border=\"1\" class=\"dataframe\">\n",
              "  <thead>\n",
              "    <tr style=\"text-align: right;\">\n",
              "      <th></th>\n",
              "      <th>colunas</th>\n",
              "      <th>importancia</th>\n",
              "    </tr>\n",
              "  </thead>\n",
              "  <tbody>\n",
              "    <tr>\n",
              "      <th>11</th>\n",
              "      <td>Numero vasos fluro</td>\n",
              "      <td>0.130256</td>\n",
              "    </tr>\n",
              "    <tr>\n",
              "      <th>8</th>\n",
              "      <td>Dor exercicio</td>\n",
              "      <td>0.114581</td>\n",
              "    </tr>\n",
              "    <tr>\n",
              "      <th>2</th>\n",
              "      <td>Tipo dor</td>\n",
              "      <td>0.093217</td>\n",
              "    </tr>\n",
              "    <tr>\n",
              "      <th>1</th>\n",
              "      <td>Sexo</td>\n",
              "      <td>0.086178</td>\n",
              "    </tr>\n",
              "    <tr>\n",
              "      <th>12</th>\n",
              "      <td>Teste cintilografia</td>\n",
              "      <td>0.083835</td>\n",
              "    </tr>\n",
              "    <tr>\n",
              "      <th>5</th>\n",
              "      <td>Glicemia jejum &gt;120</td>\n",
              "      <td>0.080850</td>\n",
              "    </tr>\n",
              "    <tr>\n",
              "      <th>9</th>\n",
              "      <td>Depressao ST</td>\n",
              "      <td>0.071760</td>\n",
              "    </tr>\n",
              "    <tr>\n",
              "      <th>10</th>\n",
              "      <td>Inclinacao ST</td>\n",
              "      <td>0.064923</td>\n",
              "    </tr>\n",
              "    <tr>\n",
              "      <th>7</th>\n",
              "      <td>Frequencia cardiaca max</td>\n",
              "      <td>0.061850</td>\n",
              "    </tr>\n",
              "    <tr>\n",
              "      <th>4</th>\n",
              "      <td>Colesterol</td>\n",
              "      <td>0.056779</td>\n",
              "    </tr>\n",
              "    <tr>\n",
              "      <th>0</th>\n",
              "      <td>Idade</td>\n",
              "      <td>0.054040</td>\n",
              "    </tr>\n",
              "    <tr>\n",
              "      <th>6</th>\n",
              "      <td>Resultados ECG</td>\n",
              "      <td>0.050950</td>\n",
              "    </tr>\n",
              "    <tr>\n",
              "      <th>3</th>\n",
              "      <td>Pressao arterial</td>\n",
              "      <td>0.050781</td>\n",
              "    </tr>\n",
              "  </tbody>\n",
              "</table>\n",
              "</div>\n",
              "    <div class=\"colab-df-buttons\">\n",
              "\n",
              "  <div class=\"colab-df-container\">\n",
              "    <button class=\"colab-df-convert\" onclick=\"convertToInteractive('df-525ec29d-7d40-49b5-acfd-839960f4fe3f')\"\n",
              "            title=\"Convert this dataframe to an interactive table.\"\n",
              "            style=\"display:none;\">\n",
              "\n",
              "  <svg xmlns=\"http://www.w3.org/2000/svg\" height=\"24px\" viewBox=\"0 -960 960 960\">\n",
              "    <path d=\"M120-120v-720h720v720H120Zm60-500h600v-160H180v160Zm220 220h160v-160H400v160Zm0 220h160v-160H400v160ZM180-400h160v-160H180v160Zm440 0h160v-160H620v160ZM180-180h160v-160H180v160Zm440 0h160v-160H620v160Z\"/>\n",
              "  </svg>\n",
              "    </button>\n",
              "\n",
              "  <style>\n",
              "    .colab-df-container {\n",
              "      display:flex;\n",
              "      gap: 12px;\n",
              "    }\n",
              "\n",
              "    .colab-df-convert {\n",
              "      background-color: #E8F0FE;\n",
              "      border: none;\n",
              "      border-radius: 50%;\n",
              "      cursor: pointer;\n",
              "      display: none;\n",
              "      fill: #1967D2;\n",
              "      height: 32px;\n",
              "      padding: 0 0 0 0;\n",
              "      width: 32px;\n",
              "    }\n",
              "\n",
              "    .colab-df-convert:hover {\n",
              "      background-color: #E2EBFA;\n",
              "      box-shadow: 0px 1px 2px rgba(60, 64, 67, 0.3), 0px 1px 3px 1px rgba(60, 64, 67, 0.15);\n",
              "      fill: #174EA6;\n",
              "    }\n",
              "\n",
              "    .colab-df-buttons div {\n",
              "      margin-bottom: 4px;\n",
              "    }\n",
              "\n",
              "    [theme=dark] .colab-df-convert {\n",
              "      background-color: #3B4455;\n",
              "      fill: #D2E3FC;\n",
              "    }\n",
              "\n",
              "    [theme=dark] .colab-df-convert:hover {\n",
              "      background-color: #434B5C;\n",
              "      box-shadow: 0px 1px 3px 1px rgba(0, 0, 0, 0.15);\n",
              "      filter: drop-shadow(0px 1px 2px rgba(0, 0, 0, 0.3));\n",
              "      fill: #FFFFFF;\n",
              "    }\n",
              "  </style>\n",
              "\n",
              "    <script>\n",
              "      const buttonEl =\n",
              "        document.querySelector('#df-525ec29d-7d40-49b5-acfd-839960f4fe3f button.colab-df-convert');\n",
              "      buttonEl.style.display =\n",
              "        google.colab.kernel.accessAllowed ? 'block' : 'none';\n",
              "\n",
              "      async function convertToInteractive(key) {\n",
              "        const element = document.querySelector('#df-525ec29d-7d40-49b5-acfd-839960f4fe3f');\n",
              "        const dataTable =\n",
              "          await google.colab.kernel.invokeFunction('convertToInteractive',\n",
              "                                                    [key], {});\n",
              "        if (!dataTable) return;\n",
              "\n",
              "        const docLinkHtml = 'Like what you see? Visit the ' +\n",
              "          '<a target=\"_blank\" href=https://colab.research.google.com/notebooks/data_table.ipynb>data table notebook</a>'\n",
              "          + ' to learn more about interactive tables.';\n",
              "        element.innerHTML = '';\n",
              "        dataTable['output_type'] = 'display_data';\n",
              "        await google.colab.output.renderOutput(dataTable, element);\n",
              "        const docLink = document.createElement('div');\n",
              "        docLink.innerHTML = docLinkHtml;\n",
              "        element.appendChild(docLink);\n",
              "      }\n",
              "    </script>\n",
              "  </div>\n",
              "\n",
              "\n",
              "<div id=\"df-36dd6e69-0e73-407d-83ed-b7bd58661932\">\n",
              "  <button class=\"colab-df-quickchart\" onclick=\"quickchart('df-36dd6e69-0e73-407d-83ed-b7bd58661932')\"\n",
              "            title=\"Suggest charts\"\n",
              "            style=\"display:none;\">\n",
              "\n",
              "<svg xmlns=\"http://www.w3.org/2000/svg\" height=\"24px\"viewBox=\"0 0 24 24\"\n",
              "     width=\"24px\">\n",
              "    <g>\n",
              "        <path d=\"M19 3H5c-1.1 0-2 .9-2 2v14c0 1.1.9 2 2 2h14c1.1 0 2-.9 2-2V5c0-1.1-.9-2-2-2zM9 17H7v-7h2v7zm4 0h-2V7h2v10zm4 0h-2v-4h2v4z\"/>\n",
              "    </g>\n",
              "</svg>\n",
              "  </button>\n",
              "\n",
              "<style>\n",
              "  .colab-df-quickchart {\n",
              "      --bg-color: #E8F0FE;\n",
              "      --fill-color: #1967D2;\n",
              "      --hover-bg-color: #E2EBFA;\n",
              "      --hover-fill-color: #174EA6;\n",
              "      --disabled-fill-color: #AAA;\n",
              "      --disabled-bg-color: #DDD;\n",
              "  }\n",
              "\n",
              "  [theme=dark] .colab-df-quickchart {\n",
              "      --bg-color: #3B4455;\n",
              "      --fill-color: #D2E3FC;\n",
              "      --hover-bg-color: #434B5C;\n",
              "      --hover-fill-color: #FFFFFF;\n",
              "      --disabled-bg-color: #3B4455;\n",
              "      --disabled-fill-color: #666;\n",
              "  }\n",
              "\n",
              "  .colab-df-quickchart {\n",
              "    background-color: var(--bg-color);\n",
              "    border: none;\n",
              "    border-radius: 50%;\n",
              "    cursor: pointer;\n",
              "    display: none;\n",
              "    fill: var(--fill-color);\n",
              "    height: 32px;\n",
              "    padding: 0;\n",
              "    width: 32px;\n",
              "  }\n",
              "\n",
              "  .colab-df-quickchart:hover {\n",
              "    background-color: var(--hover-bg-color);\n",
              "    box-shadow: 0 1px 2px rgba(60, 64, 67, 0.3), 0 1px 3px 1px rgba(60, 64, 67, 0.15);\n",
              "    fill: var(--button-hover-fill-color);\n",
              "  }\n",
              "\n",
              "  .colab-df-quickchart-complete:disabled,\n",
              "  .colab-df-quickchart-complete:disabled:hover {\n",
              "    background-color: var(--disabled-bg-color);\n",
              "    fill: var(--disabled-fill-color);\n",
              "    box-shadow: none;\n",
              "  }\n",
              "\n",
              "  .colab-df-spinner {\n",
              "    border: 2px solid var(--fill-color);\n",
              "    border-color: transparent;\n",
              "    border-bottom-color: var(--fill-color);\n",
              "    animation:\n",
              "      spin 1s steps(1) infinite;\n",
              "  }\n",
              "\n",
              "  @keyframes spin {\n",
              "    0% {\n",
              "      border-color: transparent;\n",
              "      border-bottom-color: var(--fill-color);\n",
              "      border-left-color: var(--fill-color);\n",
              "    }\n",
              "    20% {\n",
              "      border-color: transparent;\n",
              "      border-left-color: var(--fill-color);\n",
              "      border-top-color: var(--fill-color);\n",
              "    }\n",
              "    30% {\n",
              "      border-color: transparent;\n",
              "      border-left-color: var(--fill-color);\n",
              "      border-top-color: var(--fill-color);\n",
              "      border-right-color: var(--fill-color);\n",
              "    }\n",
              "    40% {\n",
              "      border-color: transparent;\n",
              "      border-right-color: var(--fill-color);\n",
              "      border-top-color: var(--fill-color);\n",
              "    }\n",
              "    60% {\n",
              "      border-color: transparent;\n",
              "      border-right-color: var(--fill-color);\n",
              "    }\n",
              "    80% {\n",
              "      border-color: transparent;\n",
              "      border-right-color: var(--fill-color);\n",
              "      border-bottom-color: var(--fill-color);\n",
              "    }\n",
              "    90% {\n",
              "      border-color: transparent;\n",
              "      border-bottom-color: var(--fill-color);\n",
              "    }\n",
              "  }\n",
              "</style>\n",
              "\n",
              "  <script>\n",
              "    async function quickchart(key) {\n",
              "      const quickchartButtonEl =\n",
              "        document.querySelector('#' + key + ' button');\n",
              "      quickchartButtonEl.disabled = true;  // To prevent multiple clicks.\n",
              "      quickchartButtonEl.classList.add('colab-df-spinner');\n",
              "      try {\n",
              "        const charts = await google.colab.kernel.invokeFunction(\n",
              "            'suggestCharts', [key], {});\n",
              "      } catch (error) {\n",
              "        console.error('Error during call to suggestCharts:', error);\n",
              "      }\n",
              "      quickchartButtonEl.classList.remove('colab-df-spinner');\n",
              "      quickchartButtonEl.classList.add('colab-df-quickchart-complete');\n",
              "    }\n",
              "    (() => {\n",
              "      let quickchartButtonEl =\n",
              "        document.querySelector('#df-36dd6e69-0e73-407d-83ed-b7bd58661932 button');\n",
              "      quickchartButtonEl.style.display =\n",
              "        google.colab.kernel.accessAllowed ? 'block' : 'none';\n",
              "    })();\n",
              "  </script>\n",
              "</div>\n",
              "\n",
              "    </div>\n",
              "  </div>\n"
            ],
            "application/vnd.google.colaboratory.intrinsic+json": {
              "type": "dataframe",
              "summary": "{\n  \"name\": \"feature_importance\",\n  \"rows\": 13,\n  \"fields\": [\n    {\n      \"column\": \"colunas\",\n      \"properties\": {\n        \"dtype\": \"string\",\n        \"num_unique_values\": 13,\n        \"samples\": [\n          \"Resultados ECG\",\n          \"Colesterol\",\n          \"Numero vasos fluro\"\n        ],\n        \"semantic_type\": \"\",\n        \"description\": \"\"\n      }\n    },\n    {\n      \"column\": \"importancia\",\n      \"properties\": {\n        \"dtype\": \"float32\",\n        \"num_unique_values\": 13,\n        \"samples\": [\n          0.05095026642084122,\n          0.05677870288491249,\n          0.13025619089603424\n        ],\n        \"semantic_type\": \"\",\n        \"description\": \"\"\n      }\n    }\n  ]\n}"
            }
          },
          "metadata": {},
          "execution_count": 38
        }
      ]
    },
    {
      "cell_type": "markdown",
      "source": [
        "## Insights a partir dos dados ✨\n",
        "\n",
        "Através dos dados, permitiu-se observar algumas relações, como a tendência diretamente proporcional entre idade e a presença da doença, assim como a prevalência dessa no sexo masculino, estando em menor grau no sexo feminio, o que sugerem caminhos a serem pesquisados para que possam ser melhor compreendidos, além das possíveis combinações entre dados que poderiam ser feitas, como idade e frequência cardíaca, a qual apresenta uma relação inversamente proporcional com a presença da doença.\n",
        "\n",
        "Da mesma forma, pode-se observar quais foram as features mais relevantes para o modelo, na etapa de treinamento, compreender a presença ou ausência da doença. Por exemplo, nota-se que as features referentes aos vasos, dor durante o exercício e o tipo de dor sentida pelo paciente são bastante significativos para a possível presença da doença, equanto outras features como frequência cardíaca máxima menos.\n",
        "\n",
        "No entanto, como o foco desse notebook não era de propriamente dito realizar a interpretação dos dados, mas apenas a implementação do modelo XGBoost, passando pelo escopo de sua otmização e análise métrica em conjunto de outros modelos, a parte dos possíveis insights em meio aos dados não será aprofundada.\n"
      ],
      "metadata": {
        "id": "56MKnfTb8JzJ"
      }
    },
    {
      "cell_type": "markdown",
      "source": [
        "## Salvando o modelo selecionado 🚀"
      ],
      "metadata": {
        "id": "34V3pFrF58T8"
      }
    },
    {
      "cell_type": "code",
      "source": [
        "modelo_xgb = xgb_opt_bayesian"
      ],
      "metadata": {
        "id": "9Dxrk5AF9box"
      },
      "execution_count": null,
      "outputs": []
    },
    {
      "cell_type": "code",
      "source": [
        "import pickle\n",
        "\n",
        "with open('modelo_xgb.pkl', 'wb') as arquivo:\n",
        "    pickle.dump(modelo_xgb, arquivo)"
      ],
      "metadata": {
        "id": "CREy4LLR0nzv"
      },
      "execution_count": null,
      "outputs": []
    },
    {
      "cell_type": "code",
      "source": [],
      "metadata": {
        "id": "dcdxAXY09nNu"
      },
      "execution_count": null,
      "outputs": []
    }
  ]
}