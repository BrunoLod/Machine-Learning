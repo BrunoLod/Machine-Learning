{
  "cells": [
    {
      "cell_type": "markdown",
      "metadata": {
        "id": "fEMDAv0CMfWn"
      },
      "source": [
        "# Contexto ✒️\n",
        "\n",
        "Notebook voltado ao estudo da otimização dos modelos de machine learning. A otimização dos modelos é parte essencial de um projeto, pois visa atingir um ponto de eficiência no qual o modelo funciona, conseguindo obter as melhores métricas, sem produzir sobreajuste (overfitting), permitindo a sua generalização para o objetivo que fora construído.\n",
        "\n",
        "O estudo se debruçará num case de uma locadora de veículos, que pretende desenvolver um modelo que preveja, com base nas features presentes, se um cliente tende a ser inadimplente ou adimplente.\n",
        "\n",
        "Para tanto, desenvolverei modelos de machine learning otimizados que sejam capazes de prover uma classificação, prevista, dos clientes. Uma vez que o escopo do estudo passa pelo escopo da otimização, será apresentado e explicado as principais abordagens de otimização usadas, a saber :\n",
        "\n",
        "- validção cruzada com GridSearchCV\n",
        "- validação cruzada aninhada\n",
        "- busca aleatória (RandomSearchCV)\n",
        "- Otimização Baysiana\n",
        "\n",
        ">\n",
        "\n",
        "Dado que as validações cruzadas, tanto a aninhada quanto a não aninhada demandam elevados custos de processamento, exigindo um maior intervalo de tempo para a execução na célula do Google Colab, eu apenas construirei os pertinentes códigos e utilizarei os parâmetros encontrados pela busca aleatória, a qual também pode ser ou não aninhada. A possibilidade disso ocorre, pois apesar de aleatória os melhores hiperparâmetros em relação ao universo total das possibilidades possuem baixa dimensionalidade ( será explicado quando chegar na parte da otimização por busca aleatória )."
      ]
    },
    {
      "cell_type": "markdown",
      "metadata": {
        "id": "Qu8nAfwnPdB4"
      },
      "source": [
        "## Bibliotecas utilizadas 📚"
      ]
    },
    {
      "cell_type": "code",
      "execution_count": 59,
      "metadata": {
        "id": "Y6WDI6PxMEA7"
      },
      "outputs": [],
      "source": [
        "import pandas as pd\n",
        "import matplotlib.pyplot as plt\n",
        "import seaborn as sns\n",
        "import numpy as np\n",
        "\n",
        "from skopt import BayesSearchCV\n",
        "from skopt.space import Real, Integer, Categorical\n",
        "from numpy import linspace\n",
        "from sklearn.model_selection import cross_val_score\n",
        "from sklearn.preprocessing import StandardScaler\n",
        "from sklearn.model_selection import RandomizedSearchCV\n",
        "from sklearn.pipeline import Pipeline\n",
        "from sklearn.neighbors import KNeighborsClassifier\n",
        "from sklearn.dummy import DummyClassifier\n",
        "from sklearn.linear_model import LogisticRegression\n",
        "from sklearn.preprocessing import StandardScaler\n",
        "from sklearn.preprocessing import StandardScaler\n",
        "from sklearn.model_selection import StratifiedKFold\n",
        "from sklearn.model_selection import GridSearchCV\n",
        "from sklearn.ensemble import RandomForestClassifier\n",
        "from sklearn.model_selection import train_test_split\n",
        "from sklearn.metrics import f1_score, precision_score, recall_score, accuracy_score, confusion_matrix"
      ]
    },
    {
      "cell_type": "code",
      "source": [
        "!pip install scikit-optimize"
      ],
      "metadata": {
        "colab": {
          "base_uri": "https://localhost:8080/"
        },
        "id": "d6aKil6CcNq5",
        "outputId": "0ff0b7a7-acce-412e-94ea-a26d7ac0f19b"
      },
      "execution_count": 58,
      "outputs": [
        {
          "output_type": "stream",
          "name": "stdout",
          "text": [
            "Requirement already satisfied: scikit-optimize in /usr/local/lib/python3.10/dist-packages (0.10.2)\n",
            "Requirement already satisfied: joblib>=0.11 in /usr/local/lib/python3.10/dist-packages (from scikit-optimize) (1.4.2)\n",
            "Requirement already satisfied: pyaml>=16.9 in /usr/local/lib/python3.10/dist-packages (from scikit-optimize) (24.4.0)\n",
            "Requirement already satisfied: numpy>=1.20.3 in /usr/local/lib/python3.10/dist-packages (from scikit-optimize) (1.25.2)\n",
            "Requirement already satisfied: scipy>=1.1.0 in /usr/local/lib/python3.10/dist-packages (from scikit-optimize) (1.11.4)\n",
            "Requirement already satisfied: scikit-learn>=1.0.0 in /usr/local/lib/python3.10/dist-packages (from scikit-optimize) (1.2.2)\n",
            "Requirement already satisfied: packaging>=21.3 in /usr/local/lib/python3.10/dist-packages (from scikit-optimize) (24.0)\n",
            "Requirement already satisfied: PyYAML in /usr/local/lib/python3.10/dist-packages (from pyaml>=16.9->scikit-optimize) (6.0.1)\n",
            "Requirement already satisfied: threadpoolctl>=2.0.0 in /usr/local/lib/python3.10/dist-packages (from scikit-learn>=1.0.0->scikit-optimize) (3.5.0)\n"
          ]
        }
      ]
    },
    {
      "cell_type": "markdown",
      "metadata": {
        "id": "9vYQm88xP12s"
      },
      "source": [
        "## DataFrame 💾"
      ]
    },
    {
      "cell_type": "code",
      "execution_count": 2,
      "metadata": {
        "id": "hKkfDPD7PnyL"
      },
      "outputs": [],
      "source": [
        "file_path = '/content/dados_inadimplencia.csv'\n",
        "\n",
        "df = pd.read_csv(file_path)\n"
      ]
    },
    {
      "cell_type": "markdown",
      "metadata": {
        "id": "DllKzxXWRmq-"
      },
      "source": [
        "## Visualizando e identificando a qualidade dos dados 🔍"
      ]
    },
    {
      "cell_type": "code",
      "execution_count": 3,
      "metadata": {
        "colab": {
          "base_uri": "https://localhost:8080/",
          "height": 226
        },
        "id": "udEtkEmxQLUC",
        "outputId": "7edea86d-74fe-4fbd-dfb4-03af35cd67e3"
      },
      "outputs": [
        {
          "output_type": "execute_result",
          "data": {
            "text/plain": [
              "   receita_cliente  anuidade_emprestimo  anos_casa_propria  telefone_trab  \\\n",
              "0     16855.246324          2997.000000          12.157324              0   \n",
              "1     13500.000000          2776.050000          12.157324              0   \n",
              "2     11250.000000          2722.188351          12.157324              0   \n",
              "3     27000.000000          6750.000000           3.000000              0   \n",
              "4     22500.000000          3097.800000          12.157324              0   \n",
              "\n",
              "   avaliacao_cidade   score_1   score_2   score_3  score_social  \\\n",
              "0               2.0  0.501213  0.003109  0.513171      0.117428   \n",
              "1               2.0  0.501213  0.269730  0.513171      0.097900   \n",
              "2               3.0  0.701396  0.518625  0.700184      0.118600   \n",
              "3               2.0  0.501213  0.649571  0.513171      0.047400   \n",
              "4               2.0  0.440744  0.509677  0.513171      0.014400   \n",
              "\n",
              "   troca_telefone  inadimplente  \n",
              "0           243.0             1  \n",
              "1           617.0             0  \n",
              "2             9.0             0  \n",
              "3           300.0             0  \n",
              "4          2913.0             1  "
            ],
            "text/html": [
              "\n",
              "  <div id=\"df-e25777a6-080f-40a2-bd2d-800a666dcdba\" class=\"colab-df-container\">\n",
              "    <div>\n",
              "<style scoped>\n",
              "    .dataframe tbody tr th:only-of-type {\n",
              "        vertical-align: middle;\n",
              "    }\n",
              "\n",
              "    .dataframe tbody tr th {\n",
              "        vertical-align: top;\n",
              "    }\n",
              "\n",
              "    .dataframe thead th {\n",
              "        text-align: right;\n",
              "    }\n",
              "</style>\n",
              "<table border=\"1\" class=\"dataframe\">\n",
              "  <thead>\n",
              "    <tr style=\"text-align: right;\">\n",
              "      <th></th>\n",
              "      <th>receita_cliente</th>\n",
              "      <th>anuidade_emprestimo</th>\n",
              "      <th>anos_casa_propria</th>\n",
              "      <th>telefone_trab</th>\n",
              "      <th>avaliacao_cidade</th>\n",
              "      <th>score_1</th>\n",
              "      <th>score_2</th>\n",
              "      <th>score_3</th>\n",
              "      <th>score_social</th>\n",
              "      <th>troca_telefone</th>\n",
              "      <th>inadimplente</th>\n",
              "    </tr>\n",
              "  </thead>\n",
              "  <tbody>\n",
              "    <tr>\n",
              "      <th>0</th>\n",
              "      <td>16855.246324</td>\n",
              "      <td>2997.000000</td>\n",
              "      <td>12.157324</td>\n",
              "      <td>0</td>\n",
              "      <td>2.0</td>\n",
              "      <td>0.501213</td>\n",
              "      <td>0.003109</td>\n",
              "      <td>0.513171</td>\n",
              "      <td>0.117428</td>\n",
              "      <td>243.0</td>\n",
              "      <td>1</td>\n",
              "    </tr>\n",
              "    <tr>\n",
              "      <th>1</th>\n",
              "      <td>13500.000000</td>\n",
              "      <td>2776.050000</td>\n",
              "      <td>12.157324</td>\n",
              "      <td>0</td>\n",
              "      <td>2.0</td>\n",
              "      <td>0.501213</td>\n",
              "      <td>0.269730</td>\n",
              "      <td>0.513171</td>\n",
              "      <td>0.097900</td>\n",
              "      <td>617.0</td>\n",
              "      <td>0</td>\n",
              "    </tr>\n",
              "    <tr>\n",
              "      <th>2</th>\n",
              "      <td>11250.000000</td>\n",
              "      <td>2722.188351</td>\n",
              "      <td>12.157324</td>\n",
              "      <td>0</td>\n",
              "      <td>3.0</td>\n",
              "      <td>0.701396</td>\n",
              "      <td>0.518625</td>\n",
              "      <td>0.700184</td>\n",
              "      <td>0.118600</td>\n",
              "      <td>9.0</td>\n",
              "      <td>0</td>\n",
              "    </tr>\n",
              "    <tr>\n",
              "      <th>3</th>\n",
              "      <td>27000.000000</td>\n",
              "      <td>6750.000000</td>\n",
              "      <td>3.000000</td>\n",
              "      <td>0</td>\n",
              "      <td>2.0</td>\n",
              "      <td>0.501213</td>\n",
              "      <td>0.649571</td>\n",
              "      <td>0.513171</td>\n",
              "      <td>0.047400</td>\n",
              "      <td>300.0</td>\n",
              "      <td>0</td>\n",
              "    </tr>\n",
              "    <tr>\n",
              "      <th>4</th>\n",
              "      <td>22500.000000</td>\n",
              "      <td>3097.800000</td>\n",
              "      <td>12.157324</td>\n",
              "      <td>0</td>\n",
              "      <td>2.0</td>\n",
              "      <td>0.440744</td>\n",
              "      <td>0.509677</td>\n",
              "      <td>0.513171</td>\n",
              "      <td>0.014400</td>\n",
              "      <td>2913.0</td>\n",
              "      <td>1</td>\n",
              "    </tr>\n",
              "  </tbody>\n",
              "</table>\n",
              "</div>\n",
              "    <div class=\"colab-df-buttons\">\n",
              "\n",
              "  <div class=\"colab-df-container\">\n",
              "    <button class=\"colab-df-convert\" onclick=\"convertToInteractive('df-e25777a6-080f-40a2-bd2d-800a666dcdba')\"\n",
              "            title=\"Convert this dataframe to an interactive table.\"\n",
              "            style=\"display:none;\">\n",
              "\n",
              "  <svg xmlns=\"http://www.w3.org/2000/svg\" height=\"24px\" viewBox=\"0 -960 960 960\">\n",
              "    <path d=\"M120-120v-720h720v720H120Zm60-500h600v-160H180v160Zm220 220h160v-160H400v160Zm0 220h160v-160H400v160ZM180-400h160v-160H180v160Zm440 0h160v-160H620v160ZM180-180h160v-160H180v160Zm440 0h160v-160H620v160Z\"/>\n",
              "  </svg>\n",
              "    </button>\n",
              "\n",
              "  <style>\n",
              "    .colab-df-container {\n",
              "      display:flex;\n",
              "      gap: 12px;\n",
              "    }\n",
              "\n",
              "    .colab-df-convert {\n",
              "      background-color: #E8F0FE;\n",
              "      border: none;\n",
              "      border-radius: 50%;\n",
              "      cursor: pointer;\n",
              "      display: none;\n",
              "      fill: #1967D2;\n",
              "      height: 32px;\n",
              "      padding: 0 0 0 0;\n",
              "      width: 32px;\n",
              "    }\n",
              "\n",
              "    .colab-df-convert:hover {\n",
              "      background-color: #E2EBFA;\n",
              "      box-shadow: 0px 1px 2px rgba(60, 64, 67, 0.3), 0px 1px 3px 1px rgba(60, 64, 67, 0.15);\n",
              "      fill: #174EA6;\n",
              "    }\n",
              "\n",
              "    .colab-df-buttons div {\n",
              "      margin-bottom: 4px;\n",
              "    }\n",
              "\n",
              "    [theme=dark] .colab-df-convert {\n",
              "      background-color: #3B4455;\n",
              "      fill: #D2E3FC;\n",
              "    }\n",
              "\n",
              "    [theme=dark] .colab-df-convert:hover {\n",
              "      background-color: #434B5C;\n",
              "      box-shadow: 0px 1px 3px 1px rgba(0, 0, 0, 0.15);\n",
              "      filter: drop-shadow(0px 1px 2px rgba(0, 0, 0, 0.3));\n",
              "      fill: #FFFFFF;\n",
              "    }\n",
              "  </style>\n",
              "\n",
              "    <script>\n",
              "      const buttonEl =\n",
              "        document.querySelector('#df-e25777a6-080f-40a2-bd2d-800a666dcdba button.colab-df-convert');\n",
              "      buttonEl.style.display =\n",
              "        google.colab.kernel.accessAllowed ? 'block' : 'none';\n",
              "\n",
              "      async function convertToInteractive(key) {\n",
              "        const element = document.querySelector('#df-e25777a6-080f-40a2-bd2d-800a666dcdba');\n",
              "        const dataTable =\n",
              "          await google.colab.kernel.invokeFunction('convertToInteractive',\n",
              "                                                    [key], {});\n",
              "        if (!dataTable) return;\n",
              "\n",
              "        const docLinkHtml = 'Like what you see? Visit the ' +\n",
              "          '<a target=\"_blank\" href=https://colab.research.google.com/notebooks/data_table.ipynb>data table notebook</a>'\n",
              "          + ' to learn more about interactive tables.';\n",
              "        element.innerHTML = '';\n",
              "        dataTable['output_type'] = 'display_data';\n",
              "        await google.colab.output.renderOutput(dataTable, element);\n",
              "        const docLink = document.createElement('div');\n",
              "        docLink.innerHTML = docLinkHtml;\n",
              "        element.appendChild(docLink);\n",
              "      }\n",
              "    </script>\n",
              "  </div>\n",
              "\n",
              "\n",
              "<div id=\"df-cb9fe339-a209-48b7-acea-ad71c102c6f9\">\n",
              "  <button class=\"colab-df-quickchart\" onclick=\"quickchart('df-cb9fe339-a209-48b7-acea-ad71c102c6f9')\"\n",
              "            title=\"Suggest charts\"\n",
              "            style=\"display:none;\">\n",
              "\n",
              "<svg xmlns=\"http://www.w3.org/2000/svg\" height=\"24px\"viewBox=\"0 0 24 24\"\n",
              "     width=\"24px\">\n",
              "    <g>\n",
              "        <path d=\"M19 3H5c-1.1 0-2 .9-2 2v14c0 1.1.9 2 2 2h14c1.1 0 2-.9 2-2V5c0-1.1-.9-2-2-2zM9 17H7v-7h2v7zm4 0h-2V7h2v10zm4 0h-2v-4h2v4z\"/>\n",
              "    </g>\n",
              "</svg>\n",
              "  </button>\n",
              "\n",
              "<style>\n",
              "  .colab-df-quickchart {\n",
              "      --bg-color: #E8F0FE;\n",
              "      --fill-color: #1967D2;\n",
              "      --hover-bg-color: #E2EBFA;\n",
              "      --hover-fill-color: #174EA6;\n",
              "      --disabled-fill-color: #AAA;\n",
              "      --disabled-bg-color: #DDD;\n",
              "  }\n",
              "\n",
              "  [theme=dark] .colab-df-quickchart {\n",
              "      --bg-color: #3B4455;\n",
              "      --fill-color: #D2E3FC;\n",
              "      --hover-bg-color: #434B5C;\n",
              "      --hover-fill-color: #FFFFFF;\n",
              "      --disabled-bg-color: #3B4455;\n",
              "      --disabled-fill-color: #666;\n",
              "  }\n",
              "\n",
              "  .colab-df-quickchart {\n",
              "    background-color: var(--bg-color);\n",
              "    border: none;\n",
              "    border-radius: 50%;\n",
              "    cursor: pointer;\n",
              "    display: none;\n",
              "    fill: var(--fill-color);\n",
              "    height: 32px;\n",
              "    padding: 0;\n",
              "    width: 32px;\n",
              "  }\n",
              "\n",
              "  .colab-df-quickchart:hover {\n",
              "    background-color: var(--hover-bg-color);\n",
              "    box-shadow: 0 1px 2px rgba(60, 64, 67, 0.3), 0 1px 3px 1px rgba(60, 64, 67, 0.15);\n",
              "    fill: var(--button-hover-fill-color);\n",
              "  }\n",
              "\n",
              "  .colab-df-quickchart-complete:disabled,\n",
              "  .colab-df-quickchart-complete:disabled:hover {\n",
              "    background-color: var(--disabled-bg-color);\n",
              "    fill: var(--disabled-fill-color);\n",
              "    box-shadow: none;\n",
              "  }\n",
              "\n",
              "  .colab-df-spinner {\n",
              "    border: 2px solid var(--fill-color);\n",
              "    border-color: transparent;\n",
              "    border-bottom-color: var(--fill-color);\n",
              "    animation:\n",
              "      spin 1s steps(1) infinite;\n",
              "  }\n",
              "\n",
              "  @keyframes spin {\n",
              "    0% {\n",
              "      border-color: transparent;\n",
              "      border-bottom-color: var(--fill-color);\n",
              "      border-left-color: var(--fill-color);\n",
              "    }\n",
              "    20% {\n",
              "      border-color: transparent;\n",
              "      border-left-color: var(--fill-color);\n",
              "      border-top-color: var(--fill-color);\n",
              "    }\n",
              "    30% {\n",
              "      border-color: transparent;\n",
              "      border-left-color: var(--fill-color);\n",
              "      border-top-color: var(--fill-color);\n",
              "      border-right-color: var(--fill-color);\n",
              "    }\n",
              "    40% {\n",
              "      border-color: transparent;\n",
              "      border-right-color: var(--fill-color);\n",
              "      border-top-color: var(--fill-color);\n",
              "    }\n",
              "    60% {\n",
              "      border-color: transparent;\n",
              "      border-right-color: var(--fill-color);\n",
              "    }\n",
              "    80% {\n",
              "      border-color: transparent;\n",
              "      border-right-color: var(--fill-color);\n",
              "      border-bottom-color: var(--fill-color);\n",
              "    }\n",
              "    90% {\n",
              "      border-color: transparent;\n",
              "      border-bottom-color: var(--fill-color);\n",
              "    }\n",
              "  }\n",
              "</style>\n",
              "\n",
              "  <script>\n",
              "    async function quickchart(key) {\n",
              "      const quickchartButtonEl =\n",
              "        document.querySelector('#' + key + ' button');\n",
              "      quickchartButtonEl.disabled = true;  // To prevent multiple clicks.\n",
              "      quickchartButtonEl.classList.add('colab-df-spinner');\n",
              "      try {\n",
              "        const charts = await google.colab.kernel.invokeFunction(\n",
              "            'suggestCharts', [key], {});\n",
              "      } catch (error) {\n",
              "        console.error('Error during call to suggestCharts:', error);\n",
              "      }\n",
              "      quickchartButtonEl.classList.remove('colab-df-spinner');\n",
              "      quickchartButtonEl.classList.add('colab-df-quickchart-complete');\n",
              "    }\n",
              "    (() => {\n",
              "      let quickchartButtonEl =\n",
              "        document.querySelector('#df-cb9fe339-a209-48b7-acea-ad71c102c6f9 button');\n",
              "      quickchartButtonEl.style.display =\n",
              "        google.colab.kernel.accessAllowed ? 'block' : 'none';\n",
              "    })();\n",
              "  </script>\n",
              "</div>\n",
              "\n",
              "    </div>\n",
              "  </div>\n"
            ],
            "application/vnd.google.colaboratory.intrinsic+json": {
              "type": "dataframe",
              "variable_name": "df",
              "summary": "{\n  \"name\": \"df\",\n  \"rows\": 14578,\n  \"fields\": [\n    {\n      \"column\": \"receita_cliente\",\n      \"properties\": {\n        \"dtype\": \"number\",\n        \"std\": 9474.981329756309,\n        \"min\": 2700.0,\n        \"max\": 450000.0,\n        \"num_unique_values\": 292,\n        \"samples\": [\n          17550.0,\n          22511.25,\n          7200.0\n        ],\n        \"semantic_type\": \"\",\n        \"description\": \"\"\n      }\n    },\n    {\n      \"column\": \"anuidade_emprestimo\",\n      \"properties\": {\n        \"dtype\": \"number\",\n        \"std\": 1267.5133873316158,\n        \"min\": 332.1,\n        \"max\": 22500.0,\n        \"num_unique_values\": 4235,\n        \"samples\": [\n          865.8,\n          2185.2,\n          5041.35\n        ],\n        \"semantic_type\": \"\",\n        \"description\": \"\"\n      }\n    },\n    {\n      \"column\": \"anos_casa_propria\",\n      \"properties\": {\n        \"dtype\": \"number\",\n        \"std\": 7.713729595778532,\n        \"min\": 0.0,\n        \"max\": 69.0,\n        \"num_unique_values\": 49,\n        \"samples\": [\n          5.0,\n          69.0,\n          43.0\n        ],\n        \"semantic_type\": \"\",\n        \"description\": \"\"\n      }\n    },\n    {\n      \"column\": \"telefone_trab\",\n      \"properties\": {\n        \"dtype\": \"number\",\n        \"std\": 0,\n        \"min\": 0,\n        \"max\": 1,\n        \"num_unique_values\": 2,\n        \"samples\": [\n          1,\n          0\n        ],\n        \"semantic_type\": \"\",\n        \"description\": \"\"\n      }\n    },\n    {\n      \"column\": \"avaliacao_cidade\",\n      \"properties\": {\n        \"dtype\": \"number\",\n        \"std\": 0.4993021355726368,\n        \"min\": 1.0,\n        \"max\": 3.0,\n        \"num_unique_values\": 4,\n        \"samples\": [\n          3.0,\n          2.030038427084816\n        ],\n        \"semantic_type\": \"\",\n        \"description\": \"\"\n      }\n    },\n    {\n      \"column\": \"score_1\",\n      \"properties\": {\n        \"dtype\": \"number\",\n        \"std\": 0.14360807313442903,\n        \"min\": 0.017176539,\n        \"max\": 0.931286683,\n        \"num_unique_values\": 6483,\n        \"samples\": [\n          0.278799993,\n          0.568276523\n        ],\n        \"semantic_type\": \"\",\n        \"description\": \"\"\n      }\n    },\n    {\n      \"column\": \"score_2\",\n      \"properties\": {\n        \"dtype\": \"number\",\n        \"std\": 0.19743470949256733,\n        \"min\": 5e-06,\n        \"max\": 0.820487147,\n        \"num_unique_values\": 12466,\n        \"samples\": [\n          0.501620079,\n          0.205865238\n        ],\n        \"semantic_type\": \"\",\n        \"description\": \"\"\n      }\n    },\n    {\n      \"column\": \"score_3\",\n      \"properties\": {\n        \"dtype\": \"number\",\n        \"std\": 0.0673654952870157,\n        \"min\": 0.000527265,\n        \"max\": 0.866731234,\n        \"num_unique_values\": 505,\n        \"samples\": [\n          0.289611238,\n          0.69562193\n        ],\n        \"semantic_type\": \"\",\n        \"description\": \"\"\n      }\n    },\n    {\n      \"column\": \"score_social\",\n      \"properties\": {\n        \"dtype\": \"number\",\n        \"std\": 0.07496586517930975,\n        \"min\": 0.0,\n        \"max\": 1.0,\n        \"num_unique_values\": 842,\n        \"samples\": [\n          0.3433,\n          0.1057\n        ],\n        \"semantic_type\": \"\",\n        \"description\": \"\"\n      }\n    },\n    {\n      \"column\": \"troca_telefone\",\n      \"properties\": {\n        \"dtype\": \"number\",\n        \"std\": 797.4999514927747,\n        \"min\": 0.0,\n        \"max\": 4128.0,\n        \"num_unique_values\": 2843,\n        \"samples\": [\n          2986.0,\n          247.0\n        ],\n        \"semantic_type\": \"\",\n        \"description\": \"\"\n      }\n    },\n    {\n      \"column\": \"inadimplente\",\n      \"properties\": {\n        \"dtype\": \"number\",\n        \"std\": 0,\n        \"min\": 0,\n        \"max\": 1,\n        \"num_unique_values\": 2,\n        \"samples\": [\n          0,\n          1\n        ],\n        \"semantic_type\": \"\",\n        \"description\": \"\"\n      }\n    }\n  ]\n}"
            }
          },
          "metadata": {},
          "execution_count": 3
        }
      ],
      "source": [
        "df.head()"
      ]
    },
    {
      "cell_type": "code",
      "execution_count": 4,
      "metadata": {
        "colab": {
          "base_uri": "https://localhost:8080/"
        },
        "id": "bnL8vIpzQMAT",
        "outputId": "1415ec6b-5615-4249-9b0b-df9f905f3203"
      },
      "outputs": [
        {
          "output_type": "execute_result",
          "data": {
            "text/plain": [
              "receita_cliente        0\n",
              "anuidade_emprestimo    0\n",
              "anos_casa_propria      0\n",
              "telefone_trab          0\n",
              "avaliacao_cidade       0\n",
              "score_1                0\n",
              "score_2                0\n",
              "score_3                0\n",
              "score_social           0\n",
              "troca_telefone         0\n",
              "inadimplente           0\n",
              "dtype: int64"
            ]
          },
          "metadata": {},
          "execution_count": 4
        }
      ],
      "source": [
        "df.isnull().sum()"
      ]
    },
    {
      "cell_type": "code",
      "execution_count": 5,
      "metadata": {
        "colab": {
          "base_uri": "https://localhost:8080/"
        },
        "id": "iUmuC9f-QQtZ",
        "outputId": "72d6460c-8e2d-4da1-9ebd-bc6919c20b12"
      },
      "outputs": [
        {
          "output_type": "execute_result",
          "data": {
            "text/plain": [
              "174"
            ]
          },
          "metadata": {},
          "execution_count": 5
        }
      ],
      "source": [
        "df.duplicated().sum()"
      ]
    },
    {
      "cell_type": "code",
      "execution_count": 6,
      "metadata": {
        "colab": {
          "base_uri": "https://localhost:8080/"
        },
        "id": "sUe3p76iQZip",
        "outputId": "51def86b-bdf7-4fed-dfa6-68dcdaadf61d"
      },
      "outputs": [
        {
          "output_type": "stream",
          "name": "stdout",
          "text": [
            " Proporção de dados duplicados no dataframe 0.012\n"
          ]
        }
      ],
      "source": [
        "duplicados = df.duplicated().sum()\n",
        "\n",
        "print(f' Proporção de dados duplicados no dataframe {(duplicados / df.shape[0]).round(3)}')"
      ]
    },
    {
      "cell_type": "code",
      "execution_count": 7,
      "metadata": {
        "id": "uganUU7TQdWh"
      },
      "outputs": [],
      "source": [
        "# Dado que a proporção de dados duplicados no dataframe\n",
        "# é ínfimo, muito pequeno, para tratar os dados irei\n",
        "# simplesmente excluí-los no conjunto de dados, para que\n",
        "# não promovam nenhum efeito negativo na precisão dos modelos criados\n",
        "\n",
        "df = df.drop_duplicates()"
      ]
    },
    {
      "cell_type": "code",
      "execution_count": 8,
      "metadata": {
        "colab": {
          "base_uri": "https://localhost:8080/",
          "height": 320
        },
        "id": "0JcTYAOmRWfq",
        "outputId": "71e232a5-84c7-40af-db45-ac1695a3ae6e"
      },
      "outputs": [
        {
          "output_type": "execute_result",
          "data": {
            "text/plain": [
              "       receita_cliente  anuidade_emprestimo  anos_casa_propria  telefone_trab  \\\n",
              "count     14404.000000         14404.000000       14404.000000   14404.000000   \n",
              "mean      17190.182904          2759.145838          12.365032       0.266870   \n",
              "std        9416.466372          1265.068099           7.645418       0.442339   \n",
              "min        2700.000000           332.100000           0.000000       0.000000   \n",
              "25%       11700.000000          2036.475000          12.157324       0.000000   \n",
              "50%       16855.246324          2722.188351          12.157324       0.000000   \n",
              "75%       20250.000000          3152.250000          12.157324       1.000000   \n",
              "max      450000.000000         22500.000000          69.000000       1.000000   \n",
              "\n",
              "       avaliacao_cidade       score_1       score_2       score_3  \\\n",
              "count      14404.000000  14404.000000  14404.000000  14404.000000   \n",
              "mean           2.047486      0.478186      0.489011      0.509489   \n",
              "std            0.499308      0.143422      0.197211      0.067674   \n",
              "min            1.000000      0.017177      0.000005      0.000527   \n",
              "25%            2.000000      0.467094      0.356839      0.513171   \n",
              "50%            2.000000      0.501213      0.527309      0.513171   \n",
              "75%            2.000000      0.501213      0.644599      0.513171   \n",
              "max            3.000000      0.931287      0.820487      0.866731   \n",
              "\n",
              "       score_social  troca_telefone  inadimplente  \n",
              "count  14404.000000    14404.000000  14404.000000  \n",
              "mean       0.116605      926.031181      0.318939  \n",
              "std        0.075063      797.210812      0.466082  \n",
              "min        0.000000        0.000000      0.000000  \n",
              "25%        0.092800      276.000000      0.000000  \n",
              "50%        0.117428      742.500000      0.000000  \n",
              "75%        0.117428     1502.000000      1.000000  \n",
              "max        1.000000     4128.000000      1.000000  "
            ],
            "text/html": [
              "\n",
              "  <div id=\"df-1abac444-23ac-4cf8-b041-5ef5ea6c5111\" class=\"colab-df-container\">\n",
              "    <div>\n",
              "<style scoped>\n",
              "    .dataframe tbody tr th:only-of-type {\n",
              "        vertical-align: middle;\n",
              "    }\n",
              "\n",
              "    .dataframe tbody tr th {\n",
              "        vertical-align: top;\n",
              "    }\n",
              "\n",
              "    .dataframe thead th {\n",
              "        text-align: right;\n",
              "    }\n",
              "</style>\n",
              "<table border=\"1\" class=\"dataframe\">\n",
              "  <thead>\n",
              "    <tr style=\"text-align: right;\">\n",
              "      <th></th>\n",
              "      <th>receita_cliente</th>\n",
              "      <th>anuidade_emprestimo</th>\n",
              "      <th>anos_casa_propria</th>\n",
              "      <th>telefone_trab</th>\n",
              "      <th>avaliacao_cidade</th>\n",
              "      <th>score_1</th>\n",
              "      <th>score_2</th>\n",
              "      <th>score_3</th>\n",
              "      <th>score_social</th>\n",
              "      <th>troca_telefone</th>\n",
              "      <th>inadimplente</th>\n",
              "    </tr>\n",
              "  </thead>\n",
              "  <tbody>\n",
              "    <tr>\n",
              "      <th>count</th>\n",
              "      <td>14404.000000</td>\n",
              "      <td>14404.000000</td>\n",
              "      <td>14404.000000</td>\n",
              "      <td>14404.000000</td>\n",
              "      <td>14404.000000</td>\n",
              "      <td>14404.000000</td>\n",
              "      <td>14404.000000</td>\n",
              "      <td>14404.000000</td>\n",
              "      <td>14404.000000</td>\n",
              "      <td>14404.000000</td>\n",
              "      <td>14404.000000</td>\n",
              "    </tr>\n",
              "    <tr>\n",
              "      <th>mean</th>\n",
              "      <td>17190.182904</td>\n",
              "      <td>2759.145838</td>\n",
              "      <td>12.365032</td>\n",
              "      <td>0.266870</td>\n",
              "      <td>2.047486</td>\n",
              "      <td>0.478186</td>\n",
              "      <td>0.489011</td>\n",
              "      <td>0.509489</td>\n",
              "      <td>0.116605</td>\n",
              "      <td>926.031181</td>\n",
              "      <td>0.318939</td>\n",
              "    </tr>\n",
              "    <tr>\n",
              "      <th>std</th>\n",
              "      <td>9416.466372</td>\n",
              "      <td>1265.068099</td>\n",
              "      <td>7.645418</td>\n",
              "      <td>0.442339</td>\n",
              "      <td>0.499308</td>\n",
              "      <td>0.143422</td>\n",
              "      <td>0.197211</td>\n",
              "      <td>0.067674</td>\n",
              "      <td>0.075063</td>\n",
              "      <td>797.210812</td>\n",
              "      <td>0.466082</td>\n",
              "    </tr>\n",
              "    <tr>\n",
              "      <th>min</th>\n",
              "      <td>2700.000000</td>\n",
              "      <td>332.100000</td>\n",
              "      <td>0.000000</td>\n",
              "      <td>0.000000</td>\n",
              "      <td>1.000000</td>\n",
              "      <td>0.017177</td>\n",
              "      <td>0.000005</td>\n",
              "      <td>0.000527</td>\n",
              "      <td>0.000000</td>\n",
              "      <td>0.000000</td>\n",
              "      <td>0.000000</td>\n",
              "    </tr>\n",
              "    <tr>\n",
              "      <th>25%</th>\n",
              "      <td>11700.000000</td>\n",
              "      <td>2036.475000</td>\n",
              "      <td>12.157324</td>\n",
              "      <td>0.000000</td>\n",
              "      <td>2.000000</td>\n",
              "      <td>0.467094</td>\n",
              "      <td>0.356839</td>\n",
              "      <td>0.513171</td>\n",
              "      <td>0.092800</td>\n",
              "      <td>276.000000</td>\n",
              "      <td>0.000000</td>\n",
              "    </tr>\n",
              "    <tr>\n",
              "      <th>50%</th>\n",
              "      <td>16855.246324</td>\n",
              "      <td>2722.188351</td>\n",
              "      <td>12.157324</td>\n",
              "      <td>0.000000</td>\n",
              "      <td>2.000000</td>\n",
              "      <td>0.501213</td>\n",
              "      <td>0.527309</td>\n",
              "      <td>0.513171</td>\n",
              "      <td>0.117428</td>\n",
              "      <td>742.500000</td>\n",
              "      <td>0.000000</td>\n",
              "    </tr>\n",
              "    <tr>\n",
              "      <th>75%</th>\n",
              "      <td>20250.000000</td>\n",
              "      <td>3152.250000</td>\n",
              "      <td>12.157324</td>\n",
              "      <td>1.000000</td>\n",
              "      <td>2.000000</td>\n",
              "      <td>0.501213</td>\n",
              "      <td>0.644599</td>\n",
              "      <td>0.513171</td>\n",
              "      <td>0.117428</td>\n",
              "      <td>1502.000000</td>\n",
              "      <td>1.000000</td>\n",
              "    </tr>\n",
              "    <tr>\n",
              "      <th>max</th>\n",
              "      <td>450000.000000</td>\n",
              "      <td>22500.000000</td>\n",
              "      <td>69.000000</td>\n",
              "      <td>1.000000</td>\n",
              "      <td>3.000000</td>\n",
              "      <td>0.931287</td>\n",
              "      <td>0.820487</td>\n",
              "      <td>0.866731</td>\n",
              "      <td>1.000000</td>\n",
              "      <td>4128.000000</td>\n",
              "      <td>1.000000</td>\n",
              "    </tr>\n",
              "  </tbody>\n",
              "</table>\n",
              "</div>\n",
              "    <div class=\"colab-df-buttons\">\n",
              "\n",
              "  <div class=\"colab-df-container\">\n",
              "    <button class=\"colab-df-convert\" onclick=\"convertToInteractive('df-1abac444-23ac-4cf8-b041-5ef5ea6c5111')\"\n",
              "            title=\"Convert this dataframe to an interactive table.\"\n",
              "            style=\"display:none;\">\n",
              "\n",
              "  <svg xmlns=\"http://www.w3.org/2000/svg\" height=\"24px\" viewBox=\"0 -960 960 960\">\n",
              "    <path d=\"M120-120v-720h720v720H120Zm60-500h600v-160H180v160Zm220 220h160v-160H400v160Zm0 220h160v-160H400v160ZM180-400h160v-160H180v160Zm440 0h160v-160H620v160ZM180-180h160v-160H180v160Zm440 0h160v-160H620v160Z\"/>\n",
              "  </svg>\n",
              "    </button>\n",
              "\n",
              "  <style>\n",
              "    .colab-df-container {\n",
              "      display:flex;\n",
              "      gap: 12px;\n",
              "    }\n",
              "\n",
              "    .colab-df-convert {\n",
              "      background-color: #E8F0FE;\n",
              "      border: none;\n",
              "      border-radius: 50%;\n",
              "      cursor: pointer;\n",
              "      display: none;\n",
              "      fill: #1967D2;\n",
              "      height: 32px;\n",
              "      padding: 0 0 0 0;\n",
              "      width: 32px;\n",
              "    }\n",
              "\n",
              "    .colab-df-convert:hover {\n",
              "      background-color: #E2EBFA;\n",
              "      box-shadow: 0px 1px 2px rgba(60, 64, 67, 0.3), 0px 1px 3px 1px rgba(60, 64, 67, 0.15);\n",
              "      fill: #174EA6;\n",
              "    }\n",
              "\n",
              "    .colab-df-buttons div {\n",
              "      margin-bottom: 4px;\n",
              "    }\n",
              "\n",
              "    [theme=dark] .colab-df-convert {\n",
              "      background-color: #3B4455;\n",
              "      fill: #D2E3FC;\n",
              "    }\n",
              "\n",
              "    [theme=dark] .colab-df-convert:hover {\n",
              "      background-color: #434B5C;\n",
              "      box-shadow: 0px 1px 3px 1px rgba(0, 0, 0, 0.15);\n",
              "      filter: drop-shadow(0px 1px 2px rgba(0, 0, 0, 0.3));\n",
              "      fill: #FFFFFF;\n",
              "    }\n",
              "  </style>\n",
              "\n",
              "    <script>\n",
              "      const buttonEl =\n",
              "        document.querySelector('#df-1abac444-23ac-4cf8-b041-5ef5ea6c5111 button.colab-df-convert');\n",
              "      buttonEl.style.display =\n",
              "        google.colab.kernel.accessAllowed ? 'block' : 'none';\n",
              "\n",
              "      async function convertToInteractive(key) {\n",
              "        const element = document.querySelector('#df-1abac444-23ac-4cf8-b041-5ef5ea6c5111');\n",
              "        const dataTable =\n",
              "          await google.colab.kernel.invokeFunction('convertToInteractive',\n",
              "                                                    [key], {});\n",
              "        if (!dataTable) return;\n",
              "\n",
              "        const docLinkHtml = 'Like what you see? Visit the ' +\n",
              "          '<a target=\"_blank\" href=https://colab.research.google.com/notebooks/data_table.ipynb>data table notebook</a>'\n",
              "          + ' to learn more about interactive tables.';\n",
              "        element.innerHTML = '';\n",
              "        dataTable['output_type'] = 'display_data';\n",
              "        await google.colab.output.renderOutput(dataTable, element);\n",
              "        const docLink = document.createElement('div');\n",
              "        docLink.innerHTML = docLinkHtml;\n",
              "        element.appendChild(docLink);\n",
              "      }\n",
              "    </script>\n",
              "  </div>\n",
              "\n",
              "\n",
              "<div id=\"df-7ffe62c7-60ee-4840-a1ab-3734cfe43a4a\">\n",
              "  <button class=\"colab-df-quickchart\" onclick=\"quickchart('df-7ffe62c7-60ee-4840-a1ab-3734cfe43a4a')\"\n",
              "            title=\"Suggest charts\"\n",
              "            style=\"display:none;\">\n",
              "\n",
              "<svg xmlns=\"http://www.w3.org/2000/svg\" height=\"24px\"viewBox=\"0 0 24 24\"\n",
              "     width=\"24px\">\n",
              "    <g>\n",
              "        <path d=\"M19 3H5c-1.1 0-2 .9-2 2v14c0 1.1.9 2 2 2h14c1.1 0 2-.9 2-2V5c0-1.1-.9-2-2-2zM9 17H7v-7h2v7zm4 0h-2V7h2v10zm4 0h-2v-4h2v4z\"/>\n",
              "    </g>\n",
              "</svg>\n",
              "  </button>\n",
              "\n",
              "<style>\n",
              "  .colab-df-quickchart {\n",
              "      --bg-color: #E8F0FE;\n",
              "      --fill-color: #1967D2;\n",
              "      --hover-bg-color: #E2EBFA;\n",
              "      --hover-fill-color: #174EA6;\n",
              "      --disabled-fill-color: #AAA;\n",
              "      --disabled-bg-color: #DDD;\n",
              "  }\n",
              "\n",
              "  [theme=dark] .colab-df-quickchart {\n",
              "      --bg-color: #3B4455;\n",
              "      --fill-color: #D2E3FC;\n",
              "      --hover-bg-color: #434B5C;\n",
              "      --hover-fill-color: #FFFFFF;\n",
              "      --disabled-bg-color: #3B4455;\n",
              "      --disabled-fill-color: #666;\n",
              "  }\n",
              "\n",
              "  .colab-df-quickchart {\n",
              "    background-color: var(--bg-color);\n",
              "    border: none;\n",
              "    border-radius: 50%;\n",
              "    cursor: pointer;\n",
              "    display: none;\n",
              "    fill: var(--fill-color);\n",
              "    height: 32px;\n",
              "    padding: 0;\n",
              "    width: 32px;\n",
              "  }\n",
              "\n",
              "  .colab-df-quickchart:hover {\n",
              "    background-color: var(--hover-bg-color);\n",
              "    box-shadow: 0 1px 2px rgba(60, 64, 67, 0.3), 0 1px 3px 1px rgba(60, 64, 67, 0.15);\n",
              "    fill: var(--button-hover-fill-color);\n",
              "  }\n",
              "\n",
              "  .colab-df-quickchart-complete:disabled,\n",
              "  .colab-df-quickchart-complete:disabled:hover {\n",
              "    background-color: var(--disabled-bg-color);\n",
              "    fill: var(--disabled-fill-color);\n",
              "    box-shadow: none;\n",
              "  }\n",
              "\n",
              "  .colab-df-spinner {\n",
              "    border: 2px solid var(--fill-color);\n",
              "    border-color: transparent;\n",
              "    border-bottom-color: var(--fill-color);\n",
              "    animation:\n",
              "      spin 1s steps(1) infinite;\n",
              "  }\n",
              "\n",
              "  @keyframes spin {\n",
              "    0% {\n",
              "      border-color: transparent;\n",
              "      border-bottom-color: var(--fill-color);\n",
              "      border-left-color: var(--fill-color);\n",
              "    }\n",
              "    20% {\n",
              "      border-color: transparent;\n",
              "      border-left-color: var(--fill-color);\n",
              "      border-top-color: var(--fill-color);\n",
              "    }\n",
              "    30% {\n",
              "      border-color: transparent;\n",
              "      border-left-color: var(--fill-color);\n",
              "      border-top-color: var(--fill-color);\n",
              "      border-right-color: var(--fill-color);\n",
              "    }\n",
              "    40% {\n",
              "      border-color: transparent;\n",
              "      border-right-color: var(--fill-color);\n",
              "      border-top-color: var(--fill-color);\n",
              "    }\n",
              "    60% {\n",
              "      border-color: transparent;\n",
              "      border-right-color: var(--fill-color);\n",
              "    }\n",
              "    80% {\n",
              "      border-color: transparent;\n",
              "      border-right-color: var(--fill-color);\n",
              "      border-bottom-color: var(--fill-color);\n",
              "    }\n",
              "    90% {\n",
              "      border-color: transparent;\n",
              "      border-bottom-color: var(--fill-color);\n",
              "    }\n",
              "  }\n",
              "</style>\n",
              "\n",
              "  <script>\n",
              "    async function quickchart(key) {\n",
              "      const quickchartButtonEl =\n",
              "        document.querySelector('#' + key + ' button');\n",
              "      quickchartButtonEl.disabled = true;  // To prevent multiple clicks.\n",
              "      quickchartButtonEl.classList.add('colab-df-spinner');\n",
              "      try {\n",
              "        const charts = await google.colab.kernel.invokeFunction(\n",
              "            'suggestCharts', [key], {});\n",
              "      } catch (error) {\n",
              "        console.error('Error during call to suggestCharts:', error);\n",
              "      }\n",
              "      quickchartButtonEl.classList.remove('colab-df-spinner');\n",
              "      quickchartButtonEl.classList.add('colab-df-quickchart-complete');\n",
              "    }\n",
              "    (() => {\n",
              "      let quickchartButtonEl =\n",
              "        document.querySelector('#df-7ffe62c7-60ee-4840-a1ab-3734cfe43a4a button');\n",
              "      quickchartButtonEl.style.display =\n",
              "        google.colab.kernel.accessAllowed ? 'block' : 'none';\n",
              "    })();\n",
              "  </script>\n",
              "</div>\n",
              "\n",
              "    </div>\n",
              "  </div>\n"
            ],
            "application/vnd.google.colaboratory.intrinsic+json": {
              "type": "dataframe",
              "summary": "{\n  \"name\": \"df\",\n  \"rows\": 8,\n  \"fields\": [\n    {\n      \"column\": \"receita_cliente\",\n      \"properties\": {\n        \"dtype\": \"number\",\n        \"std\": 154522.09835001582,\n        \"min\": 2700.0,\n        \"max\": 450000.0,\n        \"num_unique_values\": 8,\n        \"samples\": [\n          17190.18290425598,\n          16855.246324152788,\n          14404.0\n        ],\n        \"semantic_type\": \"\",\n        \"description\": \"\"\n      }\n    },\n    {\n      \"column\": \"anuidade_emprestimo\",\n      \"properties\": {\n        \"dtype\": \"number\",\n        \"std\": 7949.095278594456,\n        \"min\": 332.1,\n        \"max\": 22500.0,\n        \"num_unique_values\": 8,\n        \"samples\": [\n          2759.145838380474,\n          2722.188350749274,\n          14404.0\n        ],\n        \"semantic_type\": \"\",\n        \"description\": \"\"\n      }\n    },\n    {\n      \"column\": \"anos_casa_propria\",\n      \"properties\": {\n        \"dtype\": \"number\",\n        \"std\": 5086.289684979113,\n        \"min\": 0.0,\n        \"max\": 14404.0,\n        \"num_unique_values\": 6,\n        \"samples\": [\n          14404.0,\n          12.365032424131336,\n          69.0\n        ],\n        \"semantic_type\": \"\",\n        \"description\": \"\"\n      }\n    },\n    {\n      \"column\": \"telefone_trab\",\n      \"properties\": {\n        \"dtype\": \"number\",\n        \"std\": 5092.446219440734,\n        \"min\": 0.0,\n        \"max\": 14404.0,\n        \"num_unique_values\": 5,\n        \"samples\": [\n          0.26687031380172177,\n          1.0,\n          0.44233938715289495\n        ],\n        \"semantic_type\": \"\",\n        \"description\": \"\"\n      }\n    },\n    {\n      \"column\": \"avaliacao_cidade\",\n      \"properties\": {\n        \"dtype\": \"number\",\n        \"std\": 5091.949384780057,\n        \"min\": 0.4993080381841733,\n        \"max\": 14404.0,\n        \"num_unique_values\": 6,\n        \"samples\": [\n          14404.0,\n          2.047485524139014,\n          3.0\n        ],\n        \"semantic_type\": \"\",\n        \"description\": \"\"\n      }\n    },\n    {\n      \"column\": \"score_1\",\n      \"properties\": {\n        \"dtype\": \"number\",\n        \"std\": 5092.429522819813,\n        \"min\": 0.017176539,\n        \"max\": 14404.0,\n        \"num_unique_values\": 7,\n        \"samples\": [\n          14404.0,\n          0.4781864652242921,\n          0.5012129250527902\n        ],\n        \"semantic_type\": \"\",\n        \"description\": \"\"\n      }\n    },\n    {\n      \"column\": \"score_2\",\n      \"properties\": {\n        \"dtype\": \"number\",\n        \"std\": 5092.429730563257,\n        \"min\": 5e-06,\n        \"max\": 14404.0,\n        \"num_unique_values\": 8,\n        \"samples\": [\n          0.4890114508675958,\n          0.5273091565,\n          14404.0\n        ],\n        \"semantic_type\": \"\",\n        \"description\": \"\"\n      }\n    },\n    {\n      \"column\": \"score_3\",\n      \"properties\": {\n        \"dtype\": \"number\",\n        \"std\": 5092.432334080147,\n        \"min\": 0.000527265,\n        \"max\": 14404.0,\n        \"num_unique_values\": 6,\n        \"samples\": [\n          14404.0,\n          0.5094885182821823,\n          0.866731234\n        ],\n        \"semantic_type\": \"\",\n        \"description\": \"\"\n      }\n    },\n    {\n      \"column\": \"score_social\",\n      \"properties\": {\n        \"dtype\": \"number\",\n        \"std\": 5092.506310868282,\n        \"min\": 0.0,\n        \"max\": 14404.0,\n        \"num_unique_values\": 7,\n        \"samples\": [\n          14404.0,\n          0.11660464306079628,\n          0.1174278550927779\n        ],\n        \"semantic_type\": \"\",\n        \"description\": \"\"\n      }\n    },\n    {\n      \"column\": \"troca_telefone\",\n      \"properties\": {\n        \"dtype\": \"number\",\n        \"std\": 4841.050095030478,\n        \"min\": 0.0,\n        \"max\": 14404.0,\n        \"num_unique_values\": 8,\n        \"samples\": [\n          926.031181232133,\n          742.5,\n          14404.0\n        ],\n        \"semantic_type\": \"\",\n        \"description\": \"\"\n      }\n    },\n    {\n      \"column\": \"inadimplente\",\n      \"properties\": {\n        \"dtype\": \"number\",\n        \"std\": 5092.442390298358,\n        \"min\": 0.0,\n        \"max\": 14404.0,\n        \"num_unique_values\": 5,\n        \"samples\": [\n          0.3189391835601222,\n          1.0,\n          0.4660816045723375\n        ],\n        \"semantic_type\": \"\",\n        \"description\": \"\"\n      }\n    }\n  ]\n}"
            }
          },
          "metadata": {},
          "execution_count": 8
        }
      ],
      "source": [
        "df.describe()"
      ]
    },
    {
      "cell_type": "code",
      "execution_count": 9,
      "metadata": {
        "colab": {
          "base_uri": "https://localhost:8080/"
        },
        "id": "fLggGp2ARa_5",
        "outputId": "ea6bc254-770d-4e52-cfad-77e3d37bf228"
      },
      "outputs": [
        {
          "output_type": "execute_result",
          "data": {
            "text/plain": [
              "(14404, 11)"
            ]
          },
          "metadata": {},
          "execution_count": 9
        }
      ],
      "source": [
        "df.shape"
      ]
    },
    {
      "cell_type": "markdown",
      "metadata": {
        "id": "RF8NwFahRryx"
      },
      "source": [
        "## Analisando quais são as features mais significativas 🔍\n",
        "\n",
        "A análise das variáveis mais significativas se dará mediante a três abordagens, por meio da matriz de correlação, por meio da seleção de um modelo de machine learning, será utilizado, para tanto, o random forest.\n",
        "\n",
        "Essa análise é importante para sabermos quais são as features que melhor explicam a variável target, buscando com isso reduzir a colinearidade possívelmente presente, bem como dimensionalidade desnecessária, uma vez que o primeiro pode aumentar o ruído dos dados, dificultando na precisão do modelo, e o outro produzir elevados custos de processamento."
      ]
    },
    {
      "cell_type": "markdown",
      "metadata": {
        "id": "Q6B4k5QvXz1d"
      },
      "source": [
        "### Matriz de correlação 🧩"
      ]
    },
    {
      "cell_type": "code",
      "execution_count": 10,
      "metadata": {
        "id": "aD40wocuRgyZ"
      },
      "outputs": [],
      "source": [
        "corr_matrix = df.corr()"
      ]
    },
    {
      "cell_type": "code",
      "execution_count": 11,
      "metadata": {
        "colab": {
          "base_uri": "https://localhost:8080/",
          "height": 840
        },
        "id": "Hgf9YFO6R9MD",
        "outputId": "6330f1bf-140c-403f-e0fb-22de6cf36711"
      },
      "outputs": [
        {
          "output_type": "execute_result",
          "data": {
            "text/plain": [
              "<Axes: >"
            ]
          },
          "metadata": {},
          "execution_count": 11
        },
        {
          "output_type": "display_data",
          "data": {
            "text/plain": [
              "<Figure size 1200x800 with 2 Axes>"
            ],
            "image/png": "[encoded data removed]"
          },
          "metadata": {}
        }
      ],
      "source": [
        "plt.figure(figsize=(12, 8))\n",
        "sns.heatmap(corr_matrix, annot=True, cmap='coolwarm', fmt='.2f')"
      ]
    },
    {
      "cell_type": "markdown",
      "metadata": {
        "id": "Ee3Jg3d3U2rq"
      },
      "source": [
        "Segundo a matriz de correlação, parece que as features mais significativas, com base em sua relação linear, são score_2, score_1, troca_telefone, score_3, receita_cliente e avaliacao_cidade.  Ambos os scores se relacionam com o coportamento financeiro do cliente, que pode informar a tendência que ele possui de se qualificar como inadimplente ou adimplente, de modo que clientes com melhores scores tencionam a ser clientes adimplentes.\n",
        "\n",
        "Importante notar que com exceção da feature acerca da avaliação das cidades, todas as demais apresentam caráter negativo, o que significa que desempenham uma relação negativa com a variável target. Por exemplo, tomando como base a feature que se refere a troca de telefone dos clientes, pode-se inferir que quanto maior a troca menos adimplente o cliente tende a ser. A mesma inferência também se dá para as demais features negativas, enquanto que para a única positiva ocorre o oposto, uma vez que apresenta uma relação positiva, podendo indicar que quanto melhor avaliada é a cidade, mais os clientes que são cidadão dessas tendem a ser adimplentes."
      ]
    },
    {
      "cell_type": "markdown",
      "metadata": {
        "id": "red-rkjGX73A"
      },
      "source": [
        "### Importância das features segundo o random forest 🌳🌳🌳"
      ]
    },
    {
      "cell_type": "code",
      "execution_count": 12,
      "metadata": {
        "colab": {
          "base_uri": "https://localhost:8080/",
          "height": 143
        },
        "id": "F8hhJqDYYNHa",
        "outputId": "7a794636-940e-4a95-e970-f76d7c25dff4"
      },
      "outputs": [
        {
          "output_type": "execute_result",
          "data": {
            "text/plain": [
              "              proportion\n",
              "inadimplente            \n",
              "0                  0.681\n",
              "1                  0.319"
            ],
            "text/html": [
              "\n",
              "  <div id=\"df-16914990-1ccc-4b3d-ae8e-020e7e42859e\" class=\"colab-df-container\">\n",
              "    <div>\n",
              "<style scoped>\n",
              "    .dataframe tbody tr th:only-of-type {\n",
              "        vertical-align: middle;\n",
              "    }\n",
              "\n",
              "    .dataframe tbody tr th {\n",
              "        vertical-align: top;\n",
              "    }\n",
              "\n",
              "    .dataframe thead th {\n",
              "        text-align: right;\n",
              "    }\n",
              "</style>\n",
              "<table border=\"1\" class=\"dataframe\">\n",
              "  <thead>\n",
              "    <tr style=\"text-align: right;\">\n",
              "      <th></th>\n",
              "      <th>proportion</th>\n",
              "    </tr>\n",
              "    <tr>\n",
              "      <th>inadimplente</th>\n",
              "      <th></th>\n",
              "    </tr>\n",
              "  </thead>\n",
              "  <tbody>\n",
              "    <tr>\n",
              "      <th>0</th>\n",
              "      <td>0.681</td>\n",
              "    </tr>\n",
              "    <tr>\n",
              "      <th>1</th>\n",
              "      <td>0.319</td>\n",
              "    </tr>\n",
              "  </tbody>\n",
              "</table>\n",
              "</div>\n",
              "    <div class=\"colab-df-buttons\">\n",
              "\n",
              "  <div class=\"colab-df-container\">\n",
              "    <button class=\"colab-df-convert\" onclick=\"convertToInteractive('df-16914990-1ccc-4b3d-ae8e-020e7e42859e')\"\n",
              "            title=\"Convert this dataframe to an interactive table.\"\n",
              "            style=\"display:none;\">\n",
              "\n",
              "  <svg xmlns=\"http://www.w3.org/2000/svg\" height=\"24px\" viewBox=\"0 -960 960 960\">\n",
              "    <path d=\"M120-120v-720h720v720H120Zm60-500h600v-160H180v160Zm220 220h160v-160H400v160Zm0 220h160v-160H400v160ZM180-400h160v-160H180v160Zm440 0h160v-160H620v160ZM180-180h160v-160H180v160Zm440 0h160v-160H620v160Z\"/>\n",
              "  </svg>\n",
              "    </button>\n",
              "\n",
              "  <style>\n",
              "    .colab-df-container {\n",
              "      display:flex;\n",
              "      gap: 12px;\n",
              "    }\n",
              "\n",
              "    .colab-df-convert {\n",
              "      background-color: #E8F0FE;\n",
              "      border: none;\n",
              "      border-radius: 50%;\n",
              "      cursor: pointer;\n",
              "      display: none;\n",
              "      fill: #1967D2;\n",
              "      height: 32px;\n",
              "      padding: 0 0 0 0;\n",
              "      width: 32px;\n",
              "    }\n",
              "\n",
              "    .colab-df-convert:hover {\n",
              "      background-color: #E2EBFA;\n",
              "      box-shadow: 0px 1px 2px rgba(60, 64, 67, 0.3), 0px 1px 3px 1px rgba(60, 64, 67, 0.15);\n",
              "      fill: #174EA6;\n",
              "    }\n",
              "\n",
              "    .colab-df-buttons div {\n",
              "      margin-bottom: 4px;\n",
              "    }\n",
              "\n",
              "    [theme=dark] .colab-df-convert {\n",
              "      background-color: #3B4455;\n",
              "      fill: #D2E3FC;\n",
              "    }\n",
              "\n",
              "    [theme=dark] .colab-df-convert:hover {\n",
              "      background-color: #434B5C;\n",
              "      box-shadow: 0px 1px 3px 1px rgba(0, 0, 0, 0.15);\n",
              "      filter: drop-shadow(0px 1px 2px rgba(0, 0, 0, 0.3));\n",
              "      fill: #FFFFFF;\n",
              "    }\n",
              "  </style>\n",
              "\n",
              "    <script>\n",
              "      const buttonEl =\n",
              "        document.querySelector('#df-16914990-1ccc-4b3d-ae8e-020e7e42859e button.colab-df-convert');\n",
              "      buttonEl.style.display =\n",
              "        google.colab.kernel.accessAllowed ? 'block' : 'none';\n",
              "\n",
              "      async function convertToInteractive(key) {\n",
              "        const element = document.querySelector('#df-16914990-1ccc-4b3d-ae8e-020e7e42859e');\n",
              "        const dataTable =\n",
              "          await google.colab.kernel.invokeFunction('convertToInteractive',\n",
              "                                                    [key], {});\n",
              "        if (!dataTable) return;\n",
              "\n",
              "        const docLinkHtml = 'Like what you see? Visit the ' +\n",
              "          '<a target=\"_blank\" href=https://colab.research.google.com/notebooks/data_table.ipynb>data table notebook</a>'\n",
              "          + ' to learn more about interactive tables.';\n",
              "        element.innerHTML = '';\n",
              "        dataTable['output_type'] = 'display_data';\n",
              "        await google.colab.output.renderOutput(dataTable, element);\n",
              "        const docLink = document.createElement('div');\n",
              "        docLink.innerHTML = docLinkHtml;\n",
              "        element.appendChild(docLink);\n",
              "      }\n",
              "    </script>\n",
              "  </div>\n",
              "\n",
              "\n",
              "<div id=\"df-ea4df636-07b7-405a-9070-d89d9fadec89\">\n",
              "  <button class=\"colab-df-quickchart\" onclick=\"quickchart('df-ea4df636-07b7-405a-9070-d89d9fadec89')\"\n",
              "            title=\"Suggest charts\"\n",
              "            style=\"display:none;\">\n",
              "\n",
              "<svg xmlns=\"http://www.w3.org/2000/svg\" height=\"24px\"viewBox=\"0 0 24 24\"\n",
              "     width=\"24px\">\n",
              "    <g>\n",
              "        <path d=\"M19 3H5c-1.1 0-2 .9-2 2v14c0 1.1.9 2 2 2h14c1.1 0 2-.9 2-2V5c0-1.1-.9-2-2-2zM9 17H7v-7h2v7zm4 0h-2V7h2v10zm4 0h-2v-4h2v4z\"/>\n",
              "    </g>\n",
              "</svg>\n",
              "  </button>\n",
              "\n",
              "<style>\n",
              "  .colab-df-quickchart {\n",
              "      --bg-color: #E8F0FE;\n",
              "      --fill-color: #1967D2;\n",
              "      --hover-bg-color: #E2EBFA;\n",
              "      --hover-fill-color: #174EA6;\n",
              "      --disabled-fill-color: #AAA;\n",
              "      --disabled-bg-color: #DDD;\n",
              "  }\n",
              "\n",
              "  [theme=dark] .colab-df-quickchart {\n",
              "      --bg-color: #3B4455;\n",
              "      --fill-color: #D2E3FC;\n",
              "      --hover-bg-color: #434B5C;\n",
              "      --hover-fill-color: #FFFFFF;\n",
              "      --disabled-bg-color: #3B4455;\n",
              "      --disabled-fill-color: #666;\n",
              "  }\n",
              "\n",
              "  .colab-df-quickchart {\n",
              "    background-color: var(--bg-color);\n",
              "    border: none;\n",
              "    border-radius: 50%;\n",
              "    cursor: pointer;\n",
              "    display: none;\n",
              "    fill: var(--fill-color);\n",
              "    height: 32px;\n",
              "    padding: 0;\n",
              "    width: 32px;\n",
              "  }\n",
              "\n",
              "  .colab-df-quickchart:hover {\n",
              "    background-color: var(--hover-bg-color);\n",
              "    box-shadow: 0 1px 2px rgba(60, 64, 67, 0.3), 0 1px 3px 1px rgba(60, 64, 67, 0.15);\n",
              "    fill: var(--button-hover-fill-color);\n",
              "  }\n",
              "\n",
              "  .colab-df-quickchart-complete:disabled,\n",
              "  .colab-df-quickchart-complete:disabled:hover {\n",
              "    background-color: var(--disabled-bg-color);\n",
              "    fill: var(--disabled-fill-color);\n",
              "    box-shadow: none;\n",
              "  }\n",
              "\n",
              "  .colab-df-spinner {\n",
              "    border: 2px solid var(--fill-color);\n",
              "    border-color: transparent;\n",
              "    border-bottom-color: var(--fill-color);\n",
              "    animation:\n",
              "      spin 1s steps(1) infinite;\n",
              "  }\n",
              "\n",
              "  @keyframes spin {\n",
              "    0% {\n",
              "      border-color: transparent;\n",
              "      border-bottom-color: var(--fill-color);\n",
              "      border-left-color: var(--fill-color);\n",
              "    }\n",
              "    20% {\n",
              "      border-color: transparent;\n",
              "      border-left-color: var(--fill-color);\n",
              "      border-top-color: var(--fill-color);\n",
              "    }\n",
              "    30% {\n",
              "      border-color: transparent;\n",
              "      border-left-color: var(--fill-color);\n",
              "      border-top-color: var(--fill-color);\n",
              "      border-right-color: var(--fill-color);\n",
              "    }\n",
              "    40% {\n",
              "      border-color: transparent;\n",
              "      border-right-color: var(--fill-color);\n",
              "      border-top-color: var(--fill-color);\n",
              "    }\n",
              "    60% {\n",
              "      border-color: transparent;\n",
              "      border-right-color: var(--fill-color);\n",
              "    }\n",
              "    80% {\n",
              "      border-color: transparent;\n",
              "      border-right-color: var(--fill-color);\n",
              "      border-bottom-color: var(--fill-color);\n",
              "    }\n",
              "    90% {\n",
              "      border-color: transparent;\n",
              "      border-bottom-color: var(--fill-color);\n",
              "    }\n",
              "  }\n",
              "</style>\n",
              "\n",
              "  <script>\n",
              "    async function quickchart(key) {\n",
              "      const quickchartButtonEl =\n",
              "        document.querySelector('#' + key + ' button');\n",
              "      quickchartButtonEl.disabled = true;  // To prevent multiple clicks.\n",
              "      quickchartButtonEl.classList.add('colab-df-spinner');\n",
              "      try {\n",
              "        const charts = await google.colab.kernel.invokeFunction(\n",
              "            'suggestCharts', [key], {});\n",
              "      } catch (error) {\n",
              "        console.error('Error during call to suggestCharts:', error);\n",
              "      }\n",
              "      quickchartButtonEl.classList.remove('colab-df-spinner');\n",
              "      quickchartButtonEl.classList.add('colab-df-quickchart-complete');\n",
              "    }\n",
              "    (() => {\n",
              "      let quickchartButtonEl =\n",
              "        document.querySelector('#df-ea4df636-07b7-405a-9070-d89d9fadec89 button');\n",
              "      quickchartButtonEl.style.display =\n",
              "        google.colab.kernel.accessAllowed ? 'block' : 'none';\n",
              "    })();\n",
              "  </script>\n",
              "</div>\n",
              "\n",
              "    </div>\n",
              "  </div>\n"
            ],
            "application/vnd.google.colaboratory.intrinsic+json": {
              "type": "dataframe",
              "summary": "{\n  \"name\": \"pd\",\n  \"rows\": 2,\n  \"fields\": [\n    {\n      \"column\": \"inadimplente\",\n      \"properties\": {\n        \"dtype\": \"number\",\n        \"std\": 0,\n        \"min\": 0,\n        \"max\": 1,\n        \"num_unique_values\": 2,\n        \"samples\": [\n          1,\n          0\n        ],\n        \"semantic_type\": \"\",\n        \"description\": \"\"\n      }\n    },\n    {\n      \"column\": \"proportion\",\n      \"properties\": {\n        \"dtype\": \"number\",\n        \"std\": 0.25597265478953024,\n        \"min\": 0.319,\n        \"max\": 0.681,\n        \"num_unique_values\": 2,\n        \"samples\": [\n          0.319,\n          0.681\n        ],\n        \"semantic_type\": \"\",\n        \"description\": \"\"\n      }\n    }\n  ]\n}"
            }
          },
          "metadata": {},
          "execution_count": 12
        }
      ],
      "source": [
        "# Analisando a proporção das categorias na variável target,\n",
        "# de modo que 1 indica inadimplentes, enquanto que 0 adimplentes.\n",
        "\n",
        "pd.DataFrame(df['inadimplente'].value_counts('normalize').round(3))"
      ]
    },
    {
      "cell_type": "markdown",
      "metadata": {
        "id": "NvRAHyp6Y5Kd"
      },
      "source": [
        "Uma vez que nota-se a presença de uma disproporcionalidade nos dados, recomenda-se que algumas abordagens sejam tomadas, como o balanceamento nos dados, perpassando, para tanto, as técnicas de oversampling ou undersampling, ou a estratificação dos dados, segundo a variável target, na etapa de separação nos dados de treinamento e teste. No presente notebook, a abordagem escolhida será a da estatificação, porém, caso fosse tomada a de balanceamento, podera ser utilizado a técnica de oversampling - SMOTE. Para saber sobre o que se trata, consultar : https://imbalanced-learn.org/stable/references/generated/imblearn.over_sampling.SMOTE.html"
      ]
    },
    {
      "cell_type": "code",
      "execution_count": 13,
      "metadata": {
        "id": "nb7Rh48rSH_K"
      },
      "outputs": [],
      "source": [
        "# Separando os dados em X e em y :\n",
        "\n",
        "X = df.drop('inadimplente', axis=1)\n",
        "y = df['inadimplente']"
      ]
    },
    {
      "cell_type": "code",
      "execution_count": 14,
      "metadata": {
        "id": "QInCmAk5S-5K"
      },
      "outputs": [],
      "source": [
        "# Definindo a semente de aleatoriedade, para garantir reprodutibilidade :\n",
        "\n",
        "SEED = 22"
      ]
    },
    {
      "cell_type": "code",
      "execution_count": 15,
      "metadata": {
        "id": "pFfjiKGBaL55"
      },
      "outputs": [],
      "source": [
        "# Separando em treino e teste :\n",
        "\n",
        "X_train, X_test, y_train, y_test = train_test_split(X, y, test_size=0.2,\n",
        "                                                    random_state=SEED, stratify=y)"
      ]
    },
    {
      "cell_type": "code",
      "execution_count": 16,
      "metadata": {
        "id": "h5O-Qnb8aS6i"
      },
      "outputs": [],
      "source": [
        "# Instanciando o modelo :\n",
        "\n",
        "rf_select_features = RandomForestClassifier(random_state=SEED, max_depth=10,\n",
        "                                            n_estimators=250, max_features='sqrt',\n",
        "                                            min_samples_leaf=10, min_samples_split=2,\n",
        "                                            criterion='gini')"
      ]
    },
    {
      "cell_type": "code",
      "execution_count": 17,
      "metadata": {
        "colab": {
          "base_uri": "https://localhost:8080/",
          "height": 92
        },
        "id": "_48s86pgamhK",
        "outputId": "9edabead-99da-4a6f-e15f-22fa0dd850a4"
      },
      "outputs": [
        {
          "output_type": "execute_result",
          "data": {
            "text/plain": [
              "RandomForestClassifier(max_depth=10, min_samples_leaf=10, n_estimators=250,\n",
              "                       random_state=22)"
            ],
            "text/html": [
              "<style>#sk-container-id-1 {color: black;background-color: white;}#sk-container-id-1 pre{padding: 0;}#sk-container-id-1 div.sk-toggleable {background-color: white;}#sk-container-id-1 label.sk-toggleable__label {cursor: pointer;display: block;width: 100%;margin-bottom: 0;padding: 0.3em;box-sizing: border-box;text-align: center;}#sk-container-id-1 label.sk-toggleable__label-arrow:before {content: \"▸\";float: left;margin-right: 0.25em;color: #696969;}#sk-container-id-1 label.sk-toggleable__label-arrow:hover:before {color: black;}#sk-container-id-1 div.sk-estimator:hover label.sk-toggleable__label-arrow:before {color: black;}#sk-container-id-1 div.sk-toggleable__content {max-height: 0;max-width: 0;overflow: hidden;text-align: left;background-color: #f0f8ff;}#sk-container-id-1 div.sk-toggleable__content pre {margin: 0.2em;color: black;border-radius: 0.25em;background-color: #f0f8ff;}#sk-container-id-1 input.sk-toggleable__control:checked~div.sk-toggleable__content {max-height: 200px;max-width: 100%;overflow: auto;}#sk-container-id-1 input.sk-toggleable__control:checked~label.sk-toggleable__label-arrow:before {content: \"▾\";}#sk-container-id-1 div.sk-estimator input.sk-toggleable__control:checked~label.sk-toggleable__label {background-color: #d4ebff;}#sk-container-id-1 div.sk-label input.sk-toggleable__control:checked~label.sk-toggleable__label {background-color: #d4ebff;}#sk-container-id-1 input.sk-hidden--visually {border: 0;clip: rect(1px 1px 1px 1px);clip: rect(1px, 1px, 1px, 1px);height: 1px;margin: -1px;overflow: hidden;padding: 0;position: absolute;width: 1px;}#sk-container-id-1 div.sk-estimator {font-family: monospace;background-color: #f0f8ff;border: 1px dotted black;border-radius: 0.25em;box-sizing: border-box;margin-bottom: 0.5em;}#sk-container-id-1 div.sk-estimator:hover {background-color: #d4ebff;}#sk-container-id-1 div.sk-parallel-item::after {content: \"\";width: 100%;border-bottom: 1px solid gray;flex-grow: 1;}#sk-container-id-1 div.sk-label:hover label.sk-toggleable__label {background-color: #d4ebff;}#sk-container-id-1 div.sk-serial::before {content: \"\";position: absolute;border-left: 1px solid gray;box-sizing: border-box;top: 0;bottom: 0;left: 50%;z-index: 0;}#sk-container-id-1 div.sk-serial {display: flex;flex-direction: column;align-items: center;background-color: white;padding-right: 0.2em;padding-left: 0.2em;position: relative;}#sk-container-id-1 div.sk-item {position: relative;z-index: 1;}#sk-container-id-1 div.sk-parallel {display: flex;align-items: stretch;justify-content: center;background-color: white;position: relative;}#sk-container-id-1 div.sk-item::before, #sk-container-id-1 div.sk-parallel-item::before {content: \"\";position: absolute;border-left: 1px solid gray;box-sizing: border-box;top: 0;bottom: 0;left: 50%;z-index: -1;}#sk-container-id-1 div.sk-parallel-item {display: flex;flex-direction: column;z-index: 1;position: relative;background-color: white;}#sk-container-id-1 div.sk-parallel-item:first-child::after {align-self: flex-end;width: 50%;}#sk-container-id-1 div.sk-parallel-item:last-child::after {align-self: flex-start;width: 50%;}#sk-container-id-1 div.sk-parallel-item:only-child::after {width: 0;}#sk-container-id-1 div.sk-dashed-wrapped {border: 1px dashed gray;margin: 0 0.4em 0.5em 0.4em;box-sizing: border-box;padding-bottom: 0.4em;background-color: white;}#sk-container-id-1 div.sk-label label {font-family: monospace;font-weight: bold;display: inline-block;line-height: 1.2em;}#sk-container-id-1 div.sk-label-container {text-align: center;}#sk-container-id-1 div.sk-container {/* jupyter's `normalize.less` sets `[hidden] { display: none; }` but bootstrap.min.css set `[hidden] { display: none !important; }` so we also need the `!important` here to be able to override the default hidden behavior on the sphinx rendered scikit-learn.org. See: https://github.com/scikit-learn/scikit-learn/issues/21755 */display: inline-block !important;position: relative;}#sk-container-id-1 div.sk-text-repr-fallback {display: none;}</style><div id=\"sk-container-id-1\" class=\"sk-top-container\"><div class=\"sk-text-repr-fallback\"><pre>RandomForestClassifier(max_depth=10, min_samples_leaf=10, n_estimators=250,\n",
              "                       random_state=22)</pre><b>In a Jupyter environment, please rerun this cell to show the HTML representation or trust the notebook. <br />On GitHub, the HTML representation is unable to render, please try loading this page with nbviewer.org.</b></div><div class=\"sk-container\" hidden><div class=\"sk-item\"><div class=\"sk-estimator sk-toggleable\"><input class=\"sk-toggleable__control sk-hidden--visually\" id=\"sk-estimator-id-1\" type=\"checkbox\" checked><label for=\"sk-estimator-id-1\" class=\"sk-toggleable__label sk-toggleable__label-arrow\">RandomForestClassifier</label><div class=\"sk-toggleable__content\"><pre>RandomForestClassifier(max_depth=10, min_samples_leaf=10, n_estimators=250,\n",
              "                       random_state=22)</pre></div></div></div></div></div>"
            ]
          },
          "metadata": {},
          "execution_count": 17
        }
      ],
      "source": [
        "rf_select_features.fit(X_train, y_train)"
      ]
    },
    {
      "cell_type": "code",
      "execution_count": 18,
      "metadata": {
        "colab": {
          "base_uri": "https://localhost:8080/",
          "height": 363
        },
        "id": "8F6x2Owiat1q",
        "outputId": "6498e1d0-c565-43d3-8c7b-695df416f83f"
      },
      "outputs": [
        {
          "output_type": "execute_result",
          "data": {
            "text/plain": [
              "               colunas  importancia\n",
              "6              score_2     0.379156\n",
              "5              score_1     0.183398\n",
              "9       troca_telefone     0.118429\n",
              "1  anuidade_emprestimo     0.082066\n",
              "0      receita_cliente     0.056217\n",
              "8         score_social     0.054592\n",
              "2    anos_casa_propria     0.048626\n",
              "7              score_3     0.037104\n",
              "4     avaliacao_cidade     0.031188\n",
              "3        telefone_trab     0.009223"
            ],
            "text/html": [
              "\n",
              "  <div id=\"df-132c968b-0bfa-49d9-b764-3d56f942a6c5\" class=\"colab-df-container\">\n",
              "    <div>\n",
              "<style scoped>\n",
              "    .dataframe tbody tr th:only-of-type {\n",
              "        vertical-align: middle;\n",
              "    }\n",
              "\n",
              "    .dataframe tbody tr th {\n",
              "        vertical-align: top;\n",
              "    }\n",
              "\n",
              "    .dataframe thead th {\n",
              "        text-align: right;\n",
              "    }\n",
              "</style>\n",
              "<table border=\"1\" class=\"dataframe\">\n",
              "  <thead>\n",
              "    <tr style=\"text-align: right;\">\n",
              "      <th></th>\n",
              "      <th>colunas</th>\n",
              "      <th>importancia</th>\n",
              "    </tr>\n",
              "  </thead>\n",
              "  <tbody>\n",
              "    <tr>\n",
              "      <th>6</th>\n",
              "      <td>score_2</td>\n",
              "      <td>0.379156</td>\n",
              "    </tr>\n",
              "    <tr>\n",
              "      <th>5</th>\n",
              "      <td>score_1</td>\n",
              "      <td>0.183398</td>\n",
              "    </tr>\n",
              "    <tr>\n",
              "      <th>9</th>\n",
              "      <td>troca_telefone</td>\n",
              "      <td>0.118429</td>\n",
              "    </tr>\n",
              "    <tr>\n",
              "      <th>1</th>\n",
              "      <td>anuidade_emprestimo</td>\n",
              "      <td>0.082066</td>\n",
              "    </tr>\n",
              "    <tr>\n",
              "      <th>0</th>\n",
              "      <td>receita_cliente</td>\n",
              "      <td>0.056217</td>\n",
              "    </tr>\n",
              "    <tr>\n",
              "      <th>8</th>\n",
              "      <td>score_social</td>\n",
              "      <td>0.054592</td>\n",
              "    </tr>\n",
              "    <tr>\n",
              "      <th>2</th>\n",
              "      <td>anos_casa_propria</td>\n",
              "      <td>0.048626</td>\n",
              "    </tr>\n",
              "    <tr>\n",
              "      <th>7</th>\n",
              "      <td>score_3</td>\n",
              "      <td>0.037104</td>\n",
              "    </tr>\n",
              "    <tr>\n",
              "      <th>4</th>\n",
              "      <td>avaliacao_cidade</td>\n",
              "      <td>0.031188</td>\n",
              "    </tr>\n",
              "    <tr>\n",
              "      <th>3</th>\n",
              "      <td>telefone_trab</td>\n",
              "      <td>0.009223</td>\n",
              "    </tr>\n",
              "  </tbody>\n",
              "</table>\n",
              "</div>\n",
              "    <div class=\"colab-df-buttons\">\n",
              "\n",
              "  <div class=\"colab-df-container\">\n",
              "    <button class=\"colab-df-convert\" onclick=\"convertToInteractive('df-132c968b-0bfa-49d9-b764-3d56f942a6c5')\"\n",
              "            title=\"Convert this dataframe to an interactive table.\"\n",
              "            style=\"display:none;\">\n",
              "\n",
              "  <svg xmlns=\"http://www.w3.org/2000/svg\" height=\"24px\" viewBox=\"0 -960 960 960\">\n",
              "    <path d=\"M120-120v-720h720v720H120Zm60-500h600v-160H180v160Zm220 220h160v-160H400v160Zm0 220h160v-160H400v160ZM180-400h160v-160H180v160Zm440 0h160v-160H620v160ZM180-180h160v-160H180v160Zm440 0h160v-160H620v160Z\"/>\n",
              "  </svg>\n",
              "    </button>\n",
              "\n",
              "  <style>\n",
              "    .colab-df-container {\n",
              "      display:flex;\n",
              "      gap: 12px;\n",
              "    }\n",
              "\n",
              "    .colab-df-convert {\n",
              "      background-color: #E8F0FE;\n",
              "      border: none;\n",
              "      border-radius: 50%;\n",
              "      cursor: pointer;\n",
              "      display: none;\n",
              "      fill: #1967D2;\n",
              "      height: 32px;\n",
              "      padding: 0 0 0 0;\n",
              "      width: 32px;\n",
              "    }\n",
              "\n",
              "    .colab-df-convert:hover {\n",
              "      background-color: #E2EBFA;\n",
              "      box-shadow: 0px 1px 2px rgba(60, 64, 67, 0.3), 0px 1px 3px 1px rgba(60, 64, 67, 0.15);\n",
              "      fill: #174EA6;\n",
              "    }\n",
              "\n",
              "    .colab-df-buttons div {\n",
              "      margin-bottom: 4px;\n",
              "    }\n",
              "\n",
              "    [theme=dark] .colab-df-convert {\n",
              "      background-color: #3B4455;\n",
              "      fill: #D2E3FC;\n",
              "    }\n",
              "\n",
              "    [theme=dark] .colab-df-convert:hover {\n",
              "      background-color: #434B5C;\n",
              "      box-shadow: 0px 1px 3px 1px rgba(0, 0, 0, 0.15);\n",
              "      filter: drop-shadow(0px 1px 2px rgba(0, 0, 0, 0.3));\n",
              "      fill: #FFFFFF;\n",
              "    }\n",
              "  </style>\n",
              "\n",
              "    <script>\n",
              "      const buttonEl =\n",
              "        document.querySelector('#df-132c968b-0bfa-49d9-b764-3d56f942a6c5 button.colab-df-convert');\n",
              "      buttonEl.style.display =\n",
              "        google.colab.kernel.accessAllowed ? 'block' : 'none';\n",
              "\n",
              "      async function convertToInteractive(key) {\n",
              "        const element = document.querySelector('#df-132c968b-0bfa-49d9-b764-3d56f942a6c5');\n",
              "        const dataTable =\n",
              "          await google.colab.kernel.invokeFunction('convertToInteractive',\n",
              "                                                    [key], {});\n",
              "        if (!dataTable) return;\n",
              "\n",
              "        const docLinkHtml = 'Like what you see? Visit the ' +\n",
              "          '<a target=\"_blank\" href=https://colab.research.google.com/notebooks/data_table.ipynb>data table notebook</a>'\n",
              "          + ' to learn more about interactive tables.';\n",
              "        element.innerHTML = '';\n",
              "        dataTable['output_type'] = 'display_data';\n",
              "        await google.colab.output.renderOutput(dataTable, element);\n",
              "        const docLink = document.createElement('div');\n",
              "        docLink.innerHTML = docLinkHtml;\n",
              "        element.appendChild(docLink);\n",
              "      }\n",
              "    </script>\n",
              "  </div>\n",
              "\n",
              "\n",
              "<div id=\"df-a3e0d683-38df-4997-91dd-b3ffd6db2018\">\n",
              "  <button class=\"colab-df-quickchart\" onclick=\"quickchart('df-a3e0d683-38df-4997-91dd-b3ffd6db2018')\"\n",
              "            title=\"Suggest charts\"\n",
              "            style=\"display:none;\">\n",
              "\n",
              "<svg xmlns=\"http://www.w3.org/2000/svg\" height=\"24px\"viewBox=\"0 0 24 24\"\n",
              "     width=\"24px\">\n",
              "    <g>\n",
              "        <path d=\"M19 3H5c-1.1 0-2 .9-2 2v14c0 1.1.9 2 2 2h14c1.1 0 2-.9 2-2V5c0-1.1-.9-2-2-2zM9 17H7v-7h2v7zm4 0h-2V7h2v10zm4 0h-2v-4h2v4z\"/>\n",
              "    </g>\n",
              "</svg>\n",
              "  </button>\n",
              "\n",
              "<style>\n",
              "  .colab-df-quickchart {\n",
              "      --bg-color: #E8F0FE;\n",
              "      --fill-color: #1967D2;\n",
              "      --hover-bg-color: #E2EBFA;\n",
              "      --hover-fill-color: #174EA6;\n",
              "      --disabled-fill-color: #AAA;\n",
              "      --disabled-bg-color: #DDD;\n",
              "  }\n",
              "\n",
              "  [theme=dark] .colab-df-quickchart {\n",
              "      --bg-color: #3B4455;\n",
              "      --fill-color: #D2E3FC;\n",
              "      --hover-bg-color: #434B5C;\n",
              "      --hover-fill-color: #FFFFFF;\n",
              "      --disabled-bg-color: #3B4455;\n",
              "      --disabled-fill-color: #666;\n",
              "  }\n",
              "\n",
              "  .colab-df-quickchart {\n",
              "    background-color: var(--bg-color);\n",
              "    border: none;\n",
              "    border-radius: 50%;\n",
              "    cursor: pointer;\n",
              "    display: none;\n",
              "    fill: var(--fill-color);\n",
              "    height: 32px;\n",
              "    padding: 0;\n",
              "    width: 32px;\n",
              "  }\n",
              "\n",
              "  .colab-df-quickchart:hover {\n",
              "    background-color: var(--hover-bg-color);\n",
              "    box-shadow: 0 1px 2px rgba(60, 64, 67, 0.3), 0 1px 3px 1px rgba(60, 64, 67, 0.15);\n",
              "    fill: var(--button-hover-fill-color);\n",
              "  }\n",
              "\n",
              "  .colab-df-quickchart-complete:disabled,\n",
              "  .colab-df-quickchart-complete:disabled:hover {\n",
              "    background-color: var(--disabled-bg-color);\n",
              "    fill: var(--disabled-fill-color);\n",
              "    box-shadow: none;\n",
              "  }\n",
              "\n",
              "  .colab-df-spinner {\n",
              "    border: 2px solid var(--fill-color);\n",
              "    border-color: transparent;\n",
              "    border-bottom-color: var(--fill-color);\n",
              "    animation:\n",
              "      spin 1s steps(1) infinite;\n",
              "  }\n",
              "\n",
              "  @keyframes spin {\n",
              "    0% {\n",
              "      border-color: transparent;\n",
              "      border-bottom-color: var(--fill-color);\n",
              "      border-left-color: var(--fill-color);\n",
              "    }\n",
              "    20% {\n",
              "      border-color: transparent;\n",
              "      border-left-color: var(--fill-color);\n",
              "      border-top-color: var(--fill-color);\n",
              "    }\n",
              "    30% {\n",
              "      border-color: transparent;\n",
              "      border-left-color: var(--fill-color);\n",
              "      border-top-color: var(--fill-color);\n",
              "      border-right-color: var(--fill-color);\n",
              "    }\n",
              "    40% {\n",
              "      border-color: transparent;\n",
              "      border-right-color: var(--fill-color);\n",
              "      border-top-color: var(--fill-color);\n",
              "    }\n",
              "    60% {\n",
              "      border-color: transparent;\n",
              "      border-right-color: var(--fill-color);\n",
              "    }\n",
              "    80% {\n",
              "      border-color: transparent;\n",
              "      border-right-color: var(--fill-color);\n",
              "      border-bottom-color: var(--fill-color);\n",
              "    }\n",
              "    90% {\n",
              "      border-color: transparent;\n",
              "      border-bottom-color: var(--fill-color);\n",
              "    }\n",
              "  }\n",
              "</style>\n",
              "\n",
              "  <script>\n",
              "    async function quickchart(key) {\n",
              "      const quickchartButtonEl =\n",
              "        document.querySelector('#' + key + ' button');\n",
              "      quickchartButtonEl.disabled = true;  // To prevent multiple clicks.\n",
              "      quickchartButtonEl.classList.add('colab-df-spinner');\n",
              "      try {\n",
              "        const charts = await google.colab.kernel.invokeFunction(\n",
              "            'suggestCharts', [key], {});\n",
              "      } catch (error) {\n",
              "        console.error('Error during call to suggestCharts:', error);\n",
              "      }\n",
              "      quickchartButtonEl.classList.remove('colab-df-spinner');\n",
              "      quickchartButtonEl.classList.add('colab-df-quickchart-complete');\n",
              "    }\n",
              "    (() => {\n",
              "      let quickchartButtonEl =\n",
              "        document.querySelector('#df-a3e0d683-38df-4997-91dd-b3ffd6db2018 button');\n",
              "      quickchartButtonEl.style.display =\n",
              "        google.colab.kernel.accessAllowed ? 'block' : 'none';\n",
              "    })();\n",
              "  </script>\n",
              "</div>\n",
              "\n",
              "    </div>\n",
              "  </div>\n"
            ],
            "application/vnd.google.colaboratory.intrinsic+json": {
              "type": "dataframe",
              "summary": "{\n  \"name\": \"feature_importance\",\n  \"rows\": 10,\n  \"fields\": [\n    {\n      \"column\": \"colunas\",\n      \"properties\": {\n        \"dtype\": \"string\",\n        \"num_unique_values\": 10,\n        \"samples\": [\n          \"avaliacao_cidade\",\n          \"score_1\",\n          \"score_social\"\n        ],\n        \"semantic_type\": \"\",\n        \"description\": \"\"\n      }\n    },\n    {\n      \"column\": \"importancia\",\n      \"properties\": {\n        \"dtype\": \"number\",\n        \"std\": 0.1100978718722255,\n        \"min\": 0.009223312356834445,\n        \"max\": 0.37915590998447596,\n        \"num_unique_values\": 10,\n        \"samples\": [\n          0.03118778132939184,\n          0.18339770713245485,\n          0.054592436158890645\n        ],\n        \"semantic_type\": \"\",\n        \"description\": \"\"\n      }\n    }\n  ]\n}"
            }
          },
          "metadata": {},
          "execution_count": 18
        }
      ],
      "source": [
        "# Verificando a importância por cada feature :\n",
        "\n",
        "feature_importance = pd.DataFrame({'colunas' : X_train.columns, 'importancia' : rf_select_features.feature_importances_})\n",
        "\n",
        "feature_importance.sort_values(by = 'importancia', ascending = False)"
      ]
    },
    {
      "cell_type": "markdown",
      "metadata": {
        "id": "uCKvWizoKXj6"
      },
      "source": [
        "Analisando a tabela gerada pelo modelo de ML acerca das features mais importantes, verifica-se que as menos importantes são do score_3 em diante, sendo o telefone de trabalho a menos importantes, o que, de certo modo, diverge da matriz de correlação, a qual havia encontrado uma correlação negativa com a target."
      ]
    },
    {
      "cell_type": "markdown",
      "source": [
        "## Selecionando as features mais importantes 🖍️\n",
        "\n",
        "Com base na análise da matriz de correlação e do modelo de random forest, constata-se uma maior significância de certas features em comparação com outras. Ainda que no presente dataframe não exista à primeira vista uma elevada dimensionalidade, sendo de apenas 11 dimensões, faz-se necessário sempre utilizar o critério da parcimônio, buscando a eficiência.\n",
        "\n",
        "Em particular, dados com elevada dimensão no contexto da otimização de modelos de machine learning também são onerosos no que tange ao tempo de processamento demandado durante a procura dos melhores hiperparâmetros, principalmente na utilização de algoritmos como o GridSearchCV, que itera sobre cada combinação, relativa a cada modelo criado, verificando a sua eficiência segundo uma métrica fornecida. O processo por si mesmo exige uma elevada capacidade de processamento, a qual, adicionada a uma alta dimensionalidade, pode exigir ainda mais, fazendo-se necessário, mais uma vez, a procura pela redução de dimensionalidade.\n",
        "\n",
        "Existem duas principais abordagens para a redução de dimensionalidade, sendo a Análise de Componentes Principais (PCA), que realiza uma combinação entre dimensões relacionadas, buscando reduzir a dimensionalidade dos dados, enquanto descarta as que possuem menos relevância e a seleção de features, que com base na significância estatística seleciona-se, sem combinar, determinadas dimensões em detrimento de outras. A abordagem utilizada no presente notebook será a de seleção de features.\n",
        "\n",
        ">\n",
        "\n",
        "**Sobre PCA :**\n",
        "\n",
        "https://medium.com/aimonks/principal-component-analysis-pca-in-machine-learning-407224cb4527\n"
      ],
      "metadata": {
        "id": "gXKNmDcKtV-I"
      }
    },
    {
      "cell_type": "code",
      "source": [
        "# Buscando reduzir a dimensionalidade dos dados,\n",
        "# selecionarei as features que sejam mais significativas,\n",
        "# segundo o modelo de ML utilizado :\n",
        "\n",
        "df_seleccionado = df[['score_2', 'score_1', 'troca_telefone',\n",
        "                      'anuidade_emprestimo', 'receita_cliente', 'score_social',\n",
        "                      'anos_casa_propria', 'inadimplente']]\n",
        "\n",
        "\n"
      ],
      "metadata": {
        "id": "EdzJbD4DoakN"
      },
      "execution_count": 19,
      "outputs": []
    },
    {
      "cell_type": "code",
      "source": [
        "# Segmentando em X e em y :\n",
        "\n",
        "X = df_seleccionado.drop('inadimplente', axis=1)\n",
        "y = df_seleccionado['inadimplente']"
      ],
      "metadata": {
        "id": "HgzWSEvG83dw"
      },
      "execution_count": 20,
      "outputs": []
    },
    {
      "cell_type": "code",
      "source": [
        "# Verificando a proporcionalidade da variável target :\n",
        "\n",
        "df_seleccionado['inadimplente'].value_counts('normalize').round(3)"
      ],
      "metadata": {
        "colab": {
          "base_uri": "https://localhost:8080/"
        },
        "id": "MtGswNgh8914",
        "outputId": "41d9a78f-3a8b-440c-e832-6f6618029266"
      },
      "execution_count": 21,
      "outputs": [
        {
          "output_type": "execute_result",
          "data": {
            "text/plain": [
              "inadimplente\n",
              "0    0.681\n",
              "1    0.319\n",
              "Name: proportion, dtype: float64"
            ]
          },
          "metadata": {},
          "execution_count": 21
        }
      ]
    },
    {
      "cell_type": "code",
      "source": [
        "# Separando os dados novamente em treino e teste :\n",
        "\n",
        "X_train, X_test, y_train, y_test = train_test_split(X, y, stratify = y,\n",
        "                                                    random_state= SEED)"
      ],
      "metadata": {
        "id": "NWTIdvAy9Geo"
      },
      "execution_count": 22,
      "outputs": []
    },
    {
      "cell_type": "markdown",
      "source": [
        "## Otimização do modelo  ✔️\n",
        "\n",
        "Otimização de algo significa encontrar o seu ponto de ótimo, no qual esse desempenha com o máximo de eficiência. Em termos de ML, tal ponto de ótimo se relaciona com a capacidade do modelo aprender e de generalizar para novos dados que anteriormente não foram vistos por ele.\n",
        "\n",
        "Partindo da premissa que aprender significa acertar, concebe-se que o aprendizado de um modelo está fortemente atrelado com a sua precisão (que no caso de um modelo de classifação seria de classificar as categorias a que pertence determinado conjunto de dados - cliente adimplente ou inadimplente, no presente contexto).\n",
        "\n",
        "Da mesma forma, generalizar, aqui, significa conseguir acertar o que anteriormente não fora visto na etapa de treinamento, etapa na qual verifica-se de fato o aprendizado do modelo.\n",
        "\n",
        "Ambos os processos, por outro lado, são atravessados por dois possíveis cenários : underfitting e overfitting. Tanto um quanto outro prejudica o aprendizado do modelo, verificado em sua capacidade de generalização, no qual se dá a sua validação. O primeiro se relaciona a um sub-treinamento, no qual o modelo treina pouco antes do processo de previsão para dados anteriormente não vistos, enquanto que o segundo se refere a um sobre-treinamento, no qual o modelo se ajusta muito aos dados, possuindo uma precisão elevado na parte de treinamento, porém baixa na de validação, justamente porque o sobre-ajuste diminui a sua capacidade de generalizar para dados não vistos.\n",
        "\n",
        "Não obstante e com base nisso é que se dá o processo de otimização de um modelo de ML, de modo que busca-se equilibrar ambos cenários de treinamento, nos quais ele nem treina pouco e nem muito, buscando com isso que ele tenha a capacidade de generalizar para dados anteriormente não vistos, apresentando uma boa pontuação de acerto com eles.\n",
        "\n",
        "Por fim, porém não menos importante, um modelo de ML é construído junto de hiperparâmetros que se relacionam à natureza do próprio modelo. Nesse sentido, são eles que são responsáveis de 'aprender' com os dados, produzindo uma determinada saída. Desse modo, na otimização também busca-se encontrar os melhores hiperparâmetros dos modelos de ML, os quais serão responsáveis por prover a esses o melhor aprendizado, aferido a partir da pontuação de determinadas métricas, que costumam ser : acurácia, precisão, recall, f1-score e matriz de confusão.\n",
        "\n",
        "**Para saber mais sobre as métricas :**\n",
        "\n",
        "https://vitorborbarodrigues.medium.com/métricas-de-avaliação-acurácia-precisão-recall-quais-as-diferenças-c8f05e0a513c\n",
        "\n"
      ],
      "metadata": {
        "id": "I0rMUDT29xKC"
      }
    },
    {
      "cell_type": "markdown",
      "source": [
        "\n",
        "## Algoritmos de otimizaçao 🤖\n",
        "\n",
        "Dentre os principais algoritmos de otimização, há o GridSearchCV, RandomSearch e otimização baysiana. Não obstante, tanto o primeiro algoritmo quanto o segundo algoritmo podem ser utilizados segundo uma validação cruzada aninhada ou não.\n",
        "\n",
        ">\n",
        "\n",
        "### GridSearchCV\n",
        "\n",
        "Algoritmo que realia uma busca em grid dos melhores hiperparâmetros junto de uma validação cruzada, utilizada para reduzir o sobre-ajuste aos dados (reduzir overfitting). Nele, varíos modelos são combinados com cada parte dos dados que estão segmentados em 5 partes, sendo uma reservada para a validação, ainda na etapa de treinamento. A cada combinação, junto de cada modelo criado com bases em seus hiperparâmetros, o algoritmo avalia a sua eficiência, se é ou não é bom, com base em determinadas métricas informadas a ele, como o recall por exemplo, que mensura a taxa efetiva de acerto do modelo.\n",
        "\n",
        "**Possível Ônus**\n",
        "\n",
        "Um dos possíveis ônus em sua utilização é o custo de processamento, que justamente pela excessiva iteração, combinando os modelos em cada conjunto de dados e os avaliando, torna o processo de encontrar os melhores hiperparâmetros demorado por conta da quantidade de combinação possível gerada. Em virtude disso, a sua utilização é mais adequada a conjunto de dados pequenos e com pouca dimensionalidade.\n",
        "\n",
        ">\n",
        "\n",
        "### RandomSearchCV\n",
        "\n",
        "Uma alternartiva ao GridSearchCV e que realiza o mesmo procedimento, com o diferencial de que ao invés de iterar sobre todo os dados do conjunto de dados realiza buscas aleatórias para tanto. Apesar de aleatório, tal abordagem encontra êxito justamente por conta da baixa dimensionalidade dos dados mais importantes ou significativos utilizados para encontrar os melhores hiperparâmetros. Nesse sentido, não são todos os dados que de forma homogênea apresentam a mesma relevância para a compreensão do melhor modelo, mas alguns.\n",
        "\n",
        "Tal característica pode ser ilustrada por meio do seguinte exemplo : imagine que num conjunto de 100 dados, os dados realmente importantes são 7. Utilizando o GridSearchCV, a iteração se dará para cada dado, combinado-os com cada modelo criado - a partir dos hiperparâmetros anteriormente especificados -. Sem considerar os demais modelos, mas apenas 1, isso exigiria 100 combinações para verificar a pontuação do modelo informado.\n",
        "\n",
        "Por outro lado, utilizando a busca aleatória, que procede de forma diferente, o que ocorreria ? Considerando que são 7 dados importantes, a chance de encontrarmos pelo menos um é de $(7 / 100)$. Considerando que podemos errá-los, tal chance de erro é de $( 1 - (7 / 100))$. Levando em conta que temos tal chance em um total de dados, para sabermos quantas vezes precisáriamos para encontrar os dados necessários : $(1 - (1 - (7 / 100))) ^x$, que daria 27 vezes.\n",
        "\n",
        "Considerando que com o GridSearchCV precisamos executar 100 vezes cada combinação, o RandomSearchCV a encontra com 27 vezes, de forma aleatória. Tal diferença, portanto, demonstra a menor exigência de processamento demandado, que pode fazer significativa diferença para um projeto de ML, no qual é necessário encontrar os melhores hiperparâmetros de um modelo relacionado a um determinado conjunto de dados, em especial aqueles que possuem alta dimensionalidade.\n",
        "\n",
        "**Possíveis vantagens**\n",
        "\n",
        "Menor custo de processamento, sendo mais efetivo, em termos de intervalo de tempo necessário para a sua execução, que o GridSearchCV para datasets com alta dimensionalidade. Outra vantagem é que os hiperparâmetros por ele encontrado tendem a ser os mesmos daqueles que seriam encontrados pelo GridSearch, não havendo, portanto, uma significativa perda de um em relação ao outro, inclusive no que tange a precisão, sendo esse, se não equivalente, percentualmente baixo.\n",
        "\n",
        ">\n",
        "\n",
        "### Validação cruzada aninhada e não aninhada\n",
        "\n",
        "A principal diferença de um e de outro se relaciona à adição mais uma camada de treino e validação, porém nas próprias camadas de treino, preservando ainda a camada única de validação. Isso significa que em cada camada que antes servia apenas para treino, agora irá possuir tanto um treinamento quanto teste, de modo a avaliar o desempenho do modelo, segundo uma determinada métrica informada. Só então, a partir desse processo interno de validação, em que o modelo é passado à etapa de validação, no qual obtém a sua pontuação final.\n",
        "\n",
        "Essa abordagem é especialmente utilizada, pois por meio dela busca-se reduzir ainda mais o risco ao overfitting nos dados, visando reduzir o otimismo acerca da pontuação do modelo, frente ao o que na realidade é encontrado, devido a não mistura dos dados no processo de treino e validação, que ocorre, ainda que em menor grau, na validação cruzada. Desse modo, a sua utilização se relaciona a encontrar o melhor hiperparâmetro, com base em sua pontuação atrelado a uma determinada métrica, de modo que seja o menos otimista possível.\n",
        "\n",
        "Acerca da validação não aninhada ocorre o oposto. Nela o conjunto de treino é dividida em treino, reservando uma para validação, por meio da qual o modelo será avaliado.\n",
        "\n",
        ">\n",
        "\n",
        "### Otimização Baysiana\n",
        "\n",
        "A otimização bayesiana é uma técnica que utiliza informações prévias para gerar previsões posteriores, atualizando essas informações conforme a iteração especificada. Essa abordagem envolve três elementos principais: a função objetivo, o modelo substituto e a função de aquisição. Juntos, esses componentes ajudam a identificar o melhor conjunto de hiperparâmetros para um modelo de machine learning (ML).\n",
        "\n",
        "- Função Objetivo\n",
        "\n",
        "A função objetivo é responsável por encontrar os melhores hiperparâmetros que maximizem ou minimizem uma métrica de desempenho específica do modelo de ML, como precisão, recall ou outra métrica relevante. Inicialmente, a função objetivo treina o modelo com os hiperparâmetros fornecidos e depois os avalia com base na métrica especificada. A função objetivo é essencialmente a métrica que queremos otimizar, e suas avaliações são usadas para informar o processo de busca e seleção de hiperparâmetros. No gráfico abaixo, o melhor hiperparâmetro encontrado é demarcado pela estrela no topo da curva de distribuição.\n",
        "\n",
        "![image.png](data:image/png;base64,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)\n",
        "\n",
        "- Modelo Substituto\n",
        "\n",
        "O modelo substituto é uma representação aproximada da função objetivo. Ele é mais barato e rápido de avaliar do que a função objetivo real. A Regressão Gaussiana (Gaussian Process) é comumente usada como modelo substituto devido à sua capacidade de fornecer tanto predições quanto incertezas dessas predições. À medida que novos pontos de dados são avaliados pela função objetivo, o modelo substituto é atualizado, melhorando sua precisão e capacidade de guiar a busca pelos melhores hiperparâmetros.\n",
        "\n",
        "![image.png](data:image/png;base64,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)\n",
        "\n",
        "- Função de Aquisição\n",
        "\n",
        "A função de aquisição é responsável por decidir quais hiperparâmetros testar a seguir. Ela equilibra a exploração de novas áreas do espaço de hiperparâmetros (onde a incerteza é alta) e a exploração de áreas conhecidas para melhorar as predições (onde já existem boas estimativas). Alguns exemplos comuns de funções de aquisição incluem Expected Improvement (EI), Upper Confidence Bound (UCB) e Probability of Improvement (PI).\n",
        "\n",
        "**Exploração**\n",
        "\n",
        "A exploração se concentra em áreas do espaço de busca que ainda apresentam alta incerteza. Essa estratégia ajuda a identificar possíveis regiões com bons hiperparâmetros que ainda não foram suficientemente exploradas.\n",
        "\n",
        "**Exploração**\n",
        "\n",
        "A exploração foca em áreas do espaço de busca onde as predições são mais confiáveis, utilizando as melhores informações já conhecidas para avaliar o desempenho dos hiperparâmetros encontrados.\n",
        "\n",
        "- **Tratamento a overfitting**\n",
        "\n",
        "O algoritmo de otimização bayesiano não apresenta um tratamento de validação cruzada explícito, semelhante aos algoritmos GridSearch e RandomSearch, podendo, no entanto, ser aplicado a ele a validação cruzada para que apresente tal característica. Por outro lado, há um certo tratamento implícito, que se dá por meio de uma regularização por adição de termos à matriz da covariância, o qual ajuda o sobreajuste aos dados. Além disso, a combinação de exploração com explotação auxilia nesse processo, uma vez que a exploração ajuda o modelo não se ajustar apenas segundo os hiperparâmetros que em um determinado momento apresentam a maior probabilidade de serem os melhores.\n"
      ],
      "metadata": {
        "id": "glbWiL79DJ7c"
      }
    },
    {
      "cell_type": "markdown",
      "source": [
        "## Criando um modelo de baseline\n",
        "\n",
        "A criação de modelos de baseline são úteis para a compreensão do desempenho dos modelos propriamente criados com o objetivo de serem efetivos na tarefa em que são propostos. Nesse sentido, se crio um modelo e o otimizo, porém seu desempenho é similar a um modelo Dummy (baseline por excelência) ou ao seu análogo padrão, significa que ele precisa ser reconsiderado ou que, no segundo caso, que a otimização não oferece grandes saltos em comparação com a implementação padrão.\n",
        "\n",
        "Para o presente estudo, irei criar um DummyClassifier, bem como irei implementar o RandomForest, K-NN e modelo de regressão logística. No primeiro momento, irei treiná-los e mensurá-los com base em sua implementação padrão, sendo que posteriormente irei avaliá-los novamente, porém em sua forma otimizada. Importante dizer que não irei buscar a otimização de cada modelo por meio do GridSearch, devido ao custo de processamento, que ressoa no intervalo de tempo de espera para a conclusão da busca pelos melhores hiperparâmetros."
      ],
      "metadata": {
        "id": "BhqzrmU1j9MU"
      }
    },
    {
      "cell_type": "code",
      "source": [
        "def avalia_modelos(nome_modelo, modelo):\n",
        "\n",
        "  modelo.fit(X_train, y_train)\n",
        "  y_predict = modelo.predict(X_test)\n",
        "\n",
        "  acuracia = accuracy_score(y_test, y_predict)\n",
        "  recall = recall_score(y_test, y_predict)\n",
        "  precisao = precision_score(y_test, y_predict)\n",
        "  f1 = f1_score(y_test, y_predict)\n",
        "\n",
        "  print(f'\\n {nome_modelo} \\n')\n",
        "\n",
        "  print(f'Acurácia: {(acuracia).round(3)}')\n",
        "  print(f'Recall: {(recall).round(3)}')\n",
        "  print(f'Precisão: {(precisao).round(3)}')\n",
        "  print(f'F1-Score: {(f1).round(3)}')\n"
      ],
      "metadata": {
        "id": "CaY5jvWunUoQ"
      },
      "execution_count": 23,
      "outputs": []
    },
    {
      "cell_type": "code",
      "source": [
        "dummy_classifier = DummyClassifier(strategy='most_frequent', random_state = SEED)\n",
        "random_forest = RandomForestClassifier(random_state = SEED)\n",
        "knn = KNeighborsClassifier()\n",
        "logistic_regression = LogisticRegression(random_state = SEED)\n",
        "\n",
        "modelos = [('Dummy Classifier', dummy_classifier),\n",
        "           ('Random Forest', random_forest),\n",
        "           ('KN-Neighbors', knn),\n",
        "            ('Logistic Regression', logistic_regression)]\n"
      ],
      "metadata": {
        "id": "op8jeNFPl-Fz"
      },
      "execution_count": null,
      "outputs": []
    },
    {
      "cell_type": "code",
      "source": [
        "for nome_modelo, modelo in modelos:\n",
        "  avalia_modelos(nome_modelo, modelo)"
      ],
      "metadata": {
        "colab": {
          "base_uri": "https://localhost:8080/"
        },
        "id": "KqwONlhUo2QR",
        "outputId": "70156161-e27e-4790-9f65-06dd575d8c15"
      },
      "execution_count": null,
      "outputs": [
        {
          "output_type": "stream",
          "name": "stderr",
          "text": [
            "/usr/local/lib/python3.10/dist-packages/sklearn/metrics/_classification.py:1344: UndefinedMetricWarning: Precision is ill-defined and being set to 0.0 due to no predicted samples. Use `zero_division` parameter to control this behavior.\n",
            "  _warn_prf(average, modifier, msg_start, len(result))\n"
          ]
        },
        {
          "output_type": "stream",
          "name": "stdout",
          "text": [
            "\n",
            " Dummy Classifier \n",
            "\n",
            "Acurácia: 0.681\n",
            "Recall: 0.0\n",
            "Precisão: 0.0\n",
            "F1-Score: 0.0\n",
            "\n",
            " Random Forest \n",
            "\n",
            "Acurácia: 0.701\n",
            "Recall: 0.28\n",
            "Precisão: 0.564\n",
            "F1-Score: 0.374\n",
            "\n",
            " KN-Neighbors \n",
            "\n",
            "Acurácia: 0.605\n",
            "Recall: 0.205\n",
            "Precisão: 0.317\n",
            "F1-Score: 0.249\n",
            "\n",
            " Logistic Regression \n",
            "\n",
            "Acurácia: 0.681\n",
            "Recall: 0.001\n",
            "Precisão: 0.5\n",
            "F1-Score: 0.002\n"
          ]
        }
      ]
    },
    {
      "cell_type": "markdown",
      "source": [
        "Por padrão, nota-se que os modelos de ML não apresentam uma acurácia significativamente superior ao modelo Dummy, sendo no caso o KN-Neighbors até inferior. Não obstante, as demais métricas não se mostram favoráveis, tendo em vista que os modelos apresentam uma taxa de acerto efetiva (reacall) baixa, influenciando no f1-score."
      ],
      "metadata": {
        "id": "1DlzJc0n0cgU"
      }
    },
    {
      "cell_type": "markdown",
      "source": [
        "## Aplicando a otimização nos modelos"
      ],
      "metadata": {
        "id": "ASnI8jpKd9yn"
      }
    },
    {
      "cell_type": "code",
      "source": [
        "# Define-se a validação cruzada :\n",
        "\n",
        "# Validação cruzada com 5 divisões, sendo uma para\n",
        "# validação e as demais para treino, com mistura,\n",
        "# de modo a impedir que os dados estejam ordenados,\n",
        "# através do shuffle = True.\n",
        "\n",
        "cv = StratifiedKFold(n_splits=5, shuffle=True, random_state = SEED)\n",
        "\n"
      ],
      "metadata": {
        "id": "9u606QJS9Qz3"
      },
      "execution_count": 24,
      "outputs": []
    },
    {
      "cell_type": "markdown",
      "source": [
        "## Otimizando o Random Forest com CV 🌳🌳🌳"
      ],
      "metadata": {
        "id": "Y-HJkMG21T-9"
      }
    },
    {
      "cell_type": "code",
      "source": [
        "# Definindo o universo de hiperparâmetros\n",
        "# a serem testados para o modelo random forest.\n",
        "\n",
        "# n_estimators -> quantidade de árvores\n",
        "# criterion -> critério de separação dos dados presentes nas folhas\n",
        "# max_depth -> profundidade máxima da árvore\n",
        "# min_samples_leaf -> qt. mínima de amostras por folha\n",
        "# min_samples_split -> qt. mínima de amostras por divisão\n",
        "# max_features -> qt. máximas de features avaliadas em cada processo, folha.\n",
        "\n",
        "param_grid_rf = {\n",
        "    'n_estimators': [200, 250, 300],\n",
        "    'criterion':  ['gini', 'entropy'],\n",
        "    'max_depth': [2, 8, 10],\n",
        "    'min_samples_split': [2, 5, 10],\n",
        "    'min_samples_leaf': [5, 10, 20],\n",
        "    'max_features': ['sqrt', 'log2']\n",
        "   }"
      ],
      "metadata": {
        "id": "vjL_JOVxeurc"
      },
      "execution_count": null,
      "outputs": []
    },
    {
      "cell_type": "code",
      "source": [
        "# O hiperparâmetro scoring se relaciona a que métrica utilizamos\n",
        "# para encontrar os melhores hiperparâmetros e, portanto, o modelo\n",
        "# otimizado. Ao utilizar, por exemplo, o recall, estou informando\n",
        "# que quero encontrar o modelo otimizado por meio de seu acerto efetivo.\n",
        "\n",
        "rf_grid = GridSearchCV(estimator = RandomForestClassifier(random_state= SEED),\n",
        "             param_grid = param_grid_rf,\n",
        "             scoring = \"recall\", # Métrica de avaliação\n",
        "             n_jobs = -1, # Informa que desejo utilizar 2 núcleos de processamento.\n",
        "             cv = cv)"
      ],
      "metadata": {
        "id": "XcCXbp87jvfb"
      },
      "execution_count": null,
      "outputs": []
    },
    {
      "cell_type": "code",
      "source": [
        "%%time\n",
        "\n",
        "# Treinando os modelos criados pelo Grid e StratifiedKFold :\n",
        "\n",
        "rf_grid.fit(X_train, y_train)"
      ],
      "metadata": {
        "id": "2w7TZytC1xuB"
      },
      "execution_count": null,
      "outputs": []
    },
    {
      "cell_type": "code",
      "source": [
        "# Ao treinar o modelo, pode-se verificar\n",
        "# os melhores hiperparâmetros da seguinte forma :\n",
        "\n",
        "rf_grid.best_params_"
      ],
      "metadata": {
        "id": "QGj0Hlwc3KSe"
      },
      "execution_count": null,
      "outputs": []
    },
    {
      "cell_type": "code",
      "source": [
        "# Por motivos de tempo de processamento, não executei\n",
        "# a célula, mas os melhores hiperparâmetros encontrados\n",
        "# seria :\n",
        "\n",
        "n_estimators = 200\n",
        "max_depth = 10\n",
        "criterion = 'gini'\n",
        "min_samples_split = 2\n",
        "min_samples_leaf = 10\n",
        "max_features = 'sqrt'\n",
        "\n",
        "# Instanciando o modelo :\n",
        "\n",
        "opt_rf_CV = RandomForestClassifier(n_estimators = n_estimators,\n",
        "                                max_depth = max_depth,\n",
        "                                criterion = criterion,\n",
        "                                min_samples_split = min_samples_split,\n",
        "                                min_samples_leaf = min_samples_leaf,\n",
        "                                random_state = SEED)"
      ],
      "metadata": {
        "id": "sINvG2ei3clF"
      },
      "execution_count": null,
      "outputs": []
    },
    {
      "cell_type": "markdown",
      "source": [
        "## Otimizando o modelo de Regressão Logística com CV"
      ],
      "metadata": {
        "id": "UsIJgWT54gQI"
      }
    },
    {
      "cell_type": "code",
      "source": [
        "# max_iter -> qt. máxima de iterações\n",
        "# solver -> métrica que conduz a otimização\n",
        "# penalty -> tipo de regularização (l1, l2, elasticnet - a combinação dos dois anteriores)\n",
        "# C -> refere-se à força da regularização, de modo que para valores\n",
        "#      elevados a regularização é mais forte, podendo gerar overfitting.\n",
        "\n",
        "max_iter = np.linspace(100, 300, 5, dtype=int)\n",
        "c = [0.001, 0.01, 0.1, 1, 10]\n",
        "\n",
        "param_grid_lr = [\n",
        "    {'logisticregression__solver' : ['newton-cg', 'lbfgs'],\n",
        "      'logisticregression__penalty' : ['l1','l2','elasticnet'],\n",
        "      'logisticregression__max_iter' : max_iter,\n",
        "       'logisticregression__C' : c}\n",
        "]"
      ],
      "metadata": {
        "id": "-ZpohyNs4S7j"
      },
      "execution_count": 85,
      "outputs": []
    },
    {
      "cell_type": "code",
      "source": [
        "lr_grid_search = GridSearchCV(estimator = make_pipeline(StandardScaler(), LogisticRegression(random_state = SEED)),\n",
        "                               param_grid = param_grid_lr,\n",
        "                               scoring = \"recall\",\n",
        "                               n_jobs = -1,\n",
        "                               cv = cv)\n"
      ],
      "metadata": {
        "id": "_XYjdkbqBhj1"
      },
      "execution_count": null,
      "outputs": []
    },
    {
      "cell_type": "code",
      "source": [
        "%%time\n",
        "\n",
        "lr_grid_search.fit(X_train, y_train)"
      ],
      "metadata": {
        "id": "n0Z8W4pzBuo1"
      },
      "execution_count": null,
      "outputs": []
    },
    {
      "cell_type": "code",
      "source": [
        "# Para encontrar os melhores hiperparâmetros\n",
        "\n",
        "lr_grid_search.best_params_"
      ],
      "metadata": {
        "id": "5nI_HW7j2pnr"
      },
      "execution_count": null,
      "outputs": []
    },
    {
      "cell_type": "code",
      "source": [
        "# Por motivos de tempo de processamento, não executei\n",
        "# a célula de treinamento que iniciaria a busca pelos\n",
        "# hiperparâmetros, mas os possíveis hiperparâmetros encontrados\n",
        "# seriam :\n",
        "\n",
        "opt_log_regression_CV = LogisticRegression(solver= 'newton-cg', penalty='l2', max_iter=300, C=10,\n",
        "                                 random_state=SEED)"
      ],
      "metadata": {
        "id": "-dzu1fMFB5SM"
      },
      "execution_count": 93,
      "outputs": []
    },
    {
      "cell_type": "markdown",
      "source": [
        "## Otimizando o KN-Neighbors com CV"
      ],
      "metadata": {
        "id": "nSlyEQWw10mO"
      }
    },
    {
      "cell_type": "code",
      "source": [
        "# Definindo a grade de hiperparâmetros\n",
        "param_grid_knn = {\n",
        "    'knn__n_neighbors': linspace(5, 25, 10, dtype=int),\n",
        "    'knn__weights': ['uniform', 'distance'],\n",
        "    'knn__metric': ['euclidean', 'manhattan']\n",
        "}\n",
        "\n",
        "pipe_knn = Pipeline([\n",
        "    ('scaler', StandardScaler()),\n",
        "    ('knn', KNeighborsClassifier())\n",
        "])\n"
      ],
      "metadata": {
        "id": "5dB4oeom1PPU"
      },
      "execution_count": null,
      "outputs": []
    },
    {
      "cell_type": "code",
      "source": [
        "knn_grid_search = GridSearchCV(estimator = pipe_knn,\n",
        "                               param_grid = param_grid_knn,\n",
        "                               scoring = \"recall\",\n",
        "                               n_jobs = -1,\n",
        "                               cv = cv)"
      ],
      "metadata": {
        "id": "-IZXszoD2Bcz"
      },
      "execution_count": null,
      "outputs": []
    },
    {
      "cell_type": "code",
      "source": [
        "%%time\n",
        "\n",
        "knn_grid_search.fit(X_train, y_train)"
      ],
      "metadata": {
        "id": "Y_YgVY6O2D2L"
      },
      "execution_count": null,
      "outputs": []
    },
    {
      "cell_type": "code",
      "source": [
        "# Para encontrar os melhores hiperparâmetros :\n",
        "\n",
        "knn_grid_search.best_params_"
      ],
      "metadata": {
        "id": "HFO1SgJA2RQA"
      },
      "execution_count": null,
      "outputs": []
    },
    {
      "cell_type": "code",
      "source": [
        "opt_knn_CV = KNeighborsClassifier(metric='manhattan', n_neighbors=5, weights='distance')"
      ],
      "metadata": {
        "id": "jwYF0uD82vyC"
      },
      "execution_count": null,
      "outputs": []
    },
    {
      "cell_type": "markdown",
      "source": [
        "## Avaliando os modelos otimizados com a validação cruzada\n",
        "\n",
        "Etapa destinada a avaliar o desempenho dos modelos otimizados, como forma de verificar se apresentam algum ganho em relação ao desempenho encontrado pela implementação padrão dos mesmos."
      ],
      "metadata": {
        "id": "bZKByg-r3csf"
      }
    },
    {
      "cell_type": "code",
      "source": [
        "modelos_otimizados_CV = [('Random Forest', opt_rf_CV),\n",
        "                         ('Regressão Logística', opt_log_regression_CV),\n",
        "                         ('KN-Neighbors', opt_knn_CV)]\n",
        "\n",
        "for nome_modelo, modelo in modelos_otimizados_CV:\n",
        "  avalia_modelos(nome_modelo, modelo)"
      ],
      "metadata": {
        "colab": {
          "base_uri": "https://localhost:8080/"
        },
        "id": "oRWWkhYj3R-J",
        "outputId": "3cc357dd-a846-4e8f-ca9a-b602df5a4cec"
      },
      "execution_count": null,
      "outputs": [
        {
          "output_type": "stream",
          "name": "stdout",
          "text": [
            "\n",
            " Random Forest \n",
            "\n",
            "Acurácia: 0.701\n",
            "Recall: 0.201\n",
            "Precisão: 0.591\n",
            "F1-Score: 0.3\n"
          ]
        },
        {
          "output_type": "stream",
          "name": "stderr",
          "text": [
            "/usr/local/lib/python3.10/dist-packages/scipy/optimize/_linesearch.py:466: LineSearchWarning: The line search algorithm did not converge\n",
            "  warn('The line search algorithm did not converge', LineSearchWarning)\n",
            "/usr/local/lib/python3.10/dist-packages/scipy/optimize/_linesearch.py:314: LineSearchWarning: The line search algorithm did not converge\n",
            "  warn('The line search algorithm did not converge', LineSearchWarning)\n"
          ]
        },
        {
          "output_type": "stream",
          "name": "stdout",
          "text": [
            "\n",
            " Regressão Logística \n",
            "\n",
            "Acurácia: 0.68\n",
            "Recall: 0.006\n",
            "Precisão: 0.368\n",
            "F1-Score: 0.012\n",
            "\n",
            " KN-Neighbors \n",
            "\n",
            "Acurácia: 0.595\n",
            "Recall: 0.263\n",
            "Precisão: 0.331\n",
            "F1-Score: 0.293\n"
          ]
        }
      ]
    },
    {
      "cell_type": "markdown",
      "source": [
        "Analisando a métrica gerada pelos modelos otimizados por meio da validação cruzada, quando comparando com as métricas geradas pelos modelos em sua implementação padrão, nota-se que cada qual desempenhou de forma diferente. No caso do Random Forest, o recall diminuiu e aumentou-se a precisão, enquanto que na regressão logística melhorou-se o seu recall e média harmônica. Por fim, no modelo KN-Neighbors a acurácia foi um pouco perdida, aumentando, porém, o recall e média harmônica do modelo."
      ],
      "metadata": {
        "id": "5oUFd7Kk6wV9"
      }
    },
    {
      "cell_type": "markdown",
      "source": [
        "## Otimização com validação cruzada aninhada"
      ],
      "metadata": {
        "id": "ZXgzTCBy8s4U"
      }
    },
    {
      "cell_type": "code",
      "source": [
        "# Para realizar a validação cruzada aninhada, temos que criar\n",
        "# uma validação cruzada interna e externa. Além disso, a diferença\n",
        "# da validação convencional é que na camada externa, obtém-se\n",
        "# apenas o retorno da pontuação do melhor modelo gerado, de modo\n",
        "# que para ver os melhores hiperparâmetros, deve-se chamar\n",
        "# a porção interna.\n",
        "\n",
        "# Porção interna :\n",
        "\n",
        "inner_cv = StratifiedKFold(n_splits=5, shuffle=True, random_state = SEED)\n",
        "\n",
        "# Porção externa :\n",
        "\n",
        "outer_cv = StratifiedKFold(n_splits=3, shuffle=True, random_state = SEED)"
      ],
      "metadata": {
        "id": "UCEW2zoP4Kl1"
      },
      "execution_count": 28,
      "outputs": []
    },
    {
      "cell_type": "code",
      "source": [
        "rf_nested_CV = GridSearchCV(estimator = RandomForestClassifier(random_state= SEED),\n",
        "             param_grid = param_grid_rf,\n",
        "             scoring = \"recall\",\n",
        "             n_jobs = -1,\n",
        "             cv = inner_cv)"
      ],
      "metadata": {
        "id": "P5RcD6hc-Uv1"
      },
      "execution_count": null,
      "outputs": []
    },
    {
      "cell_type": "code",
      "source": [
        "%%time\n",
        "\n",
        "rf_nested_score = cross_val_score(rf_nested_CV, X_train, y_train, cv = outer_cv)"
      ],
      "metadata": {
        "id": "ocuWCDsy-q3h"
      },
      "execution_count": null,
      "outputs": []
    },
    {
      "cell_type": "code",
      "source": [
        "# Para analisar a pontuação média do melhor hiperparâmetro :\n",
        "\n",
        "print(f'Pontuação média do modelo encontrado e seu desvio padrão : {(rf_nested_score.mean()).round(3)} , {(rf_nested_score.std).std()}')"
      ],
      "metadata": {
        "id": "ov4oXxdo_5iE"
      },
      "execution_count": null,
      "outputs": []
    },
    {
      "cell_type": "code",
      "source": [
        "# Para verificar os melhores hiperparâmetros encontrados :\n",
        "\n",
        "rf_nested_CV.best_params_"
      ],
      "metadata": {
        "id": "EUuekfSLCMFC"
      },
      "execution_count": null,
      "outputs": []
    },
    {
      "cell_type": "markdown",
      "source": [
        "O mesmo processo se repete, de modo similar à validação cruzada para cada modelo, bastando informar o campo de busca dos hiperparâmetros de cada qual, bem como criando a validação cruzada aninhada para eles. Devido a alta similaridade, não será demonstrado as implementações para os outros modelos."
      ],
      "metadata": {
        "id": "Jvvoz6jCChCV"
      }
    },
    {
      "cell_type": "markdown",
      "source": [
        "## Otimizando com Busca Aleatória"
      ],
      "metadata": {
        "id": "Q2Kr0pkeDYLU"
      }
    },
    {
      "cell_type": "markdown",
      "source": [
        "### Random Forest 🌳🌳🌳"
      ],
      "metadata": {
        "id": "RTyM7tlDDmqq"
      }
    },
    {
      "cell_type": "code",
      "source": [
        "# Implementando a busca aleatória :\n",
        "\n",
        "random_forest_rs = RandomizedSearchCV(estimator=RandomForestClassifier(random_state = SEED ),\n",
        "            param_distributions=param_grid_rf,\n",
        "            n_iter=100, # Determina o número, quantidade de iterações aleatórias\n",
        "            scoring='recall',\n",
        "            n_jobs=-1,\n",
        "            cv = cv,\n",
        "            random_state = SEED )\n",
        "\n"
      ],
      "metadata": {
        "id": "_yLR1ILuDDhp"
      },
      "execution_count": 69,
      "outputs": []
    },
    {
      "cell_type": "code",
      "source": [
        "%%time\n",
        "\n",
        "random_forest_rs.fit(X_train, y_train)"
      ],
      "metadata": {
        "colab": {
          "base_uri": "https://localhost:8080/",
          "height": 151
        },
        "id": "fwJ904__D2zR",
        "outputId": "55e06949-3fcb-46cc-f8ef-d5d2b3d40308"
      },
      "execution_count": 70,
      "outputs": [
        {
          "output_type": "stream",
          "name": "stdout",
          "text": [
            "CPU times: user 11.1 s, sys: 1.7 s, total: 12.8 s\n",
            "Wall time: 17min 24s\n"
          ]
        },
        {
          "output_type": "execute_result",
          "data": {
            "text/plain": [
              "RandomizedSearchCV(cv=StratifiedKFold(n_splits=5, random_state=22, shuffle=True),\n",
              "                   estimator=RandomForestClassifier(random_state=22),\n",
              "                   n_iter=100, n_jobs=-1,\n",
              "                   param_distributions={'criterion': ['gini', 'entropy'],\n",
              "                                        'max_depth': [2, 8, 10],\n",
              "                                        'max_features': ['sqrt', 'log2'],\n",
              "                                        'min_samples_leaf': [5, 10, 20],\n",
              "                                        'min_samples_split': [2, 5, 10],\n",
              "                                        'n_estimators': [200, 250, 300]},\n",
              "                   random_state=22, scoring='recall')"
            ],
            "text/html": [
              "<style>#sk-container-id-2 {color: black;background-color: white;}#sk-container-id-2 pre{padding: 0;}#sk-container-id-2 div.sk-toggleable {background-color: white;}#sk-container-id-2 label.sk-toggleable__label {cursor: pointer;display: block;width: 100%;margin-bottom: 0;padding: 0.3em;box-sizing: border-box;text-align: center;}#sk-container-id-2 label.sk-toggleable__label-arrow:before {content: \"▸\";float: left;margin-right: 0.25em;color: #696969;}#sk-container-id-2 label.sk-toggleable__label-arrow:hover:before {color: black;}#sk-container-id-2 div.sk-estimator:hover label.sk-toggleable__label-arrow:before {color: black;}#sk-container-id-2 div.sk-toggleable__content {max-height: 0;max-width: 0;overflow: hidden;text-align: left;background-color: #f0f8ff;}#sk-container-id-2 div.sk-toggleable__content pre {margin: 0.2em;color: black;border-radius: 0.25em;background-color: #f0f8ff;}#sk-container-id-2 input.sk-toggleable__control:checked~div.sk-toggleable__content {max-height: 200px;max-width: 100%;overflow: auto;}#sk-container-id-2 input.sk-toggleable__control:checked~label.sk-toggleable__label-arrow:before {content: \"▾\";}#sk-container-id-2 div.sk-estimator input.sk-toggleable__control:checked~label.sk-toggleable__label {background-color: #d4ebff;}#sk-container-id-2 div.sk-label input.sk-toggleable__control:checked~label.sk-toggleable__label {background-color: #d4ebff;}#sk-container-id-2 input.sk-hidden--visually {border: 0;clip: rect(1px 1px 1px 1px);clip: rect(1px, 1px, 1px, 1px);height: 1px;margin: -1px;overflow: hidden;padding: 0;position: absolute;width: 1px;}#sk-container-id-2 div.sk-estimator {font-family: monospace;background-color: #f0f8ff;border: 1px dotted black;border-radius: 0.25em;box-sizing: border-box;margin-bottom: 0.5em;}#sk-container-id-2 div.sk-estimator:hover {background-color: #d4ebff;}#sk-container-id-2 div.sk-parallel-item::after {content: \"\";width: 100%;border-bottom: 1px solid gray;flex-grow: 1;}#sk-container-id-2 div.sk-label:hover label.sk-toggleable__label {background-color: #d4ebff;}#sk-container-id-2 div.sk-serial::before {content: \"\";position: absolute;border-left: 1px solid gray;box-sizing: border-box;top: 0;bottom: 0;left: 50%;z-index: 0;}#sk-container-id-2 div.sk-serial {display: flex;flex-direction: column;align-items: center;background-color: white;padding-right: 0.2em;padding-left: 0.2em;position: relative;}#sk-container-id-2 div.sk-item {position: relative;z-index: 1;}#sk-container-id-2 div.sk-parallel {display: flex;align-items: stretch;justify-content: center;background-color: white;position: relative;}#sk-container-id-2 div.sk-item::before, #sk-container-id-2 div.sk-parallel-item::before {content: \"\";position: absolute;border-left: 1px solid gray;box-sizing: border-box;top: 0;bottom: 0;left: 50%;z-index: -1;}#sk-container-id-2 div.sk-parallel-item {display: flex;flex-direction: column;z-index: 1;position: relative;background-color: white;}#sk-container-id-2 div.sk-parallel-item:first-child::after {align-self: flex-end;width: 50%;}#sk-container-id-2 div.sk-parallel-item:last-child::after {align-self: flex-start;width: 50%;}#sk-container-id-2 div.sk-parallel-item:only-child::after {width: 0;}#sk-container-id-2 div.sk-dashed-wrapped {border: 1px dashed gray;margin: 0 0.4em 0.5em 0.4em;box-sizing: border-box;padding-bottom: 0.4em;background-color: white;}#sk-container-id-2 div.sk-label label {font-family: monospace;font-weight: bold;display: inline-block;line-height: 1.2em;}#sk-container-id-2 div.sk-label-container {text-align: center;}#sk-container-id-2 div.sk-container {/* jupyter's `normalize.less` sets `[hidden] { display: none; }` but bootstrap.min.css set `[hidden] { display: none !important; }` so we also need the `!important` here to be able to override the default hidden behavior on the sphinx rendered scikit-learn.org. See: https://github.com/scikit-learn/scikit-learn/issues/21755 */display: inline-block !important;position: relative;}#sk-container-id-2 div.sk-text-repr-fallback {display: none;}</style><div id=\"sk-container-id-2\" class=\"sk-top-container\"><div class=\"sk-text-repr-fallback\"><pre>RandomizedSearchCV(cv=StratifiedKFold(n_splits=5, random_state=22, shuffle=True),\n",
              "                   estimator=RandomForestClassifier(random_state=22),\n",
              "                   n_iter=100, n_jobs=-1,\n",
              "                   param_distributions={&#x27;criterion&#x27;: [&#x27;gini&#x27;, &#x27;entropy&#x27;],\n",
              "                                        &#x27;max_depth&#x27;: [2, 8, 10],\n",
              "                                        &#x27;max_features&#x27;: [&#x27;sqrt&#x27;, &#x27;log2&#x27;],\n",
              "                                        &#x27;min_samples_leaf&#x27;: [5, 10, 20],\n",
              "                                        &#x27;min_samples_split&#x27;: [2, 5, 10],\n",
              "                                        &#x27;n_estimators&#x27;: [200, 250, 300]},\n",
              "                   random_state=22, scoring=&#x27;recall&#x27;)</pre><b>In a Jupyter environment, please rerun this cell to show the HTML representation or trust the notebook. <br />On GitHub, the HTML representation is unable to render, please try loading this page with nbviewer.org.</b></div><div class=\"sk-container\" hidden><div class=\"sk-item sk-dashed-wrapped\"><div class=\"sk-label-container\"><div class=\"sk-label sk-toggleable\"><input class=\"sk-toggleable__control sk-hidden--visually\" id=\"sk-estimator-id-2\" type=\"checkbox\" ><label for=\"sk-estimator-id-2\" class=\"sk-toggleable__label sk-toggleable__label-arrow\">RandomizedSearchCV</label><div class=\"sk-toggleable__content\"><pre>RandomizedSearchCV(cv=StratifiedKFold(n_splits=5, random_state=22, shuffle=True),\n",
              "                   estimator=RandomForestClassifier(random_state=22),\n",
              "                   n_iter=100, n_jobs=-1,\n",
              "                   param_distributions={&#x27;criterion&#x27;: [&#x27;gini&#x27;, &#x27;entropy&#x27;],\n",
              "                                        &#x27;max_depth&#x27;: [2, 8, 10],\n",
              "                                        &#x27;max_features&#x27;: [&#x27;sqrt&#x27;, &#x27;log2&#x27;],\n",
              "                                        &#x27;min_samples_leaf&#x27;: [5, 10, 20],\n",
              "                                        &#x27;min_samples_split&#x27;: [2, 5, 10],\n",
              "                                        &#x27;n_estimators&#x27;: [200, 250, 300]},\n",
              "                   random_state=22, scoring=&#x27;recall&#x27;)</pre></div></div></div><div class=\"sk-parallel\"><div class=\"sk-parallel-item\"><div class=\"sk-item\"><div class=\"sk-label-container\"><div class=\"sk-label sk-toggleable\"><input class=\"sk-toggleable__control sk-hidden--visually\" id=\"sk-estimator-id-3\" type=\"checkbox\" ><label for=\"sk-estimator-id-3\" class=\"sk-toggleable__label sk-toggleable__label-arrow\">estimator: RandomForestClassifier</label><div class=\"sk-toggleable__content\"><pre>RandomForestClassifier(random_state=22)</pre></div></div></div><div class=\"sk-serial\"><div class=\"sk-item\"><div class=\"sk-estimator sk-toggleable\"><input class=\"sk-toggleable__control sk-hidden--visually\" id=\"sk-estimator-id-4\" type=\"checkbox\" ><label for=\"sk-estimator-id-4\" class=\"sk-toggleable__label sk-toggleable__label-arrow\">RandomForestClassifier</label><div class=\"sk-toggleable__content\"><pre>RandomForestClassifier(random_state=22)</pre></div></div></div></div></div></div></div></div></div></div>"
            ]
          },
          "metadata": {},
          "execution_count": 70
        }
      ]
    },
    {
      "cell_type": "code",
      "source": [
        "# Encontrando os melhores hiperparâmetros :\n",
        "\n",
        "random_forest_rs.best_params_\n"
      ],
      "metadata": {
        "colab": {
          "base_uri": "https://localhost:8080/"
        },
        "id": "iGJgrjXDD5sQ",
        "outputId": "bfafbb01-dcfe-47df-9ddd-53f36af9841c"
      },
      "execution_count": 71,
      "outputs": [
        {
          "output_type": "execute_result",
          "data": {
            "text/plain": [
              "{'n_estimators': 200,\n",
              " 'min_samples_split': 10,\n",
              " 'min_samples_leaf': 5,\n",
              " 'max_features': 'sqrt',\n",
              " 'max_depth': 10,\n",
              " 'criterion': 'gini'}"
            ]
          },
          "metadata": {},
          "execution_count": 71
        }
      ]
    },
    {
      "cell_type": "code",
      "source": [
        "# Criando o Random Forest otimizado com o random search :\n",
        "\n",
        "opt_random_forest_rs = RandomForestClassifier(criterion='gini', max_depth=10,\n",
        "                                         max_features='sqrt',\n",
        "                                         min_samples_leaf=5,\n",
        "                                         min_samples_split=10,\n",
        "                                         n_estimators=200,\n",
        "                                         random_state = SEED)"
      ],
      "metadata": {
        "id": "K8HslHqDJ4Hq"
      },
      "execution_count": 73,
      "outputs": []
    },
    {
      "cell_type": "markdown",
      "source": [
        "### KN-Neigbors"
      ],
      "metadata": {
        "id": "8oShIDQdfDkO"
      }
    },
    {
      "cell_type": "code",
      "source": [
        "# Implementando a busca aleatória\n",
        "knn_rs = RandomizedSearchCV(\n",
        "    estimator = pipe_knn,\n",
        "    param_distributions=param_grid_knn,\n",
        "    n_iter=100,\n",
        "    scoring='recall',\n",
        "    n_jobs=-1,\n",
        "    cv=cv,\n",
        "    random_state=SEED\n",
        ")"
      ],
      "metadata": {
        "id": "RPS93FMxKJw7"
      },
      "execution_count": 81,
      "outputs": []
    },
    {
      "cell_type": "code",
      "source": [
        "%%time\n",
        "\n",
        "knn_rs.fit(X_train, y_train)"
      ],
      "metadata": {
        "colab": {
          "base_uri": "https://localhost:8080/",
          "height": 241
        },
        "id": "WJYapnNXfeJT",
        "outputId": "c50f2355-11a2-420e-f6f3-344bf3775b06"
      },
      "execution_count": 82,
      "outputs": [
        {
          "output_type": "stream",
          "name": "stderr",
          "text": [
            "/usr/local/lib/python3.10/dist-packages/sklearn/model_selection/_search.py:305: UserWarning: The total space of parameters 40 is smaller than n_iter=100. Running 40 iterations. For exhaustive searches, use GridSearchCV.\n",
            "  warnings.warn(\n"
          ]
        },
        {
          "output_type": "stream",
          "name": "stdout",
          "text": [
            "CPU times: user 1.15 s, sys: 236 ms, total: 1.39 s\n",
            "Wall time: 1min 1s\n"
          ]
        },
        {
          "output_type": "execute_result",
          "data": {
            "text/plain": [
              "RandomizedSearchCV(cv=StratifiedKFold(n_splits=5, random_state=22, shuffle=True),\n",
              "                   estimator=Pipeline(steps=[('scaler', StandardScaler()),\n",
              "                                             ('knn', KNeighborsClassifier())]),\n",
              "                   n_iter=100, n_jobs=-1,\n",
              "                   param_distributions={'knn__metric': ['euclidean',\n",
              "                                                        'manhattan'],\n",
              "                                        'knn__n_neighbors': array([ 5,  7,  9, 11, 13, 16, 18, 20, 22, 25]),\n",
              "                                        'knn__weights': ['uniform',\n",
              "                                                         'distance']},\n",
              "                   random_state=22, scoring='recall')"
            ],
            "text/html": [
              "<style>#sk-container-id-3 {color: black;background-color: white;}#sk-container-id-3 pre{padding: 0;}#sk-container-id-3 div.sk-toggleable {background-color: white;}#sk-container-id-3 label.sk-toggleable__label {cursor: pointer;display: block;width: 100%;margin-bottom: 0;padding: 0.3em;box-sizing: border-box;text-align: center;}#sk-container-id-3 label.sk-toggleable__label-arrow:before {content: \"▸\";float: left;margin-right: 0.25em;color: #696969;}#sk-container-id-3 label.sk-toggleable__label-arrow:hover:before {color: black;}#sk-container-id-3 div.sk-estimator:hover label.sk-toggleable__label-arrow:before {color: black;}#sk-container-id-3 div.sk-toggleable__content {max-height: 0;max-width: 0;overflow: hidden;text-align: left;background-color: #f0f8ff;}#sk-container-id-3 div.sk-toggleable__content pre {margin: 0.2em;color: black;border-radius: 0.25em;background-color: #f0f8ff;}#sk-container-id-3 input.sk-toggleable__control:checked~div.sk-toggleable__content {max-height: 200px;max-width: 100%;overflow: auto;}#sk-container-id-3 input.sk-toggleable__control:checked~label.sk-toggleable__label-arrow:before {content: \"▾\";}#sk-container-id-3 div.sk-estimator input.sk-toggleable__control:checked~label.sk-toggleable__label {background-color: #d4ebff;}#sk-container-id-3 div.sk-label input.sk-toggleable__control:checked~label.sk-toggleable__label {background-color: #d4ebff;}#sk-container-id-3 input.sk-hidden--visually {border: 0;clip: rect(1px 1px 1px 1px);clip: rect(1px, 1px, 1px, 1px);height: 1px;margin: -1px;overflow: hidden;padding: 0;position: absolute;width: 1px;}#sk-container-id-3 div.sk-estimator {font-family: monospace;background-color: #f0f8ff;border: 1px dotted black;border-radius: 0.25em;box-sizing: border-box;margin-bottom: 0.5em;}#sk-container-id-3 div.sk-estimator:hover {background-color: #d4ebff;}#sk-container-id-3 div.sk-parallel-item::after {content: \"\";width: 100%;border-bottom: 1px solid gray;flex-grow: 1;}#sk-container-id-3 div.sk-label:hover label.sk-toggleable__label {background-color: #d4ebff;}#sk-container-id-3 div.sk-serial::before {content: \"\";position: absolute;border-left: 1px solid gray;box-sizing: border-box;top: 0;bottom: 0;left: 50%;z-index: 0;}#sk-container-id-3 div.sk-serial {display: flex;flex-direction: column;align-items: center;background-color: white;padding-right: 0.2em;padding-left: 0.2em;position: relative;}#sk-container-id-3 div.sk-item {position: relative;z-index: 1;}#sk-container-id-3 div.sk-parallel {display: flex;align-items: stretch;justify-content: center;background-color: white;position: relative;}#sk-container-id-3 div.sk-item::before, #sk-container-id-3 div.sk-parallel-item::before {content: \"\";position: absolute;border-left: 1px solid gray;box-sizing: border-box;top: 0;bottom: 0;left: 50%;z-index: -1;}#sk-container-id-3 div.sk-parallel-item {display: flex;flex-direction: column;z-index: 1;position: relative;background-color: white;}#sk-container-id-3 div.sk-parallel-item:first-child::after {align-self: flex-end;width: 50%;}#sk-container-id-3 div.sk-parallel-item:last-child::after {align-self: flex-start;width: 50%;}#sk-container-id-3 div.sk-parallel-item:only-child::after {width: 0;}#sk-container-id-3 div.sk-dashed-wrapped {border: 1px dashed gray;margin: 0 0.4em 0.5em 0.4em;box-sizing: border-box;padding-bottom: 0.4em;background-color: white;}#sk-container-id-3 div.sk-label label {font-family: monospace;font-weight: bold;display: inline-block;line-height: 1.2em;}#sk-container-id-3 div.sk-label-container {text-align: center;}#sk-container-id-3 div.sk-container {/* jupyter's `normalize.less` sets `[hidden] { display: none; }` but bootstrap.min.css set `[hidden] { display: none !important; }` so we also need the `!important` here to be able to override the default hidden behavior on the sphinx rendered scikit-learn.org. See: https://github.com/scikit-learn/scikit-learn/issues/21755 */display: inline-block !important;position: relative;}#sk-container-id-3 div.sk-text-repr-fallback {display: none;}</style><div id=\"sk-container-id-3\" class=\"sk-top-container\"><div class=\"sk-text-repr-fallback\"><pre>RandomizedSearchCV(cv=StratifiedKFold(n_splits=5, random_state=22, shuffle=True),\n",
              "                   estimator=Pipeline(steps=[(&#x27;scaler&#x27;, StandardScaler()),\n",
              "                                             (&#x27;knn&#x27;, KNeighborsClassifier())]),\n",
              "                   n_iter=100, n_jobs=-1,\n",
              "                   param_distributions={&#x27;knn__metric&#x27;: [&#x27;euclidean&#x27;,\n",
              "                                                        &#x27;manhattan&#x27;],\n",
              "                                        &#x27;knn__n_neighbors&#x27;: array([ 5,  7,  9, 11, 13, 16, 18, 20, 22, 25]),\n",
              "                                        &#x27;knn__weights&#x27;: [&#x27;uniform&#x27;,\n",
              "                                                         &#x27;distance&#x27;]},\n",
              "                   random_state=22, scoring=&#x27;recall&#x27;)</pre><b>In a Jupyter environment, please rerun this cell to show the HTML representation or trust the notebook. <br />On GitHub, the HTML representation is unable to render, please try loading this page with nbviewer.org.</b></div><div class=\"sk-container\" hidden><div class=\"sk-item sk-dashed-wrapped\"><div class=\"sk-label-container\"><div class=\"sk-label sk-toggleable\"><input class=\"sk-toggleable__control sk-hidden--visually\" id=\"sk-estimator-id-5\" type=\"checkbox\" ><label for=\"sk-estimator-id-5\" class=\"sk-toggleable__label sk-toggleable__label-arrow\">RandomizedSearchCV</label><div class=\"sk-toggleable__content\"><pre>RandomizedSearchCV(cv=StratifiedKFold(n_splits=5, random_state=22, shuffle=True),\n",
              "                   estimator=Pipeline(steps=[(&#x27;scaler&#x27;, StandardScaler()),\n",
              "                                             (&#x27;knn&#x27;, KNeighborsClassifier())]),\n",
              "                   n_iter=100, n_jobs=-1,\n",
              "                   param_distributions={&#x27;knn__metric&#x27;: [&#x27;euclidean&#x27;,\n",
              "                                                        &#x27;manhattan&#x27;],\n",
              "                                        &#x27;knn__n_neighbors&#x27;: array([ 5,  7,  9, 11, 13, 16, 18, 20, 22, 25]),\n",
              "                                        &#x27;knn__weights&#x27;: [&#x27;uniform&#x27;,\n",
              "                                                         &#x27;distance&#x27;]},\n",
              "                   random_state=22, scoring=&#x27;recall&#x27;)</pre></div></div></div><div class=\"sk-parallel\"><div class=\"sk-parallel-item\"><div class=\"sk-item\"><div class=\"sk-label-container\"><div class=\"sk-label sk-toggleable\"><input class=\"sk-toggleable__control sk-hidden--visually\" id=\"sk-estimator-id-6\" type=\"checkbox\" ><label for=\"sk-estimator-id-6\" class=\"sk-toggleable__label sk-toggleable__label-arrow\">estimator: Pipeline</label><div class=\"sk-toggleable__content\"><pre>Pipeline(steps=[(&#x27;scaler&#x27;, StandardScaler()), (&#x27;knn&#x27;, KNeighborsClassifier())])</pre></div></div></div><div class=\"sk-serial\"><div class=\"sk-item\"><div class=\"sk-serial\"><div class=\"sk-item\"><div class=\"sk-estimator sk-toggleable\"><input class=\"sk-toggleable__control sk-hidden--visually\" id=\"sk-estimator-id-7\" type=\"checkbox\" ><label for=\"sk-estimator-id-7\" class=\"sk-toggleable__label sk-toggleable__label-arrow\">StandardScaler</label><div class=\"sk-toggleable__content\"><pre>StandardScaler()</pre></div></div></div><div class=\"sk-item\"><div class=\"sk-estimator sk-toggleable\"><input class=\"sk-toggleable__control sk-hidden--visually\" id=\"sk-estimator-id-8\" type=\"checkbox\" ><label for=\"sk-estimator-id-8\" class=\"sk-toggleable__label sk-toggleable__label-arrow\">KNeighborsClassifier</label><div class=\"sk-toggleable__content\"><pre>KNeighborsClassifier()</pre></div></div></div></div></div></div></div></div></div></div></div></div>"
            ]
          },
          "metadata": {},
          "execution_count": 82
        }
      ]
    },
    {
      "cell_type": "code",
      "source": [
        "knn_rs.best_params_"
      ],
      "metadata": {
        "colab": {
          "base_uri": "https://localhost:8080/"
        },
        "id": "O5HK_NpsfmRz",
        "outputId": "dcebbd43-b26d-4879-8e49-cdc96c318be5"
      },
      "execution_count": 83,
      "outputs": [
        {
          "output_type": "execute_result",
          "data": {
            "text/plain": [
              "{'knn__weights': 'distance', 'knn__n_neighbors': 5, 'knn__metric': 'manhattan'}"
            ]
          },
          "metadata": {},
          "execution_count": 83
        }
      ]
    },
    {
      "cell_type": "code",
      "source": [
        "# Criando o KNN otimizado com o random search :\n",
        "\n",
        "opt_knn_rs = KNeighborsClassifier(metric='manhattan',\n",
        "                                  n_neighbors=5, weights='distance')"
      ],
      "metadata": {
        "id": "NWDFGcCUjMp2"
      },
      "execution_count": 84,
      "outputs": []
    },
    {
      "cell_type": "markdown",
      "source": [
        "### Otimizando o modelo de Regressão Logística"
      ],
      "metadata": {
        "id": "IBESaSbvjj4D"
      }
    },
    {
      "cell_type": "code",
      "source": [
        "pipe_lr = Pipeline([\n",
        "    ('scaler', StandardScaler()),\n",
        "    ('logisticregression', LogisticRegression(random_state = SEED))\n",
        "])\n",
        "\n",
        "# Implementando a busca aleatória\n",
        "log_reg_rs = RandomizedSearchCV(\n",
        "    estimator = pipe_lr,\n",
        "    param_distributions=param_grid_lr,\n",
        "    n_iter=100,\n",
        "    scoring='recall',\n",
        "    n_jobs=-1,\n",
        "    cv=cv,\n",
        "    random_state=SEED\n",
        ")"
      ],
      "metadata": {
        "id": "c_5flTHAjTTr"
      },
      "execution_count": 87,
      "outputs": []
    },
    {
      "cell_type": "code",
      "source": [
        "%%time\n",
        "\n",
        "log_reg_rs.fit(X_train, y_train)"
      ],
      "metadata": {
        "colab": {
          "base_uri": "https://localhost:8080/",
          "height": 1000
        },
        "id": "4ny03uYekOzl",
        "outputId": "d25363ff-7d31-4eef-8640-a6021164b1be"
      },
      "execution_count": 88,
      "outputs": [
        {
          "output_type": "stream",
          "name": "stdout",
          "text": [
            "CPU times: user 773 ms, sys: 124 ms, total: 897 ms\n",
            "Wall time: 11.4 s\n"
          ]
        },
        {
          "output_type": "stream",
          "name": "stderr",
          "text": [
            "/usr/local/lib/python3.10/dist-packages/sklearn/model_selection/_validation.py:378: FitFailedWarning: \n",
            "345 fits failed out of a total of 500.\n",
            "The score on these train-test partitions for these parameters will be set to nan.\n",
            "If these failures are not expected, you can try to debug them by setting error_score='raise'.\n",
            "\n",
            "Below are more details about the failures:\n",
            "--------------------------------------------------------------------------------\n",
            "85 fits failed with the following error:\n",
            "Traceback (most recent call last):\n",
            "  File \"/usr/local/lib/python3.10/dist-packages/sklearn/model_selection/_validation.py\", line 686, in _fit_and_score\n",
            "    estimator.fit(X_train, y_train, **fit_params)\n",
            "  File \"/usr/local/lib/python3.10/dist-packages/sklearn/pipeline.py\", line 405, in fit\n",
            "    self._final_estimator.fit(Xt, y, **fit_params_last_step)\n",
            "  File \"/usr/local/lib/python3.10/dist-packages/sklearn/linear_model/_logistic.py\", line 1162, in fit\n",
            "    solver = _check_solver(self.solver, self.penalty, self.dual)\n",
            "  File \"/usr/local/lib/python3.10/dist-packages/sklearn/linear_model/_logistic.py\", line 54, in _check_solver\n",
            "    raise ValueError(\n",
            "ValueError: Solver newton-cg supports only 'l2' or 'none' penalties, got elasticnet penalty.\n",
            "\n",
            "--------------------------------------------------------------------------------\n",
            "80 fits failed with the following error:\n",
            "Traceback (most recent call last):\n",
            "  File \"/usr/local/lib/python3.10/dist-packages/sklearn/model_selection/_validation.py\", line 686, in _fit_and_score\n",
            "    estimator.fit(X_train, y_train, **fit_params)\n",
            "  File \"/usr/local/lib/python3.10/dist-packages/sklearn/pipeline.py\", line 405, in fit\n",
            "    self._final_estimator.fit(Xt, y, **fit_params_last_step)\n",
            "  File \"/usr/local/lib/python3.10/dist-packages/sklearn/linear_model/_logistic.py\", line 1162, in fit\n",
            "    solver = _check_solver(self.solver, self.penalty, self.dual)\n",
            "  File \"/usr/local/lib/python3.10/dist-packages/sklearn/linear_model/_logistic.py\", line 54, in _check_solver\n",
            "    raise ValueError(\n",
            "ValueError: Solver lbfgs supports only 'l2' or 'none' penalties, got l1 penalty.\n",
            "\n",
            "--------------------------------------------------------------------------------\n",
            "90 fits failed with the following error:\n",
            "Traceback (most recent call last):\n",
            "  File \"/usr/local/lib/python3.10/dist-packages/sklearn/model_selection/_validation.py\", line 686, in _fit_and_score\n",
            "    estimator.fit(X_train, y_train, **fit_params)\n",
            "  File \"/usr/local/lib/python3.10/dist-packages/sklearn/pipeline.py\", line 405, in fit\n",
            "    self._final_estimator.fit(Xt, y, **fit_params_last_step)\n",
            "  File \"/usr/local/lib/python3.10/dist-packages/sklearn/linear_model/_logistic.py\", line 1162, in fit\n",
            "    solver = _check_solver(self.solver, self.penalty, self.dual)\n",
            "  File \"/usr/local/lib/python3.10/dist-packages/sklearn/linear_model/_logistic.py\", line 54, in _check_solver\n",
            "    raise ValueError(\n",
            "ValueError: Solver newton-cg supports only 'l2' or 'none' penalties, got l1 penalty.\n",
            "\n",
            "--------------------------------------------------------------------------------\n",
            "90 fits failed with the following error:\n",
            "Traceback (most recent call last):\n",
            "  File \"/usr/local/lib/python3.10/dist-packages/sklearn/model_selection/_validation.py\", line 686, in _fit_and_score\n",
            "    estimator.fit(X_train, y_train, **fit_params)\n",
            "  File \"/usr/local/lib/python3.10/dist-packages/sklearn/pipeline.py\", line 405, in fit\n",
            "    self._final_estimator.fit(Xt, y, **fit_params_last_step)\n",
            "  File \"/usr/local/lib/python3.10/dist-packages/sklearn/linear_model/_logistic.py\", line 1162, in fit\n",
            "    solver = _check_solver(self.solver, self.penalty, self.dual)\n",
            "  File \"/usr/local/lib/python3.10/dist-packages/sklearn/linear_model/_logistic.py\", line 54, in _check_solver\n",
            "    raise ValueError(\n",
            "ValueError: Solver lbfgs supports only 'l2' or 'none' penalties, got elasticnet penalty.\n",
            "\n",
            "  warnings.warn(some_fits_failed_message, FitFailedWarning)\n",
            "/usr/local/lib/python3.10/dist-packages/sklearn/model_selection/_search.py:952: UserWarning: One or more of the test scores are non-finite: [       nan        nan        nan 0.20986938 0.208418          nan\n",
            " 0.208418          nan        nan        nan        nan        nan\n",
            "        nan        nan        nan        nan 0.208418   0.20986938\n",
            "        nan        nan        nan 0.20986938        nan 0.20986938\n",
            "        nan 0.07314949 0.20986938 0.20986938        nan        nan\n",
            "        nan        nan        nan        nan        nan 0.07314949\n",
            " 0.19187228        nan        nan        nan 0.19187228 0.19187228\n",
            "        nan        nan        nan        nan        nan 0.20986938\n",
            "        nan        nan        nan        nan 0.07314949 0.07314949\n",
            "        nan        nan 0.19187228        nan        nan 0.20986938\n",
            " 0.19187228        nan        nan        nan        nan        nan\n",
            " 0.208418          nan 0.208418   0.19187228        nan        nan\n",
            "        nan        nan 0.208418   0.20986938        nan        nan\n",
            "        nan 0.20986938        nan 0.208418          nan 0.19187228\n",
            "        nan        nan        nan        nan        nan        nan\n",
            "        nan        nan 0.07314949        nan        nan        nan\n",
            " 0.07314949        nan 0.07314949        nan]\n",
            "  warnings.warn(\n"
          ]
        },
        {
          "output_type": "execute_result",
          "data": {
            "text/plain": [
              "RandomizedSearchCV(cv=StratifiedKFold(n_splits=5, random_state=22, shuffle=True),\n",
              "                   estimator=Pipeline(steps=[('scaler', StandardScaler()),\n",
              "                                             ('logisticregression',\n",
              "                                              LogisticRegression(random_state=22))]),\n",
              "                   n_iter=100, n_jobs=-1,\n",
              "                   param_distributions=[{'logisticregression__C': [0.001, 0.01,\n",
              "                                                                   0.1, 1, 10],\n",
              "                                         'logisticregression__max_iter': array([100, 150, 200, 250, 300]),\n",
              "                                         'logisticregression__penalty': ['l1',\n",
              "                                                                         'l2',\n",
              "                                                                         'elasticnet'],\n",
              "                                         'logisticregression__solver': ['newton-cg',\n",
              "                                                                        'lbfgs']}],\n",
              "                   random_state=22, scoring='recall')"
            ],
            "text/html": [
              "<style>#sk-container-id-4 {color: black;background-color: white;}#sk-container-id-4 pre{padding: 0;}#sk-container-id-4 div.sk-toggleable {background-color: white;}#sk-container-id-4 label.sk-toggleable__label {cursor: pointer;display: block;width: 100%;margin-bottom: 0;padding: 0.3em;box-sizing: border-box;text-align: center;}#sk-container-id-4 label.sk-toggleable__label-arrow:before {content: \"▸\";float: left;margin-right: 0.25em;color: #696969;}#sk-container-id-4 label.sk-toggleable__label-arrow:hover:before {color: black;}#sk-container-id-4 div.sk-estimator:hover label.sk-toggleable__label-arrow:before {color: black;}#sk-container-id-4 div.sk-toggleable__content {max-height: 0;max-width: 0;overflow: hidden;text-align: left;background-color: #f0f8ff;}#sk-container-id-4 div.sk-toggleable__content pre {margin: 0.2em;color: black;border-radius: 0.25em;background-color: #f0f8ff;}#sk-container-id-4 input.sk-toggleable__control:checked~div.sk-toggleable__content {max-height: 200px;max-width: 100%;overflow: auto;}#sk-container-id-4 input.sk-toggleable__control:checked~label.sk-toggleable__label-arrow:before {content: \"▾\";}#sk-container-id-4 div.sk-estimator input.sk-toggleable__control:checked~label.sk-toggleable__label {background-color: #d4ebff;}#sk-container-id-4 div.sk-label input.sk-toggleable__control:checked~label.sk-toggleable__label {background-color: #d4ebff;}#sk-container-id-4 input.sk-hidden--visually {border: 0;clip: rect(1px 1px 1px 1px);clip: rect(1px, 1px, 1px, 1px);height: 1px;margin: -1px;overflow: hidden;padding: 0;position: absolute;width: 1px;}#sk-container-id-4 div.sk-estimator {font-family: monospace;background-color: #f0f8ff;border: 1px dotted black;border-radius: 0.25em;box-sizing: border-box;margin-bottom: 0.5em;}#sk-container-id-4 div.sk-estimator:hover {background-color: #d4ebff;}#sk-container-id-4 div.sk-parallel-item::after {content: \"\";width: 100%;border-bottom: 1px solid gray;flex-grow: 1;}#sk-container-id-4 div.sk-label:hover label.sk-toggleable__label {background-color: #d4ebff;}#sk-container-id-4 div.sk-serial::before {content: \"\";position: absolute;border-left: 1px solid gray;box-sizing: border-box;top: 0;bottom: 0;left: 50%;z-index: 0;}#sk-container-id-4 div.sk-serial {display: flex;flex-direction: column;align-items: center;background-color: white;padding-right: 0.2em;padding-left: 0.2em;position: relative;}#sk-container-id-4 div.sk-item {position: relative;z-index: 1;}#sk-container-id-4 div.sk-parallel {display: flex;align-items: stretch;justify-content: center;background-color: white;position: relative;}#sk-container-id-4 div.sk-item::before, #sk-container-id-4 div.sk-parallel-item::before {content: \"\";position: absolute;border-left: 1px solid gray;box-sizing: border-box;top: 0;bottom: 0;left: 50%;z-index: -1;}#sk-container-id-4 div.sk-parallel-item {display: flex;flex-direction: column;z-index: 1;position: relative;background-color: white;}#sk-container-id-4 div.sk-parallel-item:first-child::after {align-self: flex-end;width: 50%;}#sk-container-id-4 div.sk-parallel-item:last-child::after {align-self: flex-start;width: 50%;}#sk-container-id-4 div.sk-parallel-item:only-child::after {width: 0;}#sk-container-id-4 div.sk-dashed-wrapped {border: 1px dashed gray;margin: 0 0.4em 0.5em 0.4em;box-sizing: border-box;padding-bottom: 0.4em;background-color: white;}#sk-container-id-4 div.sk-label label {font-family: monospace;font-weight: bold;display: inline-block;line-height: 1.2em;}#sk-container-id-4 div.sk-label-container {text-align: center;}#sk-container-id-4 div.sk-container {/* jupyter's `normalize.less` sets `[hidden] { display: none; }` but bootstrap.min.css set `[hidden] { display: none !important; }` so we also need the `!important` here to be able to override the default hidden behavior on the sphinx rendered scikit-learn.org. See: https://github.com/scikit-learn/scikit-learn/issues/21755 */display: inline-block !important;position: relative;}#sk-container-id-4 div.sk-text-repr-fallback {display: none;}</style><div id=\"sk-container-id-4\" class=\"sk-top-container\"><div class=\"sk-text-repr-fallback\"><pre>RandomizedSearchCV(cv=StratifiedKFold(n_splits=5, random_state=22, shuffle=True),\n",
              "                   estimator=Pipeline(steps=[(&#x27;scaler&#x27;, StandardScaler()),\n",
              "                                             (&#x27;logisticregression&#x27;,\n",
              "                                              LogisticRegression(random_state=22))]),\n",
              "                   n_iter=100, n_jobs=-1,\n",
              "                   param_distributions=[{&#x27;logisticregression__C&#x27;: [0.001, 0.01,\n",
              "                                                                   0.1, 1, 10],\n",
              "                                         &#x27;logisticregression__max_iter&#x27;: array([100, 150, 200, 250, 300]),\n",
              "                                         &#x27;logisticregression__penalty&#x27;: [&#x27;l1&#x27;,\n",
              "                                                                         &#x27;l2&#x27;,\n",
              "                                                                         &#x27;elasticnet&#x27;],\n",
              "                                         &#x27;logisticregression__solver&#x27;: [&#x27;newton-cg&#x27;,\n",
              "                                                                        &#x27;lbfgs&#x27;]}],\n",
              "                   random_state=22, scoring=&#x27;recall&#x27;)</pre><b>In a Jupyter environment, please rerun this cell to show the HTML representation or trust the notebook. <br />On GitHub, the HTML representation is unable to render, please try loading this page with nbviewer.org.</b></div><div class=\"sk-container\" hidden><div class=\"sk-item sk-dashed-wrapped\"><div class=\"sk-label-container\"><div class=\"sk-label sk-toggleable\"><input class=\"sk-toggleable__control sk-hidden--visually\" id=\"sk-estimator-id-9\" type=\"checkbox\" ><label for=\"sk-estimator-id-9\" class=\"sk-toggleable__label sk-toggleable__label-arrow\">RandomizedSearchCV</label><div class=\"sk-toggleable__content\"><pre>RandomizedSearchCV(cv=StratifiedKFold(n_splits=5, random_state=22, shuffle=True),\n",
              "                   estimator=Pipeline(steps=[(&#x27;scaler&#x27;, StandardScaler()),\n",
              "                                             (&#x27;logisticregression&#x27;,\n",
              "                                              LogisticRegression(random_state=22))]),\n",
              "                   n_iter=100, n_jobs=-1,\n",
              "                   param_distributions=[{&#x27;logisticregression__C&#x27;: [0.001, 0.01,\n",
              "                                                                   0.1, 1, 10],\n",
              "                                         &#x27;logisticregression__max_iter&#x27;: array([100, 150, 200, 250, 300]),\n",
              "                                         &#x27;logisticregression__penalty&#x27;: [&#x27;l1&#x27;,\n",
              "                                                                         &#x27;l2&#x27;,\n",
              "                                                                         &#x27;elasticnet&#x27;],\n",
              "                                         &#x27;logisticregression__solver&#x27;: [&#x27;newton-cg&#x27;,\n",
              "                                                                        &#x27;lbfgs&#x27;]}],\n",
              "                   random_state=22, scoring=&#x27;recall&#x27;)</pre></div></div></div><div class=\"sk-parallel\"><div class=\"sk-parallel-item\"><div class=\"sk-item\"><div class=\"sk-label-container\"><div class=\"sk-label sk-toggleable\"><input class=\"sk-toggleable__control sk-hidden--visually\" id=\"sk-estimator-id-10\" type=\"checkbox\" ><label for=\"sk-estimator-id-10\" class=\"sk-toggleable__label sk-toggleable__label-arrow\">estimator: Pipeline</label><div class=\"sk-toggleable__content\"><pre>Pipeline(steps=[(&#x27;scaler&#x27;, StandardScaler()),\n",
              "                (&#x27;logisticregression&#x27;, LogisticRegression(random_state=22))])</pre></div></div></div><div class=\"sk-serial\"><div class=\"sk-item\"><div class=\"sk-serial\"><div class=\"sk-item\"><div class=\"sk-estimator sk-toggleable\"><input class=\"sk-toggleable__control sk-hidden--visually\" id=\"sk-estimator-id-11\" type=\"checkbox\" ><label for=\"sk-estimator-id-11\" class=\"sk-toggleable__label sk-toggleable__label-arrow\">StandardScaler</label><div class=\"sk-toggleable__content\"><pre>StandardScaler()</pre></div></div></div><div class=\"sk-item\"><div class=\"sk-estimator sk-toggleable\"><input class=\"sk-toggleable__control sk-hidden--visually\" id=\"sk-estimator-id-12\" type=\"checkbox\" ><label for=\"sk-estimator-id-12\" class=\"sk-toggleable__label sk-toggleable__label-arrow\">LogisticRegression</label><div class=\"sk-toggleable__content\"><pre>LogisticRegression(random_state=22)</pre></div></div></div></div></div></div></div></div></div></div></div></div>"
            ]
          },
          "metadata": {},
          "execution_count": 88
        }
      ]
    },
    {
      "cell_type": "code",
      "source": [
        "log_reg_rs.best_params_"
      ],
      "metadata": {
        "colab": {
          "base_uri": "https://localhost:8080/"
        },
        "id": "eRguwDIOkanL",
        "outputId": "c49be6d4-514d-4ffc-f27d-14edcc99973b"
      },
      "execution_count": 89,
      "outputs": [
        {
          "output_type": "execute_result",
          "data": {
            "text/plain": [
              "{'logisticregression__solver': 'newton-cg',\n",
              " 'logisticregression__penalty': 'l2',\n",
              " 'logisticregression__max_iter': 300,\n",
              " 'logisticregression__C': 10}"
            ]
          },
          "metadata": {},
          "execution_count": 89
        }
      ]
    },
    {
      "cell_type": "code",
      "source": [
        "# Criando o modelo de regressão logística otimizado com o random search:\n",
        "\n",
        "opt_log_reg_rs = LogisticRegression(solver= 'newton-cg', penalty='l2', max_iter=300, C=10,\n",
        "                                 random_state=SEED)"
      ],
      "metadata": {
        "id": "99-WE2tQldn0"
      },
      "execution_count": 91,
      "outputs": []
    },
    {
      "cell_type": "code",
      "source": [
        "# Criando a lista dos modelos otimizados com Random Search :\n",
        "\n",
        "modelos_otimizados_RS = [\n",
        "    ( 'Random Forest', opt_random_forest_rs),\n",
        "    ( 'KN-Neighbors', opt_knn_rs),\n",
        "    ( 'Regressão Logística', opt_log_reg_rs)\n",
        "]\n",
        "\n",
        "for nome_modelo, modelo in modelos_otimizados_RS:\n",
        "  avalia_modelos(nome_modelo, modelo)"
      ],
      "metadata": {
        "colab": {
          "base_uri": "https://localhost:8080/"
        },
        "id": "fp1KB7dal4a_",
        "outputId": "6dcb45be-4c76-4fbc-f561-30f5e5fa0421"
      },
      "execution_count": 92,
      "outputs": [
        {
          "output_type": "stream",
          "name": "stdout",
          "text": [
            "\n",
            " Random Forest \n",
            "\n",
            "Acurácia: 0.703\n",
            "Recall: 0.202\n",
            "Precisão: 0.601\n",
            "F1-Score: 0.302\n",
            "\n",
            " KN-Neighbors \n",
            "\n",
            "Acurácia: 0.595\n",
            "Recall: 0.263\n",
            "Precisão: 0.331\n",
            "F1-Score: 0.293\n"
          ]
        },
        {
          "output_type": "stream",
          "name": "stderr",
          "text": [
            "/usr/local/lib/python3.10/dist-packages/scipy/optimize/_linesearch.py:466: LineSearchWarning: The line search algorithm did not converge\n",
            "  warn('The line search algorithm did not converge', LineSearchWarning)\n",
            "/usr/local/lib/python3.10/dist-packages/scipy/optimize/_linesearch.py:314: LineSearchWarning: The line search algorithm did not converge\n",
            "  warn('The line search algorithm did not converge', LineSearchWarning)\n"
          ]
        },
        {
          "output_type": "stream",
          "name": "stdout",
          "text": [
            "\n",
            " Regressão Logística \n",
            "\n",
            "Acurácia: 0.703\n",
            "Recall: 0.227\n",
            "Precisão: 0.592\n",
            "F1-Score: 0.328\n"
          ]
        },
        {
          "output_type": "stream",
          "name": "stderr",
          "text": [
            "/usr/local/lib/python3.10/dist-packages/scipy/optimize/_linesearch.py:425: LineSearchWarning: Rounding errors prevent the line search from converging\n",
            "  warn(msg, LineSearchWarning)\n",
            "/usr/local/lib/python3.10/dist-packages/sklearn/utils/optimize.py:203: UserWarning: Line Search failed\n",
            "  warnings.warn(\"Line Search failed\")\n"
          ]
        }
      ]
    },
    {
      "cell_type": "markdown",
      "source": [
        "Analisando os novos valores para as métricas dos modelos de machine learning, nota-se que as métricas encontradas pelos modelos otimizados com o random search são similares à otimização feita pelo grid search, sendo isso o esperado, tendo em vista que são esses hiperparâmetros que conseguem prover um ponto de ótimo ao modelo, o qual na validação cruzada feita pelo grid já havia sido verificado.\n",
        "\n",
        "A grande diferença do random search como esperado é que ele reduz substancialmente o intervalo de tempo para a busca dos melhores hiperparâmetros durante o processo de otimização feita pelos algoritmos."
      ],
      "metadata": {
        "id": "VFCViJ6fm8ip"
      }
    },
    {
      "cell_type": "markdown",
      "source": [
        "## Otimização Bayesiana"
      ],
      "metadata": {
        "id": "0xgZt_v6ohJ_"
      }
    },
    {
      "cell_type": "markdown",
      "source": [
        "### Otimizando o Random Forest"
      ],
      "metadata": {
        "id": "ILenu92qLmGF"
      }
    },
    {
      "cell_type": "code",
      "source": [
        "space_rf = {\n",
        "    'criterion': Categorical(['gini', 'entropy']),\n",
        "    'max_depth': Integer(2, 10),\n",
        "    'min_samples_split': Integer(2, 20),\n",
        "    'min_samples_leaf': Integer(2, 20),\n",
        "    'max_features' : Categorical( ['sqrt', 'log2']),\n",
        "    'n_estimators': Integer(150, 300)\n",
        "}\n"
      ],
      "metadata": {
        "id": "wGTVWY45EwGa"
      },
      "execution_count": 45,
      "outputs": []
    },
    {
      "cell_type": "code",
      "source": [
        "rf_opt_bayesian = BayesSearchCV(\n",
        "    estimator = RandomForestClassifier(random_state = SEED),\n",
        "    search_spaces = space_rf,\n",
        "    n_iter = 50,\n",
        "    scoring = 'recall',\n",
        "    n_jobs = -1,\n",
        "    cv = inner_cv)"
      ],
      "metadata": {
        "id": "0Pe_EMBuGOJK"
      },
      "execution_count": 29,
      "outputs": []
    },
    {
      "cell_type": "code",
      "source": [
        "%%time\n",
        "\n",
        "rf_opt_bayesian.fit(X_train, y_train)"
      ],
      "metadata": {
        "colab": {
          "base_uri": "https://localhost:8080/",
          "height": 151
        },
        "id": "6vLK-9tBHUvF",
        "outputId": "e8233423-5c13-4d4b-cbac-c2ba47a33d36"
      },
      "execution_count": 30,
      "outputs": [
        {
          "output_type": "stream",
          "name": "stdout",
          "text": [
            "CPU times: user 1min 9s, sys: 47.8 s, total: 1min 57s\n",
            "Wall time: 9min 16s\n"
          ]
        },
        {
          "output_type": "execute_result",
          "data": {
            "text/plain": [
              "BayesSearchCV(cv=StratifiedKFold(n_splits=5, random_state=22, shuffle=True),\n",
              "              estimator=RandomForestClassifier(random_state=22), n_jobs=-1,\n",
              "              scoring='recall',\n",
              "              search_spaces={'criterion': Categorical(categories=('gini', 'entropy'), prior=None),\n",
              "                             'max_depth': Integer(low=2, high=10, prior='uniform', transform='normalize'),\n",
              "                             'max_features': Categorical(categories=('sqrt', 'log2'), prior=None),\n",
              "                             'min_samples_leaf': Integer(low=2, high=20, prior='uniform', transform='normalize'),\n",
              "                             'min_samples_split': Integer(low=2, high=20, prior='uniform', transform='normalize'),\n",
              "                             'n_estimators': Integer(low=150, high=300, prior='uniform', transform='normalize')})"
            ],
            "text/html": [
              "<style>#sk-container-id-2 {color: black;background-color: white;}#sk-container-id-2 pre{padding: 0;}#sk-container-id-2 div.sk-toggleable {background-color: white;}#sk-container-id-2 label.sk-toggleable__label {cursor: pointer;display: block;width: 100%;margin-bottom: 0;padding: 0.3em;box-sizing: border-box;text-align: center;}#sk-container-id-2 label.sk-toggleable__label-arrow:before {content: \"▸\";float: left;margin-right: 0.25em;color: #696969;}#sk-container-id-2 label.sk-toggleable__label-arrow:hover:before {color: black;}#sk-container-id-2 div.sk-estimator:hover label.sk-toggleable__label-arrow:before {color: black;}#sk-container-id-2 div.sk-toggleable__content {max-height: 0;max-width: 0;overflow: hidden;text-align: left;background-color: #f0f8ff;}#sk-container-id-2 div.sk-toggleable__content pre {margin: 0.2em;color: black;border-radius: 0.25em;background-color: #f0f8ff;}#sk-container-id-2 input.sk-toggleable__control:checked~div.sk-toggleable__content {max-height: 200px;max-width: 100%;overflow: auto;}#sk-container-id-2 input.sk-toggleable__control:checked~label.sk-toggleable__label-arrow:before {content: \"▾\";}#sk-container-id-2 div.sk-estimator input.sk-toggleable__control:checked~label.sk-toggleable__label {background-color: #d4ebff;}#sk-container-id-2 div.sk-label input.sk-toggleable__control:checked~label.sk-toggleable__label {background-color: #d4ebff;}#sk-container-id-2 input.sk-hidden--visually {border: 0;clip: rect(1px 1px 1px 1px);clip: rect(1px, 1px, 1px, 1px);height: 1px;margin: -1px;overflow: hidden;padding: 0;position: absolute;width: 1px;}#sk-container-id-2 div.sk-estimator {font-family: monospace;background-color: #f0f8ff;border: 1px dotted black;border-radius: 0.25em;box-sizing: border-box;margin-bottom: 0.5em;}#sk-container-id-2 div.sk-estimator:hover {background-color: #d4ebff;}#sk-container-id-2 div.sk-parallel-item::after {content: \"\";width: 100%;border-bottom: 1px solid gray;flex-grow: 1;}#sk-container-id-2 div.sk-label:hover label.sk-toggleable__label {background-color: #d4ebff;}#sk-container-id-2 div.sk-serial::before {content: \"\";position: absolute;border-left: 1px solid gray;box-sizing: border-box;top: 0;bottom: 0;left: 50%;z-index: 0;}#sk-container-id-2 div.sk-serial {display: flex;flex-direction: column;align-items: center;background-color: white;padding-right: 0.2em;padding-left: 0.2em;position: relative;}#sk-container-id-2 div.sk-item {position: relative;z-index: 1;}#sk-container-id-2 div.sk-parallel {display: flex;align-items: stretch;justify-content: center;background-color: white;position: relative;}#sk-container-id-2 div.sk-item::before, #sk-container-id-2 div.sk-parallel-item::before {content: \"\";position: absolute;border-left: 1px solid gray;box-sizing: border-box;top: 0;bottom: 0;left: 50%;z-index: -1;}#sk-container-id-2 div.sk-parallel-item {display: flex;flex-direction: column;z-index: 1;position: relative;background-color: white;}#sk-container-id-2 div.sk-parallel-item:first-child::after {align-self: flex-end;width: 50%;}#sk-container-id-2 div.sk-parallel-item:last-child::after {align-self: flex-start;width: 50%;}#sk-container-id-2 div.sk-parallel-item:only-child::after {width: 0;}#sk-container-id-2 div.sk-dashed-wrapped {border: 1px dashed gray;margin: 0 0.4em 0.5em 0.4em;box-sizing: border-box;padding-bottom: 0.4em;background-color: white;}#sk-container-id-2 div.sk-label label {font-family: monospace;font-weight: bold;display: inline-block;line-height: 1.2em;}#sk-container-id-2 div.sk-label-container {text-align: center;}#sk-container-id-2 div.sk-container {/* jupyter's `normalize.less` sets `[hidden] { display: none; }` but bootstrap.min.css set `[hidden] { display: none !important; }` so we also need the `!important` here to be able to override the default hidden behavior on the sphinx rendered scikit-learn.org. See: https://github.com/scikit-learn/scikit-learn/issues/21755 */display: inline-block !important;position: relative;}#sk-container-id-2 div.sk-text-repr-fallback {display: none;}</style><div id=\"sk-container-id-2\" class=\"sk-top-container\"><div class=\"sk-text-repr-fallback\"><pre>BayesSearchCV(cv=StratifiedKFold(n_splits=5, random_state=22, shuffle=True),\n",
              "              estimator=RandomForestClassifier(random_state=22), n_jobs=-1,\n",
              "              scoring=&#x27;recall&#x27;,\n",
              "              search_spaces={&#x27;criterion&#x27;: Categorical(categories=(&#x27;gini&#x27;, &#x27;entropy&#x27;), prior=None),\n",
              "                             &#x27;max_depth&#x27;: Integer(low=2, high=10, prior=&#x27;uniform&#x27;, transform=&#x27;normalize&#x27;),\n",
              "                             &#x27;max_features&#x27;: Categorical(categories=(&#x27;sqrt&#x27;, &#x27;log2&#x27;), prior=None),\n",
              "                             &#x27;min_samples_leaf&#x27;: Integer(low=2, high=20, prior=&#x27;uniform&#x27;, transform=&#x27;normalize&#x27;),\n",
              "                             &#x27;min_samples_split&#x27;: Integer(low=2, high=20, prior=&#x27;uniform&#x27;, transform=&#x27;normalize&#x27;),\n",
              "                             &#x27;n_estimators&#x27;: Integer(low=150, high=300, prior=&#x27;uniform&#x27;, transform=&#x27;normalize&#x27;)})</pre><b>In a Jupyter environment, please rerun this cell to show the HTML representation or trust the notebook. <br />On GitHub, the HTML representation is unable to render, please try loading this page with nbviewer.org.</b></div><div class=\"sk-container\" hidden><div class=\"sk-item sk-dashed-wrapped\"><div class=\"sk-label-container\"><div class=\"sk-label sk-toggleable\"><input class=\"sk-toggleable__control sk-hidden--visually\" id=\"sk-estimator-id-2\" type=\"checkbox\" ><label for=\"sk-estimator-id-2\" class=\"sk-toggleable__label sk-toggleable__label-arrow\">BayesSearchCV</label><div class=\"sk-toggleable__content\"><pre>BayesSearchCV(cv=StratifiedKFold(n_splits=5, random_state=22, shuffle=True),\n",
              "              estimator=RandomForestClassifier(random_state=22), n_jobs=-1,\n",
              "              scoring=&#x27;recall&#x27;,\n",
              "              search_spaces={&#x27;criterion&#x27;: Categorical(categories=(&#x27;gini&#x27;, &#x27;entropy&#x27;), prior=None),\n",
              "                             &#x27;max_depth&#x27;: Integer(low=2, high=10, prior=&#x27;uniform&#x27;, transform=&#x27;normalize&#x27;),\n",
              "                             &#x27;max_features&#x27;: Categorical(categories=(&#x27;sqrt&#x27;, &#x27;log2&#x27;), prior=None),\n",
              "                             &#x27;min_samples_leaf&#x27;: Integer(low=2, high=20, prior=&#x27;uniform&#x27;, transform=&#x27;normalize&#x27;),\n",
              "                             &#x27;min_samples_split&#x27;: Integer(low=2, high=20, prior=&#x27;uniform&#x27;, transform=&#x27;normalize&#x27;),\n",
              "                             &#x27;n_estimators&#x27;: Integer(low=150, high=300, prior=&#x27;uniform&#x27;, transform=&#x27;normalize&#x27;)})</pre></div></div></div><div class=\"sk-parallel\"><div class=\"sk-parallel-item\"><div class=\"sk-item\"><div class=\"sk-label-container\"><div class=\"sk-label sk-toggleable\"><input class=\"sk-toggleable__control sk-hidden--visually\" id=\"sk-estimator-id-3\" type=\"checkbox\" ><label for=\"sk-estimator-id-3\" class=\"sk-toggleable__label sk-toggleable__label-arrow\">estimator: RandomForestClassifier</label><div class=\"sk-toggleable__content\"><pre>RandomForestClassifier(random_state=22)</pre></div></div></div><div class=\"sk-serial\"><div class=\"sk-item\"><div class=\"sk-estimator sk-toggleable\"><input class=\"sk-toggleable__control sk-hidden--visually\" id=\"sk-estimator-id-4\" type=\"checkbox\" ><label for=\"sk-estimator-id-4\" class=\"sk-toggleable__label sk-toggleable__label-arrow\">RandomForestClassifier</label><div class=\"sk-toggleable__content\"><pre>RandomForestClassifier(random_state=22)</pre></div></div></div></div></div></div></div></div></div></div>"
            ]
          },
          "metadata": {},
          "execution_count": 30
        }
      ]
    },
    {
      "cell_type": "code",
      "source": [
        "rf_opt_bayesian.best_params_"
      ],
      "metadata": {
        "colab": {
          "base_uri": "https://localhost:8080/"
        },
        "id": "pM4Jsw8GHYY6",
        "outputId": "fea2d3f3-862a-4752-c133-0f1e07787afb"
      },
      "execution_count": 31,
      "outputs": [
        {
          "output_type": "execute_result",
          "data": {
            "text/plain": [
              "OrderedDict([('criterion', 'gini'),\n",
              "             ('max_depth', 10),\n",
              "             ('max_features', 'sqrt'),\n",
              "             ('min_samples_leaf', 7),\n",
              "             ('min_samples_split', 20),\n",
              "             ('n_estimators', 184)])"
            ]
          },
          "metadata": {},
          "execution_count": 31
        }
      ]
    },
    {
      "cell_type": "code",
      "source": [
        "# Implementando o modelo otimizado :\n",
        "\n",
        "opt_rf_bayesian = RandomForestClassifier(criterion='gini', max_depth=10,\n",
        "                                         max_features='sqrt',\n",
        "                                         min_samples_leaf=7,\n",
        "                                         min_samples_split=20,\n",
        "                                         n_estimators=184,\n",
        "                                         random_state = SEED)"
      ],
      "metadata": {
        "id": "2JCEPQptQddl"
      },
      "execution_count": 54,
      "outputs": []
    },
    {
      "cell_type": "markdown",
      "source": [
        "### Otimizando o KN-Neighbors"
      ],
      "metadata": {
        "id": "2PCRPhjxLeLj"
      }
    },
    {
      "cell_type": "code",
      "source": [
        "space_knn = {\n",
        "    'n_neighbors': Integer(5, 25),\n",
        "    'weights': Categorical(['uniform', 'distance']),\n",
        "    'metric': Categorical(['euclidean', 'manhattan'])\n",
        "}"
      ],
      "metadata": {
        "id": "0vT8XlMgLTsE"
      },
      "execution_count": 32,
      "outputs": []
    },
    {
      "cell_type": "code",
      "source": [
        "knn_opt_bayesian = BayesSearchCV(\n",
        "    estimator = KNeighborsClassifier(),\n",
        "    search_spaces = space_knn,\n",
        "    n_iter = 50,\n",
        "    scoring = 'recall',\n",
        "    n_jobs = -1,\n",
        "    cv = inner_cv)"
      ],
      "metadata": {
        "id": "ZIEHD1IwMuqC"
      },
      "execution_count": 33,
      "outputs": []
    },
    {
      "cell_type": "code",
      "source": [
        "%%time\n",
        "\n",
        "knn_opt_bayesian.fit(X_train, y_train)"
      ],
      "metadata": {
        "colab": {
          "base_uri": "https://localhost:8080/",
          "height": 588
        },
        "id": "QwsL5KxaM2ax",
        "outputId": "9e6f899b-d52f-448a-b698-c08dc351f580"
      },
      "execution_count": 35,
      "outputs": [
        {
          "output_type": "stream",
          "name": "stderr",
          "text": [
            "/usr/local/lib/python3.10/dist-packages/skopt/optimizer/optimizer.py:517: UserWarning: The objective has been evaluated at point ['manhattan', 5, 'distance'] before, using random point ['euclidean', 25, 'uniform']\n",
            "  warnings.warn(\n",
            "/usr/local/lib/python3.10/dist-packages/skopt/optimizer/optimizer.py:517: UserWarning: The objective has been evaluated at point ['manhattan', 5, 'distance'] before, using random point ['manhattan', 22, 'distance']\n",
            "  warnings.warn(\n",
            "/usr/local/lib/python3.10/dist-packages/skopt/optimizer/optimizer.py:517: UserWarning: The objective has been evaluated at point ['manhattan', 5, 'distance'] before, using random point ['manhattan', 10, 'uniform']\n",
            "  warnings.warn(\n",
            "/usr/local/lib/python3.10/dist-packages/skopt/optimizer/optimizer.py:517: UserWarning: The objective has been evaluated at point ['manhattan', 5, 'distance'] before, using random point ['manhattan', 11, 'uniform']\n",
            "  warnings.warn(\n",
            "/usr/local/lib/python3.10/dist-packages/skopt/optimizer/optimizer.py:517: UserWarning: The objective has been evaluated at point ['manhattan', 5, 'distance'] before, using random point ['manhattan', 8, 'distance']\n",
            "  warnings.warn(\n",
            "/usr/local/lib/python3.10/dist-packages/skopt/optimizer/optimizer.py:517: UserWarning: The objective has been evaluated at point ['manhattan', 5, 'distance'] before, using random point ['manhattan', 18, 'uniform']\n",
            "  warnings.warn(\n",
            "/usr/local/lib/python3.10/dist-packages/skopt/optimizer/optimizer.py:517: UserWarning: The objective has been evaluated at point ['manhattan', 5, 'distance'] before, using random point ['euclidean', 11, 'distance']\n",
            "  warnings.warn(\n",
            "/usr/local/lib/python3.10/dist-packages/skopt/optimizer/optimizer.py:517: UserWarning: The objective has been evaluated at point ['manhattan', 5, 'distance'] before, using random point ['manhattan', 17, 'distance']\n",
            "  warnings.warn(\n",
            "/usr/local/lib/python3.10/dist-packages/skopt/optimizer/optimizer.py:517: UserWarning: The objective has been evaluated at point ['manhattan', 5, 'distance'] before, using random point ['manhattan', 19, 'distance']\n",
            "  warnings.warn(\n",
            "/usr/local/lib/python3.10/dist-packages/skopt/optimizer/optimizer.py:517: UserWarning: The objective has been evaluated at point ['manhattan', 5, 'distance'] before, using random point ['manhattan', 24, 'uniform']\n",
            "  warnings.warn(\n",
            "/usr/local/lib/python3.10/dist-packages/skopt/optimizer/optimizer.py:517: UserWarning: The objective has been evaluated at point ['manhattan', 5, 'distance'] before, using random point ['euclidean', 21, 'distance']\n",
            "  warnings.warn(\n",
            "/usr/local/lib/python3.10/dist-packages/skopt/optimizer/optimizer.py:517: UserWarning: The objective has been evaluated at point ['manhattan', 5, 'distance'] before, using random point ['euclidean', 12, 'uniform']\n",
            "  warnings.warn(\n"
          ]
        },
        {
          "output_type": "stream",
          "name": "stdout",
          "text": [
            "CPU times: user 1min 4s, sys: 42.9 s, total: 1min 47s\n",
            "Wall time: 2min 8s\n"
          ]
        },
        {
          "output_type": "execute_result",
          "data": {
            "text/plain": [
              "BayesSearchCV(cv=StratifiedKFold(n_splits=5, random_state=22, shuffle=True),\n",
              "              estimator=KNeighborsClassifier(), n_jobs=-1, scoring='recall',\n",
              "              search_spaces={'metric': Categorical(categories=('euclidean', 'manhattan'), prior=None),\n",
              "                             'n_neighbors': Integer(low=5, high=25, prior='uniform', transform='normalize'),\n",
              "                             'weights': Categorical(categories=('uniform', 'distance'), prior=None)})"
            ],
            "text/html": [
              "<style>#sk-container-id-3 {color: black;background-color: white;}#sk-container-id-3 pre{padding: 0;}#sk-container-id-3 div.sk-toggleable {background-color: white;}#sk-container-id-3 label.sk-toggleable__label {cursor: pointer;display: block;width: 100%;margin-bottom: 0;padding: 0.3em;box-sizing: border-box;text-align: center;}#sk-container-id-3 label.sk-toggleable__label-arrow:before {content: \"▸\";float: left;margin-right: 0.25em;color: #696969;}#sk-container-id-3 label.sk-toggleable__label-arrow:hover:before {color: black;}#sk-container-id-3 div.sk-estimator:hover label.sk-toggleable__label-arrow:before {color: black;}#sk-container-id-3 div.sk-toggleable__content {max-height: 0;max-width: 0;overflow: hidden;text-align: left;background-color: #f0f8ff;}#sk-container-id-3 div.sk-toggleable__content pre {margin: 0.2em;color: black;border-radius: 0.25em;background-color: #f0f8ff;}#sk-container-id-3 input.sk-toggleable__control:checked~div.sk-toggleable__content {max-height: 200px;max-width: 100%;overflow: auto;}#sk-container-id-3 input.sk-toggleable__control:checked~label.sk-toggleable__label-arrow:before {content: \"▾\";}#sk-container-id-3 div.sk-estimator input.sk-toggleable__control:checked~label.sk-toggleable__label {background-color: #d4ebff;}#sk-container-id-3 div.sk-label input.sk-toggleable__control:checked~label.sk-toggleable__label {background-color: #d4ebff;}#sk-container-id-3 input.sk-hidden--visually {border: 0;clip: rect(1px 1px 1px 1px);clip: rect(1px, 1px, 1px, 1px);height: 1px;margin: -1px;overflow: hidden;padding: 0;position: absolute;width: 1px;}#sk-container-id-3 div.sk-estimator {font-family: monospace;background-color: #f0f8ff;border: 1px dotted black;border-radius: 0.25em;box-sizing: border-box;margin-bottom: 0.5em;}#sk-container-id-3 div.sk-estimator:hover {background-color: #d4ebff;}#sk-container-id-3 div.sk-parallel-item::after {content: \"\";width: 100%;border-bottom: 1px solid gray;flex-grow: 1;}#sk-container-id-3 div.sk-label:hover label.sk-toggleable__label {background-color: #d4ebff;}#sk-container-id-3 div.sk-serial::before {content: \"\";position: absolute;border-left: 1px solid gray;box-sizing: border-box;top: 0;bottom: 0;left: 50%;z-index: 0;}#sk-container-id-3 div.sk-serial {display: flex;flex-direction: column;align-items: center;background-color: white;padding-right: 0.2em;padding-left: 0.2em;position: relative;}#sk-container-id-3 div.sk-item {position: relative;z-index: 1;}#sk-container-id-3 div.sk-parallel {display: flex;align-items: stretch;justify-content: center;background-color: white;position: relative;}#sk-container-id-3 div.sk-item::before, #sk-container-id-3 div.sk-parallel-item::before {content: \"\";position: absolute;border-left: 1px solid gray;box-sizing: border-box;top: 0;bottom: 0;left: 50%;z-index: -1;}#sk-container-id-3 div.sk-parallel-item {display: flex;flex-direction: column;z-index: 1;position: relative;background-color: white;}#sk-container-id-3 div.sk-parallel-item:first-child::after {align-self: flex-end;width: 50%;}#sk-container-id-3 div.sk-parallel-item:last-child::after {align-self: flex-start;width: 50%;}#sk-container-id-3 div.sk-parallel-item:only-child::after {width: 0;}#sk-container-id-3 div.sk-dashed-wrapped {border: 1px dashed gray;margin: 0 0.4em 0.5em 0.4em;box-sizing: border-box;padding-bottom: 0.4em;background-color: white;}#sk-container-id-3 div.sk-label label {font-family: monospace;font-weight: bold;display: inline-block;line-height: 1.2em;}#sk-container-id-3 div.sk-label-container {text-align: center;}#sk-container-id-3 div.sk-container {/* jupyter's `normalize.less` sets `[hidden] { display: none; }` but bootstrap.min.css set `[hidden] { display: none !important; }` so we also need the `!important` here to be able to override the default hidden behavior on the sphinx rendered scikit-learn.org. See: https://github.com/scikit-learn/scikit-learn/issues/21755 */display: inline-block !important;position: relative;}#sk-container-id-3 div.sk-text-repr-fallback {display: none;}</style><div id=\"sk-container-id-3\" class=\"sk-top-container\"><div class=\"sk-text-repr-fallback\"><pre>BayesSearchCV(cv=StratifiedKFold(n_splits=5, random_state=22, shuffle=True),\n",
              "              estimator=KNeighborsClassifier(), n_jobs=-1, scoring=&#x27;recall&#x27;,\n",
              "              search_spaces={&#x27;metric&#x27;: Categorical(categories=(&#x27;euclidean&#x27;, &#x27;manhattan&#x27;), prior=None),\n",
              "                             &#x27;n_neighbors&#x27;: Integer(low=5, high=25, prior=&#x27;uniform&#x27;, transform=&#x27;normalize&#x27;),\n",
              "                             &#x27;weights&#x27;: Categorical(categories=(&#x27;uniform&#x27;, &#x27;distance&#x27;), prior=None)})</pre><b>In a Jupyter environment, please rerun this cell to show the HTML representation or trust the notebook. <br />On GitHub, the HTML representation is unable to render, please try loading this page with nbviewer.org.</b></div><div class=\"sk-container\" hidden><div class=\"sk-item sk-dashed-wrapped\"><div class=\"sk-label-container\"><div class=\"sk-label sk-toggleable\"><input class=\"sk-toggleable__control sk-hidden--visually\" id=\"sk-estimator-id-5\" type=\"checkbox\" ><label for=\"sk-estimator-id-5\" class=\"sk-toggleable__label sk-toggleable__label-arrow\">BayesSearchCV</label><div class=\"sk-toggleable__content\"><pre>BayesSearchCV(cv=StratifiedKFold(n_splits=5, random_state=22, shuffle=True),\n",
              "              estimator=KNeighborsClassifier(), n_jobs=-1, scoring=&#x27;recall&#x27;,\n",
              "              search_spaces={&#x27;metric&#x27;: Categorical(categories=(&#x27;euclidean&#x27;, &#x27;manhattan&#x27;), prior=None),\n",
              "                             &#x27;n_neighbors&#x27;: Integer(low=5, high=25, prior=&#x27;uniform&#x27;, transform=&#x27;normalize&#x27;),\n",
              "                             &#x27;weights&#x27;: Categorical(categories=(&#x27;uniform&#x27;, &#x27;distance&#x27;), prior=None)})</pre></div></div></div><div class=\"sk-parallel\"><div class=\"sk-parallel-item\"><div class=\"sk-item\"><div class=\"sk-label-container\"><div class=\"sk-label sk-toggleable\"><input class=\"sk-toggleable__control sk-hidden--visually\" id=\"sk-estimator-id-6\" type=\"checkbox\" ><label for=\"sk-estimator-id-6\" class=\"sk-toggleable__label sk-toggleable__label-arrow\">estimator: KNeighborsClassifier</label><div class=\"sk-toggleable__content\"><pre>KNeighborsClassifier()</pre></div></div></div><div class=\"sk-serial\"><div class=\"sk-item\"><div class=\"sk-estimator sk-toggleable\"><input class=\"sk-toggleable__control sk-hidden--visually\" id=\"sk-estimator-id-7\" type=\"checkbox\" ><label for=\"sk-estimator-id-7\" class=\"sk-toggleable__label sk-toggleable__label-arrow\">KNeighborsClassifier</label><div class=\"sk-toggleable__content\"><pre>KNeighborsClassifier()</pre></div></div></div></div></div></div></div></div></div></div>"
            ]
          },
          "metadata": {},
          "execution_count": 35
        }
      ]
    },
    {
      "cell_type": "code",
      "source": [
        "knn_opt_bayesian.best_params_"
      ],
      "metadata": {
        "colab": {
          "base_uri": "https://localhost:8080/"
        },
        "id": "Izqw_UGFNrbb",
        "outputId": "50643860-3847-4efc-bb62-061762ae9cb7"
      },
      "execution_count": 39,
      "outputs": [
        {
          "output_type": "execute_result",
          "data": {
            "text/plain": [
              "OrderedDict([('metric', 'manhattan'),\n",
              "             ('n_neighbors', 5),\n",
              "             ('weights', 'distance')])"
            ]
          },
          "metadata": {},
          "execution_count": 39
        }
      ]
    },
    {
      "cell_type": "code",
      "source": [
        "# Implementando o modelo otimizado :\n",
        "\n",
        "opt_knn_bayesian = KNeighborsClassifier(metric='manhattan', n_neighbors=5, weights='distance')"
      ],
      "metadata": {
        "id": "txNpO_RAQu0F"
      },
      "execution_count": 55,
      "outputs": []
    },
    {
      "cell_type": "markdown",
      "source": [
        "### Otimizando o modelo de regressão logística"
      ],
      "metadata": {
        "id": "_Q86-wwmNFLt"
      }
    },
    {
      "cell_type": "code",
      "source": [
        "\n",
        "space_lr = {\n",
        "    'solver': Categorical(['newton-cg', 'lbfgs']),\n",
        "    'penalty': Categorical( ['l2']),\n",
        "    'max_iter': Integer(100, 300),\n",
        "    'C': Real(0.001, 10, prior='log-uniform'),\n",
        "}\n"
      ],
      "metadata": {
        "id": "Gb-XkV2LM6vK"
      },
      "execution_count": 48,
      "outputs": []
    },
    {
      "cell_type": "code",
      "source": [
        "lr_opt_bayesian = BayesSearchCV(\n",
        "    estimator = LogisticRegression(random_state = SEED),\n",
        "    search_spaces = space_lr,\n",
        "    n_iter = 50,\n",
        "    scoring = 'recall',\n",
        "    n_jobs = -1,\n",
        "    cv = inner_cv)"
      ],
      "metadata": {
        "id": "4gco8JVRNdVE"
      },
      "execution_count": 49,
      "outputs": []
    },
    {
      "cell_type": "code",
      "source": [
        "%%time\n",
        "\n",
        "lr_opt_bayesian.fit(X_train, y_train)"
      ],
      "metadata": {
        "colab": {
          "base_uri": "https://localhost:8080/",
          "height": 310
        },
        "id": "uajiAFCYNoT7",
        "outputId": "2e39d552-eab4-4746-c9fe-042a08998e57"
      },
      "execution_count": 50,
      "outputs": [
        {
          "output_type": "stream",
          "name": "stderr",
          "text": [
            "/usr/local/lib/python3.10/dist-packages/scipy/optimize/_linesearch.py:466: LineSearchWarning: The line search algorithm did not converge\n",
            "  warn('The line search algorithm did not converge', LineSearchWarning)\n",
            "/usr/local/lib/python3.10/dist-packages/scipy/optimize/_linesearch.py:314: LineSearchWarning: The line search algorithm did not converge\n",
            "  warn('The line search algorithm did not converge', LineSearchWarning)\n"
          ]
        },
        {
          "output_type": "stream",
          "name": "stdout",
          "text": [
            "CPU times: user 1min, sys: 45.1 s, total: 1min 46s\n",
            "Wall time: 2min 16s\n"
          ]
        },
        {
          "output_type": "stream",
          "name": "stderr",
          "text": [
            "/usr/local/lib/python3.10/dist-packages/scipy/optimize/_linesearch.py:425: LineSearchWarning: Rounding errors prevent the line search from converging\n",
            "  warn(msg, LineSearchWarning)\n",
            "/usr/local/lib/python3.10/dist-packages/sklearn/utils/optimize.py:203: UserWarning: Line Search failed\n",
            "  warnings.warn(\"Line Search failed\")\n"
          ]
        },
        {
          "output_type": "execute_result",
          "data": {
            "text/plain": [
              "BayesSearchCV(cv=StratifiedKFold(n_splits=5, random_state=22, shuffle=True),\n",
              "              estimator=LogisticRegression(random_state=22), n_jobs=-1,\n",
              "              scoring='recall',\n",
              "              search_spaces={'C': Real(low=0.001, high=10, prior='log-uniform', transform='normalize'),\n",
              "                             'max_iter': Integer(low=100, high=300, prior='uniform', transform='normalize'),\n",
              "                             'penalty': Categorical(categories=('l2',), prior=None),\n",
              "                             'solver': Categorical(categories=('newton-cg', 'lbfgs'), prior=None)})"
            ],
            "text/html": [
              "<style>#sk-container-id-4 {color: black;background-color: white;}#sk-container-id-4 pre{padding: 0;}#sk-container-id-4 div.sk-toggleable {background-color: white;}#sk-container-id-4 label.sk-toggleable__label {cursor: pointer;display: block;width: 100%;margin-bottom: 0;padding: 0.3em;box-sizing: border-box;text-align: center;}#sk-container-id-4 label.sk-toggleable__label-arrow:before {content: \"▸\";float: left;margin-right: 0.25em;color: #696969;}#sk-container-id-4 label.sk-toggleable__label-arrow:hover:before {color: black;}#sk-container-id-4 div.sk-estimator:hover label.sk-toggleable__label-arrow:before {color: black;}#sk-container-id-4 div.sk-toggleable__content {max-height: 0;max-width: 0;overflow: hidden;text-align: left;background-color: #f0f8ff;}#sk-container-id-4 div.sk-toggleable__content pre {margin: 0.2em;color: black;border-radius: 0.25em;background-color: #f0f8ff;}#sk-container-id-4 input.sk-toggleable__control:checked~div.sk-toggleable__content {max-height: 200px;max-width: 100%;overflow: auto;}#sk-container-id-4 input.sk-toggleable__control:checked~label.sk-toggleable__label-arrow:before {content: \"▾\";}#sk-container-id-4 div.sk-estimator input.sk-toggleable__control:checked~label.sk-toggleable__label {background-color: #d4ebff;}#sk-container-id-4 div.sk-label input.sk-toggleable__control:checked~label.sk-toggleable__label {background-color: #d4ebff;}#sk-container-id-4 input.sk-hidden--visually {border: 0;clip: rect(1px 1px 1px 1px);clip: rect(1px, 1px, 1px, 1px);height: 1px;margin: -1px;overflow: hidden;padding: 0;position: absolute;width: 1px;}#sk-container-id-4 div.sk-estimator {font-family: monospace;background-color: #f0f8ff;border: 1px dotted black;border-radius: 0.25em;box-sizing: border-box;margin-bottom: 0.5em;}#sk-container-id-4 div.sk-estimator:hover {background-color: #d4ebff;}#sk-container-id-4 div.sk-parallel-item::after {content: \"\";width: 100%;border-bottom: 1px solid gray;flex-grow: 1;}#sk-container-id-4 div.sk-label:hover label.sk-toggleable__label {background-color: #d4ebff;}#sk-container-id-4 div.sk-serial::before {content: \"\";position: absolute;border-left: 1px solid gray;box-sizing: border-box;top: 0;bottom: 0;left: 50%;z-index: 0;}#sk-container-id-4 div.sk-serial {display: flex;flex-direction: column;align-items: center;background-color: white;padding-right: 0.2em;padding-left: 0.2em;position: relative;}#sk-container-id-4 div.sk-item {position: relative;z-index: 1;}#sk-container-id-4 div.sk-parallel {display: flex;align-items: stretch;justify-content: center;background-color: white;position: relative;}#sk-container-id-4 div.sk-item::before, #sk-container-id-4 div.sk-parallel-item::before {content: \"\";position: absolute;border-left: 1px solid gray;box-sizing: border-box;top: 0;bottom: 0;left: 50%;z-index: -1;}#sk-container-id-4 div.sk-parallel-item {display: flex;flex-direction: column;z-index: 1;position: relative;background-color: white;}#sk-container-id-4 div.sk-parallel-item:first-child::after {align-self: flex-end;width: 50%;}#sk-container-id-4 div.sk-parallel-item:last-child::after {align-self: flex-start;width: 50%;}#sk-container-id-4 div.sk-parallel-item:only-child::after {width: 0;}#sk-container-id-4 div.sk-dashed-wrapped {border: 1px dashed gray;margin: 0 0.4em 0.5em 0.4em;box-sizing: border-box;padding-bottom: 0.4em;background-color: white;}#sk-container-id-4 div.sk-label label {font-family: monospace;font-weight: bold;display: inline-block;line-height: 1.2em;}#sk-container-id-4 div.sk-label-container {text-align: center;}#sk-container-id-4 div.sk-container {/* jupyter's `normalize.less` sets `[hidden] { display: none; }` but bootstrap.min.css set `[hidden] { display: none !important; }` so we also need the `!important` here to be able to override the default hidden behavior on the sphinx rendered scikit-learn.org. See: https://github.com/scikit-learn/scikit-learn/issues/21755 */display: inline-block !important;position: relative;}#sk-container-id-4 div.sk-text-repr-fallback {display: none;}</style><div id=\"sk-container-id-4\" class=\"sk-top-container\"><div class=\"sk-text-repr-fallback\"><pre>BayesSearchCV(cv=StratifiedKFold(n_splits=5, random_state=22, shuffle=True),\n",
              "              estimator=LogisticRegression(random_state=22), n_jobs=-1,\n",
              "              scoring=&#x27;recall&#x27;,\n",
              "              search_spaces={&#x27;C&#x27;: Real(low=0.001, high=10, prior=&#x27;log-uniform&#x27;, transform=&#x27;normalize&#x27;),\n",
              "                             &#x27;max_iter&#x27;: Integer(low=100, high=300, prior=&#x27;uniform&#x27;, transform=&#x27;normalize&#x27;),\n",
              "                             &#x27;penalty&#x27;: Categorical(categories=(&#x27;l2&#x27;,), prior=None),\n",
              "                             &#x27;solver&#x27;: Categorical(categories=(&#x27;newton-cg&#x27;, &#x27;lbfgs&#x27;), prior=None)})</pre><b>In a Jupyter environment, please rerun this cell to show the HTML representation or trust the notebook. <br />On GitHub, the HTML representation is unable to render, please try loading this page with nbviewer.org.</b></div><div class=\"sk-container\" hidden><div class=\"sk-item sk-dashed-wrapped\"><div class=\"sk-label-container\"><div class=\"sk-label sk-toggleable\"><input class=\"sk-toggleable__control sk-hidden--visually\" id=\"sk-estimator-id-8\" type=\"checkbox\" ><label for=\"sk-estimator-id-8\" class=\"sk-toggleable__label sk-toggleable__label-arrow\">BayesSearchCV</label><div class=\"sk-toggleable__content\"><pre>BayesSearchCV(cv=StratifiedKFold(n_splits=5, random_state=22, shuffle=True),\n",
              "              estimator=LogisticRegression(random_state=22), n_jobs=-1,\n",
              "              scoring=&#x27;recall&#x27;,\n",
              "              search_spaces={&#x27;C&#x27;: Real(low=0.001, high=10, prior=&#x27;log-uniform&#x27;, transform=&#x27;normalize&#x27;),\n",
              "                             &#x27;max_iter&#x27;: Integer(low=100, high=300, prior=&#x27;uniform&#x27;, transform=&#x27;normalize&#x27;),\n",
              "                             &#x27;penalty&#x27;: Categorical(categories=(&#x27;l2&#x27;,), prior=None),\n",
              "                             &#x27;solver&#x27;: Categorical(categories=(&#x27;newton-cg&#x27;, &#x27;lbfgs&#x27;), prior=None)})</pre></div></div></div><div class=\"sk-parallel\"><div class=\"sk-parallel-item\"><div class=\"sk-item\"><div class=\"sk-label-container\"><div class=\"sk-label sk-toggleable\"><input class=\"sk-toggleable__control sk-hidden--visually\" id=\"sk-estimator-id-9\" type=\"checkbox\" ><label for=\"sk-estimator-id-9\" class=\"sk-toggleable__label sk-toggleable__label-arrow\">estimator: LogisticRegression</label><div class=\"sk-toggleable__content\"><pre>LogisticRegression(random_state=22)</pre></div></div></div><div class=\"sk-serial\"><div class=\"sk-item\"><div class=\"sk-estimator sk-toggleable\"><input class=\"sk-toggleable__control sk-hidden--visually\" id=\"sk-estimator-id-10\" type=\"checkbox\" ><label for=\"sk-estimator-id-10\" class=\"sk-toggleable__label sk-toggleable__label-arrow\">LogisticRegression</label><div class=\"sk-toggleable__content\"><pre>LogisticRegression(random_state=22)</pre></div></div></div></div></div></div></div></div></div></div>"
            ]
          },
          "metadata": {},
          "execution_count": 50
        }
      ]
    },
    {
      "cell_type": "code",
      "source": [
        "lr_opt_bayesian.best_params_"
      ],
      "metadata": {
        "colab": {
          "base_uri": "https://localhost:8080/"
        },
        "id": "iBFwYyK2NyyK",
        "outputId": "04a861f5-b3e9-432d-b510-1762515fc38a"
      },
      "execution_count": 53,
      "outputs": [
        {
          "output_type": "execute_result",
          "data": {
            "text/plain": [
              "OrderedDict([('C', 10.0),\n",
              "             ('max_iter', 300),\n",
              "             ('penalty', 'l2'),\n",
              "             ('solver', 'newton-cg')])"
            ]
          },
          "metadata": {},
          "execution_count": 53
        }
      ]
    },
    {
      "cell_type": "code",
      "source": [
        "# Implementando o modelo otimizado :\n",
        "\n",
        "opt_lr_bayesian = LogisticRegression(solver= 'newton-cg', penalty='l2', max_iter=300, C=10,\n",
        "                                 random_state=SEED)"
      ],
      "metadata": {
        "id": "LcizvInhQSny"
      },
      "execution_count": 56,
      "outputs": []
    },
    {
      "cell_type": "markdown",
      "source": [
        "## Em síntese...\n",
        "\n",
        "Em síntese, verifica-se que ambos os modelos de busca de hiperparâmetros produzem resultados similares no que se refere a criação de modelos que apresentam boas pontuações segundo as métricas analisadas, como acurácia, recall, precisão e f1-score, divergindo de cada qual, principalmente, no custo de processamento, que se traduz no intervalo de espera, para a execução de cada busca, de modo que o Grid Search se notabiliza por ser o algoritmo que apresenta o maior tempo de espera para a sua execução.\n",
        "\n",
        "Não obstante, observa-se que não há mudança significativa nos hiperparâmetros encontrados para cada algoritmo de busca, com exeção de alguns casos, como no Random Forest, o qual apresentou mudança significativa dos melhores hiperparâmetros encontrados, divergindo daqueles observados pelo Grid Search e Random Search para o mesmo modelo. Apesar da diferença vista, essa não produziu resultados dissonantes quanto as pontuações de cada métrica analisada.\n",
        "\n",
        "Por fim, concebe-se que, considerando o custo de processamento e resultados semelhantes para cada algoritmo de otimização, que a utilização do Grid Search não é efetiva para datasets que apresentam significativa dimensionalidade, sendo mais recomendado o uso do Random Search e/ ou da otimização Bayesiana, que diferente de outros modelos realiza uma busca mais efetiva, uma vez que considera a busca anterior para realizar a posterior, combinando a sua procura em exploração e explotação, para encontrar os melhores hiperparâmetros."
      ],
      "metadata": {
        "id": "5BvzRxc_Za_D"
      }
    },
    {
      "cell_type": "code",
      "source": [],
      "metadata": {
        "id": "BbzOZ_XBRnj6"
      },
      "execution_count": null,
      "outputs": []
    }
  ],
  "metadata": {
    "colab": {
      "provenance": []
    },
    "kernelspec": {
      "display_name": "Python 3",
      "name": "python3"
    },
    "language_info": {
      "name": "python"
    }
  },
  "nbformat": 4,
  "nbformat_minor": 0
}